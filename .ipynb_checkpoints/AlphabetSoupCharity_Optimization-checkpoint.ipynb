{
 "cells": [
  {
   "cell_type": "markdown",
   "metadata": {},
   "source": [
    "## Preprocessing"
   ]
  },
  {
   "cell_type": "code",
   "execution_count": 1,
   "metadata": {},
   "outputs": [
    {
     "data": {
      "text/html": [
       "<div>\n",
       "<style scoped>\n",
       "    .dataframe tbody tr th:only-of-type {\n",
       "        vertical-align: middle;\n",
       "    }\n",
       "\n",
       "    .dataframe tbody tr th {\n",
       "        vertical-align: top;\n",
       "    }\n",
       "\n",
       "    .dataframe thead th {\n",
       "        text-align: right;\n",
       "    }\n",
       "</style>\n",
       "<table border=\"1\" class=\"dataframe\">\n",
       "  <thead>\n",
       "    <tr style=\"text-align: right;\">\n",
       "      <th></th>\n",
       "      <th>EIN</th>\n",
       "      <th>NAME</th>\n",
       "      <th>APPLICATION_TYPE</th>\n",
       "      <th>AFFILIATION</th>\n",
       "      <th>CLASSIFICATION</th>\n",
       "      <th>USE_CASE</th>\n",
       "      <th>ORGANIZATION</th>\n",
       "      <th>STATUS</th>\n",
       "      <th>INCOME_AMT</th>\n",
       "      <th>SPECIAL_CONSIDERATIONS</th>\n",
       "      <th>ASK_AMT</th>\n",
       "      <th>IS_SUCCESSFUL</th>\n",
       "    </tr>\n",
       "  </thead>\n",
       "  <tbody>\n",
       "    <tr>\n",
       "      <th>0</th>\n",
       "      <td>10520599</td>\n",
       "      <td>BLUE KNIGHTS MOTORCYCLE CLUB</td>\n",
       "      <td>T10</td>\n",
       "      <td>Independent</td>\n",
       "      <td>C1000</td>\n",
       "      <td>ProductDev</td>\n",
       "      <td>Association</td>\n",
       "      <td>1</td>\n",
       "      <td>0</td>\n",
       "      <td>N</td>\n",
       "      <td>5000</td>\n",
       "      <td>1</td>\n",
       "    </tr>\n",
       "    <tr>\n",
       "      <th>1</th>\n",
       "      <td>10531628</td>\n",
       "      <td>AMERICAN CHESAPEAKE CLUB CHARITABLE TR</td>\n",
       "      <td>T3</td>\n",
       "      <td>Independent</td>\n",
       "      <td>C2000</td>\n",
       "      <td>Preservation</td>\n",
       "      <td>Co-operative</td>\n",
       "      <td>1</td>\n",
       "      <td>1-9999</td>\n",
       "      <td>N</td>\n",
       "      <td>108590</td>\n",
       "      <td>1</td>\n",
       "    </tr>\n",
       "    <tr>\n",
       "      <th>2</th>\n",
       "      <td>10547893</td>\n",
       "      <td>ST CLOUD PROFESSIONAL FIREFIGHTERS</td>\n",
       "      <td>T5</td>\n",
       "      <td>CompanySponsored</td>\n",
       "      <td>C3000</td>\n",
       "      <td>ProductDev</td>\n",
       "      <td>Association</td>\n",
       "      <td>1</td>\n",
       "      <td>0</td>\n",
       "      <td>N</td>\n",
       "      <td>5000</td>\n",
       "      <td>0</td>\n",
       "    </tr>\n",
       "    <tr>\n",
       "      <th>3</th>\n",
       "      <td>10553066</td>\n",
       "      <td>SOUTHSIDE ATHLETIC ASSOCIATION</td>\n",
       "      <td>T3</td>\n",
       "      <td>CompanySponsored</td>\n",
       "      <td>C2000</td>\n",
       "      <td>Preservation</td>\n",
       "      <td>Trust</td>\n",
       "      <td>1</td>\n",
       "      <td>10000-24999</td>\n",
       "      <td>N</td>\n",
       "      <td>6692</td>\n",
       "      <td>1</td>\n",
       "    </tr>\n",
       "    <tr>\n",
       "      <th>4</th>\n",
       "      <td>10556103</td>\n",
       "      <td>GENETIC RESEARCH INSTITUTE OF THE DESERT</td>\n",
       "      <td>T3</td>\n",
       "      <td>Independent</td>\n",
       "      <td>C1000</td>\n",
       "      <td>Heathcare</td>\n",
       "      <td>Trust</td>\n",
       "      <td>1</td>\n",
       "      <td>100000-499999</td>\n",
       "      <td>N</td>\n",
       "      <td>142590</td>\n",
       "      <td>1</td>\n",
       "    </tr>\n",
       "  </tbody>\n",
       "</table>\n",
       "</div>"
      ],
      "text/plain": [
       "        EIN                                      NAME APPLICATION_TYPE  \\\n",
       "0  10520599              BLUE KNIGHTS MOTORCYCLE CLUB              T10   \n",
       "1  10531628    AMERICAN CHESAPEAKE CLUB CHARITABLE TR               T3   \n",
       "2  10547893        ST CLOUD PROFESSIONAL FIREFIGHTERS               T5   \n",
       "3  10553066            SOUTHSIDE ATHLETIC ASSOCIATION               T3   \n",
       "4  10556103  GENETIC RESEARCH INSTITUTE OF THE DESERT               T3   \n",
       "\n",
       "        AFFILIATION CLASSIFICATION      USE_CASE  ORGANIZATION  STATUS  \\\n",
       "0       Independent          C1000    ProductDev   Association       1   \n",
       "1       Independent          C2000  Preservation  Co-operative       1   \n",
       "2  CompanySponsored          C3000    ProductDev   Association       1   \n",
       "3  CompanySponsored          C2000  Preservation         Trust       1   \n",
       "4       Independent          C1000     Heathcare         Trust       1   \n",
       "\n",
       "      INCOME_AMT SPECIAL_CONSIDERATIONS  ASK_AMT  IS_SUCCESSFUL  \n",
       "0              0                      N     5000              1  \n",
       "1         1-9999                      N   108590              1  \n",
       "2              0                      N     5000              0  \n",
       "3    10000-24999                      N     6692              1  \n",
       "4  100000-499999                      N   142590              1  "
      ]
     },
     "execution_count": 1,
     "metadata": {},
     "output_type": "execute_result"
    }
   ],
   "source": [
    "# Import our dependencies\n",
    "from sklearn.model_selection import train_test_split\n",
    "from sklearn.preprocessing import StandardScaler\n",
    "import pandas as pd\n",
    "import tensorflow as tf\n",
    "\n",
    "#  Import and read the charity_data.csv.\n",
    "import pandas as pd\n",
    "application_df = pd.read_csv(\"https://static.bc-edx.com/data/dl-1-2/m21/lms/starter/charity_data.csv\")\n",
    "application_df.head()"
   ]
  },
  {
   "cell_type": "code",
   "execution_count": 2,
   "metadata": {},
   "outputs": [
    {
     "data": {
      "text/html": [
       "<div>\n",
       "<style scoped>\n",
       "    .dataframe tbody tr th:only-of-type {\n",
       "        vertical-align: middle;\n",
       "    }\n",
       "\n",
       "    .dataframe tbody tr th {\n",
       "        vertical-align: top;\n",
       "    }\n",
       "\n",
       "    .dataframe thead th {\n",
       "        text-align: right;\n",
       "    }\n",
       "</style>\n",
       "<table border=\"1\" class=\"dataframe\">\n",
       "  <thead>\n",
       "    <tr style=\"text-align: right;\">\n",
       "      <th></th>\n",
       "      <th>APPLICATION_TYPE</th>\n",
       "      <th>AFFILIATION</th>\n",
       "      <th>CLASSIFICATION</th>\n",
       "      <th>USE_CASE</th>\n",
       "      <th>ORGANIZATION</th>\n",
       "      <th>STATUS</th>\n",
       "      <th>INCOME_AMT</th>\n",
       "      <th>SPECIAL_CONSIDERATIONS</th>\n",
       "      <th>ASK_AMT</th>\n",
       "      <th>IS_SUCCESSFUL</th>\n",
       "    </tr>\n",
       "  </thead>\n",
       "  <tbody>\n",
       "    <tr>\n",
       "      <th>0</th>\n",
       "      <td>T10</td>\n",
       "      <td>Independent</td>\n",
       "      <td>C1000</td>\n",
       "      <td>ProductDev</td>\n",
       "      <td>Association</td>\n",
       "      <td>1</td>\n",
       "      <td>0</td>\n",
       "      <td>N</td>\n",
       "      <td>5000</td>\n",
       "      <td>1</td>\n",
       "    </tr>\n",
       "    <tr>\n",
       "      <th>1</th>\n",
       "      <td>T3</td>\n",
       "      <td>Independent</td>\n",
       "      <td>C2000</td>\n",
       "      <td>Preservation</td>\n",
       "      <td>Co-operative</td>\n",
       "      <td>1</td>\n",
       "      <td>1-9999</td>\n",
       "      <td>N</td>\n",
       "      <td>108590</td>\n",
       "      <td>1</td>\n",
       "    </tr>\n",
       "    <tr>\n",
       "      <th>2</th>\n",
       "      <td>T5</td>\n",
       "      <td>CompanySponsored</td>\n",
       "      <td>C3000</td>\n",
       "      <td>ProductDev</td>\n",
       "      <td>Association</td>\n",
       "      <td>1</td>\n",
       "      <td>0</td>\n",
       "      <td>N</td>\n",
       "      <td>5000</td>\n",
       "      <td>0</td>\n",
       "    </tr>\n",
       "    <tr>\n",
       "      <th>3</th>\n",
       "      <td>T3</td>\n",
       "      <td>CompanySponsored</td>\n",
       "      <td>C2000</td>\n",
       "      <td>Preservation</td>\n",
       "      <td>Trust</td>\n",
       "      <td>1</td>\n",
       "      <td>10000-24999</td>\n",
       "      <td>N</td>\n",
       "      <td>6692</td>\n",
       "      <td>1</td>\n",
       "    </tr>\n",
       "    <tr>\n",
       "      <th>4</th>\n",
       "      <td>T3</td>\n",
       "      <td>Independent</td>\n",
       "      <td>C1000</td>\n",
       "      <td>Heathcare</td>\n",
       "      <td>Trust</td>\n",
       "      <td>1</td>\n",
       "      <td>100000-499999</td>\n",
       "      <td>N</td>\n",
       "      <td>142590</td>\n",
       "      <td>1</td>\n",
       "    </tr>\n",
       "    <tr>\n",
       "      <th>...</th>\n",
       "      <td>...</td>\n",
       "      <td>...</td>\n",
       "      <td>...</td>\n",
       "      <td>...</td>\n",
       "      <td>...</td>\n",
       "      <td>...</td>\n",
       "      <td>...</td>\n",
       "      <td>...</td>\n",
       "      <td>...</td>\n",
       "      <td>...</td>\n",
       "    </tr>\n",
       "    <tr>\n",
       "      <th>34294</th>\n",
       "      <td>T4</td>\n",
       "      <td>Independent</td>\n",
       "      <td>C1000</td>\n",
       "      <td>ProductDev</td>\n",
       "      <td>Association</td>\n",
       "      <td>1</td>\n",
       "      <td>0</td>\n",
       "      <td>N</td>\n",
       "      <td>5000</td>\n",
       "      <td>0</td>\n",
       "    </tr>\n",
       "    <tr>\n",
       "      <th>34295</th>\n",
       "      <td>T4</td>\n",
       "      <td>CompanySponsored</td>\n",
       "      <td>C3000</td>\n",
       "      <td>ProductDev</td>\n",
       "      <td>Association</td>\n",
       "      <td>1</td>\n",
       "      <td>0</td>\n",
       "      <td>N</td>\n",
       "      <td>5000</td>\n",
       "      <td>0</td>\n",
       "    </tr>\n",
       "    <tr>\n",
       "      <th>34296</th>\n",
       "      <td>T3</td>\n",
       "      <td>CompanySponsored</td>\n",
       "      <td>C2000</td>\n",
       "      <td>Preservation</td>\n",
       "      <td>Association</td>\n",
       "      <td>1</td>\n",
       "      <td>0</td>\n",
       "      <td>N</td>\n",
       "      <td>5000</td>\n",
       "      <td>0</td>\n",
       "    </tr>\n",
       "    <tr>\n",
       "      <th>34297</th>\n",
       "      <td>T5</td>\n",
       "      <td>Independent</td>\n",
       "      <td>C3000</td>\n",
       "      <td>ProductDev</td>\n",
       "      <td>Association</td>\n",
       "      <td>1</td>\n",
       "      <td>0</td>\n",
       "      <td>N</td>\n",
       "      <td>5000</td>\n",
       "      <td>1</td>\n",
       "    </tr>\n",
       "    <tr>\n",
       "      <th>34298</th>\n",
       "      <td>T3</td>\n",
       "      <td>Independent</td>\n",
       "      <td>C1000</td>\n",
       "      <td>Preservation</td>\n",
       "      <td>Co-operative</td>\n",
       "      <td>1</td>\n",
       "      <td>1M-5M</td>\n",
       "      <td>N</td>\n",
       "      <td>36500179</td>\n",
       "      <td>0</td>\n",
       "    </tr>\n",
       "  </tbody>\n",
       "</table>\n",
       "<p>34299 rows × 10 columns</p>\n",
       "</div>"
      ],
      "text/plain": [
       "      APPLICATION_TYPE       AFFILIATION CLASSIFICATION      USE_CASE  \\\n",
       "0                  T10       Independent          C1000    ProductDev   \n",
       "1                   T3       Independent          C2000  Preservation   \n",
       "2                   T5  CompanySponsored          C3000    ProductDev   \n",
       "3                   T3  CompanySponsored          C2000  Preservation   \n",
       "4                   T3       Independent          C1000     Heathcare   \n",
       "...                ...               ...            ...           ...   \n",
       "34294               T4       Independent          C1000    ProductDev   \n",
       "34295               T4  CompanySponsored          C3000    ProductDev   \n",
       "34296               T3  CompanySponsored          C2000  Preservation   \n",
       "34297               T5       Independent          C3000    ProductDev   \n",
       "34298               T3       Independent          C1000  Preservation   \n",
       "\n",
       "       ORGANIZATION  STATUS     INCOME_AMT SPECIAL_CONSIDERATIONS   ASK_AMT  \\\n",
       "0       Association       1              0                      N      5000   \n",
       "1      Co-operative       1         1-9999                      N    108590   \n",
       "2       Association       1              0                      N      5000   \n",
       "3             Trust       1    10000-24999                      N      6692   \n",
       "4             Trust       1  100000-499999                      N    142590   \n",
       "...             ...     ...            ...                    ...       ...   \n",
       "34294   Association       1              0                      N      5000   \n",
       "34295   Association       1              0                      N      5000   \n",
       "34296   Association       1              0                      N      5000   \n",
       "34297   Association       1              0                      N      5000   \n",
       "34298  Co-operative       1          1M-5M                      N  36500179   \n",
       "\n",
       "       IS_SUCCESSFUL  \n",
       "0                  1  \n",
       "1                  1  \n",
       "2                  0  \n",
       "3                  1  \n",
       "4                  1  \n",
       "...              ...  \n",
       "34294              0  \n",
       "34295              0  \n",
       "34296              0  \n",
       "34297              1  \n",
       "34298              0  \n",
       "\n",
       "[34299 rows x 10 columns]"
      ]
     },
     "execution_count": 2,
     "metadata": {},
     "output_type": "execute_result"
    }
   ],
   "source": [
    "# Drop the non-beneficial ID columns, 'EIN' and 'NAME'.\n",
    "application_df.drop(columns = ['EIN', 'NAME'], inplace = True)\n",
    "application_df"
   ]
  },
  {
   "cell_type": "code",
   "execution_count": 3,
   "metadata": {},
   "outputs": [
    {
     "data": {
      "text/plain": [
       "APPLICATION_TYPE            17\n",
       "AFFILIATION                  6\n",
       "CLASSIFICATION              71\n",
       "USE_CASE                     5\n",
       "ORGANIZATION                 4\n",
       "STATUS                       2\n",
       "INCOME_AMT                   9\n",
       "SPECIAL_CONSIDERATIONS       2\n",
       "ASK_AMT                   8747\n",
       "IS_SUCCESSFUL                2\n",
       "dtype: int64"
      ]
     },
     "execution_count": 3,
     "metadata": {},
     "output_type": "execute_result"
    }
   ],
   "source": [
    "# Determine the number of unique values in each column.\n",
    "application_df.nunique()"
   ]
  },
  {
   "cell_type": "code",
   "execution_count": 4,
   "metadata": {},
   "outputs": [
    {
     "data": {
      "text/plain": [
       "APPLICATION_TYPE\n",
       "T3     27037\n",
       "T4      1542\n",
       "T6      1216\n",
       "T5      1173\n",
       "T19     1065\n",
       "T8       737\n",
       "T7       725\n",
       "T10      528\n",
       "T9       156\n",
       "T13       66\n",
       "T12       27\n",
       "T2        16\n",
       "T25        3\n",
       "T14        3\n",
       "T29        2\n",
       "T15        2\n",
       "T17        1\n",
       "Name: count, dtype: int64"
      ]
     },
     "execution_count": 4,
     "metadata": {},
     "output_type": "execute_result"
    }
   ],
   "source": [
    "# Look at APPLICATION_TYPE value counts to identify and replace with \"Other\"\n",
    "application_df.APPLICATION_TYPE.value_counts()"
   ]
  },
  {
   "cell_type": "code",
   "execution_count": 5,
   "metadata": {},
   "outputs": [
    {
     "data": {
      "text/plain": [
       "APPLICATION_TYPE\n",
       "T3       27037\n",
       "T4        1542\n",
       "T6        1216\n",
       "T5        1173\n",
       "T19       1065\n",
       "T8         737\n",
       "T7         725\n",
       "T10        528\n",
       "T9         156\n",
       "Other      120\n",
       "Name: count, dtype: int64"
      ]
     },
     "execution_count": 5,
     "metadata": {},
     "output_type": "execute_result"
    }
   ],
   "source": [
    "# Choose a cutoff value and create a list of application types to be replaced\n",
    "# use the variable name `application_types_to_replace`\n",
    "cutoff = 100 \n",
    "\n",
    "# Replace in dataframe\n",
    "application_types_to_replace = application_df['APPLICATION_TYPE'].value_counts()[application_df['APPLICATION_TYPE'].value_counts() < cutoff].index.tolist()\n",
    "application_df['APPLICATION_TYPE'] = application_df['APPLICATION_TYPE'].replace(application_types_to_replace, 'Other')\n",
    "# Check to make sure replacement was successful\n",
    "application_df['APPLICATION_TYPE'].value_counts()"
   ]
  },
  {
   "cell_type": "code",
   "execution_count": 6,
   "metadata": {},
   "outputs": [
    {
     "data": {
      "text/plain": [
       "CLASSIFICATION\n",
       "C1000    17326\n",
       "C2000     6074\n",
       "C1200     4837\n",
       "C3000     1918\n",
       "C2100     1883\n",
       "C7000      777\n",
       "C1700      287\n",
       "C4000      194\n",
       "C5000      116\n",
       "C1270      114\n",
       "C2700      104\n",
       "C2800       95\n",
       "C7100       75\n",
       "C1300       58\n",
       "C1280       50\n",
       "C1230       36\n",
       "C1400       34\n",
       "C7200       32\n",
       "C2300       32\n",
       "C1240       30\n",
       "C8000       20\n",
       "C7120       18\n",
       "C1500       16\n",
       "C1800       15\n",
       "C6000       15\n",
       "C1250       14\n",
       "C8200       11\n",
       "C1238       10\n",
       "C1278       10\n",
       "C1235        9\n",
       "C1237        9\n",
       "C7210        7\n",
       "C2400        6\n",
       "C1720        6\n",
       "C4100        6\n",
       "C1257        5\n",
       "C1600        5\n",
       "C1260        3\n",
       "C2710        3\n",
       "C0           3\n",
       "Name: count, dtype: int64"
      ]
     },
     "execution_count": 6,
     "metadata": {},
     "output_type": "execute_result"
    }
   ],
   "source": [
    "# Look at CLASSIFICATION value counts to identify and replace with \"Other\"\n",
    "# You may find it helpful to look at CLASSIFICATION value counts >1\n",
    "classification_counts = application_df['CLASSIFICATION'].value_counts()\n",
    "classification_counts[classification_counts > 2]"
   ]
  },
  {
   "cell_type": "code",
   "execution_count": 7,
   "metadata": {},
   "outputs": [
    {
     "data": {
      "text/plain": [
       "CLASSIFICATION\n",
       "C1000    17326\n",
       "C2000     6074\n",
       "C1200     4837\n",
       "C3000     1918\n",
       "C2100     1883\n",
       "C7000      777\n",
       "Other      669\n",
       "C1700      287\n",
       "C4000      194\n",
       "C5000      116\n",
       "C1270      114\n",
       "C2700      104\n",
       "Name: count, dtype: int64"
      ]
     },
     "execution_count": 7,
     "metadata": {},
     "output_type": "execute_result"
    }
   ],
   "source": [
    "# Choose a cutoff value and create a list of classifications to be replaced\n",
    "# use the variable name `classifications_to_replace`\n",
    "classification_to_replace = application_df['CLASSIFICATION'].value_counts()[application_df['CLASSIFICATION'].value_counts() < cutoff].index.tolist()\n",
    "\n",
    "application_df['CLASSIFICATION'] = application_df['CLASSIFICATION'].replace(classification_to_replace, 'Other')\n",
    "\n",
    "application_df['CLASSIFICATION'].value_counts()"
   ]
  },
  {
   "cell_type": "code",
   "execution_count": 8,
   "metadata": {},
   "outputs": [],
   "source": [
    "app_to_improve = application_df.copy()\n",
    "app_to_improve2 = application_df.copy()"
   ]
  },
  {
   "cell_type": "code",
   "execution_count": 9,
   "metadata": {},
   "outputs": [
    {
     "data": {
      "text/html": [
       "<div>\n",
       "<style scoped>\n",
       "    .dataframe tbody tr th:only-of-type {\n",
       "        vertical-align: middle;\n",
       "    }\n",
       "\n",
       "    .dataframe tbody tr th {\n",
       "        vertical-align: top;\n",
       "    }\n",
       "\n",
       "    .dataframe thead th {\n",
       "        text-align: right;\n",
       "    }\n",
       "</style>\n",
       "<table border=\"1\" class=\"dataframe\">\n",
       "  <thead>\n",
       "    <tr style=\"text-align: right;\">\n",
       "      <th></th>\n",
       "      <th>APPLICATION_TYPE</th>\n",
       "      <th>AFFILIATION</th>\n",
       "      <th>CLASSIFICATION</th>\n",
       "      <th>USE_CASE</th>\n",
       "      <th>ORGANIZATION</th>\n",
       "      <th>STATUS</th>\n",
       "      <th>INCOME_AMT</th>\n",
       "      <th>SPECIAL_CONSIDERATIONS</th>\n",
       "      <th>ASK_AMT</th>\n",
       "      <th>IS_SUCCESSFUL</th>\n",
       "    </tr>\n",
       "  </thead>\n",
       "  <tbody>\n",
       "    <tr>\n",
       "      <th>0</th>\n",
       "      <td>T10</td>\n",
       "      <td>Independent</td>\n",
       "      <td>C1000</td>\n",
       "      <td>ProductDev</td>\n",
       "      <td>Association</td>\n",
       "      <td>1</td>\n",
       "      <td>0</td>\n",
       "      <td>N</td>\n",
       "      <td>5000</td>\n",
       "      <td>1</td>\n",
       "    </tr>\n",
       "    <tr>\n",
       "      <th>1</th>\n",
       "      <td>T3</td>\n",
       "      <td>Independent</td>\n",
       "      <td>C2000</td>\n",
       "      <td>Preservation</td>\n",
       "      <td>Co-operative</td>\n",
       "      <td>1</td>\n",
       "      <td>1-9999</td>\n",
       "      <td>N</td>\n",
       "      <td>108590</td>\n",
       "      <td>1</td>\n",
       "    </tr>\n",
       "    <tr>\n",
       "      <th>2</th>\n",
       "      <td>T5</td>\n",
       "      <td>CompanySponsored</td>\n",
       "      <td>C3000</td>\n",
       "      <td>ProductDev</td>\n",
       "      <td>Association</td>\n",
       "      <td>1</td>\n",
       "      <td>0</td>\n",
       "      <td>N</td>\n",
       "      <td>5000</td>\n",
       "      <td>0</td>\n",
       "    </tr>\n",
       "    <tr>\n",
       "      <th>3</th>\n",
       "      <td>T3</td>\n",
       "      <td>CompanySponsored</td>\n",
       "      <td>C2000</td>\n",
       "      <td>Preservation</td>\n",
       "      <td>Trust</td>\n",
       "      <td>1</td>\n",
       "      <td>10000-24999</td>\n",
       "      <td>N</td>\n",
       "      <td>6692</td>\n",
       "      <td>1</td>\n",
       "    </tr>\n",
       "    <tr>\n",
       "      <th>4</th>\n",
       "      <td>T3</td>\n",
       "      <td>Independent</td>\n",
       "      <td>C1000</td>\n",
       "      <td>Heathcare</td>\n",
       "      <td>Trust</td>\n",
       "      <td>1</td>\n",
       "      <td>100000-499999</td>\n",
       "      <td>N</td>\n",
       "      <td>142590</td>\n",
       "      <td>1</td>\n",
       "    </tr>\n",
       "    <tr>\n",
       "      <th>...</th>\n",
       "      <td>...</td>\n",
       "      <td>...</td>\n",
       "      <td>...</td>\n",
       "      <td>...</td>\n",
       "      <td>...</td>\n",
       "      <td>...</td>\n",
       "      <td>...</td>\n",
       "      <td>...</td>\n",
       "      <td>...</td>\n",
       "      <td>...</td>\n",
       "    </tr>\n",
       "    <tr>\n",
       "      <th>34294</th>\n",
       "      <td>T4</td>\n",
       "      <td>Independent</td>\n",
       "      <td>C1000</td>\n",
       "      <td>ProductDev</td>\n",
       "      <td>Association</td>\n",
       "      <td>1</td>\n",
       "      <td>0</td>\n",
       "      <td>N</td>\n",
       "      <td>5000</td>\n",
       "      <td>0</td>\n",
       "    </tr>\n",
       "    <tr>\n",
       "      <th>34295</th>\n",
       "      <td>T4</td>\n",
       "      <td>CompanySponsored</td>\n",
       "      <td>C3000</td>\n",
       "      <td>ProductDev</td>\n",
       "      <td>Association</td>\n",
       "      <td>1</td>\n",
       "      <td>0</td>\n",
       "      <td>N</td>\n",
       "      <td>5000</td>\n",
       "      <td>0</td>\n",
       "    </tr>\n",
       "    <tr>\n",
       "      <th>34296</th>\n",
       "      <td>T3</td>\n",
       "      <td>CompanySponsored</td>\n",
       "      <td>C2000</td>\n",
       "      <td>Preservation</td>\n",
       "      <td>Association</td>\n",
       "      <td>1</td>\n",
       "      <td>0</td>\n",
       "      <td>N</td>\n",
       "      <td>5000</td>\n",
       "      <td>0</td>\n",
       "    </tr>\n",
       "    <tr>\n",
       "      <th>34297</th>\n",
       "      <td>T5</td>\n",
       "      <td>Independent</td>\n",
       "      <td>C3000</td>\n",
       "      <td>ProductDev</td>\n",
       "      <td>Association</td>\n",
       "      <td>1</td>\n",
       "      <td>0</td>\n",
       "      <td>N</td>\n",
       "      <td>5000</td>\n",
       "      <td>1</td>\n",
       "    </tr>\n",
       "    <tr>\n",
       "      <th>34298</th>\n",
       "      <td>T3</td>\n",
       "      <td>Independent</td>\n",
       "      <td>C1000</td>\n",
       "      <td>Preservation</td>\n",
       "      <td>Co-operative</td>\n",
       "      <td>1</td>\n",
       "      <td>1M-5M</td>\n",
       "      <td>N</td>\n",
       "      <td>36500179</td>\n",
       "      <td>0</td>\n",
       "    </tr>\n",
       "  </tbody>\n",
       "</table>\n",
       "<p>34299 rows × 10 columns</p>\n",
       "</div>"
      ],
      "text/plain": [
       "      APPLICATION_TYPE       AFFILIATION CLASSIFICATION      USE_CASE  \\\n",
       "0                  T10       Independent          C1000    ProductDev   \n",
       "1                   T3       Independent          C2000  Preservation   \n",
       "2                   T5  CompanySponsored          C3000    ProductDev   \n",
       "3                   T3  CompanySponsored          C2000  Preservation   \n",
       "4                   T3       Independent          C1000     Heathcare   \n",
       "...                ...               ...            ...           ...   \n",
       "34294               T4       Independent          C1000    ProductDev   \n",
       "34295               T4  CompanySponsored          C3000    ProductDev   \n",
       "34296               T3  CompanySponsored          C2000  Preservation   \n",
       "34297               T5       Independent          C3000    ProductDev   \n",
       "34298               T3       Independent          C1000  Preservation   \n",
       "\n",
       "       ORGANIZATION  STATUS     INCOME_AMT SPECIAL_CONSIDERATIONS   ASK_AMT  \\\n",
       "0       Association       1              0                      N      5000   \n",
       "1      Co-operative       1         1-9999                      N    108590   \n",
       "2       Association       1              0                      N      5000   \n",
       "3             Trust       1    10000-24999                      N      6692   \n",
       "4             Trust       1  100000-499999                      N    142590   \n",
       "...             ...     ...            ...                    ...       ...   \n",
       "34294   Association       1              0                      N      5000   \n",
       "34295   Association       1              0                      N      5000   \n",
       "34296   Association       1              0                      N      5000   \n",
       "34297   Association       1              0                      N      5000   \n",
       "34298  Co-operative       1          1M-5M                      N  36500179   \n",
       "\n",
       "       IS_SUCCESSFUL  \n",
       "0                  1  \n",
       "1                  1  \n",
       "2                  0  \n",
       "3                  1  \n",
       "4                  1  \n",
       "...              ...  \n",
       "34294              0  \n",
       "34295              0  \n",
       "34296              0  \n",
       "34297              1  \n",
       "34298              0  \n",
       "\n",
       "[34299 rows x 10 columns]"
      ]
     },
     "execution_count": 9,
     "metadata": {},
     "output_type": "execute_result"
    }
   ],
   "source": [
    "application_df "
   ]
  },
  {
   "cell_type": "code",
   "execution_count": 10,
   "metadata": {},
   "outputs": [
    {
     "data": {
      "text/plain": [
       "APPLICATION_TYPE          object\n",
       "AFFILIATION               object\n",
       "CLASSIFICATION            object\n",
       "USE_CASE                  object\n",
       "ORGANIZATION              object\n",
       "STATUS                     int64\n",
       "INCOME_AMT                object\n",
       "SPECIAL_CONSIDERATIONS    object\n",
       "ASK_AMT                    int64\n",
       "IS_SUCCESSFUL              int64\n",
       "dtype: object"
      ]
     },
     "execution_count": 10,
     "metadata": {},
     "output_type": "execute_result"
    }
   ],
   "source": [
    "application_df.dtypes"
   ]
  },
  {
   "cell_type": "code",
   "execution_count": 11,
   "metadata": {},
   "outputs": [
    {
     "data": {
      "text/html": [
       "<div>\n",
       "<style scoped>\n",
       "    .dataframe tbody tr th:only-of-type {\n",
       "        vertical-align: middle;\n",
       "    }\n",
       "\n",
       "    .dataframe tbody tr th {\n",
       "        vertical-align: top;\n",
       "    }\n",
       "\n",
       "    .dataframe thead th {\n",
       "        text-align: right;\n",
       "    }\n",
       "</style>\n",
       "<table border=\"1\" class=\"dataframe\">\n",
       "  <thead>\n",
       "    <tr style=\"text-align: right;\">\n",
       "      <th></th>\n",
       "      <th>STATUS</th>\n",
       "      <th>ASK_AMT</th>\n",
       "      <th>IS_SUCCESSFUL</th>\n",
       "      <th>APPLICATION_TYPE_Other</th>\n",
       "      <th>APPLICATION_TYPE_T10</th>\n",
       "      <th>APPLICATION_TYPE_T19</th>\n",
       "      <th>APPLICATION_TYPE_T3</th>\n",
       "      <th>APPLICATION_TYPE_T4</th>\n",
       "      <th>APPLICATION_TYPE_T5</th>\n",
       "      <th>APPLICATION_TYPE_T6</th>\n",
       "      <th>...</th>\n",
       "      <th>INCOME_AMT_1-9999</th>\n",
       "      <th>INCOME_AMT_10000-24999</th>\n",
       "      <th>INCOME_AMT_100000-499999</th>\n",
       "      <th>INCOME_AMT_10M-50M</th>\n",
       "      <th>INCOME_AMT_1M-5M</th>\n",
       "      <th>INCOME_AMT_25000-99999</th>\n",
       "      <th>INCOME_AMT_50M+</th>\n",
       "      <th>INCOME_AMT_5M-10M</th>\n",
       "      <th>SPECIAL_CONSIDERATIONS_N</th>\n",
       "      <th>SPECIAL_CONSIDERATIONS_Y</th>\n",
       "    </tr>\n",
       "  </thead>\n",
       "  <tbody>\n",
       "    <tr>\n",
       "      <th>0</th>\n",
       "      <td>1</td>\n",
       "      <td>5000</td>\n",
       "      <td>1</td>\n",
       "      <td>0</td>\n",
       "      <td>1</td>\n",
       "      <td>0</td>\n",
       "      <td>0</td>\n",
       "      <td>0</td>\n",
       "      <td>0</td>\n",
       "      <td>0</td>\n",
       "      <td>...</td>\n",
       "      <td>0</td>\n",
       "      <td>0</td>\n",
       "      <td>0</td>\n",
       "      <td>0</td>\n",
       "      <td>0</td>\n",
       "      <td>0</td>\n",
       "      <td>0</td>\n",
       "      <td>0</td>\n",
       "      <td>1</td>\n",
       "      <td>0</td>\n",
       "    </tr>\n",
       "    <tr>\n",
       "      <th>1</th>\n",
       "      <td>1</td>\n",
       "      <td>108590</td>\n",
       "      <td>1</td>\n",
       "      <td>0</td>\n",
       "      <td>0</td>\n",
       "      <td>0</td>\n",
       "      <td>1</td>\n",
       "      <td>0</td>\n",
       "      <td>0</td>\n",
       "      <td>0</td>\n",
       "      <td>...</td>\n",
       "      <td>1</td>\n",
       "      <td>0</td>\n",
       "      <td>0</td>\n",
       "      <td>0</td>\n",
       "      <td>0</td>\n",
       "      <td>0</td>\n",
       "      <td>0</td>\n",
       "      <td>0</td>\n",
       "      <td>1</td>\n",
       "      <td>0</td>\n",
       "    </tr>\n",
       "    <tr>\n",
       "      <th>2</th>\n",
       "      <td>1</td>\n",
       "      <td>5000</td>\n",
       "      <td>0</td>\n",
       "      <td>0</td>\n",
       "      <td>0</td>\n",
       "      <td>0</td>\n",
       "      <td>0</td>\n",
       "      <td>0</td>\n",
       "      <td>1</td>\n",
       "      <td>0</td>\n",
       "      <td>...</td>\n",
       "      <td>0</td>\n",
       "      <td>0</td>\n",
       "      <td>0</td>\n",
       "      <td>0</td>\n",
       "      <td>0</td>\n",
       "      <td>0</td>\n",
       "      <td>0</td>\n",
       "      <td>0</td>\n",
       "      <td>1</td>\n",
       "      <td>0</td>\n",
       "    </tr>\n",
       "    <tr>\n",
       "      <th>3</th>\n",
       "      <td>1</td>\n",
       "      <td>6692</td>\n",
       "      <td>1</td>\n",
       "      <td>0</td>\n",
       "      <td>0</td>\n",
       "      <td>0</td>\n",
       "      <td>1</td>\n",
       "      <td>0</td>\n",
       "      <td>0</td>\n",
       "      <td>0</td>\n",
       "      <td>...</td>\n",
       "      <td>0</td>\n",
       "      <td>1</td>\n",
       "      <td>0</td>\n",
       "      <td>0</td>\n",
       "      <td>0</td>\n",
       "      <td>0</td>\n",
       "      <td>0</td>\n",
       "      <td>0</td>\n",
       "      <td>1</td>\n",
       "      <td>0</td>\n",
       "    </tr>\n",
       "    <tr>\n",
       "      <th>4</th>\n",
       "      <td>1</td>\n",
       "      <td>142590</td>\n",
       "      <td>1</td>\n",
       "      <td>0</td>\n",
       "      <td>0</td>\n",
       "      <td>0</td>\n",
       "      <td>1</td>\n",
       "      <td>0</td>\n",
       "      <td>0</td>\n",
       "      <td>0</td>\n",
       "      <td>...</td>\n",
       "      <td>0</td>\n",
       "      <td>0</td>\n",
       "      <td>1</td>\n",
       "      <td>0</td>\n",
       "      <td>0</td>\n",
       "      <td>0</td>\n",
       "      <td>0</td>\n",
       "      <td>0</td>\n",
       "      <td>1</td>\n",
       "      <td>0</td>\n",
       "    </tr>\n",
       "  </tbody>\n",
       "</table>\n",
       "<p>5 rows × 51 columns</p>\n",
       "</div>"
      ],
      "text/plain": [
       "   STATUS  ASK_AMT  IS_SUCCESSFUL  APPLICATION_TYPE_Other  \\\n",
       "0       1     5000              1                       0   \n",
       "1       1   108590              1                       0   \n",
       "2       1     5000              0                       0   \n",
       "3       1     6692              1                       0   \n",
       "4       1   142590              1                       0   \n",
       "\n",
       "   APPLICATION_TYPE_T10  APPLICATION_TYPE_T19  APPLICATION_TYPE_T3  \\\n",
       "0                     1                     0                    0   \n",
       "1                     0                     0                    1   \n",
       "2                     0                     0                    0   \n",
       "3                     0                     0                    1   \n",
       "4                     0                     0                    1   \n",
       "\n",
       "   APPLICATION_TYPE_T4  APPLICATION_TYPE_T5  APPLICATION_TYPE_T6  ...  \\\n",
       "0                    0                    0                    0  ...   \n",
       "1                    0                    0                    0  ...   \n",
       "2                    0                    1                    0  ...   \n",
       "3                    0                    0                    0  ...   \n",
       "4                    0                    0                    0  ...   \n",
       "\n",
       "   INCOME_AMT_1-9999  INCOME_AMT_10000-24999  INCOME_AMT_100000-499999  \\\n",
       "0                  0                       0                         0   \n",
       "1                  1                       0                         0   \n",
       "2                  0                       0                         0   \n",
       "3                  0                       1                         0   \n",
       "4                  0                       0                         1   \n",
       "\n",
       "   INCOME_AMT_10M-50M  INCOME_AMT_1M-5M  INCOME_AMT_25000-99999  \\\n",
       "0                   0                 0                       0   \n",
       "1                   0                 0                       0   \n",
       "2                   0                 0                       0   \n",
       "3                   0                 0                       0   \n",
       "4                   0                 0                       0   \n",
       "\n",
       "   INCOME_AMT_50M+  INCOME_AMT_5M-10M  SPECIAL_CONSIDERATIONS_N  \\\n",
       "0                0                  0                         1   \n",
       "1                0                  0                         1   \n",
       "2                0                  0                         1   \n",
       "3                0                  0                         1   \n",
       "4                0                  0                         1   \n",
       "\n",
       "   SPECIAL_CONSIDERATIONS_Y  \n",
       "0                         0  \n",
       "1                         0  \n",
       "2                         0  \n",
       "3                         0  \n",
       "4                         0  \n",
       "\n",
       "[5 rows x 51 columns]"
      ]
     },
     "execution_count": 11,
     "metadata": {},
     "output_type": "execute_result"
    }
   ],
   "source": [
    "# Convert categorical data to numeric with `pd.get_dummies`\n",
    "application_df = pd.get_dummies(application_df, columns = [\n",
    "    'APPLICATION_TYPE',\n",
    "    'AFFILIATION',\n",
    "    'CLASSIFICATION',\n",
    "    'USE_CASE',\n",
    "    'ORGANIZATION',\n",
    "    'INCOME_AMT',\n",
    "    'SPECIAL_CONSIDERATIONS'], dtype =int)\n",
    "\n",
    "application_df.head()"
   ]
  },
  {
   "cell_type": "code",
   "execution_count": 12,
   "metadata": {},
   "outputs": [],
   "source": [
    "# Split our preprocessed data into our features and target arrays\n",
    "\n",
    "X = application_df.drop('IS_SUCCESSFUL', axis=1)\n",
    "y = application_df['IS_SUCCESSFUL']\n",
    "\n",
    "# Split the preprocessed data into a training and testing dataset\n",
    "\n",
    "X_train, X_test, y_train, y_test = train_test_split(X, y, random_state = 2)"
   ]
  },
  {
   "cell_type": "code",
   "execution_count": 13,
   "metadata": {},
   "outputs": [],
   "source": [
    "# Create a StandardScaler instances\n",
    "scaler = StandardScaler()\n",
    "\n",
    "# Fit the StandardScaler\n",
    "X_scaler = scaler.fit(X_train)\n",
    "\n",
    "# Scale the data\n",
    "X_train_scaled = X_scaler.transform(X_train)\n",
    "X_test_scaled = X_scaler.transform(X_test)"
   ]
  },
  {
   "cell_type": "markdown",
   "metadata": {},
   "source": [
    "## Compile, Train and Evaluate the Model"
   ]
  },
  {
   "cell_type": "code",
   "execution_count": 14,
   "metadata": {},
   "outputs": [
    {
     "name": "stderr",
     "output_type": "stream",
     "text": [
      "/opt/anaconda3/envs/dev/lib/python3.10/site-packages/keras/src/layers/core/dense.py:87: UserWarning: Do not pass an `input_shape`/`input_dim` argument to a layer. When using Sequential models, prefer using an `Input(shape)` object as the first layer in the model instead.\n",
      "  super().__init__(activity_regularizer=activity_regularizer, **kwargs)\n"
     ]
    },
    {
     "data": {
      "text/html": [
       "<pre style=\"white-space:pre;overflow-x:auto;line-height:normal;font-family:Menlo,'DejaVu Sans Mono',consolas,'Courier New',monospace\"><span style=\"font-weight: bold\">Model: \"sequential\"</span>\n",
       "</pre>\n"
      ],
      "text/plain": [
       "\u001b[1mModel: \"sequential\"\u001b[0m\n"
      ]
     },
     "metadata": {},
     "output_type": "display_data"
    },
    {
     "data": {
      "text/html": [
       "<pre style=\"white-space:pre;overflow-x:auto;line-height:normal;font-family:Menlo,'DejaVu Sans Mono',consolas,'Courier New',monospace\">┏━━━━━━━━━━━━━━━━━━━━━━━━━━━━━━━━━┳━━━━━━━━━━━━━━━━━━━━━━━━┳━━━━━━━━━━━━━━━┓\n",
       "┃<span style=\"font-weight: bold\"> Layer (type)                    </span>┃<span style=\"font-weight: bold\"> Output Shape           </span>┃<span style=\"font-weight: bold\">       Param # </span>┃\n",
       "┡━━━━━━━━━━━━━━━━━━━━━━━━━━━━━━━━━╇━━━━━━━━━━━━━━━━━━━━━━━━╇━━━━━━━━━━━━━━━┩\n",
       "│ dense (<span style=\"color: #0087ff; text-decoration-color: #0087ff\">Dense</span>)                   │ (<span style=\"color: #00d7ff; text-decoration-color: #00d7ff\">None</span>, <span style=\"color: #00af00; text-decoration-color: #00af00\">80</span>)             │         <span style=\"color: #00af00; text-decoration-color: #00af00\">4,080</span> │\n",
       "├─────────────────────────────────┼────────────────────────┼───────────────┤\n",
       "│ dense_1 (<span style=\"color: #0087ff; text-decoration-color: #0087ff\">Dense</span>)                 │ (<span style=\"color: #00d7ff; text-decoration-color: #00d7ff\">None</span>, <span style=\"color: #00af00; text-decoration-color: #00af00\">30</span>)             │         <span style=\"color: #00af00; text-decoration-color: #00af00\">2,430</span> │\n",
       "├─────────────────────────────────┼────────────────────────┼───────────────┤\n",
       "│ dense_2 (<span style=\"color: #0087ff; text-decoration-color: #0087ff\">Dense</span>)                 │ (<span style=\"color: #00d7ff; text-decoration-color: #00d7ff\">None</span>, <span style=\"color: #00af00; text-decoration-color: #00af00\">1</span>)              │            <span style=\"color: #00af00; text-decoration-color: #00af00\">31</span> │\n",
       "└─────────────────────────────────┴────────────────────────┴───────────────┘\n",
       "</pre>\n"
      ],
      "text/plain": [
       "┏━━━━━━━━━━━━━━━━━━━━━━━━━━━━━━━━━┳━━━━━━━━━━━━━━━━━━━━━━━━┳━━━━━━━━━━━━━━━┓\n",
       "┃\u001b[1m \u001b[0m\u001b[1mLayer (type)                   \u001b[0m\u001b[1m \u001b[0m┃\u001b[1m \u001b[0m\u001b[1mOutput Shape          \u001b[0m\u001b[1m \u001b[0m┃\u001b[1m \u001b[0m\u001b[1m      Param #\u001b[0m\u001b[1m \u001b[0m┃\n",
       "┡━━━━━━━━━━━━━━━━━━━━━━━━━━━━━━━━━╇━━━━━━━━━━━━━━━━━━━━━━━━╇━━━━━━━━━━━━━━━┩\n",
       "│ dense (\u001b[38;5;33mDense\u001b[0m)                   │ (\u001b[38;5;45mNone\u001b[0m, \u001b[38;5;34m80\u001b[0m)             │         \u001b[38;5;34m4,080\u001b[0m │\n",
       "├─────────────────────────────────┼────────────────────────┼───────────────┤\n",
       "│ dense_1 (\u001b[38;5;33mDense\u001b[0m)                 │ (\u001b[38;5;45mNone\u001b[0m, \u001b[38;5;34m30\u001b[0m)             │         \u001b[38;5;34m2,430\u001b[0m │\n",
       "├─────────────────────────────────┼────────────────────────┼───────────────┤\n",
       "│ dense_2 (\u001b[38;5;33mDense\u001b[0m)                 │ (\u001b[38;5;45mNone\u001b[0m, \u001b[38;5;34m1\u001b[0m)              │            \u001b[38;5;34m31\u001b[0m │\n",
       "└─────────────────────────────────┴────────────────────────┴───────────────┘\n"
      ]
     },
     "metadata": {},
     "output_type": "display_data"
    },
    {
     "data": {
      "text/html": [
       "<pre style=\"white-space:pre;overflow-x:auto;line-height:normal;font-family:Menlo,'DejaVu Sans Mono',consolas,'Courier New',monospace\"><span style=\"font-weight: bold\"> Total params: </span><span style=\"color: #00af00; text-decoration-color: #00af00\">6,541</span> (25.55 KB)\n",
       "</pre>\n"
      ],
      "text/plain": [
       "\u001b[1m Total params: \u001b[0m\u001b[38;5;34m6,541\u001b[0m (25.55 KB)\n"
      ]
     },
     "metadata": {},
     "output_type": "display_data"
    },
    {
     "data": {
      "text/html": [
       "<pre style=\"white-space:pre;overflow-x:auto;line-height:normal;font-family:Menlo,'DejaVu Sans Mono',consolas,'Courier New',monospace\"><span style=\"font-weight: bold\"> Trainable params: </span><span style=\"color: #00af00; text-decoration-color: #00af00\">6,541</span> (25.55 KB)\n",
       "</pre>\n"
      ],
      "text/plain": [
       "\u001b[1m Trainable params: \u001b[0m\u001b[38;5;34m6,541\u001b[0m (25.55 KB)\n"
      ]
     },
     "metadata": {},
     "output_type": "display_data"
    },
    {
     "data": {
      "text/html": [
       "<pre style=\"white-space:pre;overflow-x:auto;line-height:normal;font-family:Menlo,'DejaVu Sans Mono',consolas,'Courier New',monospace\"><span style=\"font-weight: bold\"> Non-trainable params: </span><span style=\"color: #00af00; text-decoration-color: #00af00\">0</span> (0.00 B)\n",
       "</pre>\n"
      ],
      "text/plain": [
       "\u001b[1m Non-trainable params: \u001b[0m\u001b[38;5;34m0\u001b[0m (0.00 B)\n"
      ]
     },
     "metadata": {},
     "output_type": "display_data"
    }
   ],
   "source": [
    "# Define the model - deep neural net, i.e., the number of input features and hidden nodes for each layer.\n",
    "#  YOUR CODE GOES HERE\n",
    "from tensorflow.keras.layers import Dense\n",
    "\n",
    "nn = tf.keras.models.Sequential()\n",
    "\n",
    "# First hidden layer\n",
    "\n",
    "nn.add(Dense(80, input_dim=X_train.shape[1], activation='relu'))\n",
    "\n",
    "# Second hidden layer\n",
    "\n",
    "nn.add(Dense(30, activation = 'relu'))\n",
    "\n",
    "# Output layer\n",
    "\n",
    "nn.add(Dense(1, activation='sigmoid'))\n",
    "\n",
    "\n",
    "# Check the structure of the model\n",
    "nn.summary()"
   ]
  },
  {
   "cell_type": "code",
   "execution_count": 15,
   "metadata": {},
   "outputs": [
    {
     "data": {
      "text/html": [
       "<pre style=\"white-space:pre;overflow-x:auto;line-height:normal;font-family:Menlo,'DejaVu Sans Mono',consolas,'Courier New',monospace\"><span style=\"font-weight: bold\">Model: \"sequential\"</span>\n",
       "</pre>\n"
      ],
      "text/plain": [
       "\u001b[1mModel: \"sequential\"\u001b[0m\n"
      ]
     },
     "metadata": {},
     "output_type": "display_data"
    },
    {
     "data": {
      "text/html": [
       "<pre style=\"white-space:pre;overflow-x:auto;line-height:normal;font-family:Menlo,'DejaVu Sans Mono',consolas,'Courier New',monospace\">┏━━━━━━━━━━━━━━━━━━━━━━━━━━━━━━━━━┳━━━━━━━━━━━━━━━━━━━━━━━━┳━━━━━━━━━━━━━━━┓\n",
       "┃<span style=\"font-weight: bold\"> Layer (type)                    </span>┃<span style=\"font-weight: bold\"> Output Shape           </span>┃<span style=\"font-weight: bold\">       Param # </span>┃\n",
       "┡━━━━━━━━━━━━━━━━━━━━━━━━━━━━━━━━━╇━━━━━━━━━━━━━━━━━━━━━━━━╇━━━━━━━━━━━━━━━┩\n",
       "│ dense (<span style=\"color: #0087ff; text-decoration-color: #0087ff\">Dense</span>)                   │ (<span style=\"color: #00d7ff; text-decoration-color: #00d7ff\">None</span>, <span style=\"color: #00af00; text-decoration-color: #00af00\">80</span>)             │         <span style=\"color: #00af00; text-decoration-color: #00af00\">4,080</span> │\n",
       "├─────────────────────────────────┼────────────────────────┼───────────────┤\n",
       "│ dense_1 (<span style=\"color: #0087ff; text-decoration-color: #0087ff\">Dense</span>)                 │ (<span style=\"color: #00d7ff; text-decoration-color: #00d7ff\">None</span>, <span style=\"color: #00af00; text-decoration-color: #00af00\">30</span>)             │         <span style=\"color: #00af00; text-decoration-color: #00af00\">2,430</span> │\n",
       "├─────────────────────────────────┼────────────────────────┼───────────────┤\n",
       "│ dense_2 (<span style=\"color: #0087ff; text-decoration-color: #0087ff\">Dense</span>)                 │ (<span style=\"color: #00d7ff; text-decoration-color: #00d7ff\">None</span>, <span style=\"color: #00af00; text-decoration-color: #00af00\">1</span>)              │            <span style=\"color: #00af00; text-decoration-color: #00af00\">31</span> │\n",
       "└─────────────────────────────────┴────────────────────────┴───────────────┘\n",
       "</pre>\n"
      ],
      "text/plain": [
       "┏━━━━━━━━━━━━━━━━━━━━━━━━━━━━━━━━━┳━━━━━━━━━━━━━━━━━━━━━━━━┳━━━━━━━━━━━━━━━┓\n",
       "┃\u001b[1m \u001b[0m\u001b[1mLayer (type)                   \u001b[0m\u001b[1m \u001b[0m┃\u001b[1m \u001b[0m\u001b[1mOutput Shape          \u001b[0m\u001b[1m \u001b[0m┃\u001b[1m \u001b[0m\u001b[1m      Param #\u001b[0m\u001b[1m \u001b[0m┃\n",
       "┡━━━━━━━━━━━━━━━━━━━━━━━━━━━━━━━━━╇━━━━━━━━━━━━━━━━━━━━━━━━╇━━━━━━━━━━━━━━━┩\n",
       "│ dense (\u001b[38;5;33mDense\u001b[0m)                   │ (\u001b[38;5;45mNone\u001b[0m, \u001b[38;5;34m80\u001b[0m)             │         \u001b[38;5;34m4,080\u001b[0m │\n",
       "├─────────────────────────────────┼────────────────────────┼───────────────┤\n",
       "│ dense_1 (\u001b[38;5;33mDense\u001b[0m)                 │ (\u001b[38;5;45mNone\u001b[0m, \u001b[38;5;34m30\u001b[0m)             │         \u001b[38;5;34m2,430\u001b[0m │\n",
       "├─────────────────────────────────┼────────────────────────┼───────────────┤\n",
       "│ dense_2 (\u001b[38;5;33mDense\u001b[0m)                 │ (\u001b[38;5;45mNone\u001b[0m, \u001b[38;5;34m1\u001b[0m)              │            \u001b[38;5;34m31\u001b[0m │\n",
       "└─────────────────────────────────┴────────────────────────┴───────────────┘\n"
      ]
     },
     "metadata": {},
     "output_type": "display_data"
    },
    {
     "data": {
      "text/html": [
       "<pre style=\"white-space:pre;overflow-x:auto;line-height:normal;font-family:Menlo,'DejaVu Sans Mono',consolas,'Courier New',monospace\"><span style=\"font-weight: bold\"> Total params: </span><span style=\"color: #00af00; text-decoration-color: #00af00\">6,541</span> (25.55 KB)\n",
       "</pre>\n"
      ],
      "text/plain": [
       "\u001b[1m Total params: \u001b[0m\u001b[38;5;34m6,541\u001b[0m (25.55 KB)\n"
      ]
     },
     "metadata": {},
     "output_type": "display_data"
    },
    {
     "data": {
      "text/html": [
       "<pre style=\"white-space:pre;overflow-x:auto;line-height:normal;font-family:Menlo,'DejaVu Sans Mono',consolas,'Courier New',monospace\"><span style=\"font-weight: bold\"> Trainable params: </span><span style=\"color: #00af00; text-decoration-color: #00af00\">6,541</span> (25.55 KB)\n",
       "</pre>\n"
      ],
      "text/plain": [
       "\u001b[1m Trainable params: \u001b[0m\u001b[38;5;34m6,541\u001b[0m (25.55 KB)\n"
      ]
     },
     "metadata": {},
     "output_type": "display_data"
    },
    {
     "data": {
      "text/html": [
       "<pre style=\"white-space:pre;overflow-x:auto;line-height:normal;font-family:Menlo,'DejaVu Sans Mono',consolas,'Courier New',monospace\"><span style=\"font-weight: bold\"> Non-trainable params: </span><span style=\"color: #00af00; text-decoration-color: #00af00\">0</span> (0.00 B)\n",
       "</pre>\n"
      ],
      "text/plain": [
       "\u001b[1m Non-trainable params: \u001b[0m\u001b[38;5;34m0\u001b[0m (0.00 B)\n"
      ]
     },
     "metadata": {},
     "output_type": "display_data"
    }
   ],
   "source": [
    "# Compile the model\n",
    "nn.compile(loss='binary_crossentropy', optimizer = 'adam', metrics=['accuracy'])\n",
    "nn.summary()"
   ]
  },
  {
   "cell_type": "code",
   "execution_count": 16,
   "metadata": {},
   "outputs": [
    {
     "name": "stdout",
     "output_type": "stream",
     "text": [
      "Epoch 1/100\n",
      "1029/1029 - 1s - 930us/step - accuracy: 0.4870 - loss: 64108.6953 - val_accuracy: 0.5266 - val_loss: 173235.1719\n",
      "Epoch 2/100\n",
      "1029/1029 - 1s - 547us/step - accuracy: 0.5058 - loss: 42248.5625 - val_accuracy: 0.5266 - val_loss: 77445.8203\n",
      "Epoch 3/100\n",
      "1029/1029 - 1s - 549us/step - accuracy: 0.4878 - loss: 65058.6562 - val_accuracy: 0.4734 - val_loss: 38768.3047\n",
      "Epoch 4/100\n",
      "1029/1029 - 1s - 554us/step - accuracy: 0.5064 - loss: 20215.1270 - val_accuracy: 0.5266 - val_loss: 77961.6094\n",
      "Epoch 5/100\n",
      "1029/1029 - 1s - 552us/step - accuracy: 0.5038 - loss: 27023.8652 - val_accuracy: 0.5493 - val_loss: 2237.7952\n",
      "Epoch 6/100\n",
      "1029/1029 - 1s - 559us/step - accuracy: 0.5127 - loss: 6072.9126 - val_accuracy: 0.4734 - val_loss: 14354.0820\n",
      "Epoch 7/100\n",
      "1029/1029 - 1s - 560us/step - accuracy: 0.5148 - loss: 15833.4082 - val_accuracy: 0.5266 - val_loss: 2260.3452\n",
      "Epoch 8/100\n",
      "1029/1029 - 1s - 560us/step - accuracy: 0.5094 - loss: 11711.6650 - val_accuracy: 0.5266 - val_loss: 1905.5377\n",
      "Epoch 9/100\n",
      "1029/1029 - 1s - 564us/step - accuracy: 0.4960 - loss: 8013.7505 - val_accuracy: 0.4734 - val_loss: 13339.5322\n",
      "Epoch 10/100\n",
      "1029/1029 - 1s - 561us/step - accuracy: 0.5094 - loss: 3259.4863 - val_accuracy: 0.5355 - val_loss: 1085.1986\n",
      "Epoch 11/100\n",
      "1029/1029 - 1s - 560us/step - accuracy: 0.5040 - loss: 3580.0933 - val_accuracy: 0.4734 - val_loss: 2251.9250\n",
      "Epoch 12/100\n",
      "1029/1029 - 1s - 554us/step - accuracy: 0.4952 - loss: 1259.9198 - val_accuracy: 0.5072 - val_loss: 240.0039\n",
      "Epoch 13/100\n",
      "1029/1029 - 1s - 547us/step - accuracy: 0.5216 - loss: 159.2754 - val_accuracy: 0.5266 - val_loss: 46.2898\n",
      "Epoch 14/100\n",
      "1029/1029 - 1s - 550us/step - accuracy: 0.5817 - loss: 2.7386 - val_accuracy: 0.6373 - val_loss: 0.6391\n",
      "Epoch 15/100\n",
      "1029/1029 - 1s - 563us/step - accuracy: 0.6310 - loss: 0.6385 - val_accuracy: 0.6435 - val_loss: 0.6371\n",
      "Epoch 16/100\n",
      "1029/1029 - 1s - 559us/step - accuracy: 0.6406 - loss: 0.6352 - val_accuracy: 0.6522 - val_loss: 0.6321\n",
      "Epoch 17/100\n",
      "1029/1029 - 1s - 560us/step - accuracy: 0.6463 - loss: 0.6327 - val_accuracy: 0.6540 - val_loss: 0.6308\n",
      "Epoch 18/100\n",
      "1029/1029 - 1s - 562us/step - accuracy: 0.6481 - loss: 0.6319 - val_accuracy: 0.6542 - val_loss: 0.6313\n",
      "Epoch 19/100\n",
      "1029/1029 - 1s - 564us/step - accuracy: 0.6478 - loss: 0.6314 - val_accuracy: 0.6547 - val_loss: 0.6303\n",
      "Epoch 20/100\n",
      "1029/1029 - 1s - 556us/step - accuracy: 0.6489 - loss: 0.6311 - val_accuracy: 0.6543 - val_loss: 0.6298\n",
      "Epoch 21/100\n",
      "1029/1029 - 1s - 557us/step - accuracy: 0.6491 - loss: 0.6309 - val_accuracy: 0.6539 - val_loss: 0.6299\n",
      "Epoch 22/100\n",
      "1029/1029 - 1s - 550us/step - accuracy: 0.6547 - loss: 0.6293 - val_accuracy: 0.6644 - val_loss: 0.6262\n",
      "Epoch 23/100\n",
      "1029/1029 - 1s - 552us/step - accuracy: 0.6479 - loss: 0.6332 - val_accuracy: 0.6653 - val_loss: 0.6239\n",
      "Epoch 24/100\n",
      "1029/1029 - 1s - 562us/step - accuracy: 0.5433 - loss: 0.6867 - val_accuracy: 0.5266 - val_loss: 0.6917\n",
      "Epoch 25/100\n",
      "1029/1029 - 1s - 561us/step - accuracy: 0.5343 - loss: 0.6909 - val_accuracy: 0.5266 - val_loss: 0.6917\n",
      "Epoch 26/100\n",
      "1029/1029 - 1s - 560us/step - accuracy: 0.5343 - loss: 0.6910 - val_accuracy: 0.5266 - val_loss: 0.6917\n",
      "Epoch 27/100\n",
      "1029/1029 - 1s - 562us/step - accuracy: 0.5343 - loss: 0.6910 - val_accuracy: 0.5266 - val_loss: 0.6918\n",
      "Epoch 28/100\n",
      "1029/1029 - 1s - 562us/step - accuracy: 0.5343 - loss: 0.6909 - val_accuracy: 0.5266 - val_loss: 0.6918\n",
      "Epoch 29/100\n",
      "1029/1029 - 1s - 556us/step - accuracy: 0.5343 - loss: 0.6909 - val_accuracy: 0.5266 - val_loss: 0.6918\n",
      "Epoch 30/100\n",
      "1029/1029 - 1s - 554us/step - accuracy: 0.5343 - loss: 0.6909 - val_accuracy: 0.5266 - val_loss: 0.6918\n",
      "Epoch 31/100\n",
      "1029/1029 - 1s - 545us/step - accuracy: 0.5343 - loss: 0.6909 - val_accuracy: 0.5266 - val_loss: 0.6917\n",
      "Epoch 32/100\n",
      "1029/1029 - 1s - 549us/step - accuracy: 0.5343 - loss: 0.6909 - val_accuracy: 0.5266 - val_loss: 0.6918\n",
      "Epoch 33/100\n",
      "1029/1029 - 1s - 557us/step - accuracy: 0.5343 - loss: 0.6909 - val_accuracy: 0.5266 - val_loss: 0.6920\n",
      "Epoch 34/100\n",
      "1029/1029 - 1s - 561us/step - accuracy: 0.5343 - loss: 0.6909 - val_accuracy: 0.5266 - val_loss: 0.6920\n",
      "Epoch 35/100\n",
      "1029/1029 - 1s - 562us/step - accuracy: 0.5343 - loss: 0.6910 - val_accuracy: 0.5266 - val_loss: 0.6919\n",
      "Epoch 36/100\n",
      "1029/1029 - 1s - 562us/step - accuracy: 0.5343 - loss: 0.6910 - val_accuracy: 0.5266 - val_loss: 0.6922\n",
      "Epoch 37/100\n",
      "1029/1029 - 1s - 562us/step - accuracy: 0.5343 - loss: 0.6910 - val_accuracy: 0.5266 - val_loss: 0.6918\n",
      "Epoch 38/100\n",
      "1029/1029 - 1s - 557us/step - accuracy: 0.5343 - loss: 0.6910 - val_accuracy: 0.5266 - val_loss: 0.6917\n",
      "Epoch 39/100\n",
      "1029/1029 - 1s - 561us/step - accuracy: 0.5343 - loss: 0.6910 - val_accuracy: 0.5266 - val_loss: 0.6918\n",
      "Epoch 40/100\n",
      "1029/1029 - 1s - 548us/step - accuracy: 0.5343 - loss: 0.6910 - val_accuracy: 0.5266 - val_loss: 0.6919\n",
      "Epoch 41/100\n",
      "1029/1029 - 1s - 551us/step - accuracy: 0.5343 - loss: 0.6910 - val_accuracy: 0.5266 - val_loss: 0.6917\n",
      "Epoch 42/100\n",
      "1029/1029 - 1s - 557us/step - accuracy: 0.5343 - loss: 0.6909 - val_accuracy: 0.5266 - val_loss: 0.6920\n",
      "Epoch 43/100\n",
      "1029/1029 - 1s - 563us/step - accuracy: 0.5343 - loss: 0.6910 - val_accuracy: 0.5266 - val_loss: 0.6917\n",
      "Epoch 44/100\n",
      "1029/1029 - 1s - 558us/step - accuracy: 0.5343 - loss: 0.6910 - val_accuracy: 0.5266 - val_loss: 0.6922\n",
      "Epoch 45/100\n",
      "1029/1029 - 1s - 563us/step - accuracy: 0.5343 - loss: 0.6909 - val_accuracy: 0.5266 - val_loss: 0.6917\n",
      "Epoch 46/100\n",
      "1029/1029 - 1s - 557us/step - accuracy: 0.5343 - loss: 0.6910 - val_accuracy: 0.5266 - val_loss: 0.6919\n",
      "Epoch 47/100\n",
      "1029/1029 - 1s - 559us/step - accuracy: 0.5343 - loss: 0.6910 - val_accuracy: 0.5266 - val_loss: 0.6932\n",
      "Epoch 48/100\n",
      "1029/1029 - 1s - 559us/step - accuracy: 0.5343 - loss: 0.6911 - val_accuracy: 0.5266 - val_loss: 0.6917\n",
      "Epoch 49/100\n",
      "1029/1029 - 1s - 591us/step - accuracy: 0.5343 - loss: 0.6910 - val_accuracy: 0.5266 - val_loss: 0.6919\n",
      "Epoch 50/100\n",
      "1029/1029 - 1s - 562us/step - accuracy: 0.5343 - loss: 0.6910 - val_accuracy: 0.5266 - val_loss: 0.6917\n",
      "Epoch 51/100\n",
      "1029/1029 - 1s - 561us/step - accuracy: 0.5343 - loss: 0.6910 - val_accuracy: 0.5266 - val_loss: 0.6918\n",
      "Epoch 52/100\n",
      "1029/1029 - 1s - 563us/step - accuracy: 0.5343 - loss: 0.6909 - val_accuracy: 0.5266 - val_loss: 0.6920\n",
      "Epoch 53/100\n",
      "1029/1029 - 1s - 579us/step - accuracy: 0.5343 - loss: 0.6910 - val_accuracy: 0.5266 - val_loss: 0.6924\n",
      "Epoch 54/100\n",
      "1029/1029 - 1s - 610us/step - accuracy: 0.5343 - loss: 0.6910 - val_accuracy: 0.5266 - val_loss: 0.6918\n",
      "Epoch 55/100\n",
      "1029/1029 - 1s - 562us/step - accuracy: 0.5343 - loss: 0.6910 - val_accuracy: 0.5266 - val_loss: 0.6918\n",
      "Epoch 56/100\n",
      "1029/1029 - 1s - 547us/step - accuracy: 0.5343 - loss: 0.6911 - val_accuracy: 0.5266 - val_loss: 0.6918\n",
      "Epoch 57/100\n",
      "1029/1029 - 1s - 549us/step - accuracy: 0.5343 - loss: 0.6910 - val_accuracy: 0.5266 - val_loss: 0.6917\n",
      "Epoch 58/100\n",
      "1029/1029 - 1s - 572us/step - accuracy: 0.5343 - loss: 0.6910 - val_accuracy: 0.5266 - val_loss: 0.6917\n",
      "Epoch 59/100\n",
      "1029/1029 - 1s - 551us/step - accuracy: 0.5343 - loss: 0.6910 - val_accuracy: 0.5266 - val_loss: 0.6918\n",
      "Epoch 60/100\n",
      "1029/1029 - 1s - 546us/step - accuracy: 0.5343 - loss: 0.6909 - val_accuracy: 0.5266 - val_loss: 0.6920\n",
      "Epoch 61/100\n",
      "1029/1029 - 1s - 559us/step - accuracy: 0.5343 - loss: 0.6910 - val_accuracy: 0.5266 - val_loss: 0.6920\n",
      "Epoch 62/100\n",
      "1029/1029 - 1s - 545us/step - accuracy: 0.5343 - loss: 0.6910 - val_accuracy: 0.5266 - val_loss: 0.6920\n",
      "Epoch 63/100\n",
      "1029/1029 - 1s - 589us/step - accuracy: 0.5343 - loss: 0.6910 - val_accuracy: 0.5266 - val_loss: 0.6918\n",
      "Epoch 64/100\n",
      "1029/1029 - 1s - 548us/step - accuracy: 0.5343 - loss: 0.6911 - val_accuracy: 0.5266 - val_loss: 0.6917\n",
      "Epoch 65/100\n",
      "1029/1029 - 1s - 545us/step - accuracy: 0.5343 - loss: 0.6910 - val_accuracy: 0.5266 - val_loss: 0.6918\n",
      "Epoch 66/100\n",
      "1029/1029 - 1s - 543us/step - accuracy: 0.5343 - loss: 0.6910 - val_accuracy: 0.5266 - val_loss: 0.6921\n",
      "Epoch 67/100\n",
      "1029/1029 - 1s - 545us/step - accuracy: 0.5343 - loss: 0.6909 - val_accuracy: 0.5266 - val_loss: 0.6919\n",
      "Epoch 68/100\n",
      "1029/1029 - 1s - 545us/step - accuracy: 0.5343 - loss: 0.6910 - val_accuracy: 0.5266 - val_loss: 0.6919\n",
      "Epoch 69/100\n",
      "1029/1029 - 1s - 543us/step - accuracy: 0.5343 - loss: 0.6909 - val_accuracy: 0.5266 - val_loss: 0.6919\n",
      "Epoch 70/100\n",
      "1029/1029 - 1s - 541us/step - accuracy: 0.5343 - loss: 0.6910 - val_accuracy: 0.5266 - val_loss: 0.6930\n",
      "Epoch 71/100\n",
      "1029/1029 - 1s - 544us/step - accuracy: 0.5343 - loss: 0.6909 - val_accuracy: 0.5266 - val_loss: 0.6936\n",
      "Epoch 72/100\n",
      "1029/1029 - 1s - 554us/step - accuracy: 0.5343 - loss: 0.6910 - val_accuracy: 0.5266 - val_loss: 0.6920\n",
      "Epoch 73/100\n",
      "1029/1029 - 1s - 569us/step - accuracy: 0.5343 - loss: 0.6910 - val_accuracy: 0.5266 - val_loss: 0.6918\n",
      "Epoch 74/100\n",
      "1029/1029 - 1s - 566us/step - accuracy: 0.5343 - loss: 0.6910 - val_accuracy: 0.5266 - val_loss: 0.6917\n",
      "Epoch 75/100\n",
      "1029/1029 - 1s - 565us/step - accuracy: 0.5343 - loss: 0.6910 - val_accuracy: 0.5266 - val_loss: 0.6918\n",
      "Epoch 76/100\n",
      "1029/1029 - 1s - 567us/step - accuracy: 0.5343 - loss: 0.6910 - val_accuracy: 0.5266 - val_loss: 0.6918\n",
      "Epoch 77/100\n",
      "1029/1029 - 1s - 568us/step - accuracy: 0.5343 - loss: 0.6910 - val_accuracy: 0.5266 - val_loss: 0.6918\n",
      "Epoch 78/100\n",
      "1029/1029 - 1s - 565us/step - accuracy: 0.5343 - loss: 0.6908 - val_accuracy: 0.5266 - val_loss: 0.6936\n",
      "Epoch 79/100\n",
      "1029/1029 - 1s - 567us/step - accuracy: 0.5343 - loss: 0.6911 - val_accuracy: 0.5266 - val_loss: 0.6917\n",
      "Epoch 80/100\n",
      "1029/1029 - 1s - 591us/step - accuracy: 0.5343 - loss: 0.6910 - val_accuracy: 0.5266 - val_loss: 0.6920\n",
      "Epoch 81/100\n",
      "1029/1029 - 1s - 567us/step - accuracy: 0.5343 - loss: 0.6910 - val_accuracy: 0.5266 - val_loss: 0.6919\n",
      "Epoch 82/100\n",
      "1029/1029 - 1s - 571us/step - accuracy: 0.5343 - loss: 0.6910 - val_accuracy: 0.5266 - val_loss: 0.6919\n",
      "Epoch 83/100\n",
      "1029/1029 - 1s - 565us/step - accuracy: 0.5343 - loss: 0.6910 - val_accuracy: 0.5266 - val_loss: 0.6918\n",
      "Epoch 84/100\n",
      "1029/1029 - 1s - 565us/step - accuracy: 0.5343 - loss: 0.6909 - val_accuracy: 0.5266 - val_loss: 0.6918\n",
      "Epoch 85/100\n",
      "1029/1029 - 1s - 566us/step - accuracy: 0.5343 - loss: 0.6909 - val_accuracy: 0.5266 - val_loss: 0.6924\n",
      "Epoch 86/100\n",
      "1029/1029 - 1s - 556us/step - accuracy: 0.5343 - loss: 0.6909 - val_accuracy: 0.5266 - val_loss: 0.6936\n",
      "Epoch 87/100\n",
      "1029/1029 - 1s - 619us/step - accuracy: 0.5343 - loss: 0.6910 - val_accuracy: 0.5266 - val_loss: 0.6920\n",
      "Epoch 88/100\n",
      "1029/1029 - 1s - 561us/step - accuracy: 0.5343 - loss: 0.6910 - val_accuracy: 0.5266 - val_loss: 0.6926\n",
      "Epoch 89/100\n",
      "1029/1029 - 1s - 554us/step - accuracy: 0.5343 - loss: 0.6909 - val_accuracy: 0.5266 - val_loss: 0.6918\n",
      "Epoch 90/100\n",
      "1029/1029 - 1s - 547us/step - accuracy: 0.5343 - loss: 0.6910 - val_accuracy: 0.5266 - val_loss: 0.6917\n",
      "Epoch 91/100\n",
      "1029/1029 - 1s - 545us/step - accuracy: 0.5343 - loss: 0.6909 - val_accuracy: 0.5266 - val_loss: 0.6918\n",
      "Epoch 92/100\n",
      "1029/1029 - 1s - 546us/step - accuracy: 0.5343 - loss: 0.6910 - val_accuracy: 0.5266 - val_loss: 0.6918\n",
      "Epoch 93/100\n",
      "1029/1029 - 1s - 545us/step - accuracy: 0.5343 - loss: 0.6910 - val_accuracy: 0.5266 - val_loss: 0.6919\n",
      "Epoch 94/100\n",
      "1029/1029 - 1s - 543us/step - accuracy: 0.5343 - loss: 0.6909 - val_accuracy: 0.5266 - val_loss: 0.6920\n",
      "Epoch 95/100\n",
      "1029/1029 - 1s - 546us/step - accuracy: 0.5343 - loss: 0.6910 - val_accuracy: 0.5266 - val_loss: 0.6918\n",
      "Epoch 96/100\n",
      "1029/1029 - 1s - 548us/step - accuracy: 0.5343 - loss: 0.6910 - val_accuracy: 0.5266 - val_loss: 0.6918\n",
      "Epoch 97/100\n",
      "1029/1029 - 1s - 550us/step - accuracy: 0.5343 - loss: 0.6910 - val_accuracy: 0.5266 - val_loss: 0.6918\n",
      "Epoch 98/100\n",
      "1029/1029 - 1s - 555us/step - accuracy: 0.5343 - loss: 0.6910 - val_accuracy: 0.5266 - val_loss: 0.6918\n",
      "Epoch 99/100\n",
      "1029/1029 - 1s - 555us/step - accuracy: 0.5343 - loss: 0.6910 - val_accuracy: 0.5266 - val_loss: 0.6917\n",
      "Epoch 100/100\n",
      "1029/1029 - 1s - 553us/step - accuracy: 0.5343 - loss: 0.6910 - val_accuracy: 0.5266 - val_loss: 0.6918\n"
     ]
    }
   ],
   "source": [
    "# Train the model\n",
    "history = nn.fit(X_train, y_train, \n",
    "                 epochs=100,\n",
    "                 batch_size=25,\n",
    "                 validation_data=(X_test, y_test),\n",
    "                 verbose=2)"
   ]
  },
  {
   "cell_type": "code",
   "execution_count": 17,
   "metadata": {},
   "outputs": [
    {
     "name": "stdout",
     "output_type": "stream",
     "text": [
      "268/268 - 0s - 555us/step - accuracy: 0.6505 - loss: 1.2567\n",
      "Loss: 1.256730079650879, Accuracy: 0.6504956483840942\n"
     ]
    }
   ],
   "source": [
    "# Evaluate the model using the test data\n",
    "model_loss, model_accuracy = nn.evaluate(X_test_scaled,y_test,verbose=2)\n",
    "print(f\"Loss: {model_loss}, Accuracy: {model_accuracy}\")"
   ]
  },
  {
   "cell_type": "code",
   "execution_count": 18,
   "metadata": {},
   "outputs": [
    {
     "name": "stderr",
     "output_type": "stream",
     "text": [
      "/opt/anaconda3/envs/dev/lib/python3.10/site-packages/keras/src/layers/core/dense.py:87: UserWarning: Do not pass an `input_shape`/`input_dim` argument to a layer. When using Sequential models, prefer using an `Input(shape)` object as the first layer in the model instead.\n",
      "  super().__init__(activity_regularizer=activity_regularizer, **kwargs)\n"
     ]
    },
    {
     "data": {
      "text/html": [
       "<pre style=\"white-space:pre;overflow-x:auto;line-height:normal;font-family:Menlo,'DejaVu Sans Mono',consolas,'Courier New',monospace\"><span style=\"font-weight: bold\">Model: \"sequential_1\"</span>\n",
       "</pre>\n"
      ],
      "text/plain": [
       "\u001b[1mModel: \"sequential_1\"\u001b[0m\n"
      ]
     },
     "metadata": {},
     "output_type": "display_data"
    },
    {
     "data": {
      "text/html": [
       "<pre style=\"white-space:pre;overflow-x:auto;line-height:normal;font-family:Menlo,'DejaVu Sans Mono',consolas,'Courier New',monospace\">┏━━━━━━━━━━━━━━━━━━━━━━━━━━━━━━━━━┳━━━━━━━━━━━━━━━━━━━━━━━━┳━━━━━━━━━━━━━━━┓\n",
       "┃<span style=\"font-weight: bold\"> Layer (type)                    </span>┃<span style=\"font-weight: bold\"> Output Shape           </span>┃<span style=\"font-weight: bold\">       Param # </span>┃\n",
       "┡━━━━━━━━━━━━━━━━━━━━━━━━━━━━━━━━━╇━━━━━━━━━━━━━━━━━━━━━━━━╇━━━━━━━━━━━━━━━┩\n",
       "│ dense_3 (<span style=\"color: #0087ff; text-decoration-color: #0087ff\">Dense</span>)                 │ (<span style=\"color: #00d7ff; text-decoration-color: #00d7ff\">None</span>, <span style=\"color: #00af00; text-decoration-color: #00af00\">60</span>)             │         <span style=\"color: #00af00; text-decoration-color: #00af00\">3,060</span> │\n",
       "├─────────────────────────────────┼────────────────────────┼───────────────┤\n",
       "│ dense_4 (<span style=\"color: #0087ff; text-decoration-color: #0087ff\">Dense</span>)                 │ (<span style=\"color: #00d7ff; text-decoration-color: #00d7ff\">None</span>, <span style=\"color: #00af00; text-decoration-color: #00af00\">30</span>)             │         <span style=\"color: #00af00; text-decoration-color: #00af00\">1,830</span> │\n",
       "├─────────────────────────────────┼────────────────────────┼───────────────┤\n",
       "│ dense_5 (<span style=\"color: #0087ff; text-decoration-color: #0087ff\">Dense</span>)                 │ (<span style=\"color: #00d7ff; text-decoration-color: #00d7ff\">None</span>, <span style=\"color: #00af00; text-decoration-color: #00af00\">15</span>)             │           <span style=\"color: #00af00; text-decoration-color: #00af00\">465</span> │\n",
       "├─────────────────────────────────┼────────────────────────┼───────────────┤\n",
       "│ dense_6 (<span style=\"color: #0087ff; text-decoration-color: #0087ff\">Dense</span>)                 │ (<span style=\"color: #00d7ff; text-decoration-color: #00d7ff\">None</span>, <span style=\"color: #00af00; text-decoration-color: #00af00\">1</span>)              │            <span style=\"color: #00af00; text-decoration-color: #00af00\">16</span> │\n",
       "└─────────────────────────────────┴────────────────────────┴───────────────┘\n",
       "</pre>\n"
      ],
      "text/plain": [
       "┏━━━━━━━━━━━━━━━━━━━━━━━━━━━━━━━━━┳━━━━━━━━━━━━━━━━━━━━━━━━┳━━━━━━━━━━━━━━━┓\n",
       "┃\u001b[1m \u001b[0m\u001b[1mLayer (type)                   \u001b[0m\u001b[1m \u001b[0m┃\u001b[1m \u001b[0m\u001b[1mOutput Shape          \u001b[0m\u001b[1m \u001b[0m┃\u001b[1m \u001b[0m\u001b[1m      Param #\u001b[0m\u001b[1m \u001b[0m┃\n",
       "┡━━━━━━━━━━━━━━━━━━━━━━━━━━━━━━━━━╇━━━━━━━━━━━━━━━━━━━━━━━━╇━━━━━━━━━━━━━━━┩\n",
       "│ dense_3 (\u001b[38;5;33mDense\u001b[0m)                 │ (\u001b[38;5;45mNone\u001b[0m, \u001b[38;5;34m60\u001b[0m)             │         \u001b[38;5;34m3,060\u001b[0m │\n",
       "├─────────────────────────────────┼────────────────────────┼───────────────┤\n",
       "│ dense_4 (\u001b[38;5;33mDense\u001b[0m)                 │ (\u001b[38;5;45mNone\u001b[0m, \u001b[38;5;34m30\u001b[0m)             │         \u001b[38;5;34m1,830\u001b[0m │\n",
       "├─────────────────────────────────┼────────────────────────┼───────────────┤\n",
       "│ dense_5 (\u001b[38;5;33mDense\u001b[0m)                 │ (\u001b[38;5;45mNone\u001b[0m, \u001b[38;5;34m15\u001b[0m)             │           \u001b[38;5;34m465\u001b[0m │\n",
       "├─────────────────────────────────┼────────────────────────┼───────────────┤\n",
       "│ dense_6 (\u001b[38;5;33mDense\u001b[0m)                 │ (\u001b[38;5;45mNone\u001b[0m, \u001b[38;5;34m1\u001b[0m)              │            \u001b[38;5;34m16\u001b[0m │\n",
       "└─────────────────────────────────┴────────────────────────┴───────────────┘\n"
      ]
     },
     "metadata": {},
     "output_type": "display_data"
    },
    {
     "data": {
      "text/html": [
       "<pre style=\"white-space:pre;overflow-x:auto;line-height:normal;font-family:Menlo,'DejaVu Sans Mono',consolas,'Courier New',monospace\"><span style=\"font-weight: bold\"> Total params: </span><span style=\"color: #00af00; text-decoration-color: #00af00\">5,371</span> (20.98 KB)\n",
       "</pre>\n"
      ],
      "text/plain": [
       "\u001b[1m Total params: \u001b[0m\u001b[38;5;34m5,371\u001b[0m (20.98 KB)\n"
      ]
     },
     "metadata": {},
     "output_type": "display_data"
    },
    {
     "data": {
      "text/html": [
       "<pre style=\"white-space:pre;overflow-x:auto;line-height:normal;font-family:Menlo,'DejaVu Sans Mono',consolas,'Courier New',monospace\"><span style=\"font-weight: bold\"> Trainable params: </span><span style=\"color: #00af00; text-decoration-color: #00af00\">5,371</span> (20.98 KB)\n",
       "</pre>\n"
      ],
      "text/plain": [
       "\u001b[1m Trainable params: \u001b[0m\u001b[38;5;34m5,371\u001b[0m (20.98 KB)\n"
      ]
     },
     "metadata": {},
     "output_type": "display_data"
    },
    {
     "data": {
      "text/html": [
       "<pre style=\"white-space:pre;overflow-x:auto;line-height:normal;font-family:Menlo,'DejaVu Sans Mono',consolas,'Courier New',monospace\"><span style=\"font-weight: bold\"> Non-trainable params: </span><span style=\"color: #00af00; text-decoration-color: #00af00\">0</span> (0.00 B)\n",
       "</pre>\n"
      ],
      "text/plain": [
       "\u001b[1m Non-trainable params: \u001b[0m\u001b[38;5;34m0\u001b[0m (0.00 B)\n"
      ]
     },
     "metadata": {},
     "output_type": "display_data"
    }
   ],
   "source": [
    "nn2 = tf.keras.models.Sequential()\n",
    "\n",
    "# First hidden layer\n",
    "\n",
    "nn2.add(Dense(60, input_dim=X_train.shape[1], activation='relu'))\n",
    "\n",
    "# Second hidden layer\n",
    "\n",
    "nn2.add(Dense(30, activation = 'relu'))\n",
    "\n",
    "# Third hidden layer \n",
    "\n",
    "nn2.add(Dense(15, activation = 'relu'))\n",
    "\n",
    "# Output layer\n",
    "\n",
    "nn2.add(Dense(1, activation='sigmoid'))\n",
    "\n",
    "\n",
    "# Check the structure of the model\n",
    "nn2.summary()"
   ]
  },
  {
   "cell_type": "code",
   "execution_count": 19,
   "metadata": {},
   "outputs": [
    {
     "data": {
      "text/html": [
       "<pre style=\"white-space:pre;overflow-x:auto;line-height:normal;font-family:Menlo,'DejaVu Sans Mono',consolas,'Courier New',monospace\"><span style=\"font-weight: bold\">Model: \"sequential_1\"</span>\n",
       "</pre>\n"
      ],
      "text/plain": [
       "\u001b[1mModel: \"sequential_1\"\u001b[0m\n"
      ]
     },
     "metadata": {},
     "output_type": "display_data"
    },
    {
     "data": {
      "text/html": [
       "<pre style=\"white-space:pre;overflow-x:auto;line-height:normal;font-family:Menlo,'DejaVu Sans Mono',consolas,'Courier New',monospace\">┏━━━━━━━━━━━━━━━━━━━━━━━━━━━━━━━━━┳━━━━━━━━━━━━━━━━━━━━━━━━┳━━━━━━━━━━━━━━━┓\n",
       "┃<span style=\"font-weight: bold\"> Layer (type)                    </span>┃<span style=\"font-weight: bold\"> Output Shape           </span>┃<span style=\"font-weight: bold\">       Param # </span>┃\n",
       "┡━━━━━━━━━━━━━━━━━━━━━━━━━━━━━━━━━╇━━━━━━━━━━━━━━━━━━━━━━━━╇━━━━━━━━━━━━━━━┩\n",
       "│ dense_3 (<span style=\"color: #0087ff; text-decoration-color: #0087ff\">Dense</span>)                 │ (<span style=\"color: #00d7ff; text-decoration-color: #00d7ff\">None</span>, <span style=\"color: #00af00; text-decoration-color: #00af00\">60</span>)             │         <span style=\"color: #00af00; text-decoration-color: #00af00\">3,060</span> │\n",
       "├─────────────────────────────────┼────────────────────────┼───────────────┤\n",
       "│ dense_4 (<span style=\"color: #0087ff; text-decoration-color: #0087ff\">Dense</span>)                 │ (<span style=\"color: #00d7ff; text-decoration-color: #00d7ff\">None</span>, <span style=\"color: #00af00; text-decoration-color: #00af00\">30</span>)             │         <span style=\"color: #00af00; text-decoration-color: #00af00\">1,830</span> │\n",
       "├─────────────────────────────────┼────────────────────────┼───────────────┤\n",
       "│ dense_5 (<span style=\"color: #0087ff; text-decoration-color: #0087ff\">Dense</span>)                 │ (<span style=\"color: #00d7ff; text-decoration-color: #00d7ff\">None</span>, <span style=\"color: #00af00; text-decoration-color: #00af00\">15</span>)             │           <span style=\"color: #00af00; text-decoration-color: #00af00\">465</span> │\n",
       "├─────────────────────────────────┼────────────────────────┼───────────────┤\n",
       "│ dense_6 (<span style=\"color: #0087ff; text-decoration-color: #0087ff\">Dense</span>)                 │ (<span style=\"color: #00d7ff; text-decoration-color: #00d7ff\">None</span>, <span style=\"color: #00af00; text-decoration-color: #00af00\">1</span>)              │            <span style=\"color: #00af00; text-decoration-color: #00af00\">16</span> │\n",
       "└─────────────────────────────────┴────────────────────────┴───────────────┘\n",
       "</pre>\n"
      ],
      "text/plain": [
       "┏━━━━━━━━━━━━━━━━━━━━━━━━━━━━━━━━━┳━━━━━━━━━━━━━━━━━━━━━━━━┳━━━━━━━━━━━━━━━┓\n",
       "┃\u001b[1m \u001b[0m\u001b[1mLayer (type)                   \u001b[0m\u001b[1m \u001b[0m┃\u001b[1m \u001b[0m\u001b[1mOutput Shape          \u001b[0m\u001b[1m \u001b[0m┃\u001b[1m \u001b[0m\u001b[1m      Param #\u001b[0m\u001b[1m \u001b[0m┃\n",
       "┡━━━━━━━━━━━━━━━━━━━━━━━━━━━━━━━━━╇━━━━━━━━━━━━━━━━━━━━━━━━╇━━━━━━━━━━━━━━━┩\n",
       "│ dense_3 (\u001b[38;5;33mDense\u001b[0m)                 │ (\u001b[38;5;45mNone\u001b[0m, \u001b[38;5;34m60\u001b[0m)             │         \u001b[38;5;34m3,060\u001b[0m │\n",
       "├─────────────────────────────────┼────────────────────────┼───────────────┤\n",
       "│ dense_4 (\u001b[38;5;33mDense\u001b[0m)                 │ (\u001b[38;5;45mNone\u001b[0m, \u001b[38;5;34m30\u001b[0m)             │         \u001b[38;5;34m1,830\u001b[0m │\n",
       "├─────────────────────────────────┼────────────────────────┼───────────────┤\n",
       "│ dense_5 (\u001b[38;5;33mDense\u001b[0m)                 │ (\u001b[38;5;45mNone\u001b[0m, \u001b[38;5;34m15\u001b[0m)             │           \u001b[38;5;34m465\u001b[0m │\n",
       "├─────────────────────────────────┼────────────────────────┼───────────────┤\n",
       "│ dense_6 (\u001b[38;5;33mDense\u001b[0m)                 │ (\u001b[38;5;45mNone\u001b[0m, \u001b[38;5;34m1\u001b[0m)              │            \u001b[38;5;34m16\u001b[0m │\n",
       "└─────────────────────────────────┴────────────────────────┴───────────────┘\n"
      ]
     },
     "metadata": {},
     "output_type": "display_data"
    },
    {
     "data": {
      "text/html": [
       "<pre style=\"white-space:pre;overflow-x:auto;line-height:normal;font-family:Menlo,'DejaVu Sans Mono',consolas,'Courier New',monospace\"><span style=\"font-weight: bold\"> Total params: </span><span style=\"color: #00af00; text-decoration-color: #00af00\">5,371</span> (20.98 KB)\n",
       "</pre>\n"
      ],
      "text/plain": [
       "\u001b[1m Total params: \u001b[0m\u001b[38;5;34m5,371\u001b[0m (20.98 KB)\n"
      ]
     },
     "metadata": {},
     "output_type": "display_data"
    },
    {
     "data": {
      "text/html": [
       "<pre style=\"white-space:pre;overflow-x:auto;line-height:normal;font-family:Menlo,'DejaVu Sans Mono',consolas,'Courier New',monospace\"><span style=\"font-weight: bold\"> Trainable params: </span><span style=\"color: #00af00; text-decoration-color: #00af00\">5,371</span> (20.98 KB)\n",
       "</pre>\n"
      ],
      "text/plain": [
       "\u001b[1m Trainable params: \u001b[0m\u001b[38;5;34m5,371\u001b[0m (20.98 KB)\n"
      ]
     },
     "metadata": {},
     "output_type": "display_data"
    },
    {
     "data": {
      "text/html": [
       "<pre style=\"white-space:pre;overflow-x:auto;line-height:normal;font-family:Menlo,'DejaVu Sans Mono',consolas,'Courier New',monospace\"><span style=\"font-weight: bold\"> Non-trainable params: </span><span style=\"color: #00af00; text-decoration-color: #00af00\">0</span> (0.00 B)\n",
       "</pre>\n"
      ],
      "text/plain": [
       "\u001b[1m Non-trainable params: \u001b[0m\u001b[38;5;34m0\u001b[0m (0.00 B)\n"
      ]
     },
     "metadata": {},
     "output_type": "display_data"
    }
   ],
   "source": [
    "nn2.compile(loss='binary_crossentropy', optimizer = 'adam', metrics=['accuracy'])\n",
    "nn2.summary()"
   ]
  },
  {
   "cell_type": "code",
   "execution_count": 20,
   "metadata": {},
   "outputs": [
    {
     "name": "stdout",
     "output_type": "stream",
     "text": [
      "Epoch 1/100\n",
      "858/858 - 1s - 1ms/step - accuracy: 0.4914 - loss: 17868.3770 - val_accuracy: 0.5012 - val_loss: 306.5685\n",
      "Epoch 2/100\n",
      "858/858 - 0s - 581us/step - accuracy: 0.5057 - loss: 3321.6296 - val_accuracy: 0.4734 - val_loss: 5815.4634\n",
      "Epoch 3/100\n",
      "858/858 - 0s - 580us/step - accuracy: 0.4909 - loss: 6735.7437 - val_accuracy: 0.4734 - val_loss: 555.1705\n",
      "Epoch 4/100\n",
      "858/858 - 0s - 580us/step - accuracy: 0.4868 - loss: 5267.3462 - val_accuracy: 0.4734 - val_loss: 959.5541\n",
      "Epoch 5/100\n",
      "858/858 - 0s - 579us/step - accuracy: 0.4885 - loss: 2193.4268 - val_accuracy: 0.4734 - val_loss: 4621.0024\n",
      "Epoch 6/100\n",
      "858/858 - 0s - 579us/step - accuracy: 0.5154 - loss: 677.2542 - val_accuracy: 0.5266 - val_loss: 55.5962\n",
      "Epoch 7/100\n",
      "858/858 - 0s - 579us/step - accuracy: 0.5242 - loss: 225.1090 - val_accuracy: 0.5266 - val_loss: 141.6599\n",
      "Epoch 8/100\n",
      "858/858 - 0s - 581us/step - accuracy: 0.5096 - loss: 1202.7545 - val_accuracy: 0.4734 - val_loss: 2120.2546\n",
      "Epoch 9/100\n",
      "858/858 - 1s - 585us/step - accuracy: 0.5038 - loss: 767.9980 - val_accuracy: 0.4734 - val_loss: 324.9440\n",
      "Epoch 10/100\n",
      "858/858 - 0s - 583us/step - accuracy: 0.4955 - loss: 2131.8674 - val_accuracy: 0.5057 - val_loss: 124.6111\n",
      "Epoch 11/100\n",
      "858/858 - 0s - 580us/step - accuracy: 0.5125 - loss: 324.1638 - val_accuracy: 0.4975 - val_loss: 276.8958\n",
      "Epoch 12/100\n",
      "858/858 - 0s - 580us/step - accuracy: 0.5169 - loss: 73.1299 - val_accuracy: 0.5266 - val_loss: 0.6763\n",
      "Epoch 13/100\n",
      "858/858 - 1s - 591us/step - accuracy: 0.6431 - loss: 0.6591 - val_accuracy: 0.6777 - val_loss: 0.6477\n",
      "Epoch 14/100\n",
      "858/858 - 1s - 593us/step - accuracy: 0.6707 - loss: 0.6417 - val_accuracy: 0.6802 - val_loss: 0.6307\n",
      "Epoch 15/100\n",
      "858/858 - 1s - 585us/step - accuracy: 0.6835 - loss: 0.6261 - val_accuracy: 0.6978 - val_loss: 0.6160\n",
      "Epoch 16/100\n",
      "858/858 - 1s - 591us/step - accuracy: 0.6910 - loss: 0.6161 - val_accuracy: 0.6988 - val_loss: 0.6070\n",
      "Epoch 17/100\n",
      "858/858 - 1s - 587us/step - accuracy: 0.6755 - loss: 0.6273 - val_accuracy: 0.5266 - val_loss: 0.7104\n",
      "Epoch 18/100\n",
      "858/858 - 0s - 582us/step - accuracy: 0.5343 - loss: 0.6923 - val_accuracy: 0.5266 - val_loss: 0.6919\n",
      "Epoch 19/100\n",
      "858/858 - 1s - 585us/step - accuracy: 0.5343 - loss: 0.6908 - val_accuracy: 0.5266 - val_loss: 0.6922\n",
      "Epoch 20/100\n",
      "858/858 - 0s - 579us/step - accuracy: 0.5343 - loss: 0.6908 - val_accuracy: 0.5266 - val_loss: 0.6922\n",
      "Epoch 21/100\n",
      "858/858 - 0s - 582us/step - accuracy: 0.5343 - loss: 0.6909 - val_accuracy: 0.5266 - val_loss: 0.6918\n",
      "Epoch 22/100\n",
      "858/858 - 0s - 582us/step - accuracy: 0.5343 - loss: 0.6908 - val_accuracy: 0.5266 - val_loss: 0.6921\n",
      "Epoch 23/100\n",
      "858/858 - 0s - 581us/step - accuracy: 0.5343 - loss: 0.6909 - val_accuracy: 0.5266 - val_loss: 0.6919\n",
      "Epoch 24/100\n",
      "858/858 - 0s - 579us/step - accuracy: 0.5343 - loss: 0.6908 - val_accuracy: 0.5266 - val_loss: 0.6920\n",
      "Epoch 25/100\n",
      "858/858 - 0s - 576us/step - accuracy: 0.5343 - loss: 0.6908 - val_accuracy: 0.5266 - val_loss: 0.6920\n",
      "Epoch 26/100\n",
      "858/858 - 0s - 577us/step - accuracy: 0.5343 - loss: 0.6909 - val_accuracy: 0.5266 - val_loss: 0.6922\n",
      "Epoch 27/100\n",
      "858/858 - 0s - 577us/step - accuracy: 0.5343 - loss: 0.6908 - val_accuracy: 0.5266 - val_loss: 0.6921\n",
      "Epoch 28/100\n",
      "858/858 - 0s - 579us/step - accuracy: 0.5343 - loss: 0.6909 - val_accuracy: 0.5266 - val_loss: 0.6919\n",
      "Epoch 29/100\n",
      "858/858 - 0s - 577us/step - accuracy: 0.5343 - loss: 0.6909 - val_accuracy: 0.5266 - val_loss: 0.6918\n",
      "Epoch 30/100\n",
      "858/858 - 0s - 577us/step - accuracy: 0.5343 - loss: 0.6908 - val_accuracy: 0.5266 - val_loss: 0.6920\n",
      "Epoch 31/100\n",
      "858/858 - 0s - 576us/step - accuracy: 0.5343 - loss: 0.6909 - val_accuracy: 0.5266 - val_loss: 0.6921\n",
      "Epoch 32/100\n",
      "858/858 - 0s - 580us/step - accuracy: 0.5343 - loss: 0.6908 - val_accuracy: 0.5266 - val_loss: 0.6920\n",
      "Epoch 33/100\n",
      "858/858 - 0s - 578us/step - accuracy: 0.5343 - loss: 0.6909 - val_accuracy: 0.5266 - val_loss: 0.6918\n",
      "Epoch 34/100\n",
      "858/858 - 0s - 579us/step - accuracy: 0.5343 - loss: 0.6909 - val_accuracy: 0.5266 - val_loss: 0.6918\n",
      "Epoch 35/100\n",
      "858/858 - 0s - 579us/step - accuracy: 0.5343 - loss: 0.6909 - val_accuracy: 0.5266 - val_loss: 0.6918\n",
      "Epoch 36/100\n",
      "858/858 - 0s - 578us/step - accuracy: 0.5343 - loss: 0.6909 - val_accuracy: 0.5266 - val_loss: 0.6921\n",
      "Epoch 37/100\n",
      "858/858 - 0s - 578us/step - accuracy: 0.5343 - loss: 0.6909 - val_accuracy: 0.5266 - val_loss: 0.6918\n",
      "Epoch 38/100\n",
      "858/858 - 0s - 578us/step - accuracy: 0.5343 - loss: 0.6909 - val_accuracy: 0.5266 - val_loss: 0.6918\n",
      "Epoch 39/100\n",
      "858/858 - 0s - 579us/step - accuracy: 0.5343 - loss: 0.6909 - val_accuracy: 0.5266 - val_loss: 0.6917\n",
      "Epoch 40/100\n",
      "858/858 - 0s - 578us/step - accuracy: 0.5343 - loss: 0.6910 - val_accuracy: 0.5266 - val_loss: 0.6918\n",
      "Epoch 41/100\n",
      "858/858 - 0s - 577us/step - accuracy: 0.5343 - loss: 0.6909 - val_accuracy: 0.5266 - val_loss: 0.6919\n",
      "Epoch 42/100\n",
      "858/858 - 0s - 578us/step - accuracy: 0.5343 - loss: 0.6909 - val_accuracy: 0.5266 - val_loss: 0.6918\n",
      "Epoch 43/100\n",
      "858/858 - 0s - 580us/step - accuracy: 0.5343 - loss: 0.6909 - val_accuracy: 0.5266 - val_loss: 0.6919\n",
      "Epoch 44/100\n",
      "858/858 - 0s - 577us/step - accuracy: 0.5343 - loss: 0.6908 - val_accuracy: 0.5266 - val_loss: 0.6924\n",
      "Epoch 45/100\n",
      "858/858 - 0s - 578us/step - accuracy: 0.5343 - loss: 0.6910 - val_accuracy: 0.5266 - val_loss: 0.6917\n",
      "Epoch 46/100\n",
      "858/858 - 0s - 577us/step - accuracy: 0.5343 - loss: 0.6909 - val_accuracy: 0.5266 - val_loss: 0.6917\n",
      "Epoch 47/100\n",
      "858/858 - 0s - 576us/step - accuracy: 0.5343 - loss: 0.6909 - val_accuracy: 0.5266 - val_loss: 0.6920\n",
      "Epoch 48/100\n",
      "858/858 - 0s - 577us/step - accuracy: 0.5343 - loss: 0.6908 - val_accuracy: 0.5266 - val_loss: 0.6918\n",
      "Epoch 49/100\n",
      "858/858 - 0s - 580us/step - accuracy: 0.5343 - loss: 0.6910 - val_accuracy: 0.5266 - val_loss: 0.6919\n",
      "Epoch 50/100\n",
      "858/858 - 0s - 581us/step - accuracy: 0.5343 - loss: 0.6909 - val_accuracy: 0.5266 - val_loss: 0.6918\n",
      "Epoch 51/100\n",
      "858/858 - 1s - 584us/step - accuracy: 0.5343 - loss: 0.6909 - val_accuracy: 0.5266 - val_loss: 0.6921\n",
      "Epoch 52/100\n",
      "858/858 - 1s - 605us/step - accuracy: 0.5343 - loss: 0.6909 - val_accuracy: 0.5266 - val_loss: 0.6917\n",
      "Epoch 53/100\n",
      "858/858 - 1s - 585us/step - accuracy: 0.5343 - loss: 0.6909 - val_accuracy: 0.5266 - val_loss: 0.6918\n",
      "Epoch 54/100\n",
      "858/858 - 1s - 634us/step - accuracy: 0.5343 - loss: 0.6909 - val_accuracy: 0.5266 - val_loss: 0.6919\n",
      "Epoch 55/100\n",
      "858/858 - 1s - 589us/step - accuracy: 0.5343 - loss: 0.6909 - val_accuracy: 0.5266 - val_loss: 0.6921\n",
      "Epoch 56/100\n",
      "858/858 - 1s - 585us/step - accuracy: 0.5343 - loss: 0.6909 - val_accuracy: 0.5266 - val_loss: 0.6919\n",
      "Epoch 57/100\n",
      "858/858 - 1s - 584us/step - accuracy: 0.5343 - loss: 0.6909 - val_accuracy: 0.5266 - val_loss: 0.6917\n",
      "Epoch 58/100\n",
      "858/858 - 1s - 621us/step - accuracy: 0.5343 - loss: 0.6909 - val_accuracy: 0.5266 - val_loss: 0.6919\n",
      "Epoch 59/100\n",
      "858/858 - 1s - 588us/step - accuracy: 0.5343 - loss: 0.6909 - val_accuracy: 0.5266 - val_loss: 0.6921\n",
      "Epoch 60/100\n",
      "858/858 - 1s - 584us/step - accuracy: 0.5343 - loss: 0.6910 - val_accuracy: 0.5266 - val_loss: 0.6923\n",
      "Epoch 61/100\n",
      "858/858 - 1s - 592us/step - accuracy: 0.5343 - loss: 0.6909 - val_accuracy: 0.5266 - val_loss: 0.6919\n",
      "Epoch 62/100\n",
      "858/858 - 1s - 583us/step - accuracy: 0.5343 - loss: 0.6909 - val_accuracy: 0.5266 - val_loss: 0.6922\n",
      "Epoch 63/100\n",
      "858/858 - 1s - 583us/step - accuracy: 0.5343 - loss: 0.6909 - val_accuracy: 0.5266 - val_loss: 0.6917\n",
      "Epoch 64/100\n",
      "858/858 - 1s - 583us/step - accuracy: 0.5343 - loss: 0.6909 - val_accuracy: 0.5266 - val_loss: 0.6926\n",
      "Epoch 65/100\n",
      "858/858 - 1s - 606us/step - accuracy: 0.5343 - loss: 0.6909 - val_accuracy: 0.5266 - val_loss: 0.6924\n",
      "Epoch 66/100\n",
      "858/858 - 1s - 615us/step - accuracy: 0.5343 - loss: 0.6909 - val_accuracy: 0.5266 - val_loss: 0.6919\n",
      "Epoch 67/100\n",
      "858/858 - 1s - 586us/step - accuracy: 0.5343 - loss: 0.6909 - val_accuracy: 0.5266 - val_loss: 0.6921\n",
      "Epoch 68/100\n",
      "858/858 - 1s - 585us/step - accuracy: 0.5343 - loss: 0.6909 - val_accuracy: 0.5266 - val_loss: 0.6917\n",
      "Epoch 69/100\n",
      "858/858 - 1s - 585us/step - accuracy: 0.5343 - loss: 0.6909 - val_accuracy: 0.5266 - val_loss: 0.6917\n",
      "Epoch 70/100\n",
      "858/858 - 0s - 583us/step - accuracy: 0.5343 - loss: 0.6910 - val_accuracy: 0.5266 - val_loss: 0.6919\n",
      "Epoch 71/100\n",
      "858/858 - 1s - 585us/step - accuracy: 0.5343 - loss: 0.6909 - val_accuracy: 0.5266 - val_loss: 0.6923\n",
      "Epoch 72/100\n",
      "858/858 - 1s - 584us/step - accuracy: 0.5343 - loss: 0.6909 - val_accuracy: 0.5266 - val_loss: 0.6918\n",
      "Epoch 73/100\n",
      "858/858 - 1s - 584us/step - accuracy: 0.5343 - loss: 0.6909 - val_accuracy: 0.5266 - val_loss: 0.6919\n",
      "Epoch 74/100\n",
      "858/858 - 1s - 595us/step - accuracy: 0.5343 - loss: 0.6909 - val_accuracy: 0.5266 - val_loss: 0.6925\n",
      "Epoch 75/100\n",
      "858/858 - 1s - 584us/step - accuracy: 0.5343 - loss: 0.6909 - val_accuracy: 0.5266 - val_loss: 0.6917\n",
      "Epoch 76/100\n",
      "858/858 - 1s - 634us/step - accuracy: 0.5343 - loss: 0.6908 - val_accuracy: 0.5266 - val_loss: 0.6918\n",
      "Epoch 77/100\n",
      "858/858 - 1s - 584us/step - accuracy: 0.5343 - loss: 0.6909 - val_accuracy: 0.5266 - val_loss: 0.6917\n",
      "Epoch 78/100\n",
      "858/858 - 0s - 580us/step - accuracy: 0.5343 - loss: 0.6909 - val_accuracy: 0.5266 - val_loss: 0.6918\n",
      "Epoch 79/100\n",
      "858/858 - 0s - 582us/step - accuracy: 0.5343 - loss: 0.6909 - val_accuracy: 0.5266 - val_loss: 0.6917\n",
      "Epoch 80/100\n",
      "858/858 - 1s - 590us/step - accuracy: 0.5343 - loss: 0.6909 - val_accuracy: 0.5266 - val_loss: 0.6919\n",
      "Epoch 81/100\n",
      "858/858 - 1s - 617us/step - accuracy: 0.5343 - loss: 0.6909 - val_accuracy: 0.5266 - val_loss: 0.6918\n",
      "Epoch 82/100\n",
      "858/858 - 1s - 585us/step - accuracy: 0.5343 - loss: 0.6910 - val_accuracy: 0.5266 - val_loss: 0.6917\n",
      "Epoch 83/100\n",
      "858/858 - 1s - 589us/step - accuracy: 0.5343 - loss: 0.6909 - val_accuracy: 0.5266 - val_loss: 0.6918\n",
      "Epoch 84/100\n",
      "858/858 - 1s - 584us/step - accuracy: 0.5343 - loss: 0.6909 - val_accuracy: 0.5266 - val_loss: 0.6918\n",
      "Epoch 85/100\n",
      "858/858 - 1s - 585us/step - accuracy: 0.5343 - loss: 0.6909 - val_accuracy: 0.5266 - val_loss: 0.6918\n",
      "Epoch 86/100\n",
      "858/858 - 1s - 585us/step - accuracy: 0.5343 - loss: 0.6909 - val_accuracy: 0.5266 - val_loss: 0.6919\n",
      "Epoch 87/100\n",
      "858/858 - 1s - 593us/step - accuracy: 0.5343 - loss: 0.6909 - val_accuracy: 0.5266 - val_loss: 0.6918\n",
      "Epoch 88/100\n",
      "858/858 - 1s - 587us/step - accuracy: 0.5343 - loss: 0.6908 - val_accuracy: 0.5266 - val_loss: 0.6917\n",
      "Epoch 89/100\n",
      "858/858 - 1s - 586us/step - accuracy: 0.5343 - loss: 0.6909 - val_accuracy: 0.5266 - val_loss: 0.6918\n",
      "Epoch 90/100\n",
      "858/858 - 1s - 592us/step - accuracy: 0.5343 - loss: 0.6909 - val_accuracy: 0.5266 - val_loss: 0.6918\n",
      "Epoch 91/100\n",
      "858/858 - 1s - 624us/step - accuracy: 0.5343 - loss: 0.6909 - val_accuracy: 0.5266 - val_loss: 0.6918\n",
      "Epoch 92/100\n",
      "858/858 - 1s - 595us/step - accuracy: 0.5343 - loss: 0.6909 - val_accuracy: 0.5266 - val_loss: 0.6920\n",
      "Epoch 93/100\n",
      "858/858 - 1s - 610us/step - accuracy: 0.5343 - loss: 0.6909 - val_accuracy: 0.5266 - val_loss: 0.6921\n",
      "Epoch 94/100\n",
      "858/858 - 1s - 594us/step - accuracy: 0.5343 - loss: 0.6909 - val_accuracy: 0.5266 - val_loss: 0.6919\n",
      "Epoch 95/100\n",
      "858/858 - 1s - 591us/step - accuracy: 0.5343 - loss: 0.6909 - val_accuracy: 0.5266 - val_loss: 0.6918\n",
      "Epoch 96/100\n",
      "858/858 - 1s - 595us/step - accuracy: 0.5343 - loss: 0.6909 - val_accuracy: 0.5266 - val_loss: 0.6917\n",
      "Epoch 97/100\n",
      "858/858 - 1s - 591us/step - accuracy: 0.5343 - loss: 0.6909 - val_accuracy: 0.5266 - val_loss: 0.6918\n",
      "Epoch 98/100\n",
      "858/858 - 1s - 590us/step - accuracy: 0.5343 - loss: 0.6909 - val_accuracy: 0.5266 - val_loss: 0.6919\n",
      "Epoch 99/100\n",
      "858/858 - 1s - 591us/step - accuracy: 0.5343 - loss: 0.6909 - val_accuracy: 0.5266 - val_loss: 0.6919\n",
      "Epoch 100/100\n",
      "858/858 - 1s - 591us/step - accuracy: 0.5343 - loss: 0.6909 - val_accuracy: 0.5266 - val_loss: 0.6919\n"
     ]
    }
   ],
   "source": [
    "# Train the model\n",
    "history = nn2.fit(X_train, y_train, \n",
    "                 epochs=100,\n",
    "                 batch_size=30,\n",
    "                 validation_data=(X_test, y_test),\n",
    "                 verbose=2)"
   ]
  },
  {
   "cell_type": "code",
   "execution_count": 21,
   "metadata": {},
   "outputs": [
    {
     "name": "stdout",
     "output_type": "stream",
     "text": [
      "268/268 - 0s - 573us/step - accuracy: 0.7029 - loss: 0.6144\n",
      "Loss: 0.6143857836723328, Accuracy: 0.7028571367263794\n"
     ]
    }
   ],
   "source": [
    "# Evaluate the model using the test data\n",
    "model_loss, model_accuracy = nn2.evaluate(X_test_scaled,y_test,verbose=2)\n",
    "print(f\"Loss: {model_loss}, Accuracy: {model_accuracy}\")"
   ]
  },
  {
   "cell_type": "code",
   "execution_count": 22,
   "metadata": {},
   "outputs": [
    {
     "name": "stderr",
     "output_type": "stream",
     "text": [
      "/opt/anaconda3/envs/dev/lib/python3.10/site-packages/keras/src/layers/core/dense.py:87: UserWarning: Do not pass an `input_shape`/`input_dim` argument to a layer. When using Sequential models, prefer using an `Input(shape)` object as the first layer in the model instead.\n",
      "  super().__init__(activity_regularizer=activity_regularizer, **kwargs)\n"
     ]
    },
    {
     "data": {
      "text/html": [
       "<pre style=\"white-space:pre;overflow-x:auto;line-height:normal;font-family:Menlo,'DejaVu Sans Mono',consolas,'Courier New',monospace\"><span style=\"font-weight: bold\">Model: \"sequential_2\"</span>\n",
       "</pre>\n"
      ],
      "text/plain": [
       "\u001b[1mModel: \"sequential_2\"\u001b[0m\n"
      ]
     },
     "metadata": {},
     "output_type": "display_data"
    },
    {
     "data": {
      "text/html": [
       "<pre style=\"white-space:pre;overflow-x:auto;line-height:normal;font-family:Menlo,'DejaVu Sans Mono',consolas,'Courier New',monospace\">┏━━━━━━━━━━━━━━━━━━━━━━━━━━━━━━━━━┳━━━━━━━━━━━━━━━━━━━━━━━━┳━━━━━━━━━━━━━━━┓\n",
       "┃<span style=\"font-weight: bold\"> Layer (type)                    </span>┃<span style=\"font-weight: bold\"> Output Shape           </span>┃<span style=\"font-weight: bold\">       Param # </span>┃\n",
       "┡━━━━━━━━━━━━━━━━━━━━━━━━━━━━━━━━━╇━━━━━━━━━━━━━━━━━━━━━━━━╇━━━━━━━━━━━━━━━┩\n",
       "│ dense_7 (<span style=\"color: #0087ff; text-decoration-color: #0087ff\">Dense</span>)                 │ (<span style=\"color: #00d7ff; text-decoration-color: #00d7ff\">None</span>, <span style=\"color: #00af00; text-decoration-color: #00af00\">90</span>)             │         <span style=\"color: #00af00; text-decoration-color: #00af00\">4,590</span> │\n",
       "├─────────────────────────────────┼────────────────────────┼───────────────┤\n",
       "│ dense_8 (<span style=\"color: #0087ff; text-decoration-color: #0087ff\">Dense</span>)                 │ (<span style=\"color: #00d7ff; text-decoration-color: #00d7ff\">None</span>, <span style=\"color: #00af00; text-decoration-color: #00af00\">20</span>)             │         <span style=\"color: #00af00; text-decoration-color: #00af00\">1,820</span> │\n",
       "├─────────────────────────────────┼────────────────────────┼───────────────┤\n",
       "│ dense_9 (<span style=\"color: #0087ff; text-decoration-color: #0087ff\">Dense</span>)                 │ (<span style=\"color: #00d7ff; text-decoration-color: #00d7ff\">None</span>, <span style=\"color: #00af00; text-decoration-color: #00af00\">5</span>)              │           <span style=\"color: #00af00; text-decoration-color: #00af00\">105</span> │\n",
       "├─────────────────────────────────┼────────────────────────┼───────────────┤\n",
       "│ dense_10 (<span style=\"color: #0087ff; text-decoration-color: #0087ff\">Dense</span>)                │ (<span style=\"color: #00d7ff; text-decoration-color: #00d7ff\">None</span>, <span style=\"color: #00af00; text-decoration-color: #00af00\">1</span>)              │             <span style=\"color: #00af00; text-decoration-color: #00af00\">6</span> │\n",
       "└─────────────────────────────────┴────────────────────────┴───────────────┘\n",
       "</pre>\n"
      ],
      "text/plain": [
       "┏━━━━━━━━━━━━━━━━━━━━━━━━━━━━━━━━━┳━━━━━━━━━━━━━━━━━━━━━━━━┳━━━━━━━━━━━━━━━┓\n",
       "┃\u001b[1m \u001b[0m\u001b[1mLayer (type)                   \u001b[0m\u001b[1m \u001b[0m┃\u001b[1m \u001b[0m\u001b[1mOutput Shape          \u001b[0m\u001b[1m \u001b[0m┃\u001b[1m \u001b[0m\u001b[1m      Param #\u001b[0m\u001b[1m \u001b[0m┃\n",
       "┡━━━━━━━━━━━━━━━━━━━━━━━━━━━━━━━━━╇━━━━━━━━━━━━━━━━━━━━━━━━╇━━━━━━━━━━━━━━━┩\n",
       "│ dense_7 (\u001b[38;5;33mDense\u001b[0m)                 │ (\u001b[38;5;45mNone\u001b[0m, \u001b[38;5;34m90\u001b[0m)             │         \u001b[38;5;34m4,590\u001b[0m │\n",
       "├─────────────────────────────────┼────────────────────────┼───────────────┤\n",
       "│ dense_8 (\u001b[38;5;33mDense\u001b[0m)                 │ (\u001b[38;5;45mNone\u001b[0m, \u001b[38;5;34m20\u001b[0m)             │         \u001b[38;5;34m1,820\u001b[0m │\n",
       "├─────────────────────────────────┼────────────────────────┼───────────────┤\n",
       "│ dense_9 (\u001b[38;5;33mDense\u001b[0m)                 │ (\u001b[38;5;45mNone\u001b[0m, \u001b[38;5;34m5\u001b[0m)              │           \u001b[38;5;34m105\u001b[0m │\n",
       "├─────────────────────────────────┼────────────────────────┼───────────────┤\n",
       "│ dense_10 (\u001b[38;5;33mDense\u001b[0m)                │ (\u001b[38;5;45mNone\u001b[0m, \u001b[38;5;34m1\u001b[0m)              │             \u001b[38;5;34m6\u001b[0m │\n",
       "└─────────────────────────────────┴────────────────────────┴───────────────┘\n"
      ]
     },
     "metadata": {},
     "output_type": "display_data"
    },
    {
     "data": {
      "text/html": [
       "<pre style=\"white-space:pre;overflow-x:auto;line-height:normal;font-family:Menlo,'DejaVu Sans Mono',consolas,'Courier New',monospace\"><span style=\"font-weight: bold\"> Total params: </span><span style=\"color: #00af00; text-decoration-color: #00af00\">6,521</span> (25.47 KB)\n",
       "</pre>\n"
      ],
      "text/plain": [
       "\u001b[1m Total params: \u001b[0m\u001b[38;5;34m6,521\u001b[0m (25.47 KB)\n"
      ]
     },
     "metadata": {},
     "output_type": "display_data"
    },
    {
     "data": {
      "text/html": [
       "<pre style=\"white-space:pre;overflow-x:auto;line-height:normal;font-family:Menlo,'DejaVu Sans Mono',consolas,'Courier New',monospace\"><span style=\"font-weight: bold\"> Trainable params: </span><span style=\"color: #00af00; text-decoration-color: #00af00\">6,521</span> (25.47 KB)\n",
       "</pre>\n"
      ],
      "text/plain": [
       "\u001b[1m Trainable params: \u001b[0m\u001b[38;5;34m6,521\u001b[0m (25.47 KB)\n"
      ]
     },
     "metadata": {},
     "output_type": "display_data"
    },
    {
     "data": {
      "text/html": [
       "<pre style=\"white-space:pre;overflow-x:auto;line-height:normal;font-family:Menlo,'DejaVu Sans Mono',consolas,'Courier New',monospace\"><span style=\"font-weight: bold\"> Non-trainable params: </span><span style=\"color: #00af00; text-decoration-color: #00af00\">0</span> (0.00 B)\n",
       "</pre>\n"
      ],
      "text/plain": [
       "\u001b[1m Non-trainable params: \u001b[0m\u001b[38;5;34m0\u001b[0m (0.00 B)\n"
      ]
     },
     "metadata": {},
     "output_type": "display_data"
    }
   ],
   "source": [
    "nn3 = tf.keras.models.Sequential()\n",
    "\n",
    "# First hidden layer\n",
    "\n",
    "nn3.add(Dense(90, input_dim=X_train.shape[1], activation='relu'))\n",
    "\n",
    "# Second hidden layer\n",
    "\n",
    "nn3.add(Dense(20, activation = 'relu'))\n",
    "\n",
    "# Third hidden layer \n",
    "\n",
    "nn3.add(Dense(5, activation = 'tanh'))\n",
    "\n",
    "# Output layer\n",
    "\n",
    "nn3.add(Dense(1, activation='sigmoid'))\n",
    "\n",
    "\n",
    "# Check the structure of the model\n",
    "nn3.summary()"
   ]
  },
  {
   "cell_type": "code",
   "execution_count": 23,
   "metadata": {},
   "outputs": [
    {
     "data": {
      "text/html": [
       "<pre style=\"white-space:pre;overflow-x:auto;line-height:normal;font-family:Menlo,'DejaVu Sans Mono',consolas,'Courier New',monospace\"><span style=\"font-weight: bold\">Model: \"sequential_2\"</span>\n",
       "</pre>\n"
      ],
      "text/plain": [
       "\u001b[1mModel: \"sequential_2\"\u001b[0m\n"
      ]
     },
     "metadata": {},
     "output_type": "display_data"
    },
    {
     "data": {
      "text/html": [
       "<pre style=\"white-space:pre;overflow-x:auto;line-height:normal;font-family:Menlo,'DejaVu Sans Mono',consolas,'Courier New',monospace\">┏━━━━━━━━━━━━━━━━━━━━━━━━━━━━━━━━━┳━━━━━━━━━━━━━━━━━━━━━━━━┳━━━━━━━━━━━━━━━┓\n",
       "┃<span style=\"font-weight: bold\"> Layer (type)                    </span>┃<span style=\"font-weight: bold\"> Output Shape           </span>┃<span style=\"font-weight: bold\">       Param # </span>┃\n",
       "┡━━━━━━━━━━━━━━━━━━━━━━━━━━━━━━━━━╇━━━━━━━━━━━━━━━━━━━━━━━━╇━━━━━━━━━━━━━━━┩\n",
       "│ dense_7 (<span style=\"color: #0087ff; text-decoration-color: #0087ff\">Dense</span>)                 │ (<span style=\"color: #00d7ff; text-decoration-color: #00d7ff\">None</span>, <span style=\"color: #00af00; text-decoration-color: #00af00\">90</span>)             │         <span style=\"color: #00af00; text-decoration-color: #00af00\">4,590</span> │\n",
       "├─────────────────────────────────┼────────────────────────┼───────────────┤\n",
       "│ dense_8 (<span style=\"color: #0087ff; text-decoration-color: #0087ff\">Dense</span>)                 │ (<span style=\"color: #00d7ff; text-decoration-color: #00d7ff\">None</span>, <span style=\"color: #00af00; text-decoration-color: #00af00\">20</span>)             │         <span style=\"color: #00af00; text-decoration-color: #00af00\">1,820</span> │\n",
       "├─────────────────────────────────┼────────────────────────┼───────────────┤\n",
       "│ dense_9 (<span style=\"color: #0087ff; text-decoration-color: #0087ff\">Dense</span>)                 │ (<span style=\"color: #00d7ff; text-decoration-color: #00d7ff\">None</span>, <span style=\"color: #00af00; text-decoration-color: #00af00\">5</span>)              │           <span style=\"color: #00af00; text-decoration-color: #00af00\">105</span> │\n",
       "├─────────────────────────────────┼────────────────────────┼───────────────┤\n",
       "│ dense_10 (<span style=\"color: #0087ff; text-decoration-color: #0087ff\">Dense</span>)                │ (<span style=\"color: #00d7ff; text-decoration-color: #00d7ff\">None</span>, <span style=\"color: #00af00; text-decoration-color: #00af00\">1</span>)              │             <span style=\"color: #00af00; text-decoration-color: #00af00\">6</span> │\n",
       "└─────────────────────────────────┴────────────────────────┴───────────────┘\n",
       "</pre>\n"
      ],
      "text/plain": [
       "┏━━━━━━━━━━━━━━━━━━━━━━━━━━━━━━━━━┳━━━━━━━━━━━━━━━━━━━━━━━━┳━━━━━━━━━━━━━━━┓\n",
       "┃\u001b[1m \u001b[0m\u001b[1mLayer (type)                   \u001b[0m\u001b[1m \u001b[0m┃\u001b[1m \u001b[0m\u001b[1mOutput Shape          \u001b[0m\u001b[1m \u001b[0m┃\u001b[1m \u001b[0m\u001b[1m      Param #\u001b[0m\u001b[1m \u001b[0m┃\n",
       "┡━━━━━━━━━━━━━━━━━━━━━━━━━━━━━━━━━╇━━━━━━━━━━━━━━━━━━━━━━━━╇━━━━━━━━━━━━━━━┩\n",
       "│ dense_7 (\u001b[38;5;33mDense\u001b[0m)                 │ (\u001b[38;5;45mNone\u001b[0m, \u001b[38;5;34m90\u001b[0m)             │         \u001b[38;5;34m4,590\u001b[0m │\n",
       "├─────────────────────────────────┼────────────────────────┼───────────────┤\n",
       "│ dense_8 (\u001b[38;5;33mDense\u001b[0m)                 │ (\u001b[38;5;45mNone\u001b[0m, \u001b[38;5;34m20\u001b[0m)             │         \u001b[38;5;34m1,820\u001b[0m │\n",
       "├─────────────────────────────────┼────────────────────────┼───────────────┤\n",
       "│ dense_9 (\u001b[38;5;33mDense\u001b[0m)                 │ (\u001b[38;5;45mNone\u001b[0m, \u001b[38;5;34m5\u001b[0m)              │           \u001b[38;5;34m105\u001b[0m │\n",
       "├─────────────────────────────────┼────────────────────────┼───────────────┤\n",
       "│ dense_10 (\u001b[38;5;33mDense\u001b[0m)                │ (\u001b[38;5;45mNone\u001b[0m, \u001b[38;5;34m1\u001b[0m)              │             \u001b[38;5;34m6\u001b[0m │\n",
       "└─────────────────────────────────┴────────────────────────┴───────────────┘\n"
      ]
     },
     "metadata": {},
     "output_type": "display_data"
    },
    {
     "data": {
      "text/html": [
       "<pre style=\"white-space:pre;overflow-x:auto;line-height:normal;font-family:Menlo,'DejaVu Sans Mono',consolas,'Courier New',monospace\"><span style=\"font-weight: bold\"> Total params: </span><span style=\"color: #00af00; text-decoration-color: #00af00\">6,521</span> (25.47 KB)\n",
       "</pre>\n"
      ],
      "text/plain": [
       "\u001b[1m Total params: \u001b[0m\u001b[38;5;34m6,521\u001b[0m (25.47 KB)\n"
      ]
     },
     "metadata": {},
     "output_type": "display_data"
    },
    {
     "data": {
      "text/html": [
       "<pre style=\"white-space:pre;overflow-x:auto;line-height:normal;font-family:Menlo,'DejaVu Sans Mono',consolas,'Courier New',monospace\"><span style=\"font-weight: bold\"> Trainable params: </span><span style=\"color: #00af00; text-decoration-color: #00af00\">6,521</span> (25.47 KB)\n",
       "</pre>\n"
      ],
      "text/plain": [
       "\u001b[1m Trainable params: \u001b[0m\u001b[38;5;34m6,521\u001b[0m (25.47 KB)\n"
      ]
     },
     "metadata": {},
     "output_type": "display_data"
    },
    {
     "data": {
      "text/html": [
       "<pre style=\"white-space:pre;overflow-x:auto;line-height:normal;font-family:Menlo,'DejaVu Sans Mono',consolas,'Courier New',monospace\"><span style=\"font-weight: bold\"> Non-trainable params: </span><span style=\"color: #00af00; text-decoration-color: #00af00\">0</span> (0.00 B)\n",
       "</pre>\n"
      ],
      "text/plain": [
       "\u001b[1m Non-trainable params: \u001b[0m\u001b[38;5;34m0\u001b[0m (0.00 B)\n"
      ]
     },
     "metadata": {},
     "output_type": "display_data"
    }
   ],
   "source": [
    "nn3.compile(loss='binary_crossentropy', optimizer = 'adam', metrics=['accuracy'])\n",
    "nn3.summary()"
   ]
  },
  {
   "cell_type": "code",
   "execution_count": 24,
   "metadata": {},
   "outputs": [
    {
     "name": "stdout",
     "output_type": "stream",
     "text": [
      "Epoch 1/50\n",
      "644/644 - 1s - 1ms/step - accuracy: 0.4895 - loss: 0.7389 - val_accuracy: 0.5266 - val_loss: 0.6918\n",
      "Epoch 2/50\n",
      "644/644 - 0s - 677us/step - accuracy: 0.5343 - loss: 0.6908 - val_accuracy: 0.5266 - val_loss: 0.6925\n",
      "Epoch 3/50\n",
      "644/644 - 0s - 622us/step - accuracy: 0.5343 - loss: 0.6909 - val_accuracy: 0.5266 - val_loss: 0.6917\n",
      "Epoch 4/50\n",
      "644/644 - 0s - 613us/step - accuracy: 0.5343 - loss: 0.6909 - val_accuracy: 0.5266 - val_loss: 0.6920\n",
      "Epoch 5/50\n",
      "644/644 - 0s - 614us/step - accuracy: 0.5343 - loss: 0.6910 - val_accuracy: 0.5266 - val_loss: 0.6921\n",
      "Epoch 6/50\n",
      "644/644 - 0s - 614us/step - accuracy: 0.5343 - loss: 0.6910 - val_accuracy: 0.5266 - val_loss: 0.6924\n",
      "Epoch 7/50\n",
      "644/644 - 0s - 614us/step - accuracy: 0.5343 - loss: 0.6909 - val_accuracy: 0.5266 - val_loss: 0.6918\n",
      "Epoch 8/50\n",
      "644/644 - 0s - 615us/step - accuracy: 0.5343 - loss: 0.6909 - val_accuracy: 0.5266 - val_loss: 0.6922\n",
      "Epoch 9/50\n",
      "644/644 - 0s - 615us/step - accuracy: 0.5343 - loss: 0.6909 - val_accuracy: 0.5266 - val_loss: 0.6918\n",
      "Epoch 10/50\n",
      "644/644 - 0s - 623us/step - accuracy: 0.5343 - loss: 0.6909 - val_accuracy: 0.5266 - val_loss: 0.6919\n",
      "Epoch 11/50\n",
      "644/644 - 0s - 612us/step - accuracy: 0.5343 - loss: 0.6909 - val_accuracy: 0.5266 - val_loss: 0.6918\n",
      "Epoch 12/50\n",
      "644/644 - 0s - 616us/step - accuracy: 0.5343 - loss: 0.6908 - val_accuracy: 0.5266 - val_loss: 0.6918\n",
      "Epoch 13/50\n",
      "644/644 - 0s - 616us/step - accuracy: 0.5343 - loss: 0.6910 - val_accuracy: 0.5266 - val_loss: 0.6918\n",
      "Epoch 14/50\n",
      "644/644 - 0s - 617us/step - accuracy: 0.5343 - loss: 0.6909 - val_accuracy: 0.5266 - val_loss: 0.6918\n",
      "Epoch 15/50\n",
      "644/644 - 0s - 614us/step - accuracy: 0.5343 - loss: 0.6909 - val_accuracy: 0.5266 - val_loss: 0.6921\n",
      "Epoch 16/50\n",
      "644/644 - 0s - 613us/step - accuracy: 0.5343 - loss: 0.6909 - val_accuracy: 0.5266 - val_loss: 0.6917\n",
      "Epoch 17/50\n",
      "644/644 - 0s - 616us/step - accuracy: 0.5343 - loss: 0.6909 - val_accuracy: 0.5266 - val_loss: 0.6919\n",
      "Epoch 18/50\n",
      "644/644 - 0s - 613us/step - accuracy: 0.5343 - loss: 0.6909 - val_accuracy: 0.5266 - val_loss: 0.6921\n",
      "Epoch 19/50\n",
      "644/644 - 0s - 618us/step - accuracy: 0.5343 - loss: 0.6910 - val_accuracy: 0.5266 - val_loss: 0.6918\n",
      "Epoch 20/50\n",
      "644/644 - 0s - 617us/step - accuracy: 0.5343 - loss: 0.6909 - val_accuracy: 0.5266 - val_loss: 0.6918\n",
      "Epoch 21/50\n",
      "644/644 - 0s - 614us/step - accuracy: 0.5343 - loss: 0.6909 - val_accuracy: 0.5266 - val_loss: 0.6919\n",
      "Epoch 22/50\n",
      "644/644 - 0s - 613us/step - accuracy: 0.5343 - loss: 0.6909 - val_accuracy: 0.5266 - val_loss: 0.6917\n",
      "Epoch 23/50\n",
      "644/644 - 0s - 656us/step - accuracy: 0.5343 - loss: 0.6909 - val_accuracy: 0.5266 - val_loss: 0.6922\n",
      "Epoch 24/50\n",
      "644/644 - 0s - 619us/step - accuracy: 0.5343 - loss: 0.6909 - val_accuracy: 0.5266 - val_loss: 0.6923\n",
      "Epoch 25/50\n",
      "644/644 - 0s - 622us/step - accuracy: 0.5343 - loss: 0.6910 - val_accuracy: 0.5266 - val_loss: 0.6917\n",
      "Epoch 26/50\n",
      "644/644 - 0s - 616us/step - accuracy: 0.5343 - loss: 0.6909 - val_accuracy: 0.5266 - val_loss: 0.6917\n",
      "Epoch 27/50\n",
      "644/644 - 0s - 615us/step - accuracy: 0.5343 - loss: 0.6909 - val_accuracy: 0.5266 - val_loss: 0.6917\n",
      "Epoch 28/50\n",
      "644/644 - 0s - 617us/step - accuracy: 0.5343 - loss: 0.6910 - val_accuracy: 0.5266 - val_loss: 0.6919\n",
      "Epoch 29/50\n",
      "644/644 - 0s - 615us/step - accuracy: 0.5343 - loss: 0.6909 - val_accuracy: 0.5266 - val_loss: 0.6918\n",
      "Epoch 30/50\n",
      "644/644 - 0s - 615us/step - accuracy: 0.5343 - loss: 0.6909 - val_accuracy: 0.5266 - val_loss: 0.6921\n",
      "Epoch 31/50\n",
      "644/644 - 0s - 614us/step - accuracy: 0.5343 - loss: 0.6907 - val_accuracy: 0.5266 - val_loss: 0.6926\n",
      "Epoch 32/50\n",
      "644/644 - 0s - 616us/step - accuracy: 0.5343 - loss: 0.6909 - val_accuracy: 0.5266 - val_loss: 0.6918\n",
      "Epoch 33/50\n",
      "644/644 - 0s - 616us/step - accuracy: 0.5343 - loss: 0.6909 - val_accuracy: 0.5266 - val_loss: 0.6919\n",
      "Epoch 34/50\n",
      "644/644 - 0s - 615us/step - accuracy: 0.5343 - loss: 0.6910 - val_accuracy: 0.5266 - val_loss: 0.6932\n",
      "Epoch 35/50\n",
      "644/644 - 0s - 622us/step - accuracy: 0.5343 - loss: 0.6909 - val_accuracy: 0.5266 - val_loss: 0.6922\n",
      "Epoch 36/50\n",
      "644/644 - 0s - 613us/step - accuracy: 0.5343 - loss: 0.6909 - val_accuracy: 0.5266 - val_loss: 0.6921\n",
      "Epoch 37/50\n",
      "644/644 - 0s - 614us/step - accuracy: 0.5343 - loss: 0.6909 - val_accuracy: 0.5266 - val_loss: 0.6919\n",
      "Epoch 38/50\n",
      "644/644 - 0s - 659us/step - accuracy: 0.5343 - loss: 0.6909 - val_accuracy: 0.5266 - val_loss: 0.6918\n",
      "Epoch 39/50\n",
      "644/644 - 0s - 616us/step - accuracy: 0.5343 - loss: 0.6908 - val_accuracy: 0.5266 - val_loss: 0.6919\n",
      "Epoch 40/50\n",
      "644/644 - 0s - 617us/step - accuracy: 0.5343 - loss: 0.6909 - val_accuracy: 0.5266 - val_loss: 0.6918\n",
      "Epoch 41/50\n",
      "644/644 - 0s - 625us/step - accuracy: 0.5343 - loss: 0.6910 - val_accuracy: 0.5266 - val_loss: 0.6920\n",
      "Epoch 42/50\n",
      "644/644 - 0s - 625us/step - accuracy: 0.5343 - loss: 0.6909 - val_accuracy: 0.5266 - val_loss: 0.6924\n",
      "Epoch 43/50\n",
      "644/644 - 0s - 615us/step - accuracy: 0.5343 - loss: 0.6910 - val_accuracy: 0.5266 - val_loss: 0.6921\n",
      "Epoch 44/50\n",
      "644/644 - 0s - 613us/step - accuracy: 0.5343 - loss: 0.6910 - val_accuracy: 0.5266 - val_loss: 0.6917\n",
      "Epoch 45/50\n",
      "644/644 - 0s - 612us/step - accuracy: 0.5343 - loss: 0.6910 - val_accuracy: 0.5266 - val_loss: 0.6918\n",
      "Epoch 46/50\n",
      "644/644 - 0s - 615us/step - accuracy: 0.5343 - loss: 0.6909 - val_accuracy: 0.5266 - val_loss: 0.6917\n",
      "Epoch 47/50\n",
      "644/644 - 0s - 627us/step - accuracy: 0.5343 - loss: 0.6909 - val_accuracy: 0.5266 - val_loss: 0.6917\n",
      "Epoch 48/50\n",
      "644/644 - 0s - 620us/step - accuracy: 0.5343 - loss: 0.6909 - val_accuracy: 0.5266 - val_loss: 0.6918\n",
      "Epoch 49/50\n",
      "644/644 - 0s - 625us/step - accuracy: 0.5343 - loss: 0.6909 - val_accuracy: 0.5266 - val_loss: 0.6919\n",
      "Epoch 50/50\n",
      "644/644 - 0s - 626us/step - accuracy: 0.5343 - loss: 0.6909 - val_accuracy: 0.5266 - val_loss: 0.6917\n"
     ]
    }
   ],
   "source": [
    "history = nn3.fit(X_train, y_train, \n",
    "                 epochs=50,\n",
    "                 batch_size=40,\n",
    "                 validation_data=(X_test, y_test),\n",
    "                 verbose=2)"
   ]
  },
  {
   "cell_type": "code",
   "execution_count": 25,
   "metadata": {},
   "outputs": [
    {
     "name": "stdout",
     "output_type": "stream",
     "text": [
      "268/268 - 0s - 574us/step - accuracy: 0.5120 - loss: 0.6927\n",
      "Loss: 0.6926886439323425, Accuracy: 0.5119533538818359\n"
     ]
    }
   ],
   "source": [
    "# Evaluate the model using the test data\n",
    "model_loss, model_accuracy = nn3.evaluate(X_test_scaled,y_test,verbose=2)\n",
    "print(f\"Loss: {model_loss}, Accuracy: {model_accuracy}\")"
   ]
  },
  {
   "cell_type": "code",
   "execution_count": 54,
   "metadata": {},
   "outputs": [
    {
     "name": "stderr",
     "output_type": "stream",
     "text": [
      "/opt/anaconda3/envs/dev/lib/python3.10/site-packages/keras/src/layers/core/dense.py:87: UserWarning: Do not pass an `input_shape`/`input_dim` argument to a layer. When using Sequential models, prefer using an `Input(shape)` object as the first layer in the model instead.\n",
      "  super().__init__(activity_regularizer=activity_regularizer, **kwargs)\n"
     ]
    }
   ],
   "source": [
    "nn4 = tf.keras.models.Sequential()\n",
    "\n",
    "\n",
    "nn4.add(Dense(90, input_dim=X_train_scaled.shape[1], activation='relu'))\n",
    "\n",
    "nn4.add(Dense(30, activation='relu'))\n",
    "\n",
    "nn4.add(Dense(15, activation='relu'))\n",
    "\n",
    "nn4.add(Dense(1, activation='sigmoid'))\n",
    "\n",
    "\n",
    "nn4.compile(loss='binary_crossentropy', optimizer='adam', metrics=['accuracy'])"
   ]
  },
  {
   "cell_type": "code",
   "execution_count": 55,
   "metadata": {},
   "outputs": [
    {
     "data": {
      "text/html": [
       "<pre style=\"white-space:pre;overflow-x:auto;line-height:normal;font-family:Menlo,'DejaVu Sans Mono',consolas,'Courier New',monospace\"><span style=\"font-weight: bold\">Model: \"sequential_7\"</span>\n",
       "</pre>\n"
      ],
      "text/plain": [
       "\u001b[1mModel: \"sequential_7\"\u001b[0m\n"
      ]
     },
     "metadata": {},
     "output_type": "display_data"
    },
    {
     "data": {
      "text/html": [
       "<pre style=\"white-space:pre;overflow-x:auto;line-height:normal;font-family:Menlo,'DejaVu Sans Mono',consolas,'Courier New',monospace\">┏━━━━━━━━━━━━━━━━━━━━━━━━━━━━━━━━━┳━━━━━━━━━━━━━━━━━━━━━━━━┳━━━━━━━━━━━━━━━┓\n",
       "┃<span style=\"font-weight: bold\"> Layer (type)                    </span>┃<span style=\"font-weight: bold\"> Output Shape           </span>┃<span style=\"font-weight: bold\">       Param # </span>┃\n",
       "┡━━━━━━━━━━━━━━━━━━━━━━━━━━━━━━━━━╇━━━━━━━━━━━━━━━━━━━━━━━━╇━━━━━━━━━━━━━━━┩\n",
       "│ dense_26 (<span style=\"color: #0087ff; text-decoration-color: #0087ff\">Dense</span>)                │ (<span style=\"color: #00d7ff; text-decoration-color: #00d7ff\">None</span>, <span style=\"color: #00af00; text-decoration-color: #00af00\">60</span>)             │       <span style=\"color: #00af00; text-decoration-color: #00af00\">526,680</span> │\n",
       "├─────────────────────────────────┼────────────────────────┼───────────────┤\n",
       "│ dense_27 (<span style=\"color: #0087ff; text-decoration-color: #0087ff\">Dense</span>)                │ (<span style=\"color: #00d7ff; text-decoration-color: #00d7ff\">None</span>, <span style=\"color: #00af00; text-decoration-color: #00af00\">30</span>)             │         <span style=\"color: #00af00; text-decoration-color: #00af00\">1,830</span> │\n",
       "├─────────────────────────────────┼────────────────────────┼───────────────┤\n",
       "│ dense_28 (<span style=\"color: #0087ff; text-decoration-color: #0087ff\">Dense</span>)                │ (<span style=\"color: #00d7ff; text-decoration-color: #00d7ff\">None</span>, <span style=\"color: #00af00; text-decoration-color: #00af00\">15</span>)             │           <span style=\"color: #00af00; text-decoration-color: #00af00\">465</span> │\n",
       "├─────────────────────────────────┼────────────────────────┼───────────────┤\n",
       "│ dense_29 (<span style=\"color: #0087ff; text-decoration-color: #0087ff\">Dense</span>)                │ (<span style=\"color: #00d7ff; text-decoration-color: #00d7ff\">None</span>, <span style=\"color: #00af00; text-decoration-color: #00af00\">1</span>)              │            <span style=\"color: #00af00; text-decoration-color: #00af00\">16</span> │\n",
       "└─────────────────────────────────┴────────────────────────┴───────────────┘\n",
       "</pre>\n"
      ],
      "text/plain": [
       "┏━━━━━━━━━━━━━━━━━━━━━━━━━━━━━━━━━┳━━━━━━━━━━━━━━━━━━━━━━━━┳━━━━━━━━━━━━━━━┓\n",
       "┃\u001b[1m \u001b[0m\u001b[1mLayer (type)                   \u001b[0m\u001b[1m \u001b[0m┃\u001b[1m \u001b[0m\u001b[1mOutput Shape          \u001b[0m\u001b[1m \u001b[0m┃\u001b[1m \u001b[0m\u001b[1m      Param #\u001b[0m\u001b[1m \u001b[0m┃\n",
       "┡━━━━━━━━━━━━━━━━━━━━━━━━━━━━━━━━━╇━━━━━━━━━━━━━━━━━━━━━━━━╇━━━━━━━━━━━━━━━┩\n",
       "│ dense_26 (\u001b[38;5;33mDense\u001b[0m)                │ (\u001b[38;5;45mNone\u001b[0m, \u001b[38;5;34m60\u001b[0m)             │       \u001b[38;5;34m526,680\u001b[0m │\n",
       "├─────────────────────────────────┼────────────────────────┼───────────────┤\n",
       "│ dense_27 (\u001b[38;5;33mDense\u001b[0m)                │ (\u001b[38;5;45mNone\u001b[0m, \u001b[38;5;34m30\u001b[0m)             │         \u001b[38;5;34m1,830\u001b[0m │\n",
       "├─────────────────────────────────┼────────────────────────┼───────────────┤\n",
       "│ dense_28 (\u001b[38;5;33mDense\u001b[0m)                │ (\u001b[38;5;45mNone\u001b[0m, \u001b[38;5;34m15\u001b[0m)             │           \u001b[38;5;34m465\u001b[0m │\n",
       "├─────────────────────────────────┼────────────────────────┼───────────────┤\n",
       "│ dense_29 (\u001b[38;5;33mDense\u001b[0m)                │ (\u001b[38;5;45mNone\u001b[0m, \u001b[38;5;34m1\u001b[0m)              │            \u001b[38;5;34m16\u001b[0m │\n",
       "└─────────────────────────────────┴────────────────────────┴───────────────┘\n"
      ]
     },
     "metadata": {},
     "output_type": "display_data"
    },
    {
     "data": {
      "text/html": [
       "<pre style=\"white-space:pre;overflow-x:auto;line-height:normal;font-family:Menlo,'DejaVu Sans Mono',consolas,'Courier New',monospace\"><span style=\"font-weight: bold\"> Total params: </span><span style=\"color: #00af00; text-decoration-color: #00af00\">528,991</span> (2.02 MB)\n",
       "</pre>\n"
      ],
      "text/plain": [
       "\u001b[1m Total params: \u001b[0m\u001b[38;5;34m528,991\u001b[0m (2.02 MB)\n"
      ]
     },
     "metadata": {},
     "output_type": "display_data"
    },
    {
     "data": {
      "text/html": [
       "<pre style=\"white-space:pre;overflow-x:auto;line-height:normal;font-family:Menlo,'DejaVu Sans Mono',consolas,'Courier New',monospace\"><span style=\"font-weight: bold\"> Trainable params: </span><span style=\"color: #00af00; text-decoration-color: #00af00\">528,991</span> (2.02 MB)\n",
       "</pre>\n"
      ],
      "text/plain": [
       "\u001b[1m Trainable params: \u001b[0m\u001b[38;5;34m528,991\u001b[0m (2.02 MB)\n"
      ]
     },
     "metadata": {},
     "output_type": "display_data"
    },
    {
     "data": {
      "text/html": [
       "<pre style=\"white-space:pre;overflow-x:auto;line-height:normal;font-family:Menlo,'DejaVu Sans Mono',consolas,'Courier New',monospace\"><span style=\"font-weight: bold\"> Non-trainable params: </span><span style=\"color: #00af00; text-decoration-color: #00af00\">0</span> (0.00 B)\n",
       "</pre>\n"
      ],
      "text/plain": [
       "\u001b[1m Non-trainable params: \u001b[0m\u001b[38;5;34m0\u001b[0m (0.00 B)\n"
      ]
     },
     "metadata": {},
     "output_type": "display_data"
    }
   ],
   "source": [
    "nn4.compile(loss='binary_crossentropy', optimizer = 'adam', metrics=['accuracy'])\n",
    "nn4.summary()"
   ]
  },
  {
   "cell_type": "code",
   "execution_count": 56,
   "metadata": {},
   "outputs": [
    {
     "name": "stdout",
     "output_type": "stream",
     "text": [
      "Epoch 1/25\n",
      "858/858 - 4s - 4ms/step - accuracy: 0.7152 - loss: 0.5889 - val_accuracy: 0.7279 - val_loss: 0.5720\n",
      "Epoch 2/25\n",
      "858/858 - 3s - 3ms/step - accuracy: 0.7659 - loss: 0.5212 - val_accuracy: 0.6919 - val_loss: 0.6127\n",
      "Epoch 3/25\n",
      "858/858 - 2s - 3ms/step - accuracy: 0.8061 - loss: 0.4300 - val_accuracy: 0.7027 - val_loss: 0.6125\n",
      "Epoch 4/25\n",
      "858/858 - 2s - 3ms/step - accuracy: 0.8077 - loss: 0.4189 - val_accuracy: 0.7271 - val_loss: 0.5936\n",
      "Epoch 5/25\n",
      "858/858 - 2s - 3ms/step - accuracy: 0.8084 - loss: 0.4170 - val_accuracy: 0.6955 - val_loss: 0.6681\n",
      "Epoch 6/25\n",
      "858/858 - 2s - 3ms/step - accuracy: 0.8081 - loss: 0.4169 - val_accuracy: 0.7009 - val_loss: 0.6195\n",
      "Epoch 7/25\n",
      "858/858 - 3s - 3ms/step - accuracy: 0.8089 - loss: 0.4150 - val_accuracy: 0.7194 - val_loss: 0.6339\n",
      "Epoch 8/25\n",
      "858/858 - 2s - 3ms/step - accuracy: 0.8084 - loss: 0.4153 - val_accuracy: 0.7050 - val_loss: 0.7347\n",
      "Epoch 9/25\n",
      "858/858 - 2s - 3ms/step - accuracy: 0.8090 - loss: 0.4144 - val_accuracy: 0.7194 - val_loss: 0.6757\n",
      "Epoch 10/25\n",
      "858/858 - 3s - 3ms/step - accuracy: 0.8087 - loss: 0.4143 - val_accuracy: 0.7136 - val_loss: 0.6077\n",
      "Epoch 11/25\n",
      "858/858 - 2s - 3ms/step - accuracy: 0.8091 - loss: 0.4126 - val_accuracy: 0.7230 - val_loss: 0.6694\n",
      "Epoch 12/25\n",
      "858/858 - 3s - 3ms/step - accuracy: 0.8085 - loss: 0.4130 - val_accuracy: 0.7238 - val_loss: 0.7558\n",
      "Epoch 13/25\n",
      "858/858 - 2s - 3ms/step - accuracy: 0.8087 - loss: 0.4126 - val_accuracy: 0.6991 - val_loss: 0.6601\n",
      "Epoch 14/25\n",
      "858/858 - 3s - 3ms/step - accuracy: 0.8096 - loss: 0.4119 - val_accuracy: 0.6948 - val_loss: 0.6583\n",
      "Epoch 15/25\n",
      "858/858 - 3s - 3ms/step - accuracy: 0.8098 - loss: 0.4113 - val_accuracy: 0.7262 - val_loss: 0.6608\n",
      "Epoch 16/25\n",
      "858/858 - 3s - 3ms/step - accuracy: 0.8097 - loss: 0.4113 - val_accuracy: 0.7018 - val_loss: 0.6500\n",
      "Epoch 17/25\n",
      "858/858 - 3s - 3ms/step - accuracy: 0.8103 - loss: 0.4111 - val_accuracy: 0.7137 - val_loss: 0.6753\n",
      "Epoch 18/25\n",
      "858/858 - 3s - 3ms/step - accuracy: 0.8100 - loss: 0.4106 - val_accuracy: 0.7089 - val_loss: 0.7039\n",
      "Epoch 19/25\n",
      "858/858 - 3s - 3ms/step - accuracy: 0.8096 - loss: 0.4102 - val_accuracy: 0.7258 - val_loss: 0.6888\n",
      "Epoch 20/25\n",
      "858/858 - 3s - 3ms/step - accuracy: 0.8098 - loss: 0.4109 - val_accuracy: 0.7191 - val_loss: 0.6843\n",
      "Epoch 21/25\n",
      "858/858 - 3s - 3ms/step - accuracy: 0.8099 - loss: 0.4108 - val_accuracy: 0.7256 - val_loss: 0.6891\n",
      "Epoch 22/25\n",
      "858/858 - 3s - 3ms/step - accuracy: 0.8100 - loss: 0.4105 - val_accuracy: 0.7235 - val_loss: 0.7228\n",
      "Epoch 23/25\n",
      "858/858 - 3s - 3ms/step - accuracy: 0.8095 - loss: 0.4105 - val_accuracy: 0.7240 - val_loss: 0.7718\n",
      "Epoch 24/25\n",
      "858/858 - 3s - 3ms/step - accuracy: 0.8098 - loss: 0.4101 - val_accuracy: 0.7234 - val_loss: 0.7050\n",
      "Epoch 25/25\n",
      "858/858 - 3s - 3ms/step - accuracy: 0.8094 - loss: 0.4104 - val_accuracy: 0.6955 - val_loss: 0.7613\n"
     ]
    }
   ],
   "source": [
    "# Train the model\n",
    "history = nn4.fit(X_train, y_train, \n",
    "                 epochs=25,\n",
    "                 batch_size=30,\n",
    "                 validation_data=(X_test, y_test),\n",
    "                 verbose=2)"
   ]
  },
  {
   "cell_type": "code",
   "execution_count": 57,
   "metadata": {},
   "outputs": [
    {
     "name": "stdout",
     "output_type": "stream",
     "text": [
      "268/268 - 0s - 873us/step - accuracy: 0.6668 - loss: 5.1910\n",
      "Loss: 5.190986633300781, Accuracy: 0.6668221354484558\n"
     ]
    }
   ],
   "source": [
    "# Evaluate the model using the test data\n",
    "model_loss, model_accuracy = nn4.evaluate(X_test_scaled,y_test,verbose=2)\n",
    "print(f\"Loss: {model_loss}, Accuracy: {model_accuracy}\")"
   ]
  },
  {
   "cell_type": "code",
   "execution_count": 30,
   "metadata": {},
   "outputs": [],
   "source": [
    "############ Trying to improve the model by droping columns to do that: ##########"
   ]
  },
  {
   "cell_type": "code",
   "execution_count": 31,
   "metadata": {},
   "outputs": [
    {
     "data": {
      "text/html": [
       "<div>\n",
       "<style scoped>\n",
       "    .dataframe tbody tr th:only-of-type {\n",
       "        vertical-align: middle;\n",
       "    }\n",
       "\n",
       "    .dataframe tbody tr th {\n",
       "        vertical-align: top;\n",
       "    }\n",
       "\n",
       "    .dataframe thead th {\n",
       "        text-align: right;\n",
       "    }\n",
       "</style>\n",
       "<table border=\"1\" class=\"dataframe\">\n",
       "  <thead>\n",
       "    <tr style=\"text-align: right;\">\n",
       "      <th></th>\n",
       "      <th>APPLICATION_TYPE</th>\n",
       "      <th>AFFILIATION</th>\n",
       "      <th>CLASSIFICATION</th>\n",
       "      <th>USE_CASE</th>\n",
       "      <th>ORGANIZATION</th>\n",
       "      <th>STATUS</th>\n",
       "      <th>INCOME_AMT</th>\n",
       "      <th>SPECIAL_CONSIDERATIONS</th>\n",
       "      <th>ASK_AMT</th>\n",
       "      <th>IS_SUCCESSFUL</th>\n",
       "    </tr>\n",
       "  </thead>\n",
       "  <tbody>\n",
       "    <tr>\n",
       "      <th>0</th>\n",
       "      <td>T10</td>\n",
       "      <td>Independent</td>\n",
       "      <td>C1000</td>\n",
       "      <td>ProductDev</td>\n",
       "      <td>Association</td>\n",
       "      <td>1</td>\n",
       "      <td>0</td>\n",
       "      <td>N</td>\n",
       "      <td>5000</td>\n",
       "      <td>1</td>\n",
       "    </tr>\n",
       "    <tr>\n",
       "      <th>1</th>\n",
       "      <td>T3</td>\n",
       "      <td>Independent</td>\n",
       "      <td>C2000</td>\n",
       "      <td>Preservation</td>\n",
       "      <td>Co-operative</td>\n",
       "      <td>1</td>\n",
       "      <td>1-9999</td>\n",
       "      <td>N</td>\n",
       "      <td>108590</td>\n",
       "      <td>1</td>\n",
       "    </tr>\n",
       "    <tr>\n",
       "      <th>2</th>\n",
       "      <td>T5</td>\n",
       "      <td>CompanySponsored</td>\n",
       "      <td>C3000</td>\n",
       "      <td>ProductDev</td>\n",
       "      <td>Association</td>\n",
       "      <td>1</td>\n",
       "      <td>0</td>\n",
       "      <td>N</td>\n",
       "      <td>5000</td>\n",
       "      <td>0</td>\n",
       "    </tr>\n",
       "    <tr>\n",
       "      <th>3</th>\n",
       "      <td>T3</td>\n",
       "      <td>CompanySponsored</td>\n",
       "      <td>C2000</td>\n",
       "      <td>Preservation</td>\n",
       "      <td>Trust</td>\n",
       "      <td>1</td>\n",
       "      <td>10000-24999</td>\n",
       "      <td>N</td>\n",
       "      <td>6692</td>\n",
       "      <td>1</td>\n",
       "    </tr>\n",
       "    <tr>\n",
       "      <th>4</th>\n",
       "      <td>T3</td>\n",
       "      <td>Independent</td>\n",
       "      <td>C1000</td>\n",
       "      <td>Heathcare</td>\n",
       "      <td>Trust</td>\n",
       "      <td>1</td>\n",
       "      <td>100000-499999</td>\n",
       "      <td>N</td>\n",
       "      <td>142590</td>\n",
       "      <td>1</td>\n",
       "    </tr>\n",
       "  </tbody>\n",
       "</table>\n",
       "</div>"
      ],
      "text/plain": [
       "  APPLICATION_TYPE       AFFILIATION CLASSIFICATION      USE_CASE  \\\n",
       "0              T10       Independent          C1000    ProductDev   \n",
       "1               T3       Independent          C2000  Preservation   \n",
       "2               T5  CompanySponsored          C3000    ProductDev   \n",
       "3               T3  CompanySponsored          C2000  Preservation   \n",
       "4               T3       Independent          C1000     Heathcare   \n",
       "\n",
       "   ORGANIZATION  STATUS     INCOME_AMT SPECIAL_CONSIDERATIONS  ASK_AMT  \\\n",
       "0   Association       1              0                      N     5000   \n",
       "1  Co-operative       1         1-9999                      N   108590   \n",
       "2   Association       1              0                      N     5000   \n",
       "3         Trust       1    10000-24999                      N     6692   \n",
       "4         Trust       1  100000-499999                      N   142590   \n",
       "\n",
       "   IS_SUCCESSFUL  \n",
       "0              1  \n",
       "1              1  \n",
       "2              0  \n",
       "3              1  \n",
       "4              1  "
      ]
     },
     "execution_count": 31,
     "metadata": {},
     "output_type": "execute_result"
    }
   ],
   "source": [
    "app_to_improve.head()"
   ]
  },
  {
   "cell_type": "code",
   "execution_count": 32,
   "metadata": {},
   "outputs": [
    {
     "data": {
      "text/plain": [
       "APPLICATION_TYPE          object\n",
       "AFFILIATION               object\n",
       "CLASSIFICATION            object\n",
       "USE_CASE                  object\n",
       "ORGANIZATION              object\n",
       "STATUS                     int64\n",
       "INCOME_AMT                object\n",
       "SPECIAL_CONSIDERATIONS    object\n",
       "ASK_AMT                    int64\n",
       "IS_SUCCESSFUL              int64\n",
       "dtype: object"
      ]
     },
     "execution_count": 32,
     "metadata": {},
     "output_type": "execute_result"
    }
   ],
   "source": [
    "app_to_improve.dtypes"
   ]
  },
  {
   "cell_type": "code",
   "execution_count": 33,
   "metadata": {},
   "outputs": [
    {
     "data": {
      "text/html": [
       "<div>\n",
       "<style scoped>\n",
       "    .dataframe tbody tr th:only-of-type {\n",
       "        vertical-align: middle;\n",
       "    }\n",
       "\n",
       "    .dataframe tbody tr th {\n",
       "        vertical-align: top;\n",
       "    }\n",
       "\n",
       "    .dataframe thead th {\n",
       "        text-align: right;\n",
       "    }\n",
       "</style>\n",
       "<table border=\"1\" class=\"dataframe\">\n",
       "  <thead>\n",
       "    <tr style=\"text-align: right;\">\n",
       "      <th></th>\n",
       "      <th>APPLICATION_TYPE</th>\n",
       "      <th>AFFILIATION</th>\n",
       "      <th>CLASSIFICATION</th>\n",
       "      <th>USE_CASE</th>\n",
       "      <th>ORGANIZATION</th>\n",
       "      <th>SPECIAL_CONSIDERATIONS</th>\n",
       "      <th>IS_SUCCESSFUL</th>\n",
       "    </tr>\n",
       "  </thead>\n",
       "  <tbody>\n",
       "    <tr>\n",
       "      <th>0</th>\n",
       "      <td>T10</td>\n",
       "      <td>Independent</td>\n",
       "      <td>C1000</td>\n",
       "      <td>ProductDev</td>\n",
       "      <td>Association</td>\n",
       "      <td>N</td>\n",
       "      <td>1</td>\n",
       "    </tr>\n",
       "    <tr>\n",
       "      <th>1</th>\n",
       "      <td>T3</td>\n",
       "      <td>Independent</td>\n",
       "      <td>C2000</td>\n",
       "      <td>Preservation</td>\n",
       "      <td>Co-operative</td>\n",
       "      <td>N</td>\n",
       "      <td>1</td>\n",
       "    </tr>\n",
       "    <tr>\n",
       "      <th>2</th>\n",
       "      <td>T5</td>\n",
       "      <td>CompanySponsored</td>\n",
       "      <td>C3000</td>\n",
       "      <td>ProductDev</td>\n",
       "      <td>Association</td>\n",
       "      <td>N</td>\n",
       "      <td>0</td>\n",
       "    </tr>\n",
       "    <tr>\n",
       "      <th>3</th>\n",
       "      <td>T3</td>\n",
       "      <td>CompanySponsored</td>\n",
       "      <td>C2000</td>\n",
       "      <td>Preservation</td>\n",
       "      <td>Trust</td>\n",
       "      <td>N</td>\n",
       "      <td>1</td>\n",
       "    </tr>\n",
       "    <tr>\n",
       "      <th>4</th>\n",
       "      <td>T3</td>\n",
       "      <td>Independent</td>\n",
       "      <td>C1000</td>\n",
       "      <td>Heathcare</td>\n",
       "      <td>Trust</td>\n",
       "      <td>N</td>\n",
       "      <td>1</td>\n",
       "    </tr>\n",
       "  </tbody>\n",
       "</table>\n",
       "</div>"
      ],
      "text/plain": [
       "  APPLICATION_TYPE       AFFILIATION CLASSIFICATION      USE_CASE  \\\n",
       "0              T10       Independent          C1000    ProductDev   \n",
       "1               T3       Independent          C2000  Preservation   \n",
       "2               T5  CompanySponsored          C3000    ProductDev   \n",
       "3               T3  CompanySponsored          C2000  Preservation   \n",
       "4               T3       Independent          C1000     Heathcare   \n",
       "\n",
       "   ORGANIZATION SPECIAL_CONSIDERATIONS  IS_SUCCESSFUL  \n",
       "0   Association                      N              1  \n",
       "1  Co-operative                      N              1  \n",
       "2   Association                      N              0  \n",
       "3         Trust                      N              1  \n",
       "4         Trust                      N              1  "
      ]
     },
     "execution_count": 33,
     "metadata": {},
     "output_type": "execute_result"
    }
   ],
   "source": [
    "columns_to_drop = ['STATUS', 'INCOME_AMT', 'ASK_AMT']\n",
    "\n",
    "app_to_improve = app_to_improve.drop(columns = columns_to_drop)\n",
    "app_to_improve.head()"
   ]
  },
  {
   "cell_type": "code",
   "execution_count": 34,
   "metadata": {},
   "outputs": [
    {
     "data": {
      "text/html": [
       "<div>\n",
       "<style scoped>\n",
       "    .dataframe tbody tr th:only-of-type {\n",
       "        vertical-align: middle;\n",
       "    }\n",
       "\n",
       "    .dataframe tbody tr th {\n",
       "        vertical-align: top;\n",
       "    }\n",
       "\n",
       "    .dataframe thead th {\n",
       "        text-align: right;\n",
       "    }\n",
       "</style>\n",
       "<table border=\"1\" class=\"dataframe\">\n",
       "  <thead>\n",
       "    <tr style=\"text-align: right;\">\n",
       "      <th></th>\n",
       "      <th>IS_SUCCESSFUL</th>\n",
       "      <th>APPLICATION_TYPE_Other</th>\n",
       "      <th>APPLICATION_TYPE_T10</th>\n",
       "      <th>APPLICATION_TYPE_T19</th>\n",
       "      <th>APPLICATION_TYPE_T3</th>\n",
       "      <th>APPLICATION_TYPE_T4</th>\n",
       "      <th>APPLICATION_TYPE_T5</th>\n",
       "      <th>APPLICATION_TYPE_T6</th>\n",
       "      <th>APPLICATION_TYPE_T7</th>\n",
       "      <th>APPLICATION_TYPE_T8</th>\n",
       "      <th>...</th>\n",
       "      <th>USE_CASE_Heathcare</th>\n",
       "      <th>USE_CASE_Other</th>\n",
       "      <th>USE_CASE_Preservation</th>\n",
       "      <th>USE_CASE_ProductDev</th>\n",
       "      <th>ORGANIZATION_Association</th>\n",
       "      <th>ORGANIZATION_Co-operative</th>\n",
       "      <th>ORGANIZATION_Corporation</th>\n",
       "      <th>ORGANIZATION_Trust</th>\n",
       "      <th>SPECIAL_CONSIDERATIONS_N</th>\n",
       "      <th>SPECIAL_CONSIDERATIONS_Y</th>\n",
       "    </tr>\n",
       "  </thead>\n",
       "  <tbody>\n",
       "    <tr>\n",
       "      <th>0</th>\n",
       "      <td>1</td>\n",
       "      <td>0</td>\n",
       "      <td>1</td>\n",
       "      <td>0</td>\n",
       "      <td>0</td>\n",
       "      <td>0</td>\n",
       "      <td>0</td>\n",
       "      <td>0</td>\n",
       "      <td>0</td>\n",
       "      <td>0</td>\n",
       "      <td>...</td>\n",
       "      <td>0</td>\n",
       "      <td>0</td>\n",
       "      <td>0</td>\n",
       "      <td>1</td>\n",
       "      <td>1</td>\n",
       "      <td>0</td>\n",
       "      <td>0</td>\n",
       "      <td>0</td>\n",
       "      <td>1</td>\n",
       "      <td>0</td>\n",
       "    </tr>\n",
       "    <tr>\n",
       "      <th>1</th>\n",
       "      <td>1</td>\n",
       "      <td>0</td>\n",
       "      <td>0</td>\n",
       "      <td>0</td>\n",
       "      <td>1</td>\n",
       "      <td>0</td>\n",
       "      <td>0</td>\n",
       "      <td>0</td>\n",
       "      <td>0</td>\n",
       "      <td>0</td>\n",
       "      <td>...</td>\n",
       "      <td>0</td>\n",
       "      <td>0</td>\n",
       "      <td>1</td>\n",
       "      <td>0</td>\n",
       "      <td>0</td>\n",
       "      <td>1</td>\n",
       "      <td>0</td>\n",
       "      <td>0</td>\n",
       "      <td>1</td>\n",
       "      <td>0</td>\n",
       "    </tr>\n",
       "    <tr>\n",
       "      <th>2</th>\n",
       "      <td>0</td>\n",
       "      <td>0</td>\n",
       "      <td>0</td>\n",
       "      <td>0</td>\n",
       "      <td>0</td>\n",
       "      <td>0</td>\n",
       "      <td>1</td>\n",
       "      <td>0</td>\n",
       "      <td>0</td>\n",
       "      <td>0</td>\n",
       "      <td>...</td>\n",
       "      <td>0</td>\n",
       "      <td>0</td>\n",
       "      <td>0</td>\n",
       "      <td>1</td>\n",
       "      <td>1</td>\n",
       "      <td>0</td>\n",
       "      <td>0</td>\n",
       "      <td>0</td>\n",
       "      <td>1</td>\n",
       "      <td>0</td>\n",
       "    </tr>\n",
       "    <tr>\n",
       "      <th>3</th>\n",
       "      <td>1</td>\n",
       "      <td>0</td>\n",
       "      <td>0</td>\n",
       "      <td>0</td>\n",
       "      <td>1</td>\n",
       "      <td>0</td>\n",
       "      <td>0</td>\n",
       "      <td>0</td>\n",
       "      <td>0</td>\n",
       "      <td>0</td>\n",
       "      <td>...</td>\n",
       "      <td>0</td>\n",
       "      <td>0</td>\n",
       "      <td>1</td>\n",
       "      <td>0</td>\n",
       "      <td>0</td>\n",
       "      <td>0</td>\n",
       "      <td>0</td>\n",
       "      <td>1</td>\n",
       "      <td>1</td>\n",
       "      <td>0</td>\n",
       "    </tr>\n",
       "    <tr>\n",
       "      <th>4</th>\n",
       "      <td>1</td>\n",
       "      <td>0</td>\n",
       "      <td>0</td>\n",
       "      <td>0</td>\n",
       "      <td>1</td>\n",
       "      <td>0</td>\n",
       "      <td>0</td>\n",
       "      <td>0</td>\n",
       "      <td>0</td>\n",
       "      <td>0</td>\n",
       "      <td>...</td>\n",
       "      <td>1</td>\n",
       "      <td>0</td>\n",
       "      <td>0</td>\n",
       "      <td>0</td>\n",
       "      <td>0</td>\n",
       "      <td>0</td>\n",
       "      <td>0</td>\n",
       "      <td>1</td>\n",
       "      <td>1</td>\n",
       "      <td>0</td>\n",
       "    </tr>\n",
       "  </tbody>\n",
       "</table>\n",
       "<p>5 rows × 40 columns</p>\n",
       "</div>"
      ],
      "text/plain": [
       "   IS_SUCCESSFUL  APPLICATION_TYPE_Other  APPLICATION_TYPE_T10  \\\n",
       "0              1                       0                     1   \n",
       "1              1                       0                     0   \n",
       "2              0                       0                     0   \n",
       "3              1                       0                     0   \n",
       "4              1                       0                     0   \n",
       "\n",
       "   APPLICATION_TYPE_T19  APPLICATION_TYPE_T3  APPLICATION_TYPE_T4  \\\n",
       "0                     0                    0                    0   \n",
       "1                     0                    1                    0   \n",
       "2                     0                    0                    0   \n",
       "3                     0                    1                    0   \n",
       "4                     0                    1                    0   \n",
       "\n",
       "   APPLICATION_TYPE_T5  APPLICATION_TYPE_T6  APPLICATION_TYPE_T7  \\\n",
       "0                    0                    0                    0   \n",
       "1                    0                    0                    0   \n",
       "2                    1                    0                    0   \n",
       "3                    0                    0                    0   \n",
       "4                    0                    0                    0   \n",
       "\n",
       "   APPLICATION_TYPE_T8  ...  USE_CASE_Heathcare  USE_CASE_Other  \\\n",
       "0                    0  ...                   0               0   \n",
       "1                    0  ...                   0               0   \n",
       "2                    0  ...                   0               0   \n",
       "3                    0  ...                   0               0   \n",
       "4                    0  ...                   1               0   \n",
       "\n",
       "   USE_CASE_Preservation  USE_CASE_ProductDev  ORGANIZATION_Association  \\\n",
       "0                      0                    1                         1   \n",
       "1                      1                    0                         0   \n",
       "2                      0                    1                         1   \n",
       "3                      1                    0                         0   \n",
       "4                      0                    0                         0   \n",
       "\n",
       "   ORGANIZATION_Co-operative  ORGANIZATION_Corporation  ORGANIZATION_Trust  \\\n",
       "0                          0                         0                   0   \n",
       "1                          1                         0                   0   \n",
       "2                          0                         0                   0   \n",
       "3                          0                         0                   1   \n",
       "4                          0                         0                   1   \n",
       "\n",
       "   SPECIAL_CONSIDERATIONS_N  SPECIAL_CONSIDERATIONS_Y  \n",
       "0                         1                         0  \n",
       "1                         1                         0  \n",
       "2                         1                         0  \n",
       "3                         1                         0  \n",
       "4                         1                         0  \n",
       "\n",
       "[5 rows x 40 columns]"
      ]
     },
     "execution_count": 34,
     "metadata": {},
     "output_type": "execute_result"
    }
   ],
   "source": [
    "app_to_improve = pd.get_dummies(app_to_improve, \n",
    "                                 columns=['APPLICATION_TYPE', 'AFFILIATION', 'CLASSIFICATION', \n",
    "                                          'USE_CASE', 'ORGANIZATION', 'SPECIAL_CONSIDERATIONS'], \n",
    "                                 dtype=int)\n",
    "app_to_improve.head()"
   ]
  },
  {
   "cell_type": "code",
   "execution_count": 35,
   "metadata": {},
   "outputs": [],
   "source": [
    "# Split our preprocessed data into our features and target arrays\n",
    "\n",
    "X = app_to_improve.drop('IS_SUCCESSFUL', axis=1)\n",
    "y = app_to_improve['IS_SUCCESSFUL']\n",
    "\n",
    "# Split the preprocessed data into a training and testing dataset\n",
    "\n",
    "X_train, X_test, y_train, y_test = train_test_split(X, y, random_state = 2)"
   ]
  },
  {
   "cell_type": "code",
   "execution_count": 36,
   "metadata": {},
   "outputs": [],
   "source": [
    "# Create a StandardScaler instances\n",
    "scaler = StandardScaler()\n",
    "\n",
    "# Fit the StandardScaler\n",
    "X_scaler = scaler.fit(X_train)\n",
    "\n",
    "# Scale the data\n",
    "X_train_scaled = X_scaler.transform(X_train)\n",
    "X_test_scaled = X_scaler.transform(X_test)"
   ]
  },
  {
   "cell_type": "code",
   "execution_count": 37,
   "metadata": {},
   "outputs": [
    {
     "name": "stderr",
     "output_type": "stream",
     "text": [
      "/opt/anaconda3/envs/dev/lib/python3.10/site-packages/keras/src/layers/core/dense.py:87: UserWarning: Do not pass an `input_shape`/`input_dim` argument to a layer. When using Sequential models, prefer using an `Input(shape)` object as the first layer in the model instead.\n",
      "  super().__init__(activity_regularizer=activity_regularizer, **kwargs)\n"
     ]
    }
   ],
   "source": [
    "nn5 = tf.keras.models.Sequential()\n",
    "\n",
    "# First hidden layer\n",
    "\n",
    "nn5.add(Dense(80, input_dim=X_train.shape[1], activation='relu'))\n",
    "\n",
    "# Second hidden layer\n",
    "\n",
    "nn5.add(Dense(30, activation = 'relu'))\n",
    "\n",
    "# Output layer\n",
    "\n",
    "nn5.add(Dense(1, activation='sigmoid'))\n",
    "\n"
   ]
  },
  {
   "cell_type": "code",
   "execution_count": 38,
   "metadata": {},
   "outputs": [
    {
     "data": {
      "text/html": [
       "<pre style=\"white-space:pre;overflow-x:auto;line-height:normal;font-family:Menlo,'DejaVu Sans Mono',consolas,'Courier New',monospace\"><span style=\"font-weight: bold\">Model: \"sequential_4\"</span>\n",
       "</pre>\n"
      ],
      "text/plain": [
       "\u001b[1mModel: \"sequential_4\"\u001b[0m\n"
      ]
     },
     "metadata": {},
     "output_type": "display_data"
    },
    {
     "data": {
      "text/html": [
       "<pre style=\"white-space:pre;overflow-x:auto;line-height:normal;font-family:Menlo,'DejaVu Sans Mono',consolas,'Courier New',monospace\">┏━━━━━━━━━━━━━━━━━━━━━━━━━━━━━━━━━┳━━━━━━━━━━━━━━━━━━━━━━━━┳━━━━━━━━━━━━━━━┓\n",
       "┃<span style=\"font-weight: bold\"> Layer (type)                    </span>┃<span style=\"font-weight: bold\"> Output Shape           </span>┃<span style=\"font-weight: bold\">       Param # </span>┃\n",
       "┡━━━━━━━━━━━━━━━━━━━━━━━━━━━━━━━━━╇━━━━━━━━━━━━━━━━━━━━━━━━╇━━━━━━━━━━━━━━━┩\n",
       "│ dense_15 (<span style=\"color: #0087ff; text-decoration-color: #0087ff\">Dense</span>)                │ (<span style=\"color: #00d7ff; text-decoration-color: #00d7ff\">None</span>, <span style=\"color: #00af00; text-decoration-color: #00af00\">80</span>)             │         <span style=\"color: #00af00; text-decoration-color: #00af00\">3,200</span> │\n",
       "├─────────────────────────────────┼────────────────────────┼───────────────┤\n",
       "│ dense_16 (<span style=\"color: #0087ff; text-decoration-color: #0087ff\">Dense</span>)                │ (<span style=\"color: #00d7ff; text-decoration-color: #00d7ff\">None</span>, <span style=\"color: #00af00; text-decoration-color: #00af00\">30</span>)             │         <span style=\"color: #00af00; text-decoration-color: #00af00\">2,430</span> │\n",
       "├─────────────────────────────────┼────────────────────────┼───────────────┤\n",
       "│ dense_17 (<span style=\"color: #0087ff; text-decoration-color: #0087ff\">Dense</span>)                │ (<span style=\"color: #00d7ff; text-decoration-color: #00d7ff\">None</span>, <span style=\"color: #00af00; text-decoration-color: #00af00\">1</span>)              │            <span style=\"color: #00af00; text-decoration-color: #00af00\">31</span> │\n",
       "└─────────────────────────────────┴────────────────────────┴───────────────┘\n",
       "</pre>\n"
      ],
      "text/plain": [
       "┏━━━━━━━━━━━━━━━━━━━━━━━━━━━━━━━━━┳━━━━━━━━━━━━━━━━━━━━━━━━┳━━━━━━━━━━━━━━━┓\n",
       "┃\u001b[1m \u001b[0m\u001b[1mLayer (type)                   \u001b[0m\u001b[1m \u001b[0m┃\u001b[1m \u001b[0m\u001b[1mOutput Shape          \u001b[0m\u001b[1m \u001b[0m┃\u001b[1m \u001b[0m\u001b[1m      Param #\u001b[0m\u001b[1m \u001b[0m┃\n",
       "┡━━━━━━━━━━━━━━━━━━━━━━━━━━━━━━━━━╇━━━━━━━━━━━━━━━━━━━━━━━━╇━━━━━━━━━━━━━━━┩\n",
       "│ dense_15 (\u001b[38;5;33mDense\u001b[0m)                │ (\u001b[38;5;45mNone\u001b[0m, \u001b[38;5;34m80\u001b[0m)             │         \u001b[38;5;34m3,200\u001b[0m │\n",
       "├─────────────────────────────────┼────────────────────────┼───────────────┤\n",
       "│ dense_16 (\u001b[38;5;33mDense\u001b[0m)                │ (\u001b[38;5;45mNone\u001b[0m, \u001b[38;5;34m30\u001b[0m)             │         \u001b[38;5;34m2,430\u001b[0m │\n",
       "├─────────────────────────────────┼────────────────────────┼───────────────┤\n",
       "│ dense_17 (\u001b[38;5;33mDense\u001b[0m)                │ (\u001b[38;5;45mNone\u001b[0m, \u001b[38;5;34m1\u001b[0m)              │            \u001b[38;5;34m31\u001b[0m │\n",
       "└─────────────────────────────────┴────────────────────────┴───────────────┘\n"
      ]
     },
     "metadata": {},
     "output_type": "display_data"
    },
    {
     "data": {
      "text/html": [
       "<pre style=\"white-space:pre;overflow-x:auto;line-height:normal;font-family:Menlo,'DejaVu Sans Mono',consolas,'Courier New',monospace\"><span style=\"font-weight: bold\"> Total params: </span><span style=\"color: #00af00; text-decoration-color: #00af00\">5,661</span> (22.11 KB)\n",
       "</pre>\n"
      ],
      "text/plain": [
       "\u001b[1m Total params: \u001b[0m\u001b[38;5;34m5,661\u001b[0m (22.11 KB)\n"
      ]
     },
     "metadata": {},
     "output_type": "display_data"
    },
    {
     "data": {
      "text/html": [
       "<pre style=\"white-space:pre;overflow-x:auto;line-height:normal;font-family:Menlo,'DejaVu Sans Mono',consolas,'Courier New',monospace\"><span style=\"font-weight: bold\"> Trainable params: </span><span style=\"color: #00af00; text-decoration-color: #00af00\">5,661</span> (22.11 KB)\n",
       "</pre>\n"
      ],
      "text/plain": [
       "\u001b[1m Trainable params: \u001b[0m\u001b[38;5;34m5,661\u001b[0m (22.11 KB)\n"
      ]
     },
     "metadata": {},
     "output_type": "display_data"
    },
    {
     "data": {
      "text/html": [
       "<pre style=\"white-space:pre;overflow-x:auto;line-height:normal;font-family:Menlo,'DejaVu Sans Mono',consolas,'Courier New',monospace\"><span style=\"font-weight: bold\"> Non-trainable params: </span><span style=\"color: #00af00; text-decoration-color: #00af00\">0</span> (0.00 B)\n",
       "</pre>\n"
      ],
      "text/plain": [
       "\u001b[1m Non-trainable params: \u001b[0m\u001b[38;5;34m0\u001b[0m (0.00 B)\n"
      ]
     },
     "metadata": {},
     "output_type": "display_data"
    },
    {
     "data": {
      "text/html": [
       "<pre style=\"white-space:pre;overflow-x:auto;line-height:normal;font-family:Menlo,'DejaVu Sans Mono',consolas,'Courier New',monospace\"><span style=\"font-weight: bold\">Model: \"sequential_4\"</span>\n",
       "</pre>\n"
      ],
      "text/plain": [
       "\u001b[1mModel: \"sequential_4\"\u001b[0m\n"
      ]
     },
     "metadata": {},
     "output_type": "display_data"
    },
    {
     "data": {
      "text/html": [
       "<pre style=\"white-space:pre;overflow-x:auto;line-height:normal;font-family:Menlo,'DejaVu Sans Mono',consolas,'Courier New',monospace\">┏━━━━━━━━━━━━━━━━━━━━━━━━━━━━━━━━━┳━━━━━━━━━━━━━━━━━━━━━━━━┳━━━━━━━━━━━━━━━┓\n",
       "┃<span style=\"font-weight: bold\"> Layer (type)                    </span>┃<span style=\"font-weight: bold\"> Output Shape           </span>┃<span style=\"font-weight: bold\">       Param # </span>┃\n",
       "┡━━━━━━━━━━━━━━━━━━━━━━━━━━━━━━━━━╇━━━━━━━━━━━━━━━━━━━━━━━━╇━━━━━━━━━━━━━━━┩\n",
       "│ dense_15 (<span style=\"color: #0087ff; text-decoration-color: #0087ff\">Dense</span>)                │ (<span style=\"color: #00d7ff; text-decoration-color: #00d7ff\">None</span>, <span style=\"color: #00af00; text-decoration-color: #00af00\">80</span>)             │         <span style=\"color: #00af00; text-decoration-color: #00af00\">3,200</span> │\n",
       "├─────────────────────────────────┼────────────────────────┼───────────────┤\n",
       "│ dense_16 (<span style=\"color: #0087ff; text-decoration-color: #0087ff\">Dense</span>)                │ (<span style=\"color: #00d7ff; text-decoration-color: #00d7ff\">None</span>, <span style=\"color: #00af00; text-decoration-color: #00af00\">30</span>)             │         <span style=\"color: #00af00; text-decoration-color: #00af00\">2,430</span> │\n",
       "├─────────────────────────────────┼────────────────────────┼───────────────┤\n",
       "│ dense_17 (<span style=\"color: #0087ff; text-decoration-color: #0087ff\">Dense</span>)                │ (<span style=\"color: #00d7ff; text-decoration-color: #00d7ff\">None</span>, <span style=\"color: #00af00; text-decoration-color: #00af00\">1</span>)              │            <span style=\"color: #00af00; text-decoration-color: #00af00\">31</span> │\n",
       "└─────────────────────────────────┴────────────────────────┴───────────────┘\n",
       "</pre>\n"
      ],
      "text/plain": [
       "┏━━━━━━━━━━━━━━━━━━━━━━━━━━━━━━━━━┳━━━━━━━━━━━━━━━━━━━━━━━━┳━━━━━━━━━━━━━━━┓\n",
       "┃\u001b[1m \u001b[0m\u001b[1mLayer (type)                   \u001b[0m\u001b[1m \u001b[0m┃\u001b[1m \u001b[0m\u001b[1mOutput Shape          \u001b[0m\u001b[1m \u001b[0m┃\u001b[1m \u001b[0m\u001b[1m      Param #\u001b[0m\u001b[1m \u001b[0m┃\n",
       "┡━━━━━━━━━━━━━━━━━━━━━━━━━━━━━━━━━╇━━━━━━━━━━━━━━━━━━━━━━━━╇━━━━━━━━━━━━━━━┩\n",
       "│ dense_15 (\u001b[38;5;33mDense\u001b[0m)                │ (\u001b[38;5;45mNone\u001b[0m, \u001b[38;5;34m80\u001b[0m)             │         \u001b[38;5;34m3,200\u001b[0m │\n",
       "├─────────────────────────────────┼────────────────────────┼───────────────┤\n",
       "│ dense_16 (\u001b[38;5;33mDense\u001b[0m)                │ (\u001b[38;5;45mNone\u001b[0m, \u001b[38;5;34m30\u001b[0m)             │         \u001b[38;5;34m2,430\u001b[0m │\n",
       "├─────────────────────────────────┼────────────────────────┼───────────────┤\n",
       "│ dense_17 (\u001b[38;5;33mDense\u001b[0m)                │ (\u001b[38;5;45mNone\u001b[0m, \u001b[38;5;34m1\u001b[0m)              │            \u001b[38;5;34m31\u001b[0m │\n",
       "└─────────────────────────────────┴────────────────────────┴───────────────┘\n"
      ]
     },
     "metadata": {},
     "output_type": "display_data"
    },
    {
     "data": {
      "text/html": [
       "<pre style=\"white-space:pre;overflow-x:auto;line-height:normal;font-family:Menlo,'DejaVu Sans Mono',consolas,'Courier New',monospace\"><span style=\"font-weight: bold\"> Total params: </span><span style=\"color: #00af00; text-decoration-color: #00af00\">5,661</span> (22.11 KB)\n",
       "</pre>\n"
      ],
      "text/plain": [
       "\u001b[1m Total params: \u001b[0m\u001b[38;5;34m5,661\u001b[0m (22.11 KB)\n"
      ]
     },
     "metadata": {},
     "output_type": "display_data"
    },
    {
     "data": {
      "text/html": [
       "<pre style=\"white-space:pre;overflow-x:auto;line-height:normal;font-family:Menlo,'DejaVu Sans Mono',consolas,'Courier New',monospace\"><span style=\"font-weight: bold\"> Trainable params: </span><span style=\"color: #00af00; text-decoration-color: #00af00\">5,661</span> (22.11 KB)\n",
       "</pre>\n"
      ],
      "text/plain": [
       "\u001b[1m Trainable params: \u001b[0m\u001b[38;5;34m5,661\u001b[0m (22.11 KB)\n"
      ]
     },
     "metadata": {},
     "output_type": "display_data"
    },
    {
     "data": {
      "text/html": [
       "<pre style=\"white-space:pre;overflow-x:auto;line-height:normal;font-family:Menlo,'DejaVu Sans Mono',consolas,'Courier New',monospace\"><span style=\"font-weight: bold\"> Non-trainable params: </span><span style=\"color: #00af00; text-decoration-color: #00af00\">0</span> (0.00 B)\n",
       "</pre>\n"
      ],
      "text/plain": [
       "\u001b[1m Non-trainable params: \u001b[0m\u001b[38;5;34m0\u001b[0m (0.00 B)\n"
      ]
     },
     "metadata": {},
     "output_type": "display_data"
    },
    {
     "name": "stdout",
     "output_type": "stream",
     "text": [
      "Epoch 1/100\n",
      "1029/1029 - 1s - 986us/step - accuracy: 0.7166 - loss: 0.5768 - val_accuracy: 0.7282 - val_loss: 0.5570\n",
      "Epoch 2/100\n",
      "1029/1029 - 1s - 570us/step - accuracy: 0.7240 - loss: 0.5623 - val_accuracy: 0.7299 - val_loss: 0.5558\n",
      "Epoch 3/100\n",
      "1029/1029 - 1s - 556us/step - accuracy: 0.7240 - loss: 0.5606 - val_accuracy: 0.7277 - val_loss: 0.5542\n",
      "Epoch 4/100\n",
      "1029/1029 - 1s - 555us/step - accuracy: 0.7237 - loss: 0.5593 - val_accuracy: 0.7265 - val_loss: 0.5536\n",
      "Epoch 5/100\n",
      "1029/1029 - 1s - 559us/step - accuracy: 0.7255 - loss: 0.5587 - val_accuracy: 0.7285 - val_loss: 0.5535\n",
      "Epoch 6/100\n",
      "1029/1029 - 1s - 554us/step - accuracy: 0.7252 - loss: 0.5581 - val_accuracy: 0.7269 - val_loss: 0.5550\n",
      "Epoch 7/100\n",
      "1029/1029 - 1s - 557us/step - accuracy: 0.7260 - loss: 0.5574 - val_accuracy: 0.7275 - val_loss: 0.5615\n",
      "Epoch 8/100\n",
      "1029/1029 - 1s - 594us/step - accuracy: 0.7257 - loss: 0.5576 - val_accuracy: 0.7282 - val_loss: 0.5531\n",
      "Epoch 9/100\n",
      "1029/1029 - 1s - 560us/step - accuracy: 0.7266 - loss: 0.5569 - val_accuracy: 0.7291 - val_loss: 0.5525\n",
      "Epoch 10/100\n",
      "1029/1029 - 1s - 574us/step - accuracy: 0.7266 - loss: 0.5567 - val_accuracy: 0.7300 - val_loss: 0.5514\n",
      "Epoch 11/100\n",
      "1029/1029 - 1s - 563us/step - accuracy: 0.7281 - loss: 0.5567 - val_accuracy: 0.7275 - val_loss: 0.5516\n",
      "Epoch 12/100\n",
      "1029/1029 - 1s - 568us/step - accuracy: 0.7269 - loss: 0.5559 - val_accuracy: 0.7241 - val_loss: 0.5529\n",
      "Epoch 13/100\n",
      "1029/1029 - 1s - 602us/step - accuracy: 0.7270 - loss: 0.5555 - val_accuracy: 0.7305 - val_loss: 0.5543\n",
      "Epoch 14/100\n",
      "1029/1029 - 1s - 564us/step - accuracy: 0.7272 - loss: 0.5550 - val_accuracy: 0.7291 - val_loss: 0.5545\n",
      "Epoch 15/100\n",
      "1029/1029 - 1s - 554us/step - accuracy: 0.7276 - loss: 0.5553 - val_accuracy: 0.7297 - val_loss: 0.5514\n",
      "Epoch 16/100\n",
      "1029/1029 - 1s - 567us/step - accuracy: 0.7284 - loss: 0.5552 - val_accuracy: 0.7306 - val_loss: 0.5505\n",
      "Epoch 17/100\n",
      "1029/1029 - 1s - 574us/step - accuracy: 0.7278 - loss: 0.5543 - val_accuracy: 0.7305 - val_loss: 0.5552\n",
      "Epoch 18/100\n",
      "1029/1029 - 1s - 560us/step - accuracy: 0.7280 - loss: 0.5545 - val_accuracy: 0.7315 - val_loss: 0.5535\n",
      "Epoch 19/100\n",
      "1029/1029 - 1s - 581us/step - accuracy: 0.7280 - loss: 0.5543 - val_accuracy: 0.7304 - val_loss: 0.5517\n",
      "Epoch 20/100\n",
      "1029/1029 - 1s - 556us/step - accuracy: 0.7282 - loss: 0.5541 - val_accuracy: 0.7303 - val_loss: 0.5517\n",
      "Epoch 21/100\n",
      "1029/1029 - 1s - 563us/step - accuracy: 0.7278 - loss: 0.5539 - val_accuracy: 0.7301 - val_loss: 0.5518\n",
      "Epoch 22/100\n",
      "1029/1029 - 1s - 570us/step - accuracy: 0.7281 - loss: 0.5539 - val_accuracy: 0.7296 - val_loss: 0.5505\n",
      "Epoch 23/100\n",
      "1029/1029 - 1s - 586us/step - accuracy: 0.7282 - loss: 0.5538 - val_accuracy: 0.7300 - val_loss: 0.5526\n",
      "Epoch 24/100\n",
      "1029/1029 - 1s - 577us/step - accuracy: 0.7291 - loss: 0.5535 - val_accuracy: 0.7298 - val_loss: 0.5516\n",
      "Epoch 25/100\n",
      "1029/1029 - 1s - 591us/step - accuracy: 0.7272 - loss: 0.5537 - val_accuracy: 0.7308 - val_loss: 0.5504\n",
      "Epoch 26/100\n",
      "1029/1029 - 1s - 570us/step - accuracy: 0.7286 - loss: 0.5537 - val_accuracy: 0.7294 - val_loss: 0.5519\n",
      "Epoch 27/100\n",
      "1029/1029 - 1s - 591us/step - accuracy: 0.7287 - loss: 0.5534 - val_accuracy: 0.7287 - val_loss: 0.5514\n",
      "Epoch 28/100\n",
      "1029/1029 - 1s - 594us/step - accuracy: 0.7289 - loss: 0.5531 - val_accuracy: 0.7307 - val_loss: 0.5512\n",
      "Epoch 29/100\n",
      "1029/1029 - 1s - 556us/step - accuracy: 0.7287 - loss: 0.5531 - val_accuracy: 0.7304 - val_loss: 0.5504\n",
      "Epoch 30/100\n",
      "1029/1029 - 1s - 568us/step - accuracy: 0.7286 - loss: 0.5528 - val_accuracy: 0.7303 - val_loss: 0.5519\n",
      "Epoch 31/100\n",
      "1029/1029 - 1s - 562us/step - accuracy: 0.7278 - loss: 0.5532 - val_accuracy: 0.7289 - val_loss: 0.5508\n",
      "Epoch 32/100\n",
      "1029/1029 - 1s - 566us/step - accuracy: 0.7286 - loss: 0.5529 - val_accuracy: 0.7306 - val_loss: 0.5509\n",
      "Epoch 33/100\n",
      "1029/1029 - 1s - 558us/step - accuracy: 0.7283 - loss: 0.5529 - val_accuracy: 0.7303 - val_loss: 0.5508\n",
      "Epoch 34/100\n",
      "1029/1029 - 1s - 572us/step - accuracy: 0.7287 - loss: 0.5528 - val_accuracy: 0.7299 - val_loss: 0.5508\n",
      "Epoch 35/100\n",
      "1029/1029 - 1s - 561us/step - accuracy: 0.7289 - loss: 0.5527 - val_accuracy: 0.7301 - val_loss: 0.5509\n",
      "Epoch 36/100\n",
      "1029/1029 - 1s - 565us/step - accuracy: 0.7287 - loss: 0.5525 - val_accuracy: 0.7282 - val_loss: 0.5517\n",
      "Epoch 37/100\n",
      "1029/1029 - 1s - 578us/step - accuracy: 0.7289 - loss: 0.5525 - val_accuracy: 0.7293 - val_loss: 0.5514\n",
      "Epoch 38/100\n",
      "1029/1029 - 1s - 561us/step - accuracy: 0.7287 - loss: 0.5523 - val_accuracy: 0.7298 - val_loss: 0.5506\n",
      "Epoch 39/100\n",
      "1029/1029 - 1s - 561us/step - accuracy: 0.7292 - loss: 0.5523 - val_accuracy: 0.7300 - val_loss: 0.5509\n",
      "Epoch 40/100\n",
      "1029/1029 - 1s - 560us/step - accuracy: 0.7290 - loss: 0.5524 - val_accuracy: 0.7289 - val_loss: 0.5505\n",
      "Epoch 41/100\n",
      "1029/1029 - 1s - 558us/step - accuracy: 0.7294 - loss: 0.5523 - val_accuracy: 0.7297 - val_loss: 0.5502\n",
      "Epoch 42/100\n",
      "1029/1029 - 1s - 559us/step - accuracy: 0.7290 - loss: 0.5521 - val_accuracy: 0.7297 - val_loss: 0.5506\n",
      "Epoch 43/100\n",
      "1029/1029 - 1s - 587us/step - accuracy: 0.7288 - loss: 0.5522 - val_accuracy: 0.7290 - val_loss: 0.5508\n",
      "Epoch 44/100\n",
      "1029/1029 - 1s - 587us/step - accuracy: 0.7287 - loss: 0.5520 - val_accuracy: 0.7300 - val_loss: 0.5508\n",
      "Epoch 45/100\n",
      "1029/1029 - 1s - 562us/step - accuracy: 0.7288 - loss: 0.5522 - val_accuracy: 0.7292 - val_loss: 0.5525\n",
      "Epoch 46/100\n",
      "1029/1029 - 1s - 568us/step - accuracy: 0.7292 - loss: 0.5519 - val_accuracy: 0.7296 - val_loss: 0.5509\n",
      "Epoch 47/100\n",
      "1029/1029 - 1s - 564us/step - accuracy: 0.7291 - loss: 0.5520 - val_accuracy: 0.7296 - val_loss: 0.5516\n",
      "Epoch 48/100\n",
      "1029/1029 - 1s - 561us/step - accuracy: 0.7297 - loss: 0.5517 - val_accuracy: 0.7294 - val_loss: 0.5511\n",
      "Epoch 49/100\n",
      "1029/1029 - 1s - 563us/step - accuracy: 0.7294 - loss: 0.5517 - val_accuracy: 0.7303 - val_loss: 0.5517\n",
      "Epoch 50/100\n",
      "1029/1029 - 1s - 569us/step - accuracy: 0.7294 - loss: 0.5519 - val_accuracy: 0.7297 - val_loss: 0.5508\n",
      "Epoch 51/100\n",
      "1029/1029 - 1s - 569us/step - accuracy: 0.7298 - loss: 0.5517 - val_accuracy: 0.7292 - val_loss: 0.5520\n",
      "Epoch 52/100\n",
      "1029/1029 - 1s - 564us/step - accuracy: 0.7296 - loss: 0.5518 - val_accuracy: 0.7303 - val_loss: 0.5510\n",
      "Epoch 53/100\n",
      "1029/1029 - 1s - 588us/step - accuracy: 0.7293 - loss: 0.5518 - val_accuracy: 0.7294 - val_loss: 0.5507\n",
      "Epoch 54/100\n",
      "1029/1029 - 1s - 559us/step - accuracy: 0.7291 - loss: 0.5514 - val_accuracy: 0.7306 - val_loss: 0.5514\n",
      "Epoch 55/100\n",
      "1029/1029 - 1s - 561us/step - accuracy: 0.7291 - loss: 0.5515 - val_accuracy: 0.7299 - val_loss: 0.5520\n",
      "Epoch 56/100\n",
      "1029/1029 - 1s - 567us/step - accuracy: 0.7299 - loss: 0.5516 - val_accuracy: 0.7294 - val_loss: 0.5516\n",
      "Epoch 57/100\n",
      "1029/1029 - 1s - 585us/step - accuracy: 0.7297 - loss: 0.5514 - val_accuracy: 0.7293 - val_loss: 0.5524\n",
      "Epoch 58/100\n",
      "1029/1029 - 1s - 563us/step - accuracy: 0.7295 - loss: 0.5516 - val_accuracy: 0.7296 - val_loss: 0.5531\n",
      "Epoch 59/100\n",
      "1029/1029 - 1s - 560us/step - accuracy: 0.7294 - loss: 0.5515 - val_accuracy: 0.7292 - val_loss: 0.5543\n",
      "Epoch 60/100\n",
      "1029/1029 - 1s - 562us/step - accuracy: 0.7296 - loss: 0.5515 - val_accuracy: 0.7297 - val_loss: 0.5512\n",
      "Epoch 61/100\n",
      "1029/1029 - 1s - 592us/step - accuracy: 0.7289 - loss: 0.5512 - val_accuracy: 0.7311 - val_loss: 0.5506\n",
      "Epoch 62/100\n",
      "1029/1029 - 1s - 563us/step - accuracy: 0.7296 - loss: 0.5513 - val_accuracy: 0.7294 - val_loss: 0.5521\n",
      "Epoch 63/100\n",
      "1029/1029 - 1s - 572us/step - accuracy: 0.7296 - loss: 0.5514 - val_accuracy: 0.7301 - val_loss: 0.5516\n",
      "Epoch 64/100\n",
      "1029/1029 - 1s - 564us/step - accuracy: 0.7294 - loss: 0.5512 - val_accuracy: 0.7294 - val_loss: 0.5517\n",
      "Epoch 65/100\n",
      "1029/1029 - 1s - 557us/step - accuracy: 0.7292 - loss: 0.5514 - val_accuracy: 0.7303 - val_loss: 0.5516\n",
      "Epoch 66/100\n",
      "1029/1029 - 1s - 558us/step - accuracy: 0.7293 - loss: 0.5513 - val_accuracy: 0.7296 - val_loss: 0.5531\n",
      "Epoch 67/100\n",
      "1029/1029 - 1s - 566us/step - accuracy: 0.7295 - loss: 0.5514 - val_accuracy: 0.7300 - val_loss: 0.5516\n",
      "Epoch 68/100\n",
      "1029/1029 - 1s - 560us/step - accuracy: 0.7296 - loss: 0.5511 - val_accuracy: 0.7298 - val_loss: 0.5527\n",
      "Epoch 69/100\n",
      "1029/1029 - 1s - 568us/step - accuracy: 0.7300 - loss: 0.5512 - val_accuracy: 0.7300 - val_loss: 0.5526\n",
      "Epoch 70/100\n",
      "1029/1029 - 1s - 561us/step - accuracy: 0.7294 - loss: 0.5512 - val_accuracy: 0.7297 - val_loss: 0.5517\n",
      "Epoch 71/100\n",
      "1029/1029 - 1s - 558us/step - accuracy: 0.7296 - loss: 0.5510 - val_accuracy: 0.7296 - val_loss: 0.5531\n",
      "Epoch 72/100\n",
      "1029/1029 - 1s - 588us/step - accuracy: 0.7295 - loss: 0.5508 - val_accuracy: 0.7296 - val_loss: 0.5521\n",
      "Epoch 73/100\n",
      "1029/1029 - 1s - 564us/step - accuracy: 0.7292 - loss: 0.5512 - val_accuracy: 0.7301 - val_loss: 0.5531\n",
      "Epoch 74/100\n",
      "1029/1029 - 1s - 568us/step - accuracy: 0.7297 - loss: 0.5510 - val_accuracy: 0.7299 - val_loss: 0.5530\n",
      "Epoch 75/100\n",
      "1029/1029 - 1s - 564us/step - accuracy: 0.7292 - loss: 0.5509 - val_accuracy: 0.7300 - val_loss: 0.5527\n",
      "Epoch 76/100\n",
      "1029/1029 - 1s - 560us/step - accuracy: 0.7296 - loss: 0.5507 - val_accuracy: 0.7298 - val_loss: 0.5537\n",
      "Epoch 77/100\n",
      "1029/1029 - 1s - 556us/step - accuracy: 0.7294 - loss: 0.5509 - val_accuracy: 0.7293 - val_loss: 0.5532\n",
      "Epoch 78/100\n",
      "1029/1029 - 1s - 558us/step - accuracy: 0.7292 - loss: 0.5510 - val_accuracy: 0.7299 - val_loss: 0.5519\n",
      "Epoch 79/100\n",
      "1029/1029 - 1s - 561us/step - accuracy: 0.7292 - loss: 0.5510 - val_accuracy: 0.7297 - val_loss: 0.5514\n",
      "Epoch 80/100\n",
      "1029/1029 - 1s - 560us/step - accuracy: 0.7293 - loss: 0.5508 - val_accuracy: 0.7298 - val_loss: 0.5532\n",
      "Epoch 81/100\n",
      "1029/1029 - 1s - 566us/step - accuracy: 0.7299 - loss: 0.5508 - val_accuracy: 0.7289 - val_loss: 0.5542\n",
      "Epoch 82/100\n",
      "1029/1029 - 1s - 557us/step - accuracy: 0.7298 - loss: 0.5506 - val_accuracy: 0.7291 - val_loss: 0.5530\n",
      "Epoch 83/100\n",
      "1029/1029 - 1s - 559us/step - accuracy: 0.7296 - loss: 0.5508 - val_accuracy: 0.7293 - val_loss: 0.5525\n",
      "Epoch 84/100\n",
      "1029/1029 - 1s - 569us/step - accuracy: 0.7295 - loss: 0.5504 - val_accuracy: 0.7299 - val_loss: 0.5536\n",
      "Epoch 85/100\n",
      "1029/1029 - 1s - 569us/step - accuracy: 0.7297 - loss: 0.5506 - val_accuracy: 0.7287 - val_loss: 0.5538\n",
      "Epoch 86/100\n",
      "1029/1029 - 1s - 601us/step - accuracy: 0.7289 - loss: 0.5509 - val_accuracy: 0.7300 - val_loss: 0.5540\n",
      "Epoch 87/100\n",
      "1029/1029 - 1s - 561us/step - accuracy: 0.7294 - loss: 0.5508 - val_accuracy: 0.7304 - val_loss: 0.5554\n",
      "Epoch 88/100\n",
      "1029/1029 - 1s - 562us/step - accuracy: 0.7294 - loss: 0.5504 - val_accuracy: 0.7275 - val_loss: 0.5554\n",
      "Epoch 89/100\n",
      "1029/1029 - 1s - 558us/step - accuracy: 0.7290 - loss: 0.5505 - val_accuracy: 0.7299 - val_loss: 0.5538\n",
      "Epoch 90/100\n",
      "1029/1029 - 1s - 562us/step - accuracy: 0.7292 - loss: 0.5503 - val_accuracy: 0.7304 - val_loss: 0.5544\n",
      "Epoch 91/100\n",
      "1029/1029 - 1s - 566us/step - accuracy: 0.7298 - loss: 0.5505 - val_accuracy: 0.7296 - val_loss: 0.5549\n",
      "Epoch 92/100\n",
      "1029/1029 - 1s - 563us/step - accuracy: 0.7302 - loss: 0.5506 - val_accuracy: 0.7290 - val_loss: 0.5541\n",
      "Epoch 93/100\n",
      "1029/1029 - 1s - 572us/step - accuracy: 0.7296 - loss: 0.5505 - val_accuracy: 0.7294 - val_loss: 0.5548\n",
      "Epoch 94/100\n",
      "1029/1029 - 1s - 560us/step - accuracy: 0.7296 - loss: 0.5507 - val_accuracy: 0.7298 - val_loss: 0.5536\n",
      "Epoch 95/100\n",
      "1029/1029 - 1s - 590us/step - accuracy: 0.7296 - loss: 0.5504 - val_accuracy: 0.7291 - val_loss: 0.5537\n",
      "Epoch 96/100\n",
      "1029/1029 - 1s - 562us/step - accuracy: 0.7297 - loss: 0.5506 - val_accuracy: 0.7291 - val_loss: 0.5543\n",
      "Epoch 97/100\n",
      "1029/1029 - 1s - 560us/step - accuracy: 0.7300 - loss: 0.5504 - val_accuracy: 0.7287 - val_loss: 0.5556\n",
      "Epoch 98/100\n",
      "1029/1029 - 1s - 574us/step - accuracy: 0.7293 - loss: 0.5504 - val_accuracy: 0.7290 - val_loss: 0.5548\n",
      "Epoch 99/100\n",
      "1029/1029 - 1s - 567us/step - accuracy: 0.7299 - loss: 0.5504 - val_accuracy: 0.7285 - val_loss: 0.5541\n",
      "Epoch 100/100\n",
      "1029/1029 - 1s - 565us/step - accuracy: 0.7297 - loss: 0.5503 - val_accuracy: 0.7299 - val_loss: 0.5543\n"
     ]
    }
   ],
   "source": [
    "# Check the structure of the model\n",
    "nn5.summary()  # Compile the model\n",
    "nn5.compile(loss='binary_crossentropy', optimizer = 'adam', metrics=['accuracy'])\n",
    "nn5.summary() # Train the model\n",
    "history = nn5.fit(X_train, y_train, \n",
    "                 epochs=100,\n",
    "                 batch_size=25,\n",
    "                 validation_data=(X_test, y_test),\n",
    "                 verbose=2)  # Evaluate the model using the test data\n"
   ]
  },
  {
   "cell_type": "code",
   "execution_count": 39,
   "metadata": {},
   "outputs": [
    {
     "name": "stdout",
     "output_type": "stream",
     "text": [
      "268/268 - 0s - 562us/step - accuracy: 0.6345 - loss: 4.7299\n",
      "Loss: 4.729887008666992, Accuracy: 0.6345189213752747\n"
     ]
    }
   ],
   "source": [
    "model_loss, model_accuracy = nn5.evaluate(X_test_scaled,y_test,verbose=2)\n",
    "print(f\"Loss: {model_loss}, Accuracy: {model_accuracy}\") "
   ]
  },
  {
   "cell_type": "code",
   "execution_count": 40,
   "metadata": {},
   "outputs": [
    {
     "name": "stderr",
     "output_type": "stream",
     "text": [
      "/opt/anaconda3/envs/dev/lib/python3.10/site-packages/keras/src/layers/core/dense.py:87: UserWarning: Do not pass an `input_shape`/`input_dim` argument to a layer. When using Sequential models, prefer using an `Input(shape)` object as the first layer in the model instead.\n",
      "  super().__init__(activity_regularizer=activity_regularizer, **kwargs)\n"
     ]
    }
   ],
   "source": [
    "nn6 = tf.keras.models.Sequential()\n",
    "\n",
    "# First hidden layer\n",
    "\n",
    "nn6.add(Dense(128, input_dim=X_train.shape[1], activation='relu'))\n",
    "\n",
    "# Second hidden layer\n",
    "\n",
    "nn6.add(Dense(64, activation = 'relu'))\n",
    "\n",
    "nn6.add(Dense(32, activation = 'relu'))\n",
    "\n",
    "# Output layer\n",
    "\n",
    "nn6.add(Dense(1, activation='sigmoid'))\n",
    "\n"
   ]
  },
  {
   "cell_type": "code",
   "execution_count": 41,
   "metadata": {},
   "outputs": [
    {
     "data": {
      "text/html": [
       "<pre style=\"white-space:pre;overflow-x:auto;line-height:normal;font-family:Menlo,'DejaVu Sans Mono',consolas,'Courier New',monospace\"><span style=\"font-weight: bold\">Model: \"sequential_5\"</span>\n",
       "</pre>\n"
      ],
      "text/plain": [
       "\u001b[1mModel: \"sequential_5\"\u001b[0m\n"
      ]
     },
     "metadata": {},
     "output_type": "display_data"
    },
    {
     "data": {
      "text/html": [
       "<pre style=\"white-space:pre;overflow-x:auto;line-height:normal;font-family:Menlo,'DejaVu Sans Mono',consolas,'Courier New',monospace\">┏━━━━━━━━━━━━━━━━━━━━━━━━━━━━━━━━━┳━━━━━━━━━━━━━━━━━━━━━━━━┳━━━━━━━━━━━━━━━┓\n",
       "┃<span style=\"font-weight: bold\"> Layer (type)                    </span>┃<span style=\"font-weight: bold\"> Output Shape           </span>┃<span style=\"font-weight: bold\">       Param # </span>┃\n",
       "┡━━━━━━━━━━━━━━━━━━━━━━━━━━━━━━━━━╇━━━━━━━━━━━━━━━━━━━━━━━━╇━━━━━━━━━━━━━━━┩\n",
       "│ dense_18 (<span style=\"color: #0087ff; text-decoration-color: #0087ff\">Dense</span>)                │ (<span style=\"color: #00d7ff; text-decoration-color: #00d7ff\">None</span>, <span style=\"color: #00af00; text-decoration-color: #00af00\">128</span>)            │         <span style=\"color: #00af00; text-decoration-color: #00af00\">5,120</span> │\n",
       "├─────────────────────────────────┼────────────────────────┼───────────────┤\n",
       "│ dense_19 (<span style=\"color: #0087ff; text-decoration-color: #0087ff\">Dense</span>)                │ (<span style=\"color: #00d7ff; text-decoration-color: #00d7ff\">None</span>, <span style=\"color: #00af00; text-decoration-color: #00af00\">64</span>)             │         <span style=\"color: #00af00; text-decoration-color: #00af00\">8,256</span> │\n",
       "├─────────────────────────────────┼────────────────────────┼───────────────┤\n",
       "│ dense_20 (<span style=\"color: #0087ff; text-decoration-color: #0087ff\">Dense</span>)                │ (<span style=\"color: #00d7ff; text-decoration-color: #00d7ff\">None</span>, <span style=\"color: #00af00; text-decoration-color: #00af00\">32</span>)             │         <span style=\"color: #00af00; text-decoration-color: #00af00\">2,080</span> │\n",
       "├─────────────────────────────────┼────────────────────────┼───────────────┤\n",
       "│ dense_21 (<span style=\"color: #0087ff; text-decoration-color: #0087ff\">Dense</span>)                │ (<span style=\"color: #00d7ff; text-decoration-color: #00d7ff\">None</span>, <span style=\"color: #00af00; text-decoration-color: #00af00\">1</span>)              │            <span style=\"color: #00af00; text-decoration-color: #00af00\">33</span> │\n",
       "└─────────────────────────────────┴────────────────────────┴───────────────┘\n",
       "</pre>\n"
      ],
      "text/plain": [
       "┏━━━━━━━━━━━━━━━━━━━━━━━━━━━━━━━━━┳━━━━━━━━━━━━━━━━━━━━━━━━┳━━━━━━━━━━━━━━━┓\n",
       "┃\u001b[1m \u001b[0m\u001b[1mLayer (type)                   \u001b[0m\u001b[1m \u001b[0m┃\u001b[1m \u001b[0m\u001b[1mOutput Shape          \u001b[0m\u001b[1m \u001b[0m┃\u001b[1m \u001b[0m\u001b[1m      Param #\u001b[0m\u001b[1m \u001b[0m┃\n",
       "┡━━━━━━━━━━━━━━━━━━━━━━━━━━━━━━━━━╇━━━━━━━━━━━━━━━━━━━━━━━━╇━━━━━━━━━━━━━━━┩\n",
       "│ dense_18 (\u001b[38;5;33mDense\u001b[0m)                │ (\u001b[38;5;45mNone\u001b[0m, \u001b[38;5;34m128\u001b[0m)            │         \u001b[38;5;34m5,120\u001b[0m │\n",
       "├─────────────────────────────────┼────────────────────────┼───────────────┤\n",
       "│ dense_19 (\u001b[38;5;33mDense\u001b[0m)                │ (\u001b[38;5;45mNone\u001b[0m, \u001b[38;5;34m64\u001b[0m)             │         \u001b[38;5;34m8,256\u001b[0m │\n",
       "├─────────────────────────────────┼────────────────────────┼───────────────┤\n",
       "│ dense_20 (\u001b[38;5;33mDense\u001b[0m)                │ (\u001b[38;5;45mNone\u001b[0m, \u001b[38;5;34m32\u001b[0m)             │         \u001b[38;5;34m2,080\u001b[0m │\n",
       "├─────────────────────────────────┼────────────────────────┼───────────────┤\n",
       "│ dense_21 (\u001b[38;5;33mDense\u001b[0m)                │ (\u001b[38;5;45mNone\u001b[0m, \u001b[38;5;34m1\u001b[0m)              │            \u001b[38;5;34m33\u001b[0m │\n",
       "└─────────────────────────────────┴────────────────────────┴───────────────┘\n"
      ]
     },
     "metadata": {},
     "output_type": "display_data"
    },
    {
     "data": {
      "text/html": [
       "<pre style=\"white-space:pre;overflow-x:auto;line-height:normal;font-family:Menlo,'DejaVu Sans Mono',consolas,'Courier New',monospace\"><span style=\"font-weight: bold\"> Total params: </span><span style=\"color: #00af00; text-decoration-color: #00af00\">15,489</span> (60.50 KB)\n",
       "</pre>\n"
      ],
      "text/plain": [
       "\u001b[1m Total params: \u001b[0m\u001b[38;5;34m15,489\u001b[0m (60.50 KB)\n"
      ]
     },
     "metadata": {},
     "output_type": "display_data"
    },
    {
     "data": {
      "text/html": [
       "<pre style=\"white-space:pre;overflow-x:auto;line-height:normal;font-family:Menlo,'DejaVu Sans Mono',consolas,'Courier New',monospace\"><span style=\"font-weight: bold\"> Trainable params: </span><span style=\"color: #00af00; text-decoration-color: #00af00\">15,489</span> (60.50 KB)\n",
       "</pre>\n"
      ],
      "text/plain": [
       "\u001b[1m Trainable params: \u001b[0m\u001b[38;5;34m15,489\u001b[0m (60.50 KB)\n"
      ]
     },
     "metadata": {},
     "output_type": "display_data"
    },
    {
     "data": {
      "text/html": [
       "<pre style=\"white-space:pre;overflow-x:auto;line-height:normal;font-family:Menlo,'DejaVu Sans Mono',consolas,'Courier New',monospace\"><span style=\"font-weight: bold\"> Non-trainable params: </span><span style=\"color: #00af00; text-decoration-color: #00af00\">0</span> (0.00 B)\n",
       "</pre>\n"
      ],
      "text/plain": [
       "\u001b[1m Non-trainable params: \u001b[0m\u001b[38;5;34m0\u001b[0m (0.00 B)\n"
      ]
     },
     "metadata": {},
     "output_type": "display_data"
    },
    {
     "data": {
      "text/html": [
       "<pre style=\"white-space:pre;overflow-x:auto;line-height:normal;font-family:Menlo,'DejaVu Sans Mono',consolas,'Courier New',monospace\"><span style=\"font-weight: bold\">Model: \"sequential_5\"</span>\n",
       "</pre>\n"
      ],
      "text/plain": [
       "\u001b[1mModel: \"sequential_5\"\u001b[0m\n"
      ]
     },
     "metadata": {},
     "output_type": "display_data"
    },
    {
     "data": {
      "text/html": [
       "<pre style=\"white-space:pre;overflow-x:auto;line-height:normal;font-family:Menlo,'DejaVu Sans Mono',consolas,'Courier New',monospace\">┏━━━━━━━━━━━━━━━━━━━━━━━━━━━━━━━━━┳━━━━━━━━━━━━━━━━━━━━━━━━┳━━━━━━━━━━━━━━━┓\n",
       "┃<span style=\"font-weight: bold\"> Layer (type)                    </span>┃<span style=\"font-weight: bold\"> Output Shape           </span>┃<span style=\"font-weight: bold\">       Param # </span>┃\n",
       "┡━━━━━━━━━━━━━━━━━━━━━━━━━━━━━━━━━╇━━━━━━━━━━━━━━━━━━━━━━━━╇━━━━━━━━━━━━━━━┩\n",
       "│ dense_18 (<span style=\"color: #0087ff; text-decoration-color: #0087ff\">Dense</span>)                │ (<span style=\"color: #00d7ff; text-decoration-color: #00d7ff\">None</span>, <span style=\"color: #00af00; text-decoration-color: #00af00\">128</span>)            │         <span style=\"color: #00af00; text-decoration-color: #00af00\">5,120</span> │\n",
       "├─────────────────────────────────┼────────────────────────┼───────────────┤\n",
       "│ dense_19 (<span style=\"color: #0087ff; text-decoration-color: #0087ff\">Dense</span>)                │ (<span style=\"color: #00d7ff; text-decoration-color: #00d7ff\">None</span>, <span style=\"color: #00af00; text-decoration-color: #00af00\">64</span>)             │         <span style=\"color: #00af00; text-decoration-color: #00af00\">8,256</span> │\n",
       "├─────────────────────────────────┼────────────────────────┼───────────────┤\n",
       "│ dense_20 (<span style=\"color: #0087ff; text-decoration-color: #0087ff\">Dense</span>)                │ (<span style=\"color: #00d7ff; text-decoration-color: #00d7ff\">None</span>, <span style=\"color: #00af00; text-decoration-color: #00af00\">32</span>)             │         <span style=\"color: #00af00; text-decoration-color: #00af00\">2,080</span> │\n",
       "├─────────────────────────────────┼────────────────────────┼───────────────┤\n",
       "│ dense_21 (<span style=\"color: #0087ff; text-decoration-color: #0087ff\">Dense</span>)                │ (<span style=\"color: #00d7ff; text-decoration-color: #00d7ff\">None</span>, <span style=\"color: #00af00; text-decoration-color: #00af00\">1</span>)              │            <span style=\"color: #00af00; text-decoration-color: #00af00\">33</span> │\n",
       "└─────────────────────────────────┴────────────────────────┴───────────────┘\n",
       "</pre>\n"
      ],
      "text/plain": [
       "┏━━━━━━━━━━━━━━━━━━━━━━━━━━━━━━━━━┳━━━━━━━━━━━━━━━━━━━━━━━━┳━━━━━━━━━━━━━━━┓\n",
       "┃\u001b[1m \u001b[0m\u001b[1mLayer (type)                   \u001b[0m\u001b[1m \u001b[0m┃\u001b[1m \u001b[0m\u001b[1mOutput Shape          \u001b[0m\u001b[1m \u001b[0m┃\u001b[1m \u001b[0m\u001b[1m      Param #\u001b[0m\u001b[1m \u001b[0m┃\n",
       "┡━━━━━━━━━━━━━━━━━━━━━━━━━━━━━━━━━╇━━━━━━━━━━━━━━━━━━━━━━━━╇━━━━━━━━━━━━━━━┩\n",
       "│ dense_18 (\u001b[38;5;33mDense\u001b[0m)                │ (\u001b[38;5;45mNone\u001b[0m, \u001b[38;5;34m128\u001b[0m)            │         \u001b[38;5;34m5,120\u001b[0m │\n",
       "├─────────────────────────────────┼────────────────────────┼───────────────┤\n",
       "│ dense_19 (\u001b[38;5;33mDense\u001b[0m)                │ (\u001b[38;5;45mNone\u001b[0m, \u001b[38;5;34m64\u001b[0m)             │         \u001b[38;5;34m8,256\u001b[0m │\n",
       "├─────────────────────────────────┼────────────────────────┼───────────────┤\n",
       "│ dense_20 (\u001b[38;5;33mDense\u001b[0m)                │ (\u001b[38;5;45mNone\u001b[0m, \u001b[38;5;34m32\u001b[0m)             │         \u001b[38;5;34m2,080\u001b[0m │\n",
       "├─────────────────────────────────┼────────────────────────┼───────────────┤\n",
       "│ dense_21 (\u001b[38;5;33mDense\u001b[0m)                │ (\u001b[38;5;45mNone\u001b[0m, \u001b[38;5;34m1\u001b[0m)              │            \u001b[38;5;34m33\u001b[0m │\n",
       "└─────────────────────────────────┴────────────────────────┴───────────────┘\n"
      ]
     },
     "metadata": {},
     "output_type": "display_data"
    },
    {
     "data": {
      "text/html": [
       "<pre style=\"white-space:pre;overflow-x:auto;line-height:normal;font-family:Menlo,'DejaVu Sans Mono',consolas,'Courier New',monospace\"><span style=\"font-weight: bold\"> Total params: </span><span style=\"color: #00af00; text-decoration-color: #00af00\">15,489</span> (60.50 KB)\n",
       "</pre>\n"
      ],
      "text/plain": [
       "\u001b[1m Total params: \u001b[0m\u001b[38;5;34m15,489\u001b[0m (60.50 KB)\n"
      ]
     },
     "metadata": {},
     "output_type": "display_data"
    },
    {
     "data": {
      "text/html": [
       "<pre style=\"white-space:pre;overflow-x:auto;line-height:normal;font-family:Menlo,'DejaVu Sans Mono',consolas,'Courier New',monospace\"><span style=\"font-weight: bold\"> Trainable params: </span><span style=\"color: #00af00; text-decoration-color: #00af00\">15,489</span> (60.50 KB)\n",
       "</pre>\n"
      ],
      "text/plain": [
       "\u001b[1m Trainable params: \u001b[0m\u001b[38;5;34m15,489\u001b[0m (60.50 KB)\n"
      ]
     },
     "metadata": {},
     "output_type": "display_data"
    },
    {
     "data": {
      "text/html": [
       "<pre style=\"white-space:pre;overflow-x:auto;line-height:normal;font-family:Menlo,'DejaVu Sans Mono',consolas,'Courier New',monospace\"><span style=\"font-weight: bold\"> Non-trainable params: </span><span style=\"color: #00af00; text-decoration-color: #00af00\">0</span> (0.00 B)\n",
       "</pre>\n"
      ],
      "text/plain": [
       "\u001b[1m Non-trainable params: \u001b[0m\u001b[38;5;34m0\u001b[0m (0.00 B)\n"
      ]
     },
     "metadata": {},
     "output_type": "display_data"
    },
    {
     "name": "stdout",
     "output_type": "stream",
     "text": [
      "Epoch 1/100\n",
      "804/804 - 1s - 1ms/step - accuracy: 0.7192 - loss: 0.5742 - val_accuracy: 0.7298 - val_loss: 0.5606\n",
      "Epoch 2/100\n",
      "804/804 - 1s - 648us/step - accuracy: 0.7234 - loss: 0.5612 - val_accuracy: 0.7283 - val_loss: 0.5553\n",
      "Epoch 3/100\n",
      "804/804 - 1s - 651us/step - accuracy: 0.7250 - loss: 0.5590 - val_accuracy: 0.7296 - val_loss: 0.5565\n",
      "Epoch 4/100\n",
      "804/804 - 1s - 644us/step - accuracy: 0.7250 - loss: 0.5584 - val_accuracy: 0.7303 - val_loss: 0.5542\n",
      "Epoch 5/100\n",
      "804/804 - 1s - 664us/step - accuracy: 0.7268 - loss: 0.5581 - val_accuracy: 0.7270 - val_loss: 0.5532\n",
      "Epoch 6/100\n",
      "804/804 - 1s - 644us/step - accuracy: 0.7265 - loss: 0.5573 - val_accuracy: 0.7294 - val_loss: 0.5518\n",
      "Epoch 7/100\n",
      "804/804 - 1s - 642us/step - accuracy: 0.7264 - loss: 0.5568 - val_accuracy: 0.7227 - val_loss: 0.5553\n",
      "Epoch 8/100\n",
      "804/804 - 1s - 643us/step - accuracy: 0.7270 - loss: 0.5570 - val_accuracy: 0.7304 - val_loss: 0.5508\n",
      "Epoch 9/100\n",
      "804/804 - 1s - 643us/step - accuracy: 0.7282 - loss: 0.5556 - val_accuracy: 0.7294 - val_loss: 0.5531\n",
      "Epoch 10/100\n",
      "804/804 - 1s - 641us/step - accuracy: 0.7274 - loss: 0.5553 - val_accuracy: 0.7304 - val_loss: 0.5516\n",
      "Epoch 11/100\n",
      "804/804 - 1s - 657us/step - accuracy: 0.7273 - loss: 0.5553 - val_accuracy: 0.7297 - val_loss: 0.5504\n",
      "Epoch 12/100\n",
      "804/804 - 1s - 648us/step - accuracy: 0.7281 - loss: 0.5551 - val_accuracy: 0.7307 - val_loss: 0.5511\n",
      "Epoch 13/100\n",
      "804/804 - 1s - 664us/step - accuracy: 0.7277 - loss: 0.5544 - val_accuracy: 0.7296 - val_loss: 0.5511\n",
      "Epoch 14/100\n",
      "804/804 - 1s - 643us/step - accuracy: 0.7286 - loss: 0.5539 - val_accuracy: 0.7296 - val_loss: 0.5514\n",
      "Epoch 15/100\n",
      "804/804 - 1s - 646us/step - accuracy: 0.7287 - loss: 0.5541 - val_accuracy: 0.7298 - val_loss: 0.5500\n",
      "Epoch 16/100\n",
      "804/804 - 1s - 648us/step - accuracy: 0.7293 - loss: 0.5536 - val_accuracy: 0.7308 - val_loss: 0.5507\n",
      "Epoch 17/100\n",
      "804/804 - 1s - 650us/step - accuracy: 0.7285 - loss: 0.5536 - val_accuracy: 0.7292 - val_loss: 0.5497\n",
      "Epoch 18/100\n",
      "804/804 - 1s - 657us/step - accuracy: 0.7286 - loss: 0.5535 - val_accuracy: 0.7294 - val_loss: 0.5520\n",
      "Epoch 19/100\n",
      "804/804 - 1s - 651us/step - accuracy: 0.7288 - loss: 0.5534 - val_accuracy: 0.7298 - val_loss: 0.5533\n",
      "Epoch 20/100\n",
      "804/804 - 1s - 654us/step - accuracy: 0.7291 - loss: 0.5533 - val_accuracy: 0.7310 - val_loss: 0.5506\n",
      "Epoch 21/100\n",
      "804/804 - 1s - 641us/step - accuracy: 0.7285 - loss: 0.5526 - val_accuracy: 0.7294 - val_loss: 0.5545\n",
      "Epoch 22/100\n",
      "804/804 - 1s - 686us/step - accuracy: 0.7290 - loss: 0.5527 - val_accuracy: 0.7298 - val_loss: 0.5518\n",
      "Epoch 23/100\n",
      "804/804 - 1s - 644us/step - accuracy: 0.7287 - loss: 0.5524 - val_accuracy: 0.7303 - val_loss: 0.5529\n",
      "Epoch 24/100\n",
      "804/804 - 1s - 646us/step - accuracy: 0.7287 - loss: 0.5523 - val_accuracy: 0.7304 - val_loss: 0.5551\n",
      "Epoch 25/100\n",
      "804/804 - 1s - 659us/step - accuracy: 0.7290 - loss: 0.5520 - val_accuracy: 0.7296 - val_loss: 0.5513\n",
      "Epoch 26/100\n",
      "804/804 - 1s - 657us/step - accuracy: 0.7292 - loss: 0.5523 - val_accuracy: 0.7296 - val_loss: 0.5532\n",
      "Epoch 27/100\n",
      "804/804 - 1s - 642us/step - accuracy: 0.7283 - loss: 0.5518 - val_accuracy: 0.7297 - val_loss: 0.5516\n",
      "Epoch 28/100\n",
      "804/804 - 1s - 647us/step - accuracy: 0.7295 - loss: 0.5523 - val_accuracy: 0.7269 - val_loss: 0.5552\n",
      "Epoch 29/100\n",
      "804/804 - 1s - 649us/step - accuracy: 0.7294 - loss: 0.5518 - val_accuracy: 0.7294 - val_loss: 0.5530\n",
      "Epoch 30/100\n",
      "804/804 - 1s - 650us/step - accuracy: 0.7292 - loss: 0.5519 - val_accuracy: 0.7300 - val_loss: 0.5528\n",
      "Epoch 31/100\n",
      "804/804 - 1s - 673us/step - accuracy: 0.7294 - loss: 0.5517 - val_accuracy: 0.7301 - val_loss: 0.5541\n",
      "Epoch 32/100\n",
      "804/804 - 1s - 688us/step - accuracy: 0.7294 - loss: 0.5518 - val_accuracy: 0.7299 - val_loss: 0.5548\n",
      "Epoch 33/100\n",
      "804/804 - 1s - 644us/step - accuracy: 0.7297 - loss: 0.5514 - val_accuracy: 0.7287 - val_loss: 0.5571\n",
      "Epoch 34/100\n",
      "804/804 - 1s - 641us/step - accuracy: 0.7283 - loss: 0.5515 - val_accuracy: 0.7303 - val_loss: 0.5531\n",
      "Epoch 35/100\n",
      "804/804 - 1s - 682us/step - accuracy: 0.7303 - loss: 0.5514 - val_accuracy: 0.7292 - val_loss: 0.5571\n",
      "Epoch 36/100\n",
      "804/804 - 1s - 644us/step - accuracy: 0.7299 - loss: 0.5511 - val_accuracy: 0.7293 - val_loss: 0.5556\n",
      "Epoch 37/100\n",
      "804/804 - 1s - 649us/step - accuracy: 0.7298 - loss: 0.5514 - val_accuracy: 0.7299 - val_loss: 0.5533\n",
      "Epoch 38/100\n",
      "804/804 - 1s - 658us/step - accuracy: 0.7291 - loss: 0.5513 - val_accuracy: 0.7298 - val_loss: 0.5541\n",
      "Epoch 39/100\n",
      "804/804 - 1s - 642us/step - accuracy: 0.7300 - loss: 0.5510 - val_accuracy: 0.7305 - val_loss: 0.5543\n",
      "Epoch 40/100\n",
      "804/804 - 1s - 653us/step - accuracy: 0.7293 - loss: 0.5512 - val_accuracy: 0.7301 - val_loss: 0.5535\n",
      "Epoch 41/100\n",
      "804/804 - 1s - 687us/step - accuracy: 0.7303 - loss: 0.5508 - val_accuracy: 0.7285 - val_loss: 0.5550\n",
      "Epoch 42/100\n",
      "804/804 - 1s - 653us/step - accuracy: 0.7298 - loss: 0.5511 - val_accuracy: 0.7294 - val_loss: 0.5545\n",
      "Epoch 43/100\n",
      "804/804 - 1s - 648us/step - accuracy: 0.7297 - loss: 0.5509 - val_accuracy: 0.7307 - val_loss: 0.5568\n",
      "Epoch 44/100\n",
      "804/804 - 1s - 657us/step - accuracy: 0.7301 - loss: 0.5510 - val_accuracy: 0.7298 - val_loss: 0.5570\n",
      "Epoch 45/100\n",
      "804/804 - 1s - 653us/step - accuracy: 0.7300 - loss: 0.5508 - val_accuracy: 0.7296 - val_loss: 0.5563\n",
      "Epoch 46/100\n",
      "804/804 - 1s - 645us/step - accuracy: 0.7299 - loss: 0.5508 - val_accuracy: 0.7292 - val_loss: 0.5563\n",
      "Epoch 47/100\n",
      "804/804 - 1s - 640us/step - accuracy: 0.7298 - loss: 0.5505 - val_accuracy: 0.7296 - val_loss: 0.5563\n",
      "Epoch 48/100\n",
      "804/804 - 1s - 682us/step - accuracy: 0.7299 - loss: 0.5506 - val_accuracy: 0.7291 - val_loss: 0.5595\n",
      "Epoch 49/100\n",
      "804/804 - 1s - 640us/step - accuracy: 0.7294 - loss: 0.5508 - val_accuracy: 0.7296 - val_loss: 0.5560\n",
      "Epoch 50/100\n",
      "804/804 - 1s - 655us/step - accuracy: 0.7296 - loss: 0.5505 - val_accuracy: 0.7304 - val_loss: 0.5579\n",
      "Epoch 51/100\n",
      "804/804 - 1s - 647us/step - accuracy: 0.7298 - loss: 0.5504 - val_accuracy: 0.7296 - val_loss: 0.5584\n",
      "Epoch 52/100\n",
      "804/804 - 1s - 644us/step - accuracy: 0.7296 - loss: 0.5506 - val_accuracy: 0.7298 - val_loss: 0.5573\n",
      "Epoch 53/100\n",
      "804/804 - 1s - 645us/step - accuracy: 0.7296 - loss: 0.5504 - val_accuracy: 0.7301 - val_loss: 0.5570\n",
      "Epoch 54/100\n",
      "804/804 - 1s - 679us/step - accuracy: 0.7300 - loss: 0.5505 - val_accuracy: 0.7300 - val_loss: 0.5578\n",
      "Epoch 55/100\n",
      "804/804 - 1s - 646us/step - accuracy: 0.7297 - loss: 0.5504 - val_accuracy: 0.7296 - val_loss: 0.5571\n",
      "Epoch 56/100\n",
      "804/804 - 1s - 655us/step - accuracy: 0.7295 - loss: 0.5503 - val_accuracy: 0.7299 - val_loss: 0.5576\n",
      "Epoch 57/100\n",
      "804/804 - 1s - 649us/step - accuracy: 0.7300 - loss: 0.5503 - val_accuracy: 0.7296 - val_loss: 0.5582\n",
      "Epoch 58/100\n",
      "804/804 - 1s - 641us/step - accuracy: 0.7296 - loss: 0.5505 - val_accuracy: 0.7296 - val_loss: 0.5587\n",
      "Epoch 59/100\n",
      "804/804 - 1s - 649us/step - accuracy: 0.7297 - loss: 0.5504 - val_accuracy: 0.7296 - val_loss: 0.5584\n",
      "Epoch 60/100\n",
      "804/804 - 1s - 645us/step - accuracy: 0.7300 - loss: 0.5502 - val_accuracy: 0.7296 - val_loss: 0.5605\n",
      "Epoch 61/100\n",
      "804/804 - 1s - 646us/step - accuracy: 0.7297 - loss: 0.5510 - val_accuracy: 0.7296 - val_loss: 0.5597\n",
      "Epoch 62/100\n",
      "804/804 - 1s - 644us/step - accuracy: 0.7300 - loss: 0.5507 - val_accuracy: 0.7298 - val_loss: 0.5581\n",
      "Epoch 63/100\n",
      "804/804 - 1s - 645us/step - accuracy: 0.7301 - loss: 0.5502 - val_accuracy: 0.7296 - val_loss: 0.5590\n",
      "Epoch 64/100\n",
      "804/804 - 1s - 641us/step - accuracy: 0.7297 - loss: 0.5499 - val_accuracy: 0.7296 - val_loss: 0.5598\n",
      "Epoch 65/100\n",
      "804/804 - 1s - 675us/step - accuracy: 0.7299 - loss: 0.5501 - val_accuracy: 0.7294 - val_loss: 0.5596\n",
      "Epoch 66/100\n",
      "804/804 - 1s - 640us/step - accuracy: 0.7301 - loss: 0.5501 - val_accuracy: 0.7296 - val_loss: 0.5613\n",
      "Epoch 67/100\n",
      "804/804 - 1s - 642us/step - accuracy: 0.7300 - loss: 0.5506 - val_accuracy: 0.7297 - val_loss: 0.5575\n",
      "Epoch 68/100\n",
      "804/804 - 1s - 646us/step - accuracy: 0.7298 - loss: 0.5504 - val_accuracy: 0.7294 - val_loss: 0.5613\n",
      "Epoch 69/100\n",
      "804/804 - 1s - 641us/step - accuracy: 0.7297 - loss: 0.5501 - val_accuracy: 0.7296 - val_loss: 0.5592\n",
      "Epoch 70/100\n",
      "804/804 - 1s - 643us/step - accuracy: 0.7299 - loss: 0.5501 - val_accuracy: 0.7296 - val_loss: 0.5590\n",
      "Epoch 71/100\n",
      "804/804 - 1s - 644us/step - accuracy: 0.7299 - loss: 0.5498 - val_accuracy: 0.7293 - val_loss: 0.5597\n",
      "Epoch 72/100\n",
      "804/804 - 1s - 644us/step - accuracy: 0.7296 - loss: 0.5500 - val_accuracy: 0.7286 - val_loss: 0.5608\n",
      "Epoch 73/100\n",
      "804/804 - 1s - 646us/step - accuracy: 0.7293 - loss: 0.5499 - val_accuracy: 0.7298 - val_loss: 0.5597\n",
      "Epoch 74/100\n",
      "804/804 - 1s - 645us/step - accuracy: 0.7304 - loss: 0.5497 - val_accuracy: 0.7297 - val_loss: 0.5615\n",
      "Epoch 75/100\n",
      "804/804 - 1s - 643us/step - accuracy: 0.7298 - loss: 0.5499 - val_accuracy: 0.7299 - val_loss: 0.5585\n",
      "Epoch 76/100\n",
      "804/804 - 1s - 641us/step - accuracy: 0.7299 - loss: 0.5494 - val_accuracy: 0.7298 - val_loss: 0.5614\n",
      "Epoch 77/100\n",
      "804/804 - 1s - 645us/step - accuracy: 0.7301 - loss: 0.5499 - val_accuracy: 0.7298 - val_loss: 0.5628\n",
      "Epoch 78/100\n",
      "804/804 - 1s - 644us/step - accuracy: 0.7297 - loss: 0.5498 - val_accuracy: 0.7301 - val_loss: 0.5635\n",
      "Epoch 79/100\n",
      "804/804 - 1s - 643us/step - accuracy: 0.7300 - loss: 0.5500 - val_accuracy: 0.7299 - val_loss: 0.5635\n",
      "Epoch 80/100\n",
      "804/804 - 1s - 641us/step - accuracy: 0.7297 - loss: 0.5496 - val_accuracy: 0.7297 - val_loss: 0.5635\n",
      "Epoch 81/100\n",
      "804/804 - 1s - 641us/step - accuracy: 0.7301 - loss: 0.5495 - val_accuracy: 0.7303 - val_loss: 0.5637\n",
      "Epoch 82/100\n",
      "804/804 - 1s - 642us/step - accuracy: 0.7297 - loss: 0.5498 - val_accuracy: 0.7299 - val_loss: 0.5621\n",
      "Epoch 83/100\n",
      "804/804 - 1s - 645us/step - accuracy: 0.7300 - loss: 0.5497 - val_accuracy: 0.7299 - val_loss: 0.5627\n",
      "Epoch 84/100\n",
      "804/804 - 1s - 643us/step - accuracy: 0.7295 - loss: 0.5498 - val_accuracy: 0.7290 - val_loss: 0.5642\n",
      "Epoch 85/100\n",
      "804/804 - 1s - 640us/step - accuracy: 0.7300 - loss: 0.5496 - val_accuracy: 0.7294 - val_loss: 0.5625\n",
      "Epoch 86/100\n",
      "804/804 - 1s - 676us/step - accuracy: 0.7303 - loss: 0.5495 - val_accuracy: 0.7293 - val_loss: 0.5640\n",
      "Epoch 87/100\n",
      "804/804 - 1s - 645us/step - accuracy: 0.7303 - loss: 0.5496 - val_accuracy: 0.7294 - val_loss: 0.5658\n",
      "Epoch 88/100\n",
      "804/804 - 1s - 644us/step - accuracy: 0.7299 - loss: 0.5495 - val_accuracy: 0.7293 - val_loss: 0.5644\n",
      "Epoch 89/100\n",
      "804/804 - 1s - 644us/step - accuracy: 0.7300 - loss: 0.5497 - val_accuracy: 0.7292 - val_loss: 0.5660\n",
      "Epoch 90/100\n",
      "804/804 - 1s - 645us/step - accuracy: 0.7294 - loss: 0.5497 - val_accuracy: 0.7307 - val_loss: 0.5665\n",
      "Epoch 91/100\n",
      "804/804 - 1s - 644us/step - accuracy: 0.7294 - loss: 0.5503 - val_accuracy: 0.7298 - val_loss: 0.5633\n",
      "Epoch 92/100\n",
      "804/804 - 1s - 645us/step - accuracy: 0.7299 - loss: 0.5497 - val_accuracy: 0.7299 - val_loss: 0.5673\n",
      "Epoch 93/100\n",
      "804/804 - 1s - 652us/step - accuracy: 0.7300 - loss: 0.5495 - val_accuracy: 0.7294 - val_loss: 0.5642\n",
      "Epoch 94/100\n",
      "804/804 - 1s - 651us/step - accuracy: 0.7301 - loss: 0.5492 - val_accuracy: 0.7290 - val_loss: 0.5654\n",
      "Epoch 95/100\n",
      "804/804 - 1s - 644us/step - accuracy: 0.7297 - loss: 0.5494 - val_accuracy: 0.7287 - val_loss: 0.5647\n",
      "Epoch 96/100\n",
      "804/804 - 1s - 644us/step - accuracy: 0.7300 - loss: 0.5494 - val_accuracy: 0.7297 - val_loss: 0.5666\n",
      "Epoch 97/100\n",
      "804/804 - 1s - 645us/step - accuracy: 0.7297 - loss: 0.5497 - val_accuracy: 0.7293 - val_loss: 0.5654\n",
      "Epoch 98/100\n",
      "804/804 - 1s - 673us/step - accuracy: 0.7302 - loss: 0.5494 - val_accuracy: 0.7293 - val_loss: 0.5683\n",
      "Epoch 99/100\n",
      "804/804 - 1s - 652us/step - accuracy: 0.7299 - loss: 0.5496 - val_accuracy: 0.7297 - val_loss: 0.5676\n",
      "Epoch 100/100\n",
      "804/804 - 1s - 642us/step - accuracy: 0.7302 - loss: 0.5493 - val_accuracy: 0.7294 - val_loss: 0.5729\n"
     ]
    }
   ],
   "source": [
    "# Check the structure of the model\n",
    "nn6.summary()  # Compile the model\n",
    "nn6.compile(loss='binary_crossentropy', optimizer = 'adam', metrics=['accuracy'])\n",
    "nn6.summary() # Train the model\n",
    "history = nn6.fit(X_train, y_train, \n",
    "                 epochs=100,\n",
    "                 batch_size=32,\n",
    "                 validation_data=(X_test, y_test),\n",
    "                 verbose=2)  # Evaluate the model using the test data\n"
   ]
  },
  {
   "cell_type": "code",
   "execution_count": 42,
   "metadata": {},
   "outputs": [
    {
     "name": "stdout",
     "output_type": "stream",
     "text": [
      "268/268 - 0s - 576us/step - accuracy: 0.6522 - loss: 18.9893\n",
      "Loss: 18.989253997802734, Accuracy: 0.6522449254989624\n"
     ]
    }
   ],
   "source": [
    "model_loss, model_accuracy = nn6.evaluate(X_test_scaled,y_test,verbose=2)\n",
    "print(f\"Loss: {model_loss}, Accuracy: {model_accuracy}\") "
   ]
  },
  {
   "cell_type": "code",
   "execution_count": 43,
   "metadata": {},
   "outputs": [],
   "source": [
    "########## trying with different columns ########"
   ]
  },
  {
   "cell_type": "code",
   "execution_count": 44,
   "metadata": {},
   "outputs": [
    {
     "data": {
      "text/html": [
       "<div>\n",
       "<style scoped>\n",
       "    .dataframe tbody tr th:only-of-type {\n",
       "        vertical-align: middle;\n",
       "    }\n",
       "\n",
       "    .dataframe tbody tr th {\n",
       "        vertical-align: top;\n",
       "    }\n",
       "\n",
       "    .dataframe thead th {\n",
       "        text-align: right;\n",
       "    }\n",
       "</style>\n",
       "<table border=\"1\" class=\"dataframe\">\n",
       "  <thead>\n",
       "    <tr style=\"text-align: right;\">\n",
       "      <th></th>\n",
       "      <th>APPLICATION_TYPE</th>\n",
       "      <th>AFFILIATION</th>\n",
       "      <th>CLASSIFICATION</th>\n",
       "      <th>USE_CASE</th>\n",
       "      <th>ORGANIZATION</th>\n",
       "      <th>STATUS</th>\n",
       "      <th>INCOME_AMT</th>\n",
       "      <th>SPECIAL_CONSIDERATIONS</th>\n",
       "      <th>ASK_AMT</th>\n",
       "      <th>IS_SUCCESSFUL</th>\n",
       "    </tr>\n",
       "  </thead>\n",
       "  <tbody>\n",
       "    <tr>\n",
       "      <th>0</th>\n",
       "      <td>T10</td>\n",
       "      <td>Independent</td>\n",
       "      <td>C1000</td>\n",
       "      <td>ProductDev</td>\n",
       "      <td>Association</td>\n",
       "      <td>1</td>\n",
       "      <td>0</td>\n",
       "      <td>N</td>\n",
       "      <td>5000</td>\n",
       "      <td>1</td>\n",
       "    </tr>\n",
       "    <tr>\n",
       "      <th>1</th>\n",
       "      <td>T3</td>\n",
       "      <td>Independent</td>\n",
       "      <td>C2000</td>\n",
       "      <td>Preservation</td>\n",
       "      <td>Co-operative</td>\n",
       "      <td>1</td>\n",
       "      <td>1-9999</td>\n",
       "      <td>N</td>\n",
       "      <td>108590</td>\n",
       "      <td>1</td>\n",
       "    </tr>\n",
       "    <tr>\n",
       "      <th>2</th>\n",
       "      <td>T5</td>\n",
       "      <td>CompanySponsored</td>\n",
       "      <td>C3000</td>\n",
       "      <td>ProductDev</td>\n",
       "      <td>Association</td>\n",
       "      <td>1</td>\n",
       "      <td>0</td>\n",
       "      <td>N</td>\n",
       "      <td>5000</td>\n",
       "      <td>0</td>\n",
       "    </tr>\n",
       "    <tr>\n",
       "      <th>3</th>\n",
       "      <td>T3</td>\n",
       "      <td>CompanySponsored</td>\n",
       "      <td>C2000</td>\n",
       "      <td>Preservation</td>\n",
       "      <td>Trust</td>\n",
       "      <td>1</td>\n",
       "      <td>10000-24999</td>\n",
       "      <td>N</td>\n",
       "      <td>6692</td>\n",
       "      <td>1</td>\n",
       "    </tr>\n",
       "    <tr>\n",
       "      <th>4</th>\n",
       "      <td>T3</td>\n",
       "      <td>Independent</td>\n",
       "      <td>C1000</td>\n",
       "      <td>Heathcare</td>\n",
       "      <td>Trust</td>\n",
       "      <td>1</td>\n",
       "      <td>100000-499999</td>\n",
       "      <td>N</td>\n",
       "      <td>142590</td>\n",
       "      <td>1</td>\n",
       "    </tr>\n",
       "  </tbody>\n",
       "</table>\n",
       "</div>"
      ],
      "text/plain": [
       "  APPLICATION_TYPE       AFFILIATION CLASSIFICATION      USE_CASE  \\\n",
       "0              T10       Independent          C1000    ProductDev   \n",
       "1               T3       Independent          C2000  Preservation   \n",
       "2               T5  CompanySponsored          C3000    ProductDev   \n",
       "3               T3  CompanySponsored          C2000  Preservation   \n",
       "4               T3       Independent          C1000     Heathcare   \n",
       "\n",
       "   ORGANIZATION  STATUS     INCOME_AMT SPECIAL_CONSIDERATIONS  ASK_AMT  \\\n",
       "0   Association       1              0                      N     5000   \n",
       "1  Co-operative       1         1-9999                      N   108590   \n",
       "2   Association       1              0                      N     5000   \n",
       "3         Trust       1    10000-24999                      N     6692   \n",
       "4         Trust       1  100000-499999                      N   142590   \n",
       "\n",
       "   IS_SUCCESSFUL  \n",
       "0              1  \n",
       "1              1  \n",
       "2              0  \n",
       "3              1  \n",
       "4              1  "
      ]
     },
     "execution_count": 44,
     "metadata": {},
     "output_type": "execute_result"
    }
   ],
   "source": [
    "app_to_improve2.head()"
   ]
  },
  {
   "cell_type": "code",
   "execution_count": 45,
   "metadata": {},
   "outputs": [
    {
     "data": {
      "text/html": [
       "<div>\n",
       "<style scoped>\n",
       "    .dataframe tbody tr th:only-of-type {\n",
       "        vertical-align: middle;\n",
       "    }\n",
       "\n",
       "    .dataframe tbody tr th {\n",
       "        vertical-align: top;\n",
       "    }\n",
       "\n",
       "    .dataframe thead th {\n",
       "        text-align: right;\n",
       "    }\n",
       "</style>\n",
       "<table border=\"1\" class=\"dataframe\">\n",
       "  <thead>\n",
       "    <tr style=\"text-align: right;\">\n",
       "      <th></th>\n",
       "      <th>APPLICATION_TYPE</th>\n",
       "      <th>AFFILIATION</th>\n",
       "      <th>USE_CASE</th>\n",
       "      <th>INCOME_AMT</th>\n",
       "      <th>ASK_AMT</th>\n",
       "      <th>IS_SUCCESSFUL</th>\n",
       "    </tr>\n",
       "  </thead>\n",
       "  <tbody>\n",
       "    <tr>\n",
       "      <th>0</th>\n",
       "      <td>T10</td>\n",
       "      <td>Independent</td>\n",
       "      <td>ProductDev</td>\n",
       "      <td>0</td>\n",
       "      <td>5000</td>\n",
       "      <td>1</td>\n",
       "    </tr>\n",
       "    <tr>\n",
       "      <th>1</th>\n",
       "      <td>T3</td>\n",
       "      <td>Independent</td>\n",
       "      <td>Preservation</td>\n",
       "      <td>1-9999</td>\n",
       "      <td>108590</td>\n",
       "      <td>1</td>\n",
       "    </tr>\n",
       "    <tr>\n",
       "      <th>2</th>\n",
       "      <td>T5</td>\n",
       "      <td>CompanySponsored</td>\n",
       "      <td>ProductDev</td>\n",
       "      <td>0</td>\n",
       "      <td>5000</td>\n",
       "      <td>0</td>\n",
       "    </tr>\n",
       "    <tr>\n",
       "      <th>3</th>\n",
       "      <td>T3</td>\n",
       "      <td>CompanySponsored</td>\n",
       "      <td>Preservation</td>\n",
       "      <td>10000-24999</td>\n",
       "      <td>6692</td>\n",
       "      <td>1</td>\n",
       "    </tr>\n",
       "    <tr>\n",
       "      <th>4</th>\n",
       "      <td>T3</td>\n",
       "      <td>Independent</td>\n",
       "      <td>Heathcare</td>\n",
       "      <td>100000-499999</td>\n",
       "      <td>142590</td>\n",
       "      <td>1</td>\n",
       "    </tr>\n",
       "  </tbody>\n",
       "</table>\n",
       "</div>"
      ],
      "text/plain": [
       "  APPLICATION_TYPE       AFFILIATION      USE_CASE     INCOME_AMT  ASK_AMT  \\\n",
       "0              T10       Independent    ProductDev              0     5000   \n",
       "1               T3       Independent  Preservation         1-9999   108590   \n",
       "2               T5  CompanySponsored    ProductDev              0     5000   \n",
       "3               T3  CompanySponsored  Preservation    10000-24999     6692   \n",
       "4               T3       Independent     Heathcare  100000-499999   142590   \n",
       "\n",
       "   IS_SUCCESSFUL  \n",
       "0              1  \n",
       "1              1  \n",
       "2              0  \n",
       "3              1  \n",
       "4              1  "
      ]
     },
     "execution_count": 45,
     "metadata": {},
     "output_type": "execute_result"
    }
   ],
   "source": [
    "columns_to_drop = ['STATUS', 'SPECIAL_CONSIDERATIONS', 'CLASSIFICATION', 'ORGANIZATION']\n",
    "\n",
    "app_to_improve2 = app_to_improve2.drop(columns = columns_to_drop)\n",
    "app_to_improve2.head()"
   ]
  },
  {
   "cell_type": "code",
   "execution_count": 46,
   "metadata": {},
   "outputs": [
    {
     "data": {
      "text/html": [
       "<div>\n",
       "<style scoped>\n",
       "    .dataframe tbody tr th:only-of-type {\n",
       "        vertical-align: middle;\n",
       "    }\n",
       "\n",
       "    .dataframe tbody tr th {\n",
       "        vertical-align: top;\n",
       "    }\n",
       "\n",
       "    .dataframe thead th {\n",
       "        text-align: right;\n",
       "    }\n",
       "</style>\n",
       "<table border=\"1\" class=\"dataframe\">\n",
       "  <thead>\n",
       "    <tr style=\"text-align: right;\">\n",
       "      <th></th>\n",
       "      <th>IS_SUCCESSFUL</th>\n",
       "      <th>INCOME_AMT_0</th>\n",
       "      <th>INCOME_AMT_1-9999</th>\n",
       "      <th>INCOME_AMT_10000-24999</th>\n",
       "      <th>INCOME_AMT_100000-499999</th>\n",
       "      <th>INCOME_AMT_10M-50M</th>\n",
       "      <th>INCOME_AMT_1M-5M</th>\n",
       "      <th>INCOME_AMT_25000-99999</th>\n",
       "      <th>INCOME_AMT_50M+</th>\n",
       "      <th>INCOME_AMT_5M-10M</th>\n",
       "      <th>...</th>\n",
       "      <th>ASK_AMT_1665460552</th>\n",
       "      <th>ASK_AMT_1736232349</th>\n",
       "      <th>ASK_AMT_1893400128</th>\n",
       "      <th>ASK_AMT_2264109450</th>\n",
       "      <th>ASK_AMT_2310256039</th>\n",
       "      <th>ASK_AMT_3391919220</th>\n",
       "      <th>ASK_AMT_4653011914</th>\n",
       "      <th>ASK_AMT_5591584994</th>\n",
       "      <th>ASK_AMT_8556638692</th>\n",
       "      <th>ASK_AMT_8597806340</th>\n",
       "    </tr>\n",
       "  </thead>\n",
       "  <tbody>\n",
       "    <tr>\n",
       "      <th>0</th>\n",
       "      <td>1</td>\n",
       "      <td>1</td>\n",
       "      <td>0</td>\n",
       "      <td>0</td>\n",
       "      <td>0</td>\n",
       "      <td>0</td>\n",
       "      <td>0</td>\n",
       "      <td>0</td>\n",
       "      <td>0</td>\n",
       "      <td>0</td>\n",
       "      <td>...</td>\n",
       "      <td>0</td>\n",
       "      <td>0</td>\n",
       "      <td>0</td>\n",
       "      <td>0</td>\n",
       "      <td>0</td>\n",
       "      <td>0</td>\n",
       "      <td>0</td>\n",
       "      <td>0</td>\n",
       "      <td>0</td>\n",
       "      <td>0</td>\n",
       "    </tr>\n",
       "    <tr>\n",
       "      <th>1</th>\n",
       "      <td>1</td>\n",
       "      <td>0</td>\n",
       "      <td>1</td>\n",
       "      <td>0</td>\n",
       "      <td>0</td>\n",
       "      <td>0</td>\n",
       "      <td>0</td>\n",
       "      <td>0</td>\n",
       "      <td>0</td>\n",
       "      <td>0</td>\n",
       "      <td>...</td>\n",
       "      <td>0</td>\n",
       "      <td>0</td>\n",
       "      <td>0</td>\n",
       "      <td>0</td>\n",
       "      <td>0</td>\n",
       "      <td>0</td>\n",
       "      <td>0</td>\n",
       "      <td>0</td>\n",
       "      <td>0</td>\n",
       "      <td>0</td>\n",
       "    </tr>\n",
       "    <tr>\n",
       "      <th>2</th>\n",
       "      <td>0</td>\n",
       "      <td>1</td>\n",
       "      <td>0</td>\n",
       "      <td>0</td>\n",
       "      <td>0</td>\n",
       "      <td>0</td>\n",
       "      <td>0</td>\n",
       "      <td>0</td>\n",
       "      <td>0</td>\n",
       "      <td>0</td>\n",
       "      <td>...</td>\n",
       "      <td>0</td>\n",
       "      <td>0</td>\n",
       "      <td>0</td>\n",
       "      <td>0</td>\n",
       "      <td>0</td>\n",
       "      <td>0</td>\n",
       "      <td>0</td>\n",
       "      <td>0</td>\n",
       "      <td>0</td>\n",
       "      <td>0</td>\n",
       "    </tr>\n",
       "    <tr>\n",
       "      <th>3</th>\n",
       "      <td>1</td>\n",
       "      <td>0</td>\n",
       "      <td>0</td>\n",
       "      <td>1</td>\n",
       "      <td>0</td>\n",
       "      <td>0</td>\n",
       "      <td>0</td>\n",
       "      <td>0</td>\n",
       "      <td>0</td>\n",
       "      <td>0</td>\n",
       "      <td>...</td>\n",
       "      <td>0</td>\n",
       "      <td>0</td>\n",
       "      <td>0</td>\n",
       "      <td>0</td>\n",
       "      <td>0</td>\n",
       "      <td>0</td>\n",
       "      <td>0</td>\n",
       "      <td>0</td>\n",
       "      <td>0</td>\n",
       "      <td>0</td>\n",
       "    </tr>\n",
       "    <tr>\n",
       "      <th>4</th>\n",
       "      <td>1</td>\n",
       "      <td>0</td>\n",
       "      <td>0</td>\n",
       "      <td>0</td>\n",
       "      <td>1</td>\n",
       "      <td>0</td>\n",
       "      <td>0</td>\n",
       "      <td>0</td>\n",
       "      <td>0</td>\n",
       "      <td>0</td>\n",
       "      <td>...</td>\n",
       "      <td>0</td>\n",
       "      <td>0</td>\n",
       "      <td>0</td>\n",
       "      <td>0</td>\n",
       "      <td>0</td>\n",
       "      <td>0</td>\n",
       "      <td>0</td>\n",
       "      <td>0</td>\n",
       "      <td>0</td>\n",
       "      <td>0</td>\n",
       "    </tr>\n",
       "  </tbody>\n",
       "</table>\n",
       "<p>5 rows × 8778 columns</p>\n",
       "</div>"
      ],
      "text/plain": [
       "   IS_SUCCESSFUL  INCOME_AMT_0  INCOME_AMT_1-9999  INCOME_AMT_10000-24999  \\\n",
       "0              1             1                  0                       0   \n",
       "1              1             0                  1                       0   \n",
       "2              0             1                  0                       0   \n",
       "3              1             0                  0                       1   \n",
       "4              1             0                  0                       0   \n",
       "\n",
       "   INCOME_AMT_100000-499999  INCOME_AMT_10M-50M  INCOME_AMT_1M-5M  \\\n",
       "0                         0                   0                 0   \n",
       "1                         0                   0                 0   \n",
       "2                         0                   0                 0   \n",
       "3                         0                   0                 0   \n",
       "4                         1                   0                 0   \n",
       "\n",
       "   INCOME_AMT_25000-99999  INCOME_AMT_50M+  INCOME_AMT_5M-10M  ...  \\\n",
       "0                       0                0                  0  ...   \n",
       "1                       0                0                  0  ...   \n",
       "2                       0                0                  0  ...   \n",
       "3                       0                0                  0  ...   \n",
       "4                       0                0                  0  ...   \n",
       "\n",
       "   ASK_AMT_1665460552  ASK_AMT_1736232349  ASK_AMT_1893400128  \\\n",
       "0                   0                   0                   0   \n",
       "1                   0                   0                   0   \n",
       "2                   0                   0                   0   \n",
       "3                   0                   0                   0   \n",
       "4                   0                   0                   0   \n",
       "\n",
       "   ASK_AMT_2264109450  ASK_AMT_2310256039  ASK_AMT_3391919220  \\\n",
       "0                   0                   0                   0   \n",
       "1                   0                   0                   0   \n",
       "2                   0                   0                   0   \n",
       "3                   0                   0                   0   \n",
       "4                   0                   0                   0   \n",
       "\n",
       "   ASK_AMT_4653011914  ASK_AMT_5591584994  ASK_AMT_8556638692  \\\n",
       "0                   0                   0                   0   \n",
       "1                   0                   0                   0   \n",
       "2                   0                   0                   0   \n",
       "3                   0                   0                   0   \n",
       "4                   0                   0                   0   \n",
       "\n",
       "   ASK_AMT_8597806340  \n",
       "0                   0  \n",
       "1                   0  \n",
       "2                   0  \n",
       "3                   0  \n",
       "4                   0  \n",
       "\n",
       "[5 rows x 8778 columns]"
      ]
     },
     "execution_count": 46,
     "metadata": {},
     "output_type": "execute_result"
    }
   ],
   "source": [
    "app_to_improve2 = pd.get_dummies(app_to_improve2, \n",
    "                                 columns=['INCOME_AMT', 'AFFILIATION', 'USE_CASE', 'APPLICATION_TYPE', 'ASK_AMT'], \n",
    "                                 dtype=int)\n",
    "app_to_improve2.head()"
   ]
  },
  {
   "cell_type": "code",
   "execution_count": 58,
   "metadata": {},
   "outputs": [],
   "source": [
    "# Split our preprocessed data into our features and target arrays\n",
    "\n",
    "X = app_to_improve2.drop('IS_SUCCESSFUL', axis=1)\n",
    "y = app_to_improve2['IS_SUCCESSFUL']\n",
    "\n",
    "# Split the preprocessed data into a training and testing dataset\n",
    "\n",
    "X_train, X_test, y_train, y_test = train_test_split(X, y, random_state = 2) # Create a StandardScaler instances\n",
    "scaler = StandardScaler()"
   ]
  },
  {
   "cell_type": "code",
   "execution_count": 59,
   "metadata": {},
   "outputs": [],
   "source": [
    "# Fit the StandardScaler\n",
    "X_scaler = scaler.fit(X_train)\n",
    "\n",
    "# Scale the data\n",
    "X_train_scaled = X_scaler.transform(X_train)\n",
    "X_test_scaled = X_scaler.transform(X_test)"
   ]
  },
  {
   "cell_type": "code",
   "execution_count": 60,
   "metadata": {},
   "outputs": [
    {
     "name": "stderr",
     "output_type": "stream",
     "text": [
      "/opt/anaconda3/envs/dev/lib/python3.10/site-packages/keras/src/layers/core/dense.py:87: UserWarning: Do not pass an `input_shape`/`input_dim` argument to a layer. When using Sequential models, prefer using an `Input(shape)` object as the first layer in the model instead.\n",
      "  super().__init__(activity_regularizer=activity_regularizer, **kwargs)\n"
     ]
    }
   ],
   "source": [
    "nn7 = tf.keras.models.Sequential()\n",
    "\n",
    "from tensorflow.keras.layers import Dense\n",
    "\n",
    "# First hidden layer\n",
    "\n",
    "nn7.add(Dense(60, input_dim=X_train.shape[1], activation='relu'))\n",
    "\n",
    "# Second hidden layer\n",
    "\n",
    "nn7.add(Dense(30, activation = 'relu'))\n",
    "\n",
    "\n",
    "nn7.add(Dense(15, activation = 'relu'))\n",
    "\n",
    "# Output layer\n",
    "\n",
    "nn7.add(Dense(1, activation='sigmoid'))\n",
    "\n"
   ]
  },
  {
   "cell_type": "code",
   "execution_count": 61,
   "metadata": {},
   "outputs": [
    {
     "data": {
      "text/html": [
       "<pre style=\"white-space:pre;overflow-x:auto;line-height:normal;font-family:Menlo,'DejaVu Sans Mono',consolas,'Courier New',monospace\"><span style=\"font-weight: bold\">Model: \"sequential_8\"</span>\n",
       "</pre>\n"
      ],
      "text/plain": [
       "\u001b[1mModel: \"sequential_8\"\u001b[0m\n"
      ]
     },
     "metadata": {},
     "output_type": "display_data"
    },
    {
     "data": {
      "text/html": [
       "<pre style=\"white-space:pre;overflow-x:auto;line-height:normal;font-family:Menlo,'DejaVu Sans Mono',consolas,'Courier New',monospace\">┏━━━━━━━━━━━━━━━━━━━━━━━━━━━━━━━━━┳━━━━━━━━━━━━━━━━━━━━━━━━┳━━━━━━━━━━━━━━━┓\n",
       "┃<span style=\"font-weight: bold\"> Layer (type)                    </span>┃<span style=\"font-weight: bold\"> Output Shape           </span>┃<span style=\"font-weight: bold\">       Param # </span>┃\n",
       "┡━━━━━━━━━━━━━━━━━━━━━━━━━━━━━━━━━╇━━━━━━━━━━━━━━━━━━━━━━━━╇━━━━━━━━━━━━━━━┩\n",
       "│ dense_30 (<span style=\"color: #0087ff; text-decoration-color: #0087ff\">Dense</span>)                │ (<span style=\"color: #00d7ff; text-decoration-color: #00d7ff\">None</span>, <span style=\"color: #00af00; text-decoration-color: #00af00\">60</span>)             │       <span style=\"color: #00af00; text-decoration-color: #00af00\">526,680</span> │\n",
       "├─────────────────────────────────┼────────────────────────┼───────────────┤\n",
       "│ dense_31 (<span style=\"color: #0087ff; text-decoration-color: #0087ff\">Dense</span>)                │ (<span style=\"color: #00d7ff; text-decoration-color: #00d7ff\">None</span>, <span style=\"color: #00af00; text-decoration-color: #00af00\">30</span>)             │         <span style=\"color: #00af00; text-decoration-color: #00af00\">1,830</span> │\n",
       "├─────────────────────────────────┼────────────────────────┼───────────────┤\n",
       "│ dense_32 (<span style=\"color: #0087ff; text-decoration-color: #0087ff\">Dense</span>)                │ (<span style=\"color: #00d7ff; text-decoration-color: #00d7ff\">None</span>, <span style=\"color: #00af00; text-decoration-color: #00af00\">15</span>)             │           <span style=\"color: #00af00; text-decoration-color: #00af00\">465</span> │\n",
       "├─────────────────────────────────┼────────────────────────┼───────────────┤\n",
       "│ dense_33 (<span style=\"color: #0087ff; text-decoration-color: #0087ff\">Dense</span>)                │ (<span style=\"color: #00d7ff; text-decoration-color: #00d7ff\">None</span>, <span style=\"color: #00af00; text-decoration-color: #00af00\">1</span>)              │            <span style=\"color: #00af00; text-decoration-color: #00af00\">16</span> │\n",
       "└─────────────────────────────────┴────────────────────────┴───────────────┘\n",
       "</pre>\n"
      ],
      "text/plain": [
       "┏━━━━━━━━━━━━━━━━━━━━━━━━━━━━━━━━━┳━━━━━━━━━━━━━━━━━━━━━━━━┳━━━━━━━━━━━━━━━┓\n",
       "┃\u001b[1m \u001b[0m\u001b[1mLayer (type)                   \u001b[0m\u001b[1m \u001b[0m┃\u001b[1m \u001b[0m\u001b[1mOutput Shape          \u001b[0m\u001b[1m \u001b[0m┃\u001b[1m \u001b[0m\u001b[1m      Param #\u001b[0m\u001b[1m \u001b[0m┃\n",
       "┡━━━━━━━━━━━━━━━━━━━━━━━━━━━━━━━━━╇━━━━━━━━━━━━━━━━━━━━━━━━╇━━━━━━━━━━━━━━━┩\n",
       "│ dense_30 (\u001b[38;5;33mDense\u001b[0m)                │ (\u001b[38;5;45mNone\u001b[0m, \u001b[38;5;34m60\u001b[0m)             │       \u001b[38;5;34m526,680\u001b[0m │\n",
       "├─────────────────────────────────┼────────────────────────┼───────────────┤\n",
       "│ dense_31 (\u001b[38;5;33mDense\u001b[0m)                │ (\u001b[38;5;45mNone\u001b[0m, \u001b[38;5;34m30\u001b[0m)             │         \u001b[38;5;34m1,830\u001b[0m │\n",
       "├─────────────────────────────────┼────────────────────────┼───────────────┤\n",
       "│ dense_32 (\u001b[38;5;33mDense\u001b[0m)                │ (\u001b[38;5;45mNone\u001b[0m, \u001b[38;5;34m15\u001b[0m)             │           \u001b[38;5;34m465\u001b[0m │\n",
       "├─────────────────────────────────┼────────────────────────┼───────────────┤\n",
       "│ dense_33 (\u001b[38;5;33mDense\u001b[0m)                │ (\u001b[38;5;45mNone\u001b[0m, \u001b[38;5;34m1\u001b[0m)              │            \u001b[38;5;34m16\u001b[0m │\n",
       "└─────────────────────────────────┴────────────────────────┴───────────────┘\n"
      ]
     },
     "metadata": {},
     "output_type": "display_data"
    },
    {
     "data": {
      "text/html": [
       "<pre style=\"white-space:pre;overflow-x:auto;line-height:normal;font-family:Menlo,'DejaVu Sans Mono',consolas,'Courier New',monospace\"><span style=\"font-weight: bold\"> Total params: </span><span style=\"color: #00af00; text-decoration-color: #00af00\">528,991</span> (2.02 MB)\n",
       "</pre>\n"
      ],
      "text/plain": [
       "\u001b[1m Total params: \u001b[0m\u001b[38;5;34m528,991\u001b[0m (2.02 MB)\n"
      ]
     },
     "metadata": {},
     "output_type": "display_data"
    },
    {
     "data": {
      "text/html": [
       "<pre style=\"white-space:pre;overflow-x:auto;line-height:normal;font-family:Menlo,'DejaVu Sans Mono',consolas,'Courier New',monospace\"><span style=\"font-weight: bold\"> Trainable params: </span><span style=\"color: #00af00; text-decoration-color: #00af00\">528,991</span> (2.02 MB)\n",
       "</pre>\n"
      ],
      "text/plain": [
       "\u001b[1m Trainable params: \u001b[0m\u001b[38;5;34m528,991\u001b[0m (2.02 MB)\n"
      ]
     },
     "metadata": {},
     "output_type": "display_data"
    },
    {
     "data": {
      "text/html": [
       "<pre style=\"white-space:pre;overflow-x:auto;line-height:normal;font-family:Menlo,'DejaVu Sans Mono',consolas,'Courier New',monospace\"><span style=\"font-weight: bold\"> Non-trainable params: </span><span style=\"color: #00af00; text-decoration-color: #00af00\">0</span> (0.00 B)\n",
       "</pre>\n"
      ],
      "text/plain": [
       "\u001b[1m Non-trainable params: \u001b[0m\u001b[38;5;34m0\u001b[0m (0.00 B)\n"
      ]
     },
     "metadata": {},
     "output_type": "display_data"
    },
    {
     "data": {
      "text/html": [
       "<pre style=\"white-space:pre;overflow-x:auto;line-height:normal;font-family:Menlo,'DejaVu Sans Mono',consolas,'Courier New',monospace\"><span style=\"font-weight: bold\">Model: \"sequential_8\"</span>\n",
       "</pre>\n"
      ],
      "text/plain": [
       "\u001b[1mModel: \"sequential_8\"\u001b[0m\n"
      ]
     },
     "metadata": {},
     "output_type": "display_data"
    },
    {
     "data": {
      "text/html": [
       "<pre style=\"white-space:pre;overflow-x:auto;line-height:normal;font-family:Menlo,'DejaVu Sans Mono',consolas,'Courier New',monospace\">┏━━━━━━━━━━━━━━━━━━━━━━━━━━━━━━━━━┳━━━━━━━━━━━━━━━━━━━━━━━━┳━━━━━━━━━━━━━━━┓\n",
       "┃<span style=\"font-weight: bold\"> Layer (type)                    </span>┃<span style=\"font-weight: bold\"> Output Shape           </span>┃<span style=\"font-weight: bold\">       Param # </span>┃\n",
       "┡━━━━━━━━━━━━━━━━━━━━━━━━━━━━━━━━━╇━━━━━━━━━━━━━━━━━━━━━━━━╇━━━━━━━━━━━━━━━┩\n",
       "│ dense_30 (<span style=\"color: #0087ff; text-decoration-color: #0087ff\">Dense</span>)                │ (<span style=\"color: #00d7ff; text-decoration-color: #00d7ff\">None</span>, <span style=\"color: #00af00; text-decoration-color: #00af00\">60</span>)             │       <span style=\"color: #00af00; text-decoration-color: #00af00\">526,680</span> │\n",
       "├─────────────────────────────────┼────────────────────────┼───────────────┤\n",
       "│ dense_31 (<span style=\"color: #0087ff; text-decoration-color: #0087ff\">Dense</span>)                │ (<span style=\"color: #00d7ff; text-decoration-color: #00d7ff\">None</span>, <span style=\"color: #00af00; text-decoration-color: #00af00\">30</span>)             │         <span style=\"color: #00af00; text-decoration-color: #00af00\">1,830</span> │\n",
       "├─────────────────────────────────┼────────────────────────┼───────────────┤\n",
       "│ dense_32 (<span style=\"color: #0087ff; text-decoration-color: #0087ff\">Dense</span>)                │ (<span style=\"color: #00d7ff; text-decoration-color: #00d7ff\">None</span>, <span style=\"color: #00af00; text-decoration-color: #00af00\">15</span>)             │           <span style=\"color: #00af00; text-decoration-color: #00af00\">465</span> │\n",
       "├─────────────────────────────────┼────────────────────────┼───────────────┤\n",
       "│ dense_33 (<span style=\"color: #0087ff; text-decoration-color: #0087ff\">Dense</span>)                │ (<span style=\"color: #00d7ff; text-decoration-color: #00d7ff\">None</span>, <span style=\"color: #00af00; text-decoration-color: #00af00\">1</span>)              │            <span style=\"color: #00af00; text-decoration-color: #00af00\">16</span> │\n",
       "└─────────────────────────────────┴────────────────────────┴───────────────┘\n",
       "</pre>\n"
      ],
      "text/plain": [
       "┏━━━━━━━━━━━━━━━━━━━━━━━━━━━━━━━━━┳━━━━━━━━━━━━━━━━━━━━━━━━┳━━━━━━━━━━━━━━━┓\n",
       "┃\u001b[1m \u001b[0m\u001b[1mLayer (type)                   \u001b[0m\u001b[1m \u001b[0m┃\u001b[1m \u001b[0m\u001b[1mOutput Shape          \u001b[0m\u001b[1m \u001b[0m┃\u001b[1m \u001b[0m\u001b[1m      Param #\u001b[0m\u001b[1m \u001b[0m┃\n",
       "┡━━━━━━━━━━━━━━━━━━━━━━━━━━━━━━━━━╇━━━━━━━━━━━━━━━━━━━━━━━━╇━━━━━━━━━━━━━━━┩\n",
       "│ dense_30 (\u001b[38;5;33mDense\u001b[0m)                │ (\u001b[38;5;45mNone\u001b[0m, \u001b[38;5;34m60\u001b[0m)             │       \u001b[38;5;34m526,680\u001b[0m │\n",
       "├─────────────────────────────────┼────────────────────────┼───────────────┤\n",
       "│ dense_31 (\u001b[38;5;33mDense\u001b[0m)                │ (\u001b[38;5;45mNone\u001b[0m, \u001b[38;5;34m30\u001b[0m)             │         \u001b[38;5;34m1,830\u001b[0m │\n",
       "├─────────────────────────────────┼────────────────────────┼───────────────┤\n",
       "│ dense_32 (\u001b[38;5;33mDense\u001b[0m)                │ (\u001b[38;5;45mNone\u001b[0m, \u001b[38;5;34m15\u001b[0m)             │           \u001b[38;5;34m465\u001b[0m │\n",
       "├─────────────────────────────────┼────────────────────────┼───────────────┤\n",
       "│ dense_33 (\u001b[38;5;33mDense\u001b[0m)                │ (\u001b[38;5;45mNone\u001b[0m, \u001b[38;5;34m1\u001b[0m)              │            \u001b[38;5;34m16\u001b[0m │\n",
       "└─────────────────────────────────┴────────────────────────┴───────────────┘\n"
      ]
     },
     "metadata": {},
     "output_type": "display_data"
    },
    {
     "data": {
      "text/html": [
       "<pre style=\"white-space:pre;overflow-x:auto;line-height:normal;font-family:Menlo,'DejaVu Sans Mono',consolas,'Courier New',monospace\"><span style=\"font-weight: bold\"> Total params: </span><span style=\"color: #00af00; text-decoration-color: #00af00\">528,991</span> (2.02 MB)\n",
       "</pre>\n"
      ],
      "text/plain": [
       "\u001b[1m Total params: \u001b[0m\u001b[38;5;34m528,991\u001b[0m (2.02 MB)\n"
      ]
     },
     "metadata": {},
     "output_type": "display_data"
    },
    {
     "data": {
      "text/html": [
       "<pre style=\"white-space:pre;overflow-x:auto;line-height:normal;font-family:Menlo,'DejaVu Sans Mono',consolas,'Courier New',monospace\"><span style=\"font-weight: bold\"> Trainable params: </span><span style=\"color: #00af00; text-decoration-color: #00af00\">528,991</span> (2.02 MB)\n",
       "</pre>\n"
      ],
      "text/plain": [
       "\u001b[1m Trainable params: \u001b[0m\u001b[38;5;34m528,991\u001b[0m (2.02 MB)\n"
      ]
     },
     "metadata": {},
     "output_type": "display_data"
    },
    {
     "data": {
      "text/html": [
       "<pre style=\"white-space:pre;overflow-x:auto;line-height:normal;font-family:Menlo,'DejaVu Sans Mono',consolas,'Courier New',monospace\"><span style=\"font-weight: bold\"> Non-trainable params: </span><span style=\"color: #00af00; text-decoration-color: #00af00\">0</span> (0.00 B)\n",
       "</pre>\n"
      ],
      "text/plain": [
       "\u001b[1m Non-trainable params: \u001b[0m\u001b[38;5;34m0\u001b[0m (0.00 B)\n"
      ]
     },
     "metadata": {},
     "output_type": "display_data"
    },
    {
     "name": "stdout",
     "output_type": "stream",
     "text": [
      "Epoch 1/25\n",
      "858/858 - 3s - 4ms/step - accuracy: 0.7169 - loss: 0.5883 - val_accuracy: 0.7282 - val_loss: 0.5716\n",
      "Epoch 2/25\n",
      "858/858 - 3s - 3ms/step - accuracy: 0.7621 - loss: 0.5292 - val_accuracy: 0.6894 - val_loss: 0.6017\n",
      "Epoch 3/25\n",
      "858/858 - 2s - 3ms/step - accuracy: 0.8061 - loss: 0.4307 - val_accuracy: 0.7212 - val_loss: 0.6142\n",
      "Epoch 4/25\n",
      "858/858 - 2s - 3ms/step - accuracy: 0.8075 - loss: 0.4182 - val_accuracy: 0.7235 - val_loss: 0.6331\n",
      "Epoch 5/25\n",
      "858/858 - 2s - 3ms/step - accuracy: 0.8089 - loss: 0.4162 - val_accuracy: 0.7177 - val_loss: 0.6041\n",
      "Epoch 6/25\n",
      "858/858 - 2s - 3ms/step - accuracy: 0.8077 - loss: 0.4157 - val_accuracy: 0.6844 - val_loss: 0.7328\n",
      "Epoch 7/25\n",
      "858/858 - 2s - 3ms/step - accuracy: 0.8089 - loss: 0.4146 - val_accuracy: 0.7141 - val_loss: 0.6525\n",
      "Epoch 8/25\n",
      "858/858 - 2s - 3ms/step - accuracy: 0.8084 - loss: 0.4137 - val_accuracy: 0.6960 - val_loss: 0.6769\n",
      "Epoch 9/25\n",
      "858/858 - 2s - 3ms/step - accuracy: 0.8092 - loss: 0.4129 - val_accuracy: 0.7102 - val_loss: 0.6325\n",
      "Epoch 10/25\n",
      "858/858 - 2s - 3ms/step - accuracy: 0.8089 - loss: 0.4130 - val_accuracy: 0.7250 - val_loss: 0.6727\n",
      "Epoch 11/25\n",
      "858/858 - 2s - 3ms/step - accuracy: 0.8094 - loss: 0.4126 - val_accuracy: 0.7029 - val_loss: 0.6617\n",
      "Epoch 12/25\n",
      "858/858 - 2s - 3ms/step - accuracy: 0.8096 - loss: 0.4125 - val_accuracy: 0.7167 - val_loss: 0.6147\n",
      "Epoch 13/25\n",
      "858/858 - 2s - 3ms/step - accuracy: 0.8101 - loss: 0.4121 - val_accuracy: 0.7023 - val_loss: 0.6497\n",
      "Epoch 14/25\n",
      "858/858 - 2s - 3ms/step - accuracy: 0.8095 - loss: 0.4118 - val_accuracy: 0.7064 - val_loss: 0.6633\n",
      "Epoch 15/25\n",
      "858/858 - 2s - 3ms/step - accuracy: 0.8094 - loss: 0.4122 - val_accuracy: 0.7111 - val_loss: 0.6408\n",
      "Epoch 16/25\n",
      "858/858 - 3s - 3ms/step - accuracy: 0.8099 - loss: 0.4116 - val_accuracy: 0.7032 - val_loss: 0.6805\n",
      "Epoch 17/25\n",
      "858/858 - 2s - 3ms/step - accuracy: 0.8099 - loss: 0.4113 - val_accuracy: 0.7255 - val_loss: 0.6352\n",
      "Epoch 18/25\n",
      "858/858 - 2s - 3ms/step - accuracy: 0.8102 - loss: 0.4112 - val_accuracy: 0.7241 - val_loss: 0.6444\n",
      "Epoch 19/25\n",
      "858/858 - 2s - 3ms/step - accuracy: 0.8101 - loss: 0.4111 - val_accuracy: 0.7186 - val_loss: 0.6634\n",
      "Epoch 20/25\n",
      "858/858 - 2s - 3ms/step - accuracy: 0.8094 - loss: 0.4116 - val_accuracy: 0.7102 - val_loss: 0.6710\n",
      "Epoch 21/25\n",
      "858/858 - 2s - 3ms/step - accuracy: 0.8097 - loss: 0.4106 - val_accuracy: 0.7104 - val_loss: 0.6480\n",
      "Epoch 22/25\n",
      "858/858 - 2s - 3ms/step - accuracy: 0.8096 - loss: 0.4106 - val_accuracy: 0.7118 - val_loss: 0.6611\n",
      "Epoch 23/25\n",
      "858/858 - 3s - 3ms/step - accuracy: 0.8097 - loss: 0.4109 - val_accuracy: 0.7270 - val_loss: 0.6797\n",
      "Epoch 24/25\n",
      "858/858 - 2s - 3ms/step - accuracy: 0.8100 - loss: 0.4105 - val_accuracy: 0.7186 - val_loss: 0.6815\n",
      "Epoch 25/25\n",
      "858/858 - 3s - 4ms/step - accuracy: 0.8099 - loss: 0.4103 - val_accuracy: 0.7053 - val_loss: 0.8210\n"
     ]
    }
   ],
   "source": [
    "# Check the structure of the model\n",
    "nn7.summary()  # Compile the model\n",
    "nn7.compile(loss='binary_crossentropy', optimizer='adam', metrics=['accuracy'])\n",
    "nn7.summary() # Train the model\n",
    "history = nn7.fit(X_train, y_train, \n",
    "                 epochs=25,\n",
    "                 batch_size=30,\n",
    "                 validation_data=(X_test, y_test),\n",
    "                 verbose=2)  # Evaluate the model using the test data\n"
   ]
  },
  {
   "cell_type": "code",
   "execution_count": 62,
   "metadata": {},
   "outputs": [
    {
     "name": "stdout",
     "output_type": "stream",
     "text": [
      "268/268 - 0s - 1ms/step - accuracy: 0.5080 - loss: 5.9859\n",
      "Loss: 5.985931396484375, Accuracy: 0.5079883337020874\n"
     ]
    }
   ],
   "source": [
    "model_loss, model_accuracy = nn7.evaluate(X_test_scaled,y_test,verbose=2)\n",
    "print(f\"Loss: {model_loss}, Accuracy: {model_accuracy}\") "
   ]
  },
  {
   "cell_type": "code",
   "execution_count": 63,
   "metadata": {},
   "outputs": [
    {
     "name": "stderr",
     "output_type": "stream",
     "text": [
      "WARNING:absl:You are saving your model as an HDF5 file via `model.save()` or `keras.saving.save_model(model)`. This file format is considered legacy. We recommend using instead the native Keras format, e.g. `model.save('my_model.keras')` or `keras.saving.save_model(model, 'my_model.keras')`. \n"
     ]
    }
   ],
   "source": [
    "# Export our model to HDF5 file\n",
    "nn2.save('AlphabetSoupCharity_Optimization.h5')  "
   ]
  },
  {
   "cell_type": "code",
   "execution_count": 64,
   "metadata": {},
   "outputs": [
    {
     "name": "stderr",
     "output_type": "stream",
     "text": [
      "WARNING:absl:Compiled the loaded model, but the compiled metrics have yet to be built. `model.compile_metrics` will be empty until you train or evaluate the model.\n"
     ]
    },
    {
     "data": {
      "text/html": [
       "<pre style=\"white-space:pre;overflow-x:auto;line-height:normal;font-family:Menlo,'DejaVu Sans Mono',consolas,'Courier New',monospace\"><span style=\"font-weight: bold\">Model: \"sequential_1\"</span>\n",
       "</pre>\n"
      ],
      "text/plain": [
       "\u001b[1mModel: \"sequential_1\"\u001b[0m\n"
      ]
     },
     "metadata": {},
     "output_type": "display_data"
    },
    {
     "data": {
      "text/html": [
       "<pre style=\"white-space:pre;overflow-x:auto;line-height:normal;font-family:Menlo,'DejaVu Sans Mono',consolas,'Courier New',monospace\">┏━━━━━━━━━━━━━━━━━━━━━━━━━━━━━━━━━┳━━━━━━━━━━━━━━━━━━━━━━━━┳━━━━━━━━━━━━━━━┓\n",
       "┃<span style=\"font-weight: bold\"> Layer (type)                    </span>┃<span style=\"font-weight: bold\"> Output Shape           </span>┃<span style=\"font-weight: bold\">       Param # </span>┃\n",
       "┡━━━━━━━━━━━━━━━━━━━━━━━━━━━━━━━━━╇━━━━━━━━━━━━━━━━━━━━━━━━╇━━━━━━━━━━━━━━━┩\n",
       "│ dense_3 (<span style=\"color: #0087ff; text-decoration-color: #0087ff\">Dense</span>)                 │ (<span style=\"color: #00d7ff; text-decoration-color: #00d7ff\">None</span>, <span style=\"color: #00af00; text-decoration-color: #00af00\">60</span>)             │         <span style=\"color: #00af00; text-decoration-color: #00af00\">3,060</span> │\n",
       "├─────────────────────────────────┼────────────────────────┼───────────────┤\n",
       "│ dense_4 (<span style=\"color: #0087ff; text-decoration-color: #0087ff\">Dense</span>)                 │ (<span style=\"color: #00d7ff; text-decoration-color: #00d7ff\">None</span>, <span style=\"color: #00af00; text-decoration-color: #00af00\">30</span>)             │         <span style=\"color: #00af00; text-decoration-color: #00af00\">1,830</span> │\n",
       "├─────────────────────────────────┼────────────────────────┼───────────────┤\n",
       "│ dense_5 (<span style=\"color: #0087ff; text-decoration-color: #0087ff\">Dense</span>)                 │ (<span style=\"color: #00d7ff; text-decoration-color: #00d7ff\">None</span>, <span style=\"color: #00af00; text-decoration-color: #00af00\">15</span>)             │           <span style=\"color: #00af00; text-decoration-color: #00af00\">465</span> │\n",
       "├─────────────────────────────────┼────────────────────────┼───────────────┤\n",
       "│ dense_6 (<span style=\"color: #0087ff; text-decoration-color: #0087ff\">Dense</span>)                 │ (<span style=\"color: #00d7ff; text-decoration-color: #00d7ff\">None</span>, <span style=\"color: #00af00; text-decoration-color: #00af00\">1</span>)              │            <span style=\"color: #00af00; text-decoration-color: #00af00\">16</span> │\n",
       "└─────────────────────────────────┴────────────────────────┴───────────────┘\n",
       "</pre>\n"
      ],
      "text/plain": [
       "┏━━━━━━━━━━━━━━━━━━━━━━━━━━━━━━━━━┳━━━━━━━━━━━━━━━━━━━━━━━━┳━━━━━━━━━━━━━━━┓\n",
       "┃\u001b[1m \u001b[0m\u001b[1mLayer (type)                   \u001b[0m\u001b[1m \u001b[0m┃\u001b[1m \u001b[0m\u001b[1mOutput Shape          \u001b[0m\u001b[1m \u001b[0m┃\u001b[1m \u001b[0m\u001b[1m      Param #\u001b[0m\u001b[1m \u001b[0m┃\n",
       "┡━━━━━━━━━━━━━━━━━━━━━━━━━━━━━━━━━╇━━━━━━━━━━━━━━━━━━━━━━━━╇━━━━━━━━━━━━━━━┩\n",
       "│ dense_3 (\u001b[38;5;33mDense\u001b[0m)                 │ (\u001b[38;5;45mNone\u001b[0m, \u001b[38;5;34m60\u001b[0m)             │         \u001b[38;5;34m3,060\u001b[0m │\n",
       "├─────────────────────────────────┼────────────────────────┼───────────────┤\n",
       "│ dense_4 (\u001b[38;5;33mDense\u001b[0m)                 │ (\u001b[38;5;45mNone\u001b[0m, \u001b[38;5;34m30\u001b[0m)             │         \u001b[38;5;34m1,830\u001b[0m │\n",
       "├─────────────────────────────────┼────────────────────────┼───────────────┤\n",
       "│ dense_5 (\u001b[38;5;33mDense\u001b[0m)                 │ (\u001b[38;5;45mNone\u001b[0m, \u001b[38;5;34m15\u001b[0m)             │           \u001b[38;5;34m465\u001b[0m │\n",
       "├─────────────────────────────────┼────────────────────────┼───────────────┤\n",
       "│ dense_6 (\u001b[38;5;33mDense\u001b[0m)                 │ (\u001b[38;5;45mNone\u001b[0m, \u001b[38;5;34m1\u001b[0m)              │            \u001b[38;5;34m16\u001b[0m │\n",
       "└─────────────────────────────────┴────────────────────────┴───────────────┘\n"
      ]
     },
     "metadata": {},
     "output_type": "display_data"
    },
    {
     "data": {
      "text/html": [
       "<pre style=\"white-space:pre;overflow-x:auto;line-height:normal;font-family:Menlo,'DejaVu Sans Mono',consolas,'Courier New',monospace\"><span style=\"font-weight: bold\"> Total params: </span><span style=\"color: #00af00; text-decoration-color: #00af00\">5,373</span> (20.99 KB)\n",
       "</pre>\n"
      ],
      "text/plain": [
       "\u001b[1m Total params: \u001b[0m\u001b[38;5;34m5,373\u001b[0m (20.99 KB)\n"
      ]
     },
     "metadata": {},
     "output_type": "display_data"
    },
    {
     "data": {
      "text/html": [
       "<pre style=\"white-space:pre;overflow-x:auto;line-height:normal;font-family:Menlo,'DejaVu Sans Mono',consolas,'Courier New',monospace\"><span style=\"font-weight: bold\"> Trainable params: </span><span style=\"color: #00af00; text-decoration-color: #00af00\">5,371</span> (20.98 KB)\n",
       "</pre>\n"
      ],
      "text/plain": [
       "\u001b[1m Trainable params: \u001b[0m\u001b[38;5;34m5,371\u001b[0m (20.98 KB)\n"
      ]
     },
     "metadata": {},
     "output_type": "display_data"
    },
    {
     "data": {
      "text/html": [
       "<pre style=\"white-space:pre;overflow-x:auto;line-height:normal;font-family:Menlo,'DejaVu Sans Mono',consolas,'Courier New',monospace\"><span style=\"font-weight: bold\"> Non-trainable params: </span><span style=\"color: #00af00; text-decoration-color: #00af00\">0</span> (0.00 B)\n",
       "</pre>\n"
      ],
      "text/plain": [
       "\u001b[1m Non-trainable params: \u001b[0m\u001b[38;5;34m0\u001b[0m (0.00 B)\n"
      ]
     },
     "metadata": {},
     "output_type": "display_data"
    },
    {
     "data": {
      "text/html": [
       "<pre style=\"white-space:pre;overflow-x:auto;line-height:normal;font-family:Menlo,'DejaVu Sans Mono',consolas,'Courier New',monospace\"><span style=\"font-weight: bold\"> Optimizer params: </span><span style=\"color: #00af00; text-decoration-color: #00af00\">2</span> (12.00 B)\n",
       "</pre>\n"
      ],
      "text/plain": [
       "\u001b[1m Optimizer params: \u001b[0m\u001b[38;5;34m2\u001b[0m (12.00 B)\n"
      ]
     },
     "metadata": {},
     "output_type": "display_data"
    }
   ],
   "source": [
    "from tensorflow.keras.models import load_model\n",
    "loaded_model = load_model('AlphabetSoupCharity_Optimization.h5')\n",
    "\n",
    "loaded_model.summary() "
   ]
  },
  {
   "cell_type": "code",
   "execution_count": null,
   "metadata": {},
   "outputs": [],
   "source": []
  },
  {
   "cell_type": "code",
   "execution_count": null,
   "metadata": {},
   "outputs": [],
   "source": []
  }
 ],
 "metadata": {
  "kernelspec": {
   "display_name": "Python 3 (ipykernel)",
   "language": "python",
   "name": "python3"
  },
  "language_info": {
   "codemirror_mode": {
    "name": "ipython",
    "version": 3
   },
   "file_extension": ".py",
   "mimetype": "text/x-python",
   "name": "python",
   "nbconvert_exporter": "python",
   "pygments_lexer": "ipython3",
   "version": "3.10.13"
  },
  "vscode": {
   "interpreter": {
    "hash": "31f2aee4e71d21fbe5cf8b01ff0e069b9275f58929596ceb00d14d90e3e16cd6"
   }
  }
 },
 "nbformat": 4,
 "nbformat_minor": 4
}
