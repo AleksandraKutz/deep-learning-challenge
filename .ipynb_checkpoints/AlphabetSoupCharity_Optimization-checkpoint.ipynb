{
 "cells": [
  {
   "cell_type": "markdown",
   "metadata": {},
   "source": [
    "## Preprocessing"
   ]
  },
  {
   "cell_type": "code",
   "execution_count": 47,
   "metadata": {},
   "outputs": [
    {
     "data": {
      "text/html": [
       "<div>\n",
       "<style scoped>\n",
       "    .dataframe tbody tr th:only-of-type {\n",
       "        vertical-align: middle;\n",
       "    }\n",
       "\n",
       "    .dataframe tbody tr th {\n",
       "        vertical-align: top;\n",
       "    }\n",
       "\n",
       "    .dataframe thead th {\n",
       "        text-align: right;\n",
       "    }\n",
       "</style>\n",
       "<table border=\"1\" class=\"dataframe\">\n",
       "  <thead>\n",
       "    <tr style=\"text-align: right;\">\n",
       "      <th></th>\n",
       "      <th>EIN</th>\n",
       "      <th>NAME</th>\n",
       "      <th>APPLICATION_TYPE</th>\n",
       "      <th>AFFILIATION</th>\n",
       "      <th>CLASSIFICATION</th>\n",
       "      <th>USE_CASE</th>\n",
       "      <th>ORGANIZATION</th>\n",
       "      <th>STATUS</th>\n",
       "      <th>INCOME_AMT</th>\n",
       "      <th>SPECIAL_CONSIDERATIONS</th>\n",
       "      <th>ASK_AMT</th>\n",
       "      <th>IS_SUCCESSFUL</th>\n",
       "    </tr>\n",
       "  </thead>\n",
       "  <tbody>\n",
       "    <tr>\n",
       "      <th>0</th>\n",
       "      <td>10520599</td>\n",
       "      <td>BLUE KNIGHTS MOTORCYCLE CLUB</td>\n",
       "      <td>T10</td>\n",
       "      <td>Independent</td>\n",
       "      <td>C1000</td>\n",
       "      <td>ProductDev</td>\n",
       "      <td>Association</td>\n",
       "      <td>1</td>\n",
       "      <td>0</td>\n",
       "      <td>N</td>\n",
       "      <td>5000</td>\n",
       "      <td>1</td>\n",
       "    </tr>\n",
       "    <tr>\n",
       "      <th>1</th>\n",
       "      <td>10531628</td>\n",
       "      <td>AMERICAN CHESAPEAKE CLUB CHARITABLE TR</td>\n",
       "      <td>T3</td>\n",
       "      <td>Independent</td>\n",
       "      <td>C2000</td>\n",
       "      <td>Preservation</td>\n",
       "      <td>Co-operative</td>\n",
       "      <td>1</td>\n",
       "      <td>1-9999</td>\n",
       "      <td>N</td>\n",
       "      <td>108590</td>\n",
       "      <td>1</td>\n",
       "    </tr>\n",
       "    <tr>\n",
       "      <th>2</th>\n",
       "      <td>10547893</td>\n",
       "      <td>ST CLOUD PROFESSIONAL FIREFIGHTERS</td>\n",
       "      <td>T5</td>\n",
       "      <td>CompanySponsored</td>\n",
       "      <td>C3000</td>\n",
       "      <td>ProductDev</td>\n",
       "      <td>Association</td>\n",
       "      <td>1</td>\n",
       "      <td>0</td>\n",
       "      <td>N</td>\n",
       "      <td>5000</td>\n",
       "      <td>0</td>\n",
       "    </tr>\n",
       "    <tr>\n",
       "      <th>3</th>\n",
       "      <td>10553066</td>\n",
       "      <td>SOUTHSIDE ATHLETIC ASSOCIATION</td>\n",
       "      <td>T3</td>\n",
       "      <td>CompanySponsored</td>\n",
       "      <td>C2000</td>\n",
       "      <td>Preservation</td>\n",
       "      <td>Trust</td>\n",
       "      <td>1</td>\n",
       "      <td>10000-24999</td>\n",
       "      <td>N</td>\n",
       "      <td>6692</td>\n",
       "      <td>1</td>\n",
       "    </tr>\n",
       "    <tr>\n",
       "      <th>4</th>\n",
       "      <td>10556103</td>\n",
       "      <td>GENETIC RESEARCH INSTITUTE OF THE DESERT</td>\n",
       "      <td>T3</td>\n",
       "      <td>Independent</td>\n",
       "      <td>C1000</td>\n",
       "      <td>Heathcare</td>\n",
       "      <td>Trust</td>\n",
       "      <td>1</td>\n",
       "      <td>100000-499999</td>\n",
       "      <td>N</td>\n",
       "      <td>142590</td>\n",
       "      <td>1</td>\n",
       "    </tr>\n",
       "  </tbody>\n",
       "</table>\n",
       "</div>"
      ],
      "text/plain": [
       "        EIN                                      NAME APPLICATION_TYPE  \\\n",
       "0  10520599              BLUE KNIGHTS MOTORCYCLE CLUB              T10   \n",
       "1  10531628    AMERICAN CHESAPEAKE CLUB CHARITABLE TR               T3   \n",
       "2  10547893        ST CLOUD PROFESSIONAL FIREFIGHTERS               T5   \n",
       "3  10553066            SOUTHSIDE ATHLETIC ASSOCIATION               T3   \n",
       "4  10556103  GENETIC RESEARCH INSTITUTE OF THE DESERT               T3   \n",
       "\n",
       "        AFFILIATION CLASSIFICATION      USE_CASE  ORGANIZATION  STATUS  \\\n",
       "0       Independent          C1000    ProductDev   Association       1   \n",
       "1       Independent          C2000  Preservation  Co-operative       1   \n",
       "2  CompanySponsored          C3000    ProductDev   Association       1   \n",
       "3  CompanySponsored          C2000  Preservation         Trust       1   \n",
       "4       Independent          C1000     Heathcare         Trust       1   \n",
       "\n",
       "      INCOME_AMT SPECIAL_CONSIDERATIONS  ASK_AMT  IS_SUCCESSFUL  \n",
       "0              0                      N     5000              1  \n",
       "1         1-9999                      N   108590              1  \n",
       "2              0                      N     5000              0  \n",
       "3    10000-24999                      N     6692              1  \n",
       "4  100000-499999                      N   142590              1  "
      ]
     },
     "execution_count": 47,
     "metadata": {},
     "output_type": "execute_result"
    }
   ],
   "source": [
    "# Import our dependencies\n",
    "from sklearn.model_selection import train_test_split\n",
    "from sklearn.preprocessing import StandardScaler\n",
    "import pandas as pd\n",
    "import tensorflow as tf\n",
    "\n",
    "#  Import and read the charity_data.csv.\n",
    "import pandas as pd\n",
    "application_df = pd.read_csv(\"https://static.bc-edx.com/data/dl-1-2/m21/lms/starter/charity_data.csv\")\n",
    "application_df.head()"
   ]
  },
  {
   "cell_type": "code",
   "execution_count": 48,
   "metadata": {},
   "outputs": [
    {
     "data": {
      "text/html": [
       "<div>\n",
       "<style scoped>\n",
       "    .dataframe tbody tr th:only-of-type {\n",
       "        vertical-align: middle;\n",
       "    }\n",
       "\n",
       "    .dataframe tbody tr th {\n",
       "        vertical-align: top;\n",
       "    }\n",
       "\n",
       "    .dataframe thead th {\n",
       "        text-align: right;\n",
       "    }\n",
       "</style>\n",
       "<table border=\"1\" class=\"dataframe\">\n",
       "  <thead>\n",
       "    <tr style=\"text-align: right;\">\n",
       "      <th></th>\n",
       "      <th>APPLICATION_TYPE</th>\n",
       "      <th>AFFILIATION</th>\n",
       "      <th>CLASSIFICATION</th>\n",
       "      <th>USE_CASE</th>\n",
       "      <th>ORGANIZATION</th>\n",
       "      <th>STATUS</th>\n",
       "      <th>INCOME_AMT</th>\n",
       "      <th>SPECIAL_CONSIDERATIONS</th>\n",
       "      <th>ASK_AMT</th>\n",
       "      <th>IS_SUCCESSFUL</th>\n",
       "    </tr>\n",
       "  </thead>\n",
       "  <tbody>\n",
       "    <tr>\n",
       "      <th>0</th>\n",
       "      <td>T10</td>\n",
       "      <td>Independent</td>\n",
       "      <td>C1000</td>\n",
       "      <td>ProductDev</td>\n",
       "      <td>Association</td>\n",
       "      <td>1</td>\n",
       "      <td>0</td>\n",
       "      <td>N</td>\n",
       "      <td>5000</td>\n",
       "      <td>1</td>\n",
       "    </tr>\n",
       "    <tr>\n",
       "      <th>1</th>\n",
       "      <td>T3</td>\n",
       "      <td>Independent</td>\n",
       "      <td>C2000</td>\n",
       "      <td>Preservation</td>\n",
       "      <td>Co-operative</td>\n",
       "      <td>1</td>\n",
       "      <td>1-9999</td>\n",
       "      <td>N</td>\n",
       "      <td>108590</td>\n",
       "      <td>1</td>\n",
       "    </tr>\n",
       "    <tr>\n",
       "      <th>2</th>\n",
       "      <td>T5</td>\n",
       "      <td>CompanySponsored</td>\n",
       "      <td>C3000</td>\n",
       "      <td>ProductDev</td>\n",
       "      <td>Association</td>\n",
       "      <td>1</td>\n",
       "      <td>0</td>\n",
       "      <td>N</td>\n",
       "      <td>5000</td>\n",
       "      <td>0</td>\n",
       "    </tr>\n",
       "    <tr>\n",
       "      <th>3</th>\n",
       "      <td>T3</td>\n",
       "      <td>CompanySponsored</td>\n",
       "      <td>C2000</td>\n",
       "      <td>Preservation</td>\n",
       "      <td>Trust</td>\n",
       "      <td>1</td>\n",
       "      <td>10000-24999</td>\n",
       "      <td>N</td>\n",
       "      <td>6692</td>\n",
       "      <td>1</td>\n",
       "    </tr>\n",
       "    <tr>\n",
       "      <th>4</th>\n",
       "      <td>T3</td>\n",
       "      <td>Independent</td>\n",
       "      <td>C1000</td>\n",
       "      <td>Heathcare</td>\n",
       "      <td>Trust</td>\n",
       "      <td>1</td>\n",
       "      <td>100000-499999</td>\n",
       "      <td>N</td>\n",
       "      <td>142590</td>\n",
       "      <td>1</td>\n",
       "    </tr>\n",
       "    <tr>\n",
       "      <th>...</th>\n",
       "      <td>...</td>\n",
       "      <td>...</td>\n",
       "      <td>...</td>\n",
       "      <td>...</td>\n",
       "      <td>...</td>\n",
       "      <td>...</td>\n",
       "      <td>...</td>\n",
       "      <td>...</td>\n",
       "      <td>...</td>\n",
       "      <td>...</td>\n",
       "    </tr>\n",
       "    <tr>\n",
       "      <th>34294</th>\n",
       "      <td>T4</td>\n",
       "      <td>Independent</td>\n",
       "      <td>C1000</td>\n",
       "      <td>ProductDev</td>\n",
       "      <td>Association</td>\n",
       "      <td>1</td>\n",
       "      <td>0</td>\n",
       "      <td>N</td>\n",
       "      <td>5000</td>\n",
       "      <td>0</td>\n",
       "    </tr>\n",
       "    <tr>\n",
       "      <th>34295</th>\n",
       "      <td>T4</td>\n",
       "      <td>CompanySponsored</td>\n",
       "      <td>C3000</td>\n",
       "      <td>ProductDev</td>\n",
       "      <td>Association</td>\n",
       "      <td>1</td>\n",
       "      <td>0</td>\n",
       "      <td>N</td>\n",
       "      <td>5000</td>\n",
       "      <td>0</td>\n",
       "    </tr>\n",
       "    <tr>\n",
       "      <th>34296</th>\n",
       "      <td>T3</td>\n",
       "      <td>CompanySponsored</td>\n",
       "      <td>C2000</td>\n",
       "      <td>Preservation</td>\n",
       "      <td>Association</td>\n",
       "      <td>1</td>\n",
       "      <td>0</td>\n",
       "      <td>N</td>\n",
       "      <td>5000</td>\n",
       "      <td>0</td>\n",
       "    </tr>\n",
       "    <tr>\n",
       "      <th>34297</th>\n",
       "      <td>T5</td>\n",
       "      <td>Independent</td>\n",
       "      <td>C3000</td>\n",
       "      <td>ProductDev</td>\n",
       "      <td>Association</td>\n",
       "      <td>1</td>\n",
       "      <td>0</td>\n",
       "      <td>N</td>\n",
       "      <td>5000</td>\n",
       "      <td>1</td>\n",
       "    </tr>\n",
       "    <tr>\n",
       "      <th>34298</th>\n",
       "      <td>T3</td>\n",
       "      <td>Independent</td>\n",
       "      <td>C1000</td>\n",
       "      <td>Preservation</td>\n",
       "      <td>Co-operative</td>\n",
       "      <td>1</td>\n",
       "      <td>1M-5M</td>\n",
       "      <td>N</td>\n",
       "      <td>36500179</td>\n",
       "      <td>0</td>\n",
       "    </tr>\n",
       "  </tbody>\n",
       "</table>\n",
       "<p>34299 rows × 10 columns</p>\n",
       "</div>"
      ],
      "text/plain": [
       "      APPLICATION_TYPE       AFFILIATION CLASSIFICATION      USE_CASE  \\\n",
       "0                  T10       Independent          C1000    ProductDev   \n",
       "1                   T3       Independent          C2000  Preservation   \n",
       "2                   T5  CompanySponsored          C3000    ProductDev   \n",
       "3                   T3  CompanySponsored          C2000  Preservation   \n",
       "4                   T3       Independent          C1000     Heathcare   \n",
       "...                ...               ...            ...           ...   \n",
       "34294               T4       Independent          C1000    ProductDev   \n",
       "34295               T4  CompanySponsored          C3000    ProductDev   \n",
       "34296               T3  CompanySponsored          C2000  Preservation   \n",
       "34297               T5       Independent          C3000    ProductDev   \n",
       "34298               T3       Independent          C1000  Preservation   \n",
       "\n",
       "       ORGANIZATION  STATUS     INCOME_AMT SPECIAL_CONSIDERATIONS   ASK_AMT  \\\n",
       "0       Association       1              0                      N      5000   \n",
       "1      Co-operative       1         1-9999                      N    108590   \n",
       "2       Association       1              0                      N      5000   \n",
       "3             Trust       1    10000-24999                      N      6692   \n",
       "4             Trust       1  100000-499999                      N    142590   \n",
       "...             ...     ...            ...                    ...       ...   \n",
       "34294   Association       1              0                      N      5000   \n",
       "34295   Association       1              0                      N      5000   \n",
       "34296   Association       1              0                      N      5000   \n",
       "34297   Association       1              0                      N      5000   \n",
       "34298  Co-operative       1          1M-5M                      N  36500179   \n",
       "\n",
       "       IS_SUCCESSFUL  \n",
       "0                  1  \n",
       "1                  1  \n",
       "2                  0  \n",
       "3                  1  \n",
       "4                  1  \n",
       "...              ...  \n",
       "34294              0  \n",
       "34295              0  \n",
       "34296              0  \n",
       "34297              1  \n",
       "34298              0  \n",
       "\n",
       "[34299 rows x 10 columns]"
      ]
     },
     "execution_count": 48,
     "metadata": {},
     "output_type": "execute_result"
    }
   ],
   "source": [
    "# Drop the non-beneficial ID columns, 'EIN' and 'NAME'.\n",
    "application_df.drop(columns = ['EIN', 'NAME'], inplace = True)\n",
    "application_df"
   ]
  },
  {
   "cell_type": "code",
   "execution_count": 49,
   "metadata": {},
   "outputs": [
    {
     "data": {
      "text/plain": [
       "APPLICATION_TYPE            17\n",
       "AFFILIATION                  6\n",
       "CLASSIFICATION              71\n",
       "USE_CASE                     5\n",
       "ORGANIZATION                 4\n",
       "STATUS                       2\n",
       "INCOME_AMT                   9\n",
       "SPECIAL_CONSIDERATIONS       2\n",
       "ASK_AMT                   8747\n",
       "IS_SUCCESSFUL                2\n",
       "dtype: int64"
      ]
     },
     "execution_count": 49,
     "metadata": {},
     "output_type": "execute_result"
    }
   ],
   "source": [
    "# Determine the number of unique values in each column.\n",
    "application_df.nunique()"
   ]
  },
  {
   "cell_type": "code",
   "execution_count": 50,
   "metadata": {},
   "outputs": [
    {
     "data": {
      "text/plain": [
       "APPLICATION_TYPE\n",
       "T3     27037\n",
       "T4      1542\n",
       "T6      1216\n",
       "T5      1173\n",
       "T19     1065\n",
       "T8       737\n",
       "T7       725\n",
       "T10      528\n",
       "T9       156\n",
       "T13       66\n",
       "T12       27\n",
       "T2        16\n",
       "T25        3\n",
       "T14        3\n",
       "T29        2\n",
       "T15        2\n",
       "T17        1\n",
       "Name: count, dtype: int64"
      ]
     },
     "execution_count": 50,
     "metadata": {},
     "output_type": "execute_result"
    }
   ],
   "source": [
    "# Look at APPLICATION_TYPE value counts to identify and replace with \"Other\"\n",
    "application_df.APPLICATION_TYPE.value_counts()"
   ]
  },
  {
   "cell_type": "code",
   "execution_count": 51,
   "metadata": {},
   "outputs": [
    {
     "data": {
      "text/plain": [
       "APPLICATION_TYPE\n",
       "T3       27037\n",
       "T4        1542\n",
       "T6        1216\n",
       "T5        1173\n",
       "T19       1065\n",
       "T8         737\n",
       "T7         725\n",
       "T10        528\n",
       "T9         156\n",
       "Other      120\n",
       "Name: count, dtype: int64"
      ]
     },
     "execution_count": 51,
     "metadata": {},
     "output_type": "execute_result"
    }
   ],
   "source": [
    "# Choose a cutoff value and create a list of application types to be replaced\n",
    "# use the variable name `application_types_to_replace`\n",
    "cutoff = 100 \n",
    "\n",
    "# Replace in dataframe\n",
    "application_types_to_replace = application_df['APPLICATION_TYPE'].value_counts()[application_df['APPLICATION_TYPE'].value_counts() < cutoff].index.tolist()\n",
    "application_df['APPLICATION_TYPE'] = application_df['APPLICATION_TYPE'].replace(application_types_to_replace, 'Other')\n",
    "# Check to make sure replacement was successful\n",
    "application_df['APPLICATION_TYPE'].value_counts()"
   ]
  },
  {
   "cell_type": "code",
   "execution_count": 52,
   "metadata": {},
   "outputs": [
    {
     "data": {
      "text/plain": [
       "CLASSIFICATION\n",
       "C1000    17326\n",
       "C2000     6074\n",
       "C1200     4837\n",
       "C3000     1918\n",
       "C2100     1883\n",
       "C7000      777\n",
       "C1700      287\n",
       "C4000      194\n",
       "C5000      116\n",
       "C1270      114\n",
       "C2700      104\n",
       "C2800       95\n",
       "C7100       75\n",
       "C1300       58\n",
       "C1280       50\n",
       "C1230       36\n",
       "C1400       34\n",
       "C7200       32\n",
       "C2300       32\n",
       "C1240       30\n",
       "C8000       20\n",
       "C7120       18\n",
       "C1500       16\n",
       "C1800       15\n",
       "C6000       15\n",
       "C1250       14\n",
       "C8200       11\n",
       "C1238       10\n",
       "C1278       10\n",
       "C1235        9\n",
       "C1237        9\n",
       "C7210        7\n",
       "C2400        6\n",
       "C1720        6\n",
       "C4100        6\n",
       "C1257        5\n",
       "C1600        5\n",
       "C1260        3\n",
       "C2710        3\n",
       "C0           3\n",
       "Name: count, dtype: int64"
      ]
     },
     "execution_count": 52,
     "metadata": {},
     "output_type": "execute_result"
    }
   ],
   "source": [
    "# Look at CLASSIFICATION value counts to identify and replace with \"Other\"\n",
    "# You may find it helpful to look at CLASSIFICATION value counts >1\n",
    "classification_counts = application_df['CLASSIFICATION'].value_counts()\n",
    "classification_counts[classification_counts > 2]"
   ]
  },
  {
   "cell_type": "code",
   "execution_count": 53,
   "metadata": {},
   "outputs": [
    {
     "data": {
      "text/plain": [
       "CLASSIFICATION\n",
       "C1000    17326\n",
       "C2000     6074\n",
       "C1200     4837\n",
       "C3000     1918\n",
       "C2100     1883\n",
       "C7000      777\n",
       "Other      669\n",
       "C1700      287\n",
       "C4000      194\n",
       "C5000      116\n",
       "C1270      114\n",
       "C2700      104\n",
       "Name: count, dtype: int64"
      ]
     },
     "execution_count": 53,
     "metadata": {},
     "output_type": "execute_result"
    }
   ],
   "source": [
    "# Choose a cutoff value and create a list of classifications to be replaced\n",
    "# use the variable name `classifications_to_replace`\n",
    "classification_to_replace = application_df['CLASSIFICATION'].value_counts()[application_df['CLASSIFICATION'].value_counts() < cutoff].index.tolist()\n",
    "\n",
    "application_df['CLASSIFICATION'] = application_df['CLASSIFICATION'].replace(classification_to_replace, 'Other')\n",
    "\n",
    "application_df['CLASSIFICATION'].value_counts()"
   ]
  },
  {
   "cell_type": "code",
   "execution_count": 54,
   "metadata": {},
   "outputs": [
    {
     "data": {
      "text/html": [
       "<div>\n",
       "<style scoped>\n",
       "    .dataframe tbody tr th:only-of-type {\n",
       "        vertical-align: middle;\n",
       "    }\n",
       "\n",
       "    .dataframe tbody tr th {\n",
       "        vertical-align: top;\n",
       "    }\n",
       "\n",
       "    .dataframe thead th {\n",
       "        text-align: right;\n",
       "    }\n",
       "</style>\n",
       "<table border=\"1\" class=\"dataframe\">\n",
       "  <thead>\n",
       "    <tr style=\"text-align: right;\">\n",
       "      <th></th>\n",
       "      <th>APPLICATION_TYPE</th>\n",
       "      <th>AFFILIATION</th>\n",
       "      <th>CLASSIFICATION</th>\n",
       "      <th>USE_CASE</th>\n",
       "      <th>ORGANIZATION</th>\n",
       "      <th>STATUS</th>\n",
       "      <th>INCOME_AMT</th>\n",
       "      <th>SPECIAL_CONSIDERATIONS</th>\n",
       "      <th>ASK_AMT</th>\n",
       "      <th>IS_SUCCESSFUL</th>\n",
       "    </tr>\n",
       "  </thead>\n",
       "  <tbody>\n",
       "    <tr>\n",
       "      <th>0</th>\n",
       "      <td>T10</td>\n",
       "      <td>Independent</td>\n",
       "      <td>C1000</td>\n",
       "      <td>ProductDev</td>\n",
       "      <td>Association</td>\n",
       "      <td>1</td>\n",
       "      <td>0</td>\n",
       "      <td>N</td>\n",
       "      <td>5000</td>\n",
       "      <td>1</td>\n",
       "    </tr>\n",
       "    <tr>\n",
       "      <th>1</th>\n",
       "      <td>T3</td>\n",
       "      <td>Independent</td>\n",
       "      <td>C2000</td>\n",
       "      <td>Preservation</td>\n",
       "      <td>Co-operative</td>\n",
       "      <td>1</td>\n",
       "      <td>1-9999</td>\n",
       "      <td>N</td>\n",
       "      <td>108590</td>\n",
       "      <td>1</td>\n",
       "    </tr>\n",
       "    <tr>\n",
       "      <th>2</th>\n",
       "      <td>T5</td>\n",
       "      <td>CompanySponsored</td>\n",
       "      <td>C3000</td>\n",
       "      <td>ProductDev</td>\n",
       "      <td>Association</td>\n",
       "      <td>1</td>\n",
       "      <td>0</td>\n",
       "      <td>N</td>\n",
       "      <td>5000</td>\n",
       "      <td>0</td>\n",
       "    </tr>\n",
       "    <tr>\n",
       "      <th>3</th>\n",
       "      <td>T3</td>\n",
       "      <td>CompanySponsored</td>\n",
       "      <td>C2000</td>\n",
       "      <td>Preservation</td>\n",
       "      <td>Trust</td>\n",
       "      <td>1</td>\n",
       "      <td>10000-24999</td>\n",
       "      <td>N</td>\n",
       "      <td>6692</td>\n",
       "      <td>1</td>\n",
       "    </tr>\n",
       "    <tr>\n",
       "      <th>4</th>\n",
       "      <td>T3</td>\n",
       "      <td>Independent</td>\n",
       "      <td>C1000</td>\n",
       "      <td>Heathcare</td>\n",
       "      <td>Trust</td>\n",
       "      <td>1</td>\n",
       "      <td>100000-499999</td>\n",
       "      <td>N</td>\n",
       "      <td>142590</td>\n",
       "      <td>1</td>\n",
       "    </tr>\n",
       "    <tr>\n",
       "      <th>...</th>\n",
       "      <td>...</td>\n",
       "      <td>...</td>\n",
       "      <td>...</td>\n",
       "      <td>...</td>\n",
       "      <td>...</td>\n",
       "      <td>...</td>\n",
       "      <td>...</td>\n",
       "      <td>...</td>\n",
       "      <td>...</td>\n",
       "      <td>...</td>\n",
       "    </tr>\n",
       "    <tr>\n",
       "      <th>34294</th>\n",
       "      <td>T4</td>\n",
       "      <td>Independent</td>\n",
       "      <td>C1000</td>\n",
       "      <td>ProductDev</td>\n",
       "      <td>Association</td>\n",
       "      <td>1</td>\n",
       "      <td>0</td>\n",
       "      <td>N</td>\n",
       "      <td>5000</td>\n",
       "      <td>0</td>\n",
       "    </tr>\n",
       "    <tr>\n",
       "      <th>34295</th>\n",
       "      <td>T4</td>\n",
       "      <td>CompanySponsored</td>\n",
       "      <td>C3000</td>\n",
       "      <td>ProductDev</td>\n",
       "      <td>Association</td>\n",
       "      <td>1</td>\n",
       "      <td>0</td>\n",
       "      <td>N</td>\n",
       "      <td>5000</td>\n",
       "      <td>0</td>\n",
       "    </tr>\n",
       "    <tr>\n",
       "      <th>34296</th>\n",
       "      <td>T3</td>\n",
       "      <td>CompanySponsored</td>\n",
       "      <td>C2000</td>\n",
       "      <td>Preservation</td>\n",
       "      <td>Association</td>\n",
       "      <td>1</td>\n",
       "      <td>0</td>\n",
       "      <td>N</td>\n",
       "      <td>5000</td>\n",
       "      <td>0</td>\n",
       "    </tr>\n",
       "    <tr>\n",
       "      <th>34297</th>\n",
       "      <td>T5</td>\n",
       "      <td>Independent</td>\n",
       "      <td>C3000</td>\n",
       "      <td>ProductDev</td>\n",
       "      <td>Association</td>\n",
       "      <td>1</td>\n",
       "      <td>0</td>\n",
       "      <td>N</td>\n",
       "      <td>5000</td>\n",
       "      <td>1</td>\n",
       "    </tr>\n",
       "    <tr>\n",
       "      <th>34298</th>\n",
       "      <td>T3</td>\n",
       "      <td>Independent</td>\n",
       "      <td>C1000</td>\n",
       "      <td>Preservation</td>\n",
       "      <td>Co-operative</td>\n",
       "      <td>1</td>\n",
       "      <td>1M-5M</td>\n",
       "      <td>N</td>\n",
       "      <td>36500179</td>\n",
       "      <td>0</td>\n",
       "    </tr>\n",
       "  </tbody>\n",
       "</table>\n",
       "<p>34299 rows × 10 columns</p>\n",
       "</div>"
      ],
      "text/plain": [
       "      APPLICATION_TYPE       AFFILIATION CLASSIFICATION      USE_CASE  \\\n",
       "0                  T10       Independent          C1000    ProductDev   \n",
       "1                   T3       Independent          C2000  Preservation   \n",
       "2                   T5  CompanySponsored          C3000    ProductDev   \n",
       "3                   T3  CompanySponsored          C2000  Preservation   \n",
       "4                   T3       Independent          C1000     Heathcare   \n",
       "...                ...               ...            ...           ...   \n",
       "34294               T4       Independent          C1000    ProductDev   \n",
       "34295               T4  CompanySponsored          C3000    ProductDev   \n",
       "34296               T3  CompanySponsored          C2000  Preservation   \n",
       "34297               T5       Independent          C3000    ProductDev   \n",
       "34298               T3       Independent          C1000  Preservation   \n",
       "\n",
       "       ORGANIZATION  STATUS     INCOME_AMT SPECIAL_CONSIDERATIONS   ASK_AMT  \\\n",
       "0       Association       1              0                      N      5000   \n",
       "1      Co-operative       1         1-9999                      N    108590   \n",
       "2       Association       1              0                      N      5000   \n",
       "3             Trust       1    10000-24999                      N      6692   \n",
       "4             Trust       1  100000-499999                      N    142590   \n",
       "...             ...     ...            ...                    ...       ...   \n",
       "34294   Association       1              0                      N      5000   \n",
       "34295   Association       1              0                      N      5000   \n",
       "34296   Association       1              0                      N      5000   \n",
       "34297   Association       1              0                      N      5000   \n",
       "34298  Co-operative       1          1M-5M                      N  36500179   \n",
       "\n",
       "       IS_SUCCESSFUL  \n",
       "0                  1  \n",
       "1                  1  \n",
       "2                  0  \n",
       "3                  1  \n",
       "4                  1  \n",
       "...              ...  \n",
       "34294              0  \n",
       "34295              0  \n",
       "34296              0  \n",
       "34297              1  \n",
       "34298              0  \n",
       "\n",
       "[34299 rows x 10 columns]"
      ]
     },
     "execution_count": 54,
     "metadata": {},
     "output_type": "execute_result"
    }
   ],
   "source": [
    "application_df"
   ]
  },
  {
   "cell_type": "code",
   "execution_count": 55,
   "metadata": {},
   "outputs": [
    {
     "data": {
      "text/plain": [
       "APPLICATION_TYPE          object\n",
       "AFFILIATION               object\n",
       "CLASSIFICATION            object\n",
       "USE_CASE                  object\n",
       "ORGANIZATION              object\n",
       "STATUS                     int64\n",
       "INCOME_AMT                object\n",
       "SPECIAL_CONSIDERATIONS    object\n",
       "ASK_AMT                    int64\n",
       "IS_SUCCESSFUL              int64\n",
       "dtype: object"
      ]
     },
     "execution_count": 55,
     "metadata": {},
     "output_type": "execute_result"
    }
   ],
   "source": [
    "application_df.dtypes"
   ]
  },
  {
   "cell_type": "code",
   "execution_count": 56,
   "metadata": {},
   "outputs": [
    {
     "data": {
      "text/html": [
       "<div>\n",
       "<style scoped>\n",
       "    .dataframe tbody tr th:only-of-type {\n",
       "        vertical-align: middle;\n",
       "    }\n",
       "\n",
       "    .dataframe tbody tr th {\n",
       "        vertical-align: top;\n",
       "    }\n",
       "\n",
       "    .dataframe thead th {\n",
       "        text-align: right;\n",
       "    }\n",
       "</style>\n",
       "<table border=\"1\" class=\"dataframe\">\n",
       "  <thead>\n",
       "    <tr style=\"text-align: right;\">\n",
       "      <th></th>\n",
       "      <th>STATUS</th>\n",
       "      <th>ASK_AMT</th>\n",
       "      <th>IS_SUCCESSFUL</th>\n",
       "      <th>APPLICATION_TYPE_Other</th>\n",
       "      <th>APPLICATION_TYPE_T10</th>\n",
       "      <th>APPLICATION_TYPE_T19</th>\n",
       "      <th>APPLICATION_TYPE_T3</th>\n",
       "      <th>APPLICATION_TYPE_T4</th>\n",
       "      <th>APPLICATION_TYPE_T5</th>\n",
       "      <th>APPLICATION_TYPE_T6</th>\n",
       "      <th>...</th>\n",
       "      <th>INCOME_AMT_1-9999</th>\n",
       "      <th>INCOME_AMT_10000-24999</th>\n",
       "      <th>INCOME_AMT_100000-499999</th>\n",
       "      <th>INCOME_AMT_10M-50M</th>\n",
       "      <th>INCOME_AMT_1M-5M</th>\n",
       "      <th>INCOME_AMT_25000-99999</th>\n",
       "      <th>INCOME_AMT_50M+</th>\n",
       "      <th>INCOME_AMT_5M-10M</th>\n",
       "      <th>SPECIAL_CONSIDERATIONS_N</th>\n",
       "      <th>SPECIAL_CONSIDERATIONS_Y</th>\n",
       "    </tr>\n",
       "  </thead>\n",
       "  <tbody>\n",
       "    <tr>\n",
       "      <th>0</th>\n",
       "      <td>1</td>\n",
       "      <td>5000</td>\n",
       "      <td>1</td>\n",
       "      <td>0</td>\n",
       "      <td>1</td>\n",
       "      <td>0</td>\n",
       "      <td>0</td>\n",
       "      <td>0</td>\n",
       "      <td>0</td>\n",
       "      <td>0</td>\n",
       "      <td>...</td>\n",
       "      <td>0</td>\n",
       "      <td>0</td>\n",
       "      <td>0</td>\n",
       "      <td>0</td>\n",
       "      <td>0</td>\n",
       "      <td>0</td>\n",
       "      <td>0</td>\n",
       "      <td>0</td>\n",
       "      <td>1</td>\n",
       "      <td>0</td>\n",
       "    </tr>\n",
       "    <tr>\n",
       "      <th>1</th>\n",
       "      <td>1</td>\n",
       "      <td>108590</td>\n",
       "      <td>1</td>\n",
       "      <td>0</td>\n",
       "      <td>0</td>\n",
       "      <td>0</td>\n",
       "      <td>1</td>\n",
       "      <td>0</td>\n",
       "      <td>0</td>\n",
       "      <td>0</td>\n",
       "      <td>...</td>\n",
       "      <td>1</td>\n",
       "      <td>0</td>\n",
       "      <td>0</td>\n",
       "      <td>0</td>\n",
       "      <td>0</td>\n",
       "      <td>0</td>\n",
       "      <td>0</td>\n",
       "      <td>0</td>\n",
       "      <td>1</td>\n",
       "      <td>0</td>\n",
       "    </tr>\n",
       "    <tr>\n",
       "      <th>2</th>\n",
       "      <td>1</td>\n",
       "      <td>5000</td>\n",
       "      <td>0</td>\n",
       "      <td>0</td>\n",
       "      <td>0</td>\n",
       "      <td>0</td>\n",
       "      <td>0</td>\n",
       "      <td>0</td>\n",
       "      <td>1</td>\n",
       "      <td>0</td>\n",
       "      <td>...</td>\n",
       "      <td>0</td>\n",
       "      <td>0</td>\n",
       "      <td>0</td>\n",
       "      <td>0</td>\n",
       "      <td>0</td>\n",
       "      <td>0</td>\n",
       "      <td>0</td>\n",
       "      <td>0</td>\n",
       "      <td>1</td>\n",
       "      <td>0</td>\n",
       "    </tr>\n",
       "    <tr>\n",
       "      <th>3</th>\n",
       "      <td>1</td>\n",
       "      <td>6692</td>\n",
       "      <td>1</td>\n",
       "      <td>0</td>\n",
       "      <td>0</td>\n",
       "      <td>0</td>\n",
       "      <td>1</td>\n",
       "      <td>0</td>\n",
       "      <td>0</td>\n",
       "      <td>0</td>\n",
       "      <td>...</td>\n",
       "      <td>0</td>\n",
       "      <td>1</td>\n",
       "      <td>0</td>\n",
       "      <td>0</td>\n",
       "      <td>0</td>\n",
       "      <td>0</td>\n",
       "      <td>0</td>\n",
       "      <td>0</td>\n",
       "      <td>1</td>\n",
       "      <td>0</td>\n",
       "    </tr>\n",
       "    <tr>\n",
       "      <th>4</th>\n",
       "      <td>1</td>\n",
       "      <td>142590</td>\n",
       "      <td>1</td>\n",
       "      <td>0</td>\n",
       "      <td>0</td>\n",
       "      <td>0</td>\n",
       "      <td>1</td>\n",
       "      <td>0</td>\n",
       "      <td>0</td>\n",
       "      <td>0</td>\n",
       "      <td>...</td>\n",
       "      <td>0</td>\n",
       "      <td>0</td>\n",
       "      <td>1</td>\n",
       "      <td>0</td>\n",
       "      <td>0</td>\n",
       "      <td>0</td>\n",
       "      <td>0</td>\n",
       "      <td>0</td>\n",
       "      <td>1</td>\n",
       "      <td>0</td>\n",
       "    </tr>\n",
       "  </tbody>\n",
       "</table>\n",
       "<p>5 rows × 51 columns</p>\n",
       "</div>"
      ],
      "text/plain": [
       "   STATUS  ASK_AMT  IS_SUCCESSFUL  APPLICATION_TYPE_Other  \\\n",
       "0       1     5000              1                       0   \n",
       "1       1   108590              1                       0   \n",
       "2       1     5000              0                       0   \n",
       "3       1     6692              1                       0   \n",
       "4       1   142590              1                       0   \n",
       "\n",
       "   APPLICATION_TYPE_T10  APPLICATION_TYPE_T19  APPLICATION_TYPE_T3  \\\n",
       "0                     1                     0                    0   \n",
       "1                     0                     0                    1   \n",
       "2                     0                     0                    0   \n",
       "3                     0                     0                    1   \n",
       "4                     0                     0                    1   \n",
       "\n",
       "   APPLICATION_TYPE_T4  APPLICATION_TYPE_T5  APPLICATION_TYPE_T6  ...  \\\n",
       "0                    0                    0                    0  ...   \n",
       "1                    0                    0                    0  ...   \n",
       "2                    0                    1                    0  ...   \n",
       "3                    0                    0                    0  ...   \n",
       "4                    0                    0                    0  ...   \n",
       "\n",
       "   INCOME_AMT_1-9999  INCOME_AMT_10000-24999  INCOME_AMT_100000-499999  \\\n",
       "0                  0                       0                         0   \n",
       "1                  1                       0                         0   \n",
       "2                  0                       0                         0   \n",
       "3                  0                       1                         0   \n",
       "4                  0                       0                         1   \n",
       "\n",
       "   INCOME_AMT_10M-50M  INCOME_AMT_1M-5M  INCOME_AMT_25000-99999  \\\n",
       "0                   0                 0                       0   \n",
       "1                   0                 0                       0   \n",
       "2                   0                 0                       0   \n",
       "3                   0                 0                       0   \n",
       "4                   0                 0                       0   \n",
       "\n",
       "   INCOME_AMT_50M+  INCOME_AMT_5M-10M  SPECIAL_CONSIDERATIONS_N  \\\n",
       "0                0                  0                         1   \n",
       "1                0                  0                         1   \n",
       "2                0                  0                         1   \n",
       "3                0                  0                         1   \n",
       "4                0                  0                         1   \n",
       "\n",
       "   SPECIAL_CONSIDERATIONS_Y  \n",
       "0                         0  \n",
       "1                         0  \n",
       "2                         0  \n",
       "3                         0  \n",
       "4                         0  \n",
       "\n",
       "[5 rows x 51 columns]"
      ]
     },
     "execution_count": 56,
     "metadata": {},
     "output_type": "execute_result"
    }
   ],
   "source": [
    "# Convert categorical data to numeric with `pd.get_dummies`\n",
    "application_df = pd.get_dummies(application_df, columns = [\n",
    "    'APPLICATION_TYPE',\n",
    "    'AFFILIATION',\n",
    "    'CLASSIFICATION',\n",
    "    'USE_CASE',\n",
    "    'ORGANIZATION',\n",
    "    'INCOME_AMT',\n",
    "    'SPECIAL_CONSIDERATIONS'], dtype =int)\n",
    "\n",
    "application_df.head()"
   ]
  },
  {
   "cell_type": "code",
   "execution_count": 57,
   "metadata": {},
   "outputs": [],
   "source": [
    "# Split our preprocessed data into our features and target arrays\n",
    "\n",
    "X = application_df.drop('IS_SUCCESSFUL', axis=1)\n",
    "y = application_df['IS_SUCCESSFUL']\n",
    "\n",
    "# Split the preprocessed data into a training and testing dataset\n",
    "\n",
    "X_train, X_test, y_train, y_test = train_test_split(X, y, random_state = 2)"
   ]
  },
  {
   "cell_type": "code",
   "execution_count": 58,
   "metadata": {},
   "outputs": [],
   "source": [
    "# Create a StandardScaler instances\n",
    "scaler = StandardScaler()\n",
    "\n",
    "# Fit the StandardScaler\n",
    "X_scaler = scaler.fit(X_train)\n",
    "\n",
    "# Scale the data\n",
    "X_train_scaled = X_scaler.transform(X_train)\n",
    "X_test_scaled = X_scaler.transform(X_test)"
   ]
  },
  {
   "cell_type": "markdown",
   "metadata": {},
   "source": [
    "## Compile, Train and Evaluate the Model"
   ]
  },
  {
   "cell_type": "code",
   "execution_count": 59,
   "metadata": {},
   "outputs": [
    {
     "name": "stderr",
     "output_type": "stream",
     "text": [
      "/opt/anaconda3/envs/dev/lib/python3.10/site-packages/keras/src/layers/core/dense.py:87: UserWarning: Do not pass an `input_shape`/`input_dim` argument to a layer. When using Sequential models, prefer using an `Input(shape)` object as the first layer in the model instead.\n",
      "  super().__init__(activity_regularizer=activity_regularizer, **kwargs)\n"
     ]
    },
    {
     "data": {
      "text/html": [
       "<pre style=\"white-space:pre;overflow-x:auto;line-height:normal;font-family:Menlo,'DejaVu Sans Mono',consolas,'Courier New',monospace\"><span style=\"font-weight: bold\">Model: \"sequential_9\"</span>\n",
       "</pre>\n"
      ],
      "text/plain": [
       "\u001b[1mModel: \"sequential_9\"\u001b[0m\n"
      ]
     },
     "metadata": {},
     "output_type": "display_data"
    },
    {
     "data": {
      "text/html": [
       "<pre style=\"white-space:pre;overflow-x:auto;line-height:normal;font-family:Menlo,'DejaVu Sans Mono',consolas,'Courier New',monospace\">┏━━━━━━━━━━━━━━━━━━━━━━━━━━━━━━━━━┳━━━━━━━━━━━━━━━━━━━━━━━━┳━━━━━━━━━━━━━━━┓\n",
       "┃<span style=\"font-weight: bold\"> Layer (type)                    </span>┃<span style=\"font-weight: bold\"> Output Shape           </span>┃<span style=\"font-weight: bold\">       Param # </span>┃\n",
       "┡━━━━━━━━━━━━━━━━━━━━━━━━━━━━━━━━━╇━━━━━━━━━━━━━━━━━━━━━━━━╇━━━━━━━━━━━━━━━┩\n",
       "│ dense_34 (<span style=\"color: #0087ff; text-decoration-color: #0087ff\">Dense</span>)                │ (<span style=\"color: #00d7ff; text-decoration-color: #00d7ff\">None</span>, <span style=\"color: #00af00; text-decoration-color: #00af00\">80</span>)             │         <span style=\"color: #00af00; text-decoration-color: #00af00\">4,080</span> │\n",
       "├─────────────────────────────────┼────────────────────────┼───────────────┤\n",
       "│ dense_35 (<span style=\"color: #0087ff; text-decoration-color: #0087ff\">Dense</span>)                │ (<span style=\"color: #00d7ff; text-decoration-color: #00d7ff\">None</span>, <span style=\"color: #00af00; text-decoration-color: #00af00\">30</span>)             │         <span style=\"color: #00af00; text-decoration-color: #00af00\">2,430</span> │\n",
       "├─────────────────────────────────┼────────────────────────┼───────────────┤\n",
       "│ dense_36 (<span style=\"color: #0087ff; text-decoration-color: #0087ff\">Dense</span>)                │ (<span style=\"color: #00d7ff; text-decoration-color: #00d7ff\">None</span>, <span style=\"color: #00af00; text-decoration-color: #00af00\">1</span>)              │            <span style=\"color: #00af00; text-decoration-color: #00af00\">31</span> │\n",
       "└─────────────────────────────────┴────────────────────────┴───────────────┘\n",
       "</pre>\n"
      ],
      "text/plain": [
       "┏━━━━━━━━━━━━━━━━━━━━━━━━━━━━━━━━━┳━━━━━━━━━━━━━━━━━━━━━━━━┳━━━━━━━━━━━━━━━┓\n",
       "┃\u001b[1m \u001b[0m\u001b[1mLayer (type)                   \u001b[0m\u001b[1m \u001b[0m┃\u001b[1m \u001b[0m\u001b[1mOutput Shape          \u001b[0m\u001b[1m \u001b[0m┃\u001b[1m \u001b[0m\u001b[1m      Param #\u001b[0m\u001b[1m \u001b[0m┃\n",
       "┡━━━━━━━━━━━━━━━━━━━━━━━━━━━━━━━━━╇━━━━━━━━━━━━━━━━━━━━━━━━╇━━━━━━━━━━━━━━━┩\n",
       "│ dense_34 (\u001b[38;5;33mDense\u001b[0m)                │ (\u001b[38;5;45mNone\u001b[0m, \u001b[38;5;34m80\u001b[0m)             │         \u001b[38;5;34m4,080\u001b[0m │\n",
       "├─────────────────────────────────┼────────────────────────┼───────────────┤\n",
       "│ dense_35 (\u001b[38;5;33mDense\u001b[0m)                │ (\u001b[38;5;45mNone\u001b[0m, \u001b[38;5;34m30\u001b[0m)             │         \u001b[38;5;34m2,430\u001b[0m │\n",
       "├─────────────────────────────────┼────────────────────────┼───────────────┤\n",
       "│ dense_36 (\u001b[38;5;33mDense\u001b[0m)                │ (\u001b[38;5;45mNone\u001b[0m, \u001b[38;5;34m1\u001b[0m)              │            \u001b[38;5;34m31\u001b[0m │\n",
       "└─────────────────────────────────┴────────────────────────┴───────────────┘\n"
      ]
     },
     "metadata": {},
     "output_type": "display_data"
    },
    {
     "data": {
      "text/html": [
       "<pre style=\"white-space:pre;overflow-x:auto;line-height:normal;font-family:Menlo,'DejaVu Sans Mono',consolas,'Courier New',monospace\"><span style=\"font-weight: bold\"> Total params: </span><span style=\"color: #00af00; text-decoration-color: #00af00\">6,541</span> (25.55 KB)\n",
       "</pre>\n"
      ],
      "text/plain": [
       "\u001b[1m Total params: \u001b[0m\u001b[38;5;34m6,541\u001b[0m (25.55 KB)\n"
      ]
     },
     "metadata": {},
     "output_type": "display_data"
    },
    {
     "data": {
      "text/html": [
       "<pre style=\"white-space:pre;overflow-x:auto;line-height:normal;font-family:Menlo,'DejaVu Sans Mono',consolas,'Courier New',monospace\"><span style=\"font-weight: bold\"> Trainable params: </span><span style=\"color: #00af00; text-decoration-color: #00af00\">6,541</span> (25.55 KB)\n",
       "</pre>\n"
      ],
      "text/plain": [
       "\u001b[1m Trainable params: \u001b[0m\u001b[38;5;34m6,541\u001b[0m (25.55 KB)\n"
      ]
     },
     "metadata": {},
     "output_type": "display_data"
    },
    {
     "data": {
      "text/html": [
       "<pre style=\"white-space:pre;overflow-x:auto;line-height:normal;font-family:Menlo,'DejaVu Sans Mono',consolas,'Courier New',monospace\"><span style=\"font-weight: bold\"> Non-trainable params: </span><span style=\"color: #00af00; text-decoration-color: #00af00\">0</span> (0.00 B)\n",
       "</pre>\n"
      ],
      "text/plain": [
       "\u001b[1m Non-trainable params: \u001b[0m\u001b[38;5;34m0\u001b[0m (0.00 B)\n"
      ]
     },
     "metadata": {},
     "output_type": "display_data"
    }
   ],
   "source": [
    "# Define the model - deep neural net, i.e., the number of input features and hidden nodes for each layer.\n",
    "#  YOUR CODE GOES HERE\n",
    "from tensorflow.keras.layers import Dense\n",
    "\n",
    "nn = tf.keras.models.Sequential()\n",
    "\n",
    "# First hidden layer\n",
    "\n",
    "nn.add(Dense(80, input_dim=X_train.shape[1], activation='relu'))\n",
    "\n",
    "# Second hidden layer\n",
    "\n",
    "nn.add(Dense(30, activation = 'relu'))\n",
    "\n",
    "# Output layer\n",
    "\n",
    "nn.add(Dense(1, activation='sigmoid'))\n",
    "\n",
    "\n",
    "# Check the structure of the model\n",
    "nn.summary()"
   ]
  },
  {
   "cell_type": "code",
   "execution_count": 60,
   "metadata": {},
   "outputs": [
    {
     "data": {
      "text/html": [
       "<pre style=\"white-space:pre;overflow-x:auto;line-height:normal;font-family:Menlo,'DejaVu Sans Mono',consolas,'Courier New',monospace\"><span style=\"font-weight: bold\">Model: \"sequential_9\"</span>\n",
       "</pre>\n"
      ],
      "text/plain": [
       "\u001b[1mModel: \"sequential_9\"\u001b[0m\n"
      ]
     },
     "metadata": {},
     "output_type": "display_data"
    },
    {
     "data": {
      "text/html": [
       "<pre style=\"white-space:pre;overflow-x:auto;line-height:normal;font-family:Menlo,'DejaVu Sans Mono',consolas,'Courier New',monospace\">┏━━━━━━━━━━━━━━━━━━━━━━━━━━━━━━━━━┳━━━━━━━━━━━━━━━━━━━━━━━━┳━━━━━━━━━━━━━━━┓\n",
       "┃<span style=\"font-weight: bold\"> Layer (type)                    </span>┃<span style=\"font-weight: bold\"> Output Shape           </span>┃<span style=\"font-weight: bold\">       Param # </span>┃\n",
       "┡━━━━━━━━━━━━━━━━━━━━━━━━━━━━━━━━━╇━━━━━━━━━━━━━━━━━━━━━━━━╇━━━━━━━━━━━━━━━┩\n",
       "│ dense_34 (<span style=\"color: #0087ff; text-decoration-color: #0087ff\">Dense</span>)                │ (<span style=\"color: #00d7ff; text-decoration-color: #00d7ff\">None</span>, <span style=\"color: #00af00; text-decoration-color: #00af00\">80</span>)             │         <span style=\"color: #00af00; text-decoration-color: #00af00\">4,080</span> │\n",
       "├─────────────────────────────────┼────────────────────────┼───────────────┤\n",
       "│ dense_35 (<span style=\"color: #0087ff; text-decoration-color: #0087ff\">Dense</span>)                │ (<span style=\"color: #00d7ff; text-decoration-color: #00d7ff\">None</span>, <span style=\"color: #00af00; text-decoration-color: #00af00\">30</span>)             │         <span style=\"color: #00af00; text-decoration-color: #00af00\">2,430</span> │\n",
       "├─────────────────────────────────┼────────────────────────┼───────────────┤\n",
       "│ dense_36 (<span style=\"color: #0087ff; text-decoration-color: #0087ff\">Dense</span>)                │ (<span style=\"color: #00d7ff; text-decoration-color: #00d7ff\">None</span>, <span style=\"color: #00af00; text-decoration-color: #00af00\">1</span>)              │            <span style=\"color: #00af00; text-decoration-color: #00af00\">31</span> │\n",
       "└─────────────────────────────────┴────────────────────────┴───────────────┘\n",
       "</pre>\n"
      ],
      "text/plain": [
       "┏━━━━━━━━━━━━━━━━━━━━━━━━━━━━━━━━━┳━━━━━━━━━━━━━━━━━━━━━━━━┳━━━━━━━━━━━━━━━┓\n",
       "┃\u001b[1m \u001b[0m\u001b[1mLayer (type)                   \u001b[0m\u001b[1m \u001b[0m┃\u001b[1m \u001b[0m\u001b[1mOutput Shape          \u001b[0m\u001b[1m \u001b[0m┃\u001b[1m \u001b[0m\u001b[1m      Param #\u001b[0m\u001b[1m \u001b[0m┃\n",
       "┡━━━━━━━━━━━━━━━━━━━━━━━━━━━━━━━━━╇━━━━━━━━━━━━━━━━━━━━━━━━╇━━━━━━━━━━━━━━━┩\n",
       "│ dense_34 (\u001b[38;5;33mDense\u001b[0m)                │ (\u001b[38;5;45mNone\u001b[0m, \u001b[38;5;34m80\u001b[0m)             │         \u001b[38;5;34m4,080\u001b[0m │\n",
       "├─────────────────────────────────┼────────────────────────┼───────────────┤\n",
       "│ dense_35 (\u001b[38;5;33mDense\u001b[0m)                │ (\u001b[38;5;45mNone\u001b[0m, \u001b[38;5;34m30\u001b[0m)             │         \u001b[38;5;34m2,430\u001b[0m │\n",
       "├─────────────────────────────────┼────────────────────────┼───────────────┤\n",
       "│ dense_36 (\u001b[38;5;33mDense\u001b[0m)                │ (\u001b[38;5;45mNone\u001b[0m, \u001b[38;5;34m1\u001b[0m)              │            \u001b[38;5;34m31\u001b[0m │\n",
       "└─────────────────────────────────┴────────────────────────┴───────────────┘\n"
      ]
     },
     "metadata": {},
     "output_type": "display_data"
    },
    {
     "data": {
      "text/html": [
       "<pre style=\"white-space:pre;overflow-x:auto;line-height:normal;font-family:Menlo,'DejaVu Sans Mono',consolas,'Courier New',monospace\"><span style=\"font-weight: bold\"> Total params: </span><span style=\"color: #00af00; text-decoration-color: #00af00\">6,541</span> (25.55 KB)\n",
       "</pre>\n"
      ],
      "text/plain": [
       "\u001b[1m Total params: \u001b[0m\u001b[38;5;34m6,541\u001b[0m (25.55 KB)\n"
      ]
     },
     "metadata": {},
     "output_type": "display_data"
    },
    {
     "data": {
      "text/html": [
       "<pre style=\"white-space:pre;overflow-x:auto;line-height:normal;font-family:Menlo,'DejaVu Sans Mono',consolas,'Courier New',monospace\"><span style=\"font-weight: bold\"> Trainable params: </span><span style=\"color: #00af00; text-decoration-color: #00af00\">6,541</span> (25.55 KB)\n",
       "</pre>\n"
      ],
      "text/plain": [
       "\u001b[1m Trainable params: \u001b[0m\u001b[38;5;34m6,541\u001b[0m (25.55 KB)\n"
      ]
     },
     "metadata": {},
     "output_type": "display_data"
    },
    {
     "data": {
      "text/html": [
       "<pre style=\"white-space:pre;overflow-x:auto;line-height:normal;font-family:Menlo,'DejaVu Sans Mono',consolas,'Courier New',monospace\"><span style=\"font-weight: bold\"> Non-trainable params: </span><span style=\"color: #00af00; text-decoration-color: #00af00\">0</span> (0.00 B)\n",
       "</pre>\n"
      ],
      "text/plain": [
       "\u001b[1m Non-trainable params: \u001b[0m\u001b[38;5;34m0\u001b[0m (0.00 B)\n"
      ]
     },
     "metadata": {},
     "output_type": "display_data"
    }
   ],
   "source": [
    "# Compile the model\n",
    "nn.compile(loss='binary_crossentropy', optimizer = 'adam', metrics=['accuracy'])\n",
    "nn.summary()"
   ]
  },
  {
   "cell_type": "code",
   "execution_count": 61,
   "metadata": {},
   "outputs": [
    {
     "name": "stdout",
     "output_type": "stream",
     "text": [
      "Epoch 1/100\n",
      "1029/1029 - 1s - 1ms/step - accuracy: 0.4930 - loss: 50833.1680 - val_accuracy: 0.4734 - val_loss: 2406.1216\n",
      "Epoch 2/100\n",
      "1029/1029 - 1s - 573us/step - accuracy: 0.4777 - loss: 35279.0625 - val_accuracy: 0.5266 - val_loss: 7975.9302\n",
      "Epoch 3/100\n",
      "1029/1029 - 1s - 591us/step - accuracy: 0.4984 - loss: 5348.8965 - val_accuracy: 0.4734 - val_loss: 20141.6719\n",
      "Epoch 4/100\n",
      "1029/1029 - 1s - 621us/step - accuracy: 0.4923 - loss: 11840.1914 - val_accuracy: 0.4734 - val_loss: 9279.2930\n",
      "Epoch 5/100\n",
      "1029/1029 - 1s - 583us/step - accuracy: 0.5243 - loss: 4066.2434 - val_accuracy: 0.5266 - val_loss: 0.7642\n",
      "Epoch 6/100\n",
      "1029/1029 - 1s - 567us/step - accuracy: 0.5343 - loss: 0.7278 - val_accuracy: 0.5266 - val_loss: 0.7102\n",
      "Epoch 7/100\n",
      "1029/1029 - 1s - 563us/step - accuracy: 0.5343 - loss: 0.6974 - val_accuracy: 0.5266 - val_loss: 0.6944\n",
      "Epoch 8/100\n",
      "1029/1029 - 1s - 567us/step - accuracy: 0.5343 - loss: 0.6913 - val_accuracy: 0.5266 - val_loss: 0.6920\n",
      "Epoch 9/100\n",
      "1029/1029 - 1s - 567us/step - accuracy: 0.5343 - loss: 0.6908 - val_accuracy: 0.5266 - val_loss: 0.6918\n",
      "Epoch 10/100\n",
      "1029/1029 - 1s - 557us/step - accuracy: 0.5343 - loss: 0.6908 - val_accuracy: 0.5266 - val_loss: 0.6919\n",
      "Epoch 11/100\n",
      "1029/1029 - 1s - 562us/step - accuracy: 0.5343 - loss: 0.6908 - val_accuracy: 0.5266 - val_loss: 0.6919\n",
      "Epoch 12/100\n",
      "1029/1029 - 1s - 559us/step - accuracy: 0.5343 - loss: 0.6908 - val_accuracy: 0.5266 - val_loss: 0.6919\n",
      "Epoch 13/100\n",
      "1029/1029 - 1s - 568us/step - accuracy: 0.5343 - loss: 0.6908 - val_accuracy: 0.5266 - val_loss: 0.6919\n",
      "Epoch 14/100\n",
      "1029/1029 - 1s - 559us/step - accuracy: 0.5343 - loss: 0.6908 - val_accuracy: 0.5266 - val_loss: 0.6920\n",
      "Epoch 15/100\n",
      "1029/1029 - 1s - 557us/step - accuracy: 0.5343 - loss: 0.6908 - val_accuracy: 0.5266 - val_loss: 0.6919\n",
      "Epoch 16/100\n",
      "1029/1029 - 1s - 559us/step - accuracy: 0.5343 - loss: 0.6908 - val_accuracy: 0.5266 - val_loss: 0.6918\n",
      "Epoch 17/100\n",
      "1029/1029 - 1s - 556us/step - accuracy: 0.5343 - loss: 0.6908 - val_accuracy: 0.5266 - val_loss: 0.6918\n",
      "Epoch 18/100\n",
      "1029/1029 - 1s - 601us/step - accuracy: 0.5343 - loss: 0.6908 - val_accuracy: 0.5266 - val_loss: 0.6919\n",
      "Epoch 19/100\n",
      "1029/1029 - 1s - 561us/step - accuracy: 0.5343 - loss: 0.6908 - val_accuracy: 0.5266 - val_loss: 0.6918\n",
      "Epoch 20/100\n",
      "1029/1029 - 1s - 611us/step - accuracy: 0.5343 - loss: 0.6908 - val_accuracy: 0.5266 - val_loss: 0.6919\n",
      "Epoch 21/100\n",
      "1029/1029 - 1s - 562us/step - accuracy: 0.5343 - loss: 0.6908 - val_accuracy: 0.5266 - val_loss: 0.6918\n",
      "Epoch 22/100\n",
      "1029/1029 - 1s - 557us/step - accuracy: 0.5343 - loss: 0.6908 - val_accuracy: 0.5266 - val_loss: 0.6919\n",
      "Epoch 23/100\n",
      "1029/1029 - 1s - 588us/step - accuracy: 0.5343 - loss: 0.6908 - val_accuracy: 0.5266 - val_loss: 0.6918\n",
      "Epoch 24/100\n",
      "1029/1029 - 1s - 659us/step - accuracy: 0.5343 - loss: 0.6908 - val_accuracy: 0.5266 - val_loss: 0.6919\n",
      "Epoch 25/100\n",
      "1029/1029 - 1s - 706us/step - accuracy: 0.5343 - loss: 0.6908 - val_accuracy: 0.5266 - val_loss: 0.6919\n",
      "Epoch 26/100\n",
      "1029/1029 - 1s - 573us/step - accuracy: 0.5343 - loss: 0.6908 - val_accuracy: 0.5266 - val_loss: 0.6918\n",
      "Epoch 27/100\n",
      "1029/1029 - 1s - 687us/step - accuracy: 0.5343 - loss: 0.6908 - val_accuracy: 0.5266 - val_loss: 0.6918\n",
      "Epoch 28/100\n",
      "1029/1029 - 1s - 601us/step - accuracy: 0.5343 - loss: 0.6908 - val_accuracy: 0.5266 - val_loss: 0.6918\n",
      "Epoch 29/100\n",
      "1029/1029 - 1s - 560us/step - accuracy: 0.5343 - loss: 0.6908 - val_accuracy: 0.5266 - val_loss: 0.6919\n",
      "Epoch 30/100\n",
      "1029/1029 - 1s - 557us/step - accuracy: 0.5343 - loss: 0.6908 - val_accuracy: 0.5266 - val_loss: 0.6919\n",
      "Epoch 31/100\n",
      "1029/1029 - 1s - 559us/step - accuracy: 0.5343 - loss: 0.6908 - val_accuracy: 0.5266 - val_loss: 0.6918\n",
      "Epoch 32/100\n",
      "1029/1029 - 1s - 560us/step - accuracy: 0.5343 - loss: 0.6908 - val_accuracy: 0.5266 - val_loss: 0.6918\n",
      "Epoch 33/100\n",
      "1029/1029 - 1s - 688us/step - accuracy: 0.5343 - loss: 0.6908 - val_accuracy: 0.5266 - val_loss: 0.6919\n",
      "Epoch 34/100\n",
      "1029/1029 - 1s - 561us/step - accuracy: 0.5343 - loss: 0.6908 - val_accuracy: 0.5266 - val_loss: 0.6918\n",
      "Epoch 35/100\n",
      "1029/1029 - 1s - 559us/step - accuracy: 0.5343 - loss: 0.6908 - val_accuracy: 0.5266 - val_loss: 0.6918\n",
      "Epoch 36/100\n",
      "1029/1029 - 1s - 558us/step - accuracy: 0.5343 - loss: 0.6908 - val_accuracy: 0.5266 - val_loss: 0.6917\n",
      "Epoch 37/100\n",
      "1029/1029 - 1s - 560us/step - accuracy: 0.5343 - loss: 0.6908 - val_accuracy: 0.5266 - val_loss: 0.6919\n",
      "Epoch 38/100\n",
      "1029/1029 - 1s - 559us/step - accuracy: 0.5343 - loss: 0.6908 - val_accuracy: 0.5266 - val_loss: 0.6918\n",
      "Epoch 39/100\n",
      "1029/1029 - 1s - 560us/step - accuracy: 0.5343 - loss: 0.6908 - val_accuracy: 0.5266 - val_loss: 0.6919\n",
      "Epoch 40/100\n",
      "1029/1029 - 1s - 559us/step - accuracy: 0.5343 - loss: 0.6908 - val_accuracy: 0.5266 - val_loss: 0.6918\n",
      "Epoch 41/100\n",
      "1029/1029 - 1s - 562us/step - accuracy: 0.5343 - loss: 0.6908 - val_accuracy: 0.5266 - val_loss: 0.6918\n",
      "Epoch 42/100\n",
      "1029/1029 - 1s - 563us/step - accuracy: 0.5343 - loss: 0.6908 - val_accuracy: 0.5266 - val_loss: 0.6918\n",
      "Epoch 43/100\n",
      "1029/1029 - 1s - 559us/step - accuracy: 0.5343 - loss: 0.6908 - val_accuracy: 0.5266 - val_loss: 0.6918\n",
      "Epoch 44/100\n",
      "1029/1029 - 1s - 564us/step - accuracy: 0.5343 - loss: 0.6908 - val_accuracy: 0.5266 - val_loss: 0.6920\n",
      "Epoch 45/100\n",
      "1029/1029 - 1s - 562us/step - accuracy: 0.5343 - loss: 0.6908 - val_accuracy: 0.5266 - val_loss: 0.6919\n",
      "Epoch 46/100\n",
      "1029/1029 - 1s - 634us/step - accuracy: 0.5343 - loss: 0.6908 - val_accuracy: 0.5266 - val_loss: 0.6918\n",
      "Epoch 47/100\n",
      "1029/1029 - 1s - 662us/step - accuracy: 0.5343 - loss: 0.6908 - val_accuracy: 0.5266 - val_loss: 0.6919\n",
      "Epoch 48/100\n",
      "1029/1029 - 1s - 643us/step - accuracy: 0.5343 - loss: 0.6908 - val_accuracy: 0.5266 - val_loss: 0.6918\n",
      "Epoch 49/100\n",
      "1029/1029 - 1s - 560us/step - accuracy: 0.5343 - loss: 0.6908 - val_accuracy: 0.5266 - val_loss: 0.6918\n",
      "Epoch 50/100\n",
      "1029/1029 - 1s - 561us/step - accuracy: 0.5343 - loss: 0.6908 - val_accuracy: 0.5266 - val_loss: 0.6918\n",
      "Epoch 51/100\n",
      "1029/1029 - 1s - 576us/step - accuracy: 0.5343 - loss: 0.6908 - val_accuracy: 0.5266 - val_loss: 0.6919\n",
      "Epoch 52/100\n",
      "1029/1029 - 1s - 560us/step - accuracy: 0.5343 - loss: 0.6908 - val_accuracy: 0.5266 - val_loss: 0.6920\n",
      "Epoch 53/100\n",
      "1029/1029 - 1s - 561us/step - accuracy: 0.5343 - loss: 0.6908 - val_accuracy: 0.5266 - val_loss: 0.6919\n",
      "Epoch 54/100\n",
      "1029/1029 - 1s - 561us/step - accuracy: 0.5343 - loss: 0.6908 - val_accuracy: 0.5266 - val_loss: 0.6919\n",
      "Epoch 55/100\n",
      "1029/1029 - 1s - 561us/step - accuracy: 0.5343 - loss: 0.6908 - val_accuracy: 0.5266 - val_loss: 0.6919\n",
      "Epoch 56/100\n",
      "1029/1029 - 1s - 562us/step - accuracy: 0.5343 - loss: 0.6908 - val_accuracy: 0.5266 - val_loss: 0.6918\n",
      "Epoch 57/100\n",
      "1029/1029 - 1s - 565us/step - accuracy: 0.5343 - loss: 0.6908 - val_accuracy: 0.5266 - val_loss: 0.6919\n",
      "Epoch 58/100\n",
      "1029/1029 - 1s - 731us/step - accuracy: 0.5343 - loss: 0.6908 - val_accuracy: 0.5266 - val_loss: 0.6919\n",
      "Epoch 59/100\n",
      "1029/1029 - 1s - 562us/step - accuracy: 0.5343 - loss: 0.6908 - val_accuracy: 0.5266 - val_loss: 0.6918\n",
      "Epoch 60/100\n",
      "1029/1029 - 1s - 562us/step - accuracy: 0.5343 - loss: 0.6908 - val_accuracy: 0.5266 - val_loss: 0.6918\n",
      "Epoch 61/100\n",
      "1029/1029 - 1s - 644us/step - accuracy: 0.5343 - loss: 0.6908 - val_accuracy: 0.5266 - val_loss: 0.6920\n",
      "Epoch 62/100\n",
      "1029/1029 - 1s - 565us/step - accuracy: 0.5343 - loss: 0.6908 - val_accuracy: 0.5266 - val_loss: 0.6918\n",
      "Epoch 63/100\n",
      "1029/1029 - 1s - 564us/step - accuracy: 0.5343 - loss: 0.6908 - val_accuracy: 0.5266 - val_loss: 0.6919\n",
      "Epoch 64/100\n",
      "1029/1029 - 1s - 562us/step - accuracy: 0.5343 - loss: 0.6908 - val_accuracy: 0.5266 - val_loss: 0.6919\n",
      "Epoch 65/100\n",
      "1029/1029 - 1s - 562us/step - accuracy: 0.5343 - loss: 0.6908 - val_accuracy: 0.5266 - val_loss: 0.6918\n",
      "Epoch 66/100\n",
      "1029/1029 - 1s - 648us/step - accuracy: 0.5343 - loss: 0.6908 - val_accuracy: 0.5266 - val_loss: 0.6921\n",
      "Epoch 67/100\n",
      "1029/1029 - 1s - 563us/step - accuracy: 0.5343 - loss: 0.6908 - val_accuracy: 0.5266 - val_loss: 0.6918\n",
      "Epoch 68/100\n",
      "1029/1029 - 1s - 569us/step - accuracy: 0.5343 - loss: 0.6908 - val_accuracy: 0.5266 - val_loss: 0.6919\n",
      "Epoch 69/100\n",
      "1029/1029 - 1s - 568us/step - accuracy: 0.5343 - loss: 0.6908 - val_accuracy: 0.5266 - val_loss: 0.6919\n",
      "Epoch 70/100\n",
      "1029/1029 - 1s - 565us/step - accuracy: 0.5343 - loss: 0.6908 - val_accuracy: 0.5266 - val_loss: 0.6918\n",
      "Epoch 71/100\n",
      "1029/1029 - 1s - 689us/step - accuracy: 0.5343 - loss: 0.6908 - val_accuracy: 0.5266 - val_loss: 0.6918\n",
      "Epoch 72/100\n",
      "1029/1029 - 1s - 824us/step - accuracy: 0.5343 - loss: 0.6908 - val_accuracy: 0.5266 - val_loss: 0.6918\n",
      "Epoch 73/100\n",
      "1029/1029 - 1s - 567us/step - accuracy: 0.5343 - loss: 0.6908 - val_accuracy: 0.5266 - val_loss: 0.6918\n",
      "Epoch 74/100\n",
      "1029/1029 - 1s - 571us/step - accuracy: 0.5343 - loss: 0.6908 - val_accuracy: 0.5266 - val_loss: 0.6920\n",
      "Epoch 75/100\n",
      "1029/1029 - 1s - 581us/step - accuracy: 0.5343 - loss: 0.6908 - val_accuracy: 0.5266 - val_loss: 0.6918\n",
      "Epoch 76/100\n",
      "1029/1029 - 1s - 579us/step - accuracy: 0.5343 - loss: 0.6908 - val_accuracy: 0.5266 - val_loss: 0.6918\n",
      "Epoch 77/100\n",
      "1029/1029 - 1s - 567us/step - accuracy: 0.5343 - loss: 0.6908 - val_accuracy: 0.5266 - val_loss: 0.6919\n",
      "Epoch 78/100\n",
      "1029/1029 - 1s - 570us/step - accuracy: 0.5343 - loss: 0.6908 - val_accuracy: 0.5266 - val_loss: 0.6920\n",
      "Epoch 79/100\n",
      "1029/1029 - 1s - 573us/step - accuracy: 0.5343 - loss: 0.6908 - val_accuracy: 0.5266 - val_loss: 0.6920\n",
      "Epoch 80/100\n",
      "1029/1029 - 1s - 566us/step - accuracy: 0.5343 - loss: 0.6908 - val_accuracy: 0.5266 - val_loss: 0.6918\n",
      "Epoch 81/100\n",
      "1029/1029 - 1s - 563us/step - accuracy: 0.5343 - loss: 0.6908 - val_accuracy: 0.5266 - val_loss: 0.6919\n",
      "Epoch 82/100\n",
      "1029/1029 - 1s - 563us/step - accuracy: 0.5343 - loss: 0.6908 - val_accuracy: 0.5266 - val_loss: 0.6918\n",
      "Epoch 83/100\n",
      "1029/1029 - 1s - 561us/step - accuracy: 0.5343 - loss: 0.6908 - val_accuracy: 0.5266 - val_loss: 0.6919\n",
      "Epoch 84/100\n",
      "1029/1029 - 1s - 614us/step - accuracy: 0.5343 - loss: 0.6908 - val_accuracy: 0.5266 - val_loss: 0.6918\n",
      "Epoch 85/100\n",
      "1029/1029 - 1s - 562us/step - accuracy: 0.5343 - loss: 0.6908 - val_accuracy: 0.5266 - val_loss: 0.6920\n",
      "Epoch 86/100\n",
      "1029/1029 - 1s - 561us/step - accuracy: 0.5343 - loss: 0.6908 - val_accuracy: 0.5266 - val_loss: 0.6920\n",
      "Epoch 87/100\n",
      "1029/1029 - 1s - 562us/step - accuracy: 0.5343 - loss: 0.6908 - val_accuracy: 0.5266 - val_loss: 0.6919\n",
      "Epoch 88/100\n",
      "1029/1029 - 1s - 564us/step - accuracy: 0.5343 - loss: 0.6908 - val_accuracy: 0.5266 - val_loss: 0.6918\n",
      "Epoch 89/100\n",
      "1029/1029 - 1s - 563us/step - accuracy: 0.5343 - loss: 0.6908 - val_accuracy: 0.5266 - val_loss: 0.6918\n",
      "Epoch 90/100\n",
      "1029/1029 - 1s - 565us/step - accuracy: 0.5343 - loss: 0.6908 - val_accuracy: 0.5266 - val_loss: 0.6918\n",
      "Epoch 91/100\n",
      "1029/1029 - 1s - 563us/step - accuracy: 0.5343 - loss: 0.6908 - val_accuracy: 0.5266 - val_loss: 0.6918\n",
      "Epoch 92/100\n",
      "1029/1029 - 1s - 562us/step - accuracy: 0.5343 - loss: 0.6908 - val_accuracy: 0.5266 - val_loss: 0.6919\n",
      "Epoch 93/100\n",
      "1029/1029 - 1s - 563us/step - accuracy: 0.5343 - loss: 0.6908 - val_accuracy: 0.5266 - val_loss: 0.6918\n",
      "Epoch 94/100\n",
      "1029/1029 - 1s - 566us/step - accuracy: 0.5343 - loss: 0.6908 - val_accuracy: 0.5266 - val_loss: 0.6918\n",
      "Epoch 95/100\n",
      "1029/1029 - 1s - 563us/step - accuracy: 0.5343 - loss: 0.6908 - val_accuracy: 0.5266 - val_loss: 0.6920\n",
      "Epoch 96/100\n",
      "1029/1029 - 1s - 566us/step - accuracy: 0.5343 - loss: 0.6908 - val_accuracy: 0.5266 - val_loss: 0.6920\n",
      "Epoch 97/100\n",
      "1029/1029 - 1s - 564us/step - accuracy: 0.5343 - loss: 0.6908 - val_accuracy: 0.5266 - val_loss: 0.6920\n",
      "Epoch 98/100\n",
      "1029/1029 - 1s - 562us/step - accuracy: 0.5343 - loss: 0.6908 - val_accuracy: 0.5266 - val_loss: 0.6919\n",
      "Epoch 99/100\n",
      "1029/1029 - 1s - 563us/step - accuracy: 0.5343 - loss: 0.6908 - val_accuracy: 0.5266 - val_loss: 0.6918\n",
      "Epoch 100/100\n",
      "1029/1029 - 1s - 564us/step - accuracy: 0.5343 - loss: 0.6908 - val_accuracy: 0.5266 - val_loss: 0.6918\n"
     ]
    }
   ],
   "source": [
    "# Train the model\n",
    "history = nn.fit(X_train, y_train, \n",
    "                 epochs=100,\n",
    "                 batch_size=25,\n",
    "                 validation_data=(X_test, y_test),\n",
    "                 verbose=2)"
   ]
  },
  {
   "cell_type": "code",
   "execution_count": 62,
   "metadata": {},
   "outputs": [
    {
     "name": "stdout",
     "output_type": "stream",
     "text": [
      "268/268 - 0s - 622us/step - accuracy: 0.6596 - loss: 0.7925\n",
      "Loss: 0.7924656867980957, Accuracy: 0.6595918536186218\n"
     ]
    }
   ],
   "source": [
    "# Evaluate the model using the test data\n",
    "model_loss, model_accuracy = nn.evaluate(X_test_scaled,y_test,verbose=2)\n",
    "print(f\"Loss: {model_loss}, Accuracy: {model_accuracy}\")"
   ]
  },
  {
   "cell_type": "code",
   "execution_count": 63,
   "metadata": {},
   "outputs": [
    {
     "name": "stderr",
     "output_type": "stream",
     "text": [
      "/opt/anaconda3/envs/dev/lib/python3.10/site-packages/keras/src/layers/core/dense.py:87: UserWarning: Do not pass an `input_shape`/`input_dim` argument to a layer. When using Sequential models, prefer using an `Input(shape)` object as the first layer in the model instead.\n",
      "  super().__init__(activity_regularizer=activity_regularizer, **kwargs)\n"
     ]
    },
    {
     "data": {
      "text/html": [
       "<pre style=\"white-space:pre;overflow-x:auto;line-height:normal;font-family:Menlo,'DejaVu Sans Mono',consolas,'Courier New',monospace\"><span style=\"font-weight: bold\">Model: \"sequential_10\"</span>\n",
       "</pre>\n"
      ],
      "text/plain": [
       "\u001b[1mModel: \"sequential_10\"\u001b[0m\n"
      ]
     },
     "metadata": {},
     "output_type": "display_data"
    },
    {
     "data": {
      "text/html": [
       "<pre style=\"white-space:pre;overflow-x:auto;line-height:normal;font-family:Menlo,'DejaVu Sans Mono',consolas,'Courier New',monospace\">┏━━━━━━━━━━━━━━━━━━━━━━━━━━━━━━━━━┳━━━━━━━━━━━━━━━━━━━━━━━━┳━━━━━━━━━━━━━━━┓\n",
       "┃<span style=\"font-weight: bold\"> Layer (type)                    </span>┃<span style=\"font-weight: bold\"> Output Shape           </span>┃<span style=\"font-weight: bold\">       Param # </span>┃\n",
       "┡━━━━━━━━━━━━━━━━━━━━━━━━━━━━━━━━━╇━━━━━━━━━━━━━━━━━━━━━━━━╇━━━━━━━━━━━━━━━┩\n",
       "│ dense_37 (<span style=\"color: #0087ff; text-decoration-color: #0087ff\">Dense</span>)                │ (<span style=\"color: #00d7ff; text-decoration-color: #00d7ff\">None</span>, <span style=\"color: #00af00; text-decoration-color: #00af00\">60</span>)             │         <span style=\"color: #00af00; text-decoration-color: #00af00\">3,060</span> │\n",
       "├─────────────────────────────────┼────────────────────────┼───────────────┤\n",
       "│ dense_38 (<span style=\"color: #0087ff; text-decoration-color: #0087ff\">Dense</span>)                │ (<span style=\"color: #00d7ff; text-decoration-color: #00d7ff\">None</span>, <span style=\"color: #00af00; text-decoration-color: #00af00\">30</span>)             │         <span style=\"color: #00af00; text-decoration-color: #00af00\">1,830</span> │\n",
       "├─────────────────────────────────┼────────────────────────┼───────────────┤\n",
       "│ dense_39 (<span style=\"color: #0087ff; text-decoration-color: #0087ff\">Dense</span>)                │ (<span style=\"color: #00d7ff; text-decoration-color: #00d7ff\">None</span>, <span style=\"color: #00af00; text-decoration-color: #00af00\">15</span>)             │           <span style=\"color: #00af00; text-decoration-color: #00af00\">465</span> │\n",
       "├─────────────────────────────────┼────────────────────────┼───────────────┤\n",
       "│ dense_40 (<span style=\"color: #0087ff; text-decoration-color: #0087ff\">Dense</span>)                │ (<span style=\"color: #00d7ff; text-decoration-color: #00d7ff\">None</span>, <span style=\"color: #00af00; text-decoration-color: #00af00\">1</span>)              │            <span style=\"color: #00af00; text-decoration-color: #00af00\">16</span> │\n",
       "└─────────────────────────────────┴────────────────────────┴───────────────┘\n",
       "</pre>\n"
      ],
      "text/plain": [
       "┏━━━━━━━━━━━━━━━━━━━━━━━━━━━━━━━━━┳━━━━━━━━━━━━━━━━━━━━━━━━┳━━━━━━━━━━━━━━━┓\n",
       "┃\u001b[1m \u001b[0m\u001b[1mLayer (type)                   \u001b[0m\u001b[1m \u001b[0m┃\u001b[1m \u001b[0m\u001b[1mOutput Shape          \u001b[0m\u001b[1m \u001b[0m┃\u001b[1m \u001b[0m\u001b[1m      Param #\u001b[0m\u001b[1m \u001b[0m┃\n",
       "┡━━━━━━━━━━━━━━━━━━━━━━━━━━━━━━━━━╇━━━━━━━━━━━━━━━━━━━━━━━━╇━━━━━━━━━━━━━━━┩\n",
       "│ dense_37 (\u001b[38;5;33mDense\u001b[0m)                │ (\u001b[38;5;45mNone\u001b[0m, \u001b[38;5;34m60\u001b[0m)             │         \u001b[38;5;34m3,060\u001b[0m │\n",
       "├─────────────────────────────────┼────────────────────────┼───────────────┤\n",
       "│ dense_38 (\u001b[38;5;33mDense\u001b[0m)                │ (\u001b[38;5;45mNone\u001b[0m, \u001b[38;5;34m30\u001b[0m)             │         \u001b[38;5;34m1,830\u001b[0m │\n",
       "├─────────────────────────────────┼────────────────────────┼───────────────┤\n",
       "│ dense_39 (\u001b[38;5;33mDense\u001b[0m)                │ (\u001b[38;5;45mNone\u001b[0m, \u001b[38;5;34m15\u001b[0m)             │           \u001b[38;5;34m465\u001b[0m │\n",
       "├─────────────────────────────────┼────────────────────────┼───────────────┤\n",
       "│ dense_40 (\u001b[38;5;33mDense\u001b[0m)                │ (\u001b[38;5;45mNone\u001b[0m, \u001b[38;5;34m1\u001b[0m)              │            \u001b[38;5;34m16\u001b[0m │\n",
       "└─────────────────────────────────┴────────────────────────┴───────────────┘\n"
      ]
     },
     "metadata": {},
     "output_type": "display_data"
    },
    {
     "data": {
      "text/html": [
       "<pre style=\"white-space:pre;overflow-x:auto;line-height:normal;font-family:Menlo,'DejaVu Sans Mono',consolas,'Courier New',monospace\"><span style=\"font-weight: bold\"> Total params: </span><span style=\"color: #00af00; text-decoration-color: #00af00\">5,371</span> (20.98 KB)\n",
       "</pre>\n"
      ],
      "text/plain": [
       "\u001b[1m Total params: \u001b[0m\u001b[38;5;34m5,371\u001b[0m (20.98 KB)\n"
      ]
     },
     "metadata": {},
     "output_type": "display_data"
    },
    {
     "data": {
      "text/html": [
       "<pre style=\"white-space:pre;overflow-x:auto;line-height:normal;font-family:Menlo,'DejaVu Sans Mono',consolas,'Courier New',monospace\"><span style=\"font-weight: bold\"> Trainable params: </span><span style=\"color: #00af00; text-decoration-color: #00af00\">5,371</span> (20.98 KB)\n",
       "</pre>\n"
      ],
      "text/plain": [
       "\u001b[1m Trainable params: \u001b[0m\u001b[38;5;34m5,371\u001b[0m (20.98 KB)\n"
      ]
     },
     "metadata": {},
     "output_type": "display_data"
    },
    {
     "data": {
      "text/html": [
       "<pre style=\"white-space:pre;overflow-x:auto;line-height:normal;font-family:Menlo,'DejaVu Sans Mono',consolas,'Courier New',monospace\"><span style=\"font-weight: bold\"> Non-trainable params: </span><span style=\"color: #00af00; text-decoration-color: #00af00\">0</span> (0.00 B)\n",
       "</pre>\n"
      ],
      "text/plain": [
       "\u001b[1m Non-trainable params: \u001b[0m\u001b[38;5;34m0\u001b[0m (0.00 B)\n"
      ]
     },
     "metadata": {},
     "output_type": "display_data"
    }
   ],
   "source": [
    "nn2 = tf.keras.models.Sequential()\n",
    "\n",
    "# First hidden layer\n",
    "\n",
    "nn2.add(Dense(60, input_dim=X_train.shape[1], activation='relu'))\n",
    "\n",
    "# Second hidden layer\n",
    "\n",
    "nn2.add(Dense(30, activation = 'relu'))\n",
    "\n",
    "# Third hidden layer \n",
    "\n",
    "nn2.add(Dense(15, activation = 'relu'))\n",
    "\n",
    "# Output layer\n",
    "\n",
    "nn2.add(Dense(1, activation='sigmoid'))\n",
    "\n",
    "\n",
    "# Check the structure of the model\n",
    "nn2.summary()"
   ]
  },
  {
   "cell_type": "code",
   "execution_count": 64,
   "metadata": {},
   "outputs": [
    {
     "data": {
      "text/html": [
       "<pre style=\"white-space:pre;overflow-x:auto;line-height:normal;font-family:Menlo,'DejaVu Sans Mono',consolas,'Courier New',monospace\"><span style=\"font-weight: bold\">Model: \"sequential_10\"</span>\n",
       "</pre>\n"
      ],
      "text/plain": [
       "\u001b[1mModel: \"sequential_10\"\u001b[0m\n"
      ]
     },
     "metadata": {},
     "output_type": "display_data"
    },
    {
     "data": {
      "text/html": [
       "<pre style=\"white-space:pre;overflow-x:auto;line-height:normal;font-family:Menlo,'DejaVu Sans Mono',consolas,'Courier New',monospace\">┏━━━━━━━━━━━━━━━━━━━━━━━━━━━━━━━━━┳━━━━━━━━━━━━━━━━━━━━━━━━┳━━━━━━━━━━━━━━━┓\n",
       "┃<span style=\"font-weight: bold\"> Layer (type)                    </span>┃<span style=\"font-weight: bold\"> Output Shape           </span>┃<span style=\"font-weight: bold\">       Param # </span>┃\n",
       "┡━━━━━━━━━━━━━━━━━━━━━━━━━━━━━━━━━╇━━━━━━━━━━━━━━━━━━━━━━━━╇━━━━━━━━━━━━━━━┩\n",
       "│ dense_37 (<span style=\"color: #0087ff; text-decoration-color: #0087ff\">Dense</span>)                │ (<span style=\"color: #00d7ff; text-decoration-color: #00d7ff\">None</span>, <span style=\"color: #00af00; text-decoration-color: #00af00\">60</span>)             │         <span style=\"color: #00af00; text-decoration-color: #00af00\">3,060</span> │\n",
       "├─────────────────────────────────┼────────────────────────┼───────────────┤\n",
       "│ dense_38 (<span style=\"color: #0087ff; text-decoration-color: #0087ff\">Dense</span>)                │ (<span style=\"color: #00d7ff; text-decoration-color: #00d7ff\">None</span>, <span style=\"color: #00af00; text-decoration-color: #00af00\">30</span>)             │         <span style=\"color: #00af00; text-decoration-color: #00af00\">1,830</span> │\n",
       "├─────────────────────────────────┼────────────────────────┼───────────────┤\n",
       "│ dense_39 (<span style=\"color: #0087ff; text-decoration-color: #0087ff\">Dense</span>)                │ (<span style=\"color: #00d7ff; text-decoration-color: #00d7ff\">None</span>, <span style=\"color: #00af00; text-decoration-color: #00af00\">15</span>)             │           <span style=\"color: #00af00; text-decoration-color: #00af00\">465</span> │\n",
       "├─────────────────────────────────┼────────────────────────┼───────────────┤\n",
       "│ dense_40 (<span style=\"color: #0087ff; text-decoration-color: #0087ff\">Dense</span>)                │ (<span style=\"color: #00d7ff; text-decoration-color: #00d7ff\">None</span>, <span style=\"color: #00af00; text-decoration-color: #00af00\">1</span>)              │            <span style=\"color: #00af00; text-decoration-color: #00af00\">16</span> │\n",
       "└─────────────────────────────────┴────────────────────────┴───────────────┘\n",
       "</pre>\n"
      ],
      "text/plain": [
       "┏━━━━━━━━━━━━━━━━━━━━━━━━━━━━━━━━━┳━━━━━━━━━━━━━━━━━━━━━━━━┳━━━━━━━━━━━━━━━┓\n",
       "┃\u001b[1m \u001b[0m\u001b[1mLayer (type)                   \u001b[0m\u001b[1m \u001b[0m┃\u001b[1m \u001b[0m\u001b[1mOutput Shape          \u001b[0m\u001b[1m \u001b[0m┃\u001b[1m \u001b[0m\u001b[1m      Param #\u001b[0m\u001b[1m \u001b[0m┃\n",
       "┡━━━━━━━━━━━━━━━━━━━━━━━━━━━━━━━━━╇━━━━━━━━━━━━━━━━━━━━━━━━╇━━━━━━━━━━━━━━━┩\n",
       "│ dense_37 (\u001b[38;5;33mDense\u001b[0m)                │ (\u001b[38;5;45mNone\u001b[0m, \u001b[38;5;34m60\u001b[0m)             │         \u001b[38;5;34m3,060\u001b[0m │\n",
       "├─────────────────────────────────┼────────────────────────┼───────────────┤\n",
       "│ dense_38 (\u001b[38;5;33mDense\u001b[0m)                │ (\u001b[38;5;45mNone\u001b[0m, \u001b[38;5;34m30\u001b[0m)             │         \u001b[38;5;34m1,830\u001b[0m │\n",
       "├─────────────────────────────────┼────────────────────────┼───────────────┤\n",
       "│ dense_39 (\u001b[38;5;33mDense\u001b[0m)                │ (\u001b[38;5;45mNone\u001b[0m, \u001b[38;5;34m15\u001b[0m)             │           \u001b[38;5;34m465\u001b[0m │\n",
       "├─────────────────────────────────┼────────────────────────┼───────────────┤\n",
       "│ dense_40 (\u001b[38;5;33mDense\u001b[0m)                │ (\u001b[38;5;45mNone\u001b[0m, \u001b[38;5;34m1\u001b[0m)              │            \u001b[38;5;34m16\u001b[0m │\n",
       "└─────────────────────────────────┴────────────────────────┴───────────────┘\n"
      ]
     },
     "metadata": {},
     "output_type": "display_data"
    },
    {
     "data": {
      "text/html": [
       "<pre style=\"white-space:pre;overflow-x:auto;line-height:normal;font-family:Menlo,'DejaVu Sans Mono',consolas,'Courier New',monospace\"><span style=\"font-weight: bold\"> Total params: </span><span style=\"color: #00af00; text-decoration-color: #00af00\">5,371</span> (20.98 KB)\n",
       "</pre>\n"
      ],
      "text/plain": [
       "\u001b[1m Total params: \u001b[0m\u001b[38;5;34m5,371\u001b[0m (20.98 KB)\n"
      ]
     },
     "metadata": {},
     "output_type": "display_data"
    },
    {
     "data": {
      "text/html": [
       "<pre style=\"white-space:pre;overflow-x:auto;line-height:normal;font-family:Menlo,'DejaVu Sans Mono',consolas,'Courier New',monospace\"><span style=\"font-weight: bold\"> Trainable params: </span><span style=\"color: #00af00; text-decoration-color: #00af00\">5,371</span> (20.98 KB)\n",
       "</pre>\n"
      ],
      "text/plain": [
       "\u001b[1m Trainable params: \u001b[0m\u001b[38;5;34m5,371\u001b[0m (20.98 KB)\n"
      ]
     },
     "metadata": {},
     "output_type": "display_data"
    },
    {
     "data": {
      "text/html": [
       "<pre style=\"white-space:pre;overflow-x:auto;line-height:normal;font-family:Menlo,'DejaVu Sans Mono',consolas,'Courier New',monospace\"><span style=\"font-weight: bold\"> Non-trainable params: </span><span style=\"color: #00af00; text-decoration-color: #00af00\">0</span> (0.00 B)\n",
       "</pre>\n"
      ],
      "text/plain": [
       "\u001b[1m Non-trainable params: \u001b[0m\u001b[38;5;34m0\u001b[0m (0.00 B)\n"
      ]
     },
     "metadata": {},
     "output_type": "display_data"
    }
   ],
   "source": [
    "nn2.compile(loss='binary_crossentropy', optimizer = 'adam', metrics=['accuracy'])\n",
    "nn2.summary()"
   ]
  },
  {
   "cell_type": "code",
   "execution_count": 65,
   "metadata": {},
   "outputs": [
    {
     "name": "stdout",
     "output_type": "stream",
     "text": [
      "Epoch 1/100\n",
      "858/858 - 1s - 1ms/step - accuracy: 0.4899 - loss: 10592.7012 - val_accuracy: 0.4734 - val_loss: 10747.2275\n",
      "Epoch 2/100\n",
      "858/858 - 1s - 598us/step - accuracy: 0.4918 - loss: 9369.1484 - val_accuracy: 0.5266 - val_loss: 21773.5605\n",
      "Epoch 3/100\n",
      "858/858 - 1s - 600us/step - accuracy: 0.5040 - loss: 7911.5000 - val_accuracy: 0.4734 - val_loss: 43304.3789\n",
      "Epoch 4/100\n",
      "858/858 - 1s - 600us/step - accuracy: 0.4848 - loss: 8520.9219 - val_accuracy: 0.5266 - val_loss: 1331.6113\n",
      "Epoch 5/100\n",
      "858/858 - 1s - 600us/step - accuracy: 0.5068 - loss: 1307.1954 - val_accuracy: 0.4734 - val_loss: 12872.8389\n",
      "Epoch 6/100\n",
      "858/858 - 1s - 599us/step - accuracy: 0.5042 - loss: 1337.1200 - val_accuracy: 0.5266 - val_loss: 2022.7433\n",
      "Epoch 7/100\n",
      "858/858 - 1s - 599us/step - accuracy: 0.5142 - loss: 322.6242 - val_accuracy: 0.5074 - val_loss: 116.5723\n",
      "Epoch 8/100\n",
      "858/858 - 1s - 599us/step - accuracy: 0.5054 - loss: 609.6043 - val_accuracy: 0.5266 - val_loss: 0.8745\n",
      "Epoch 9/100\n",
      "858/858 - 1s - 600us/step - accuracy: 0.5343 - loss: 0.7573 - val_accuracy: 0.5266 - val_loss: 0.7079\n",
      "Epoch 10/100\n",
      "858/858 - 1s - 599us/step - accuracy: 0.5343 - loss: 0.6948 - val_accuracy: 0.5266 - val_loss: 0.6927\n",
      "Epoch 11/100\n",
      "858/858 - 1s - 600us/step - accuracy: 0.5343 - loss: 0.6909 - val_accuracy: 0.5266 - val_loss: 0.6920\n",
      "Epoch 12/100\n",
      "858/858 - 1s - 598us/step - accuracy: 0.5343 - loss: 0.6908 - val_accuracy: 0.5266 - val_loss: 0.6918\n",
      "Epoch 13/100\n",
      "858/858 - 1s - 599us/step - accuracy: 0.5343 - loss: 0.6908 - val_accuracy: 0.5266 - val_loss: 0.6918\n",
      "Epoch 14/100\n",
      "858/858 - 1s - 598us/step - accuracy: 0.5343 - loss: 0.6908 - val_accuracy: 0.5266 - val_loss: 0.6918\n",
      "Epoch 15/100\n",
      "858/858 - 1s - 599us/step - accuracy: 0.5343 - loss: 0.6908 - val_accuracy: 0.5266 - val_loss: 0.6918\n",
      "Epoch 16/100\n",
      "858/858 - 1s - 597us/step - accuracy: 0.5343 - loss: 0.6908 - val_accuracy: 0.5266 - val_loss: 0.6919\n",
      "Epoch 17/100\n",
      "858/858 - 1s - 599us/step - accuracy: 0.5343 - loss: 0.6908 - val_accuracy: 0.5266 - val_loss: 0.6918\n",
      "Epoch 18/100\n",
      "858/858 - 1s - 599us/step - accuracy: 0.5343 - loss: 0.6908 - val_accuracy: 0.5266 - val_loss: 0.6919\n",
      "Epoch 19/100\n",
      "858/858 - 1s - 600us/step - accuracy: 0.5343 - loss: 0.6908 - val_accuracy: 0.5266 - val_loss: 0.6918\n",
      "Epoch 20/100\n",
      "858/858 - 1s - 597us/step - accuracy: 0.5343 - loss: 0.6908 - val_accuracy: 0.5266 - val_loss: 0.6919\n",
      "Epoch 21/100\n",
      "858/858 - 1s - 599us/step - accuracy: 0.5343 - loss: 0.6908 - val_accuracy: 0.5266 - val_loss: 0.6918\n",
      "Epoch 22/100\n",
      "858/858 - 1s - 600us/step - accuracy: 0.5343 - loss: 0.6908 - val_accuracy: 0.5266 - val_loss: 0.6919\n",
      "Epoch 23/100\n",
      "858/858 - 1s - 597us/step - accuracy: 0.5343 - loss: 0.6908 - val_accuracy: 0.5266 - val_loss: 0.6920\n",
      "Epoch 24/100\n",
      "858/858 - 1s - 596us/step - accuracy: 0.5343 - loss: 0.6908 - val_accuracy: 0.5266 - val_loss: 0.6919\n",
      "Epoch 25/100\n",
      "858/858 - 1s - 598us/step - accuracy: 0.5343 - loss: 0.6908 - val_accuracy: 0.5266 - val_loss: 0.6918\n",
      "Epoch 26/100\n",
      "858/858 - 1s - 597us/step - accuracy: 0.5343 - loss: 0.6908 - val_accuracy: 0.5266 - val_loss: 0.6920\n",
      "Epoch 27/100\n",
      "858/858 - 1s - 601us/step - accuracy: 0.5343 - loss: 0.6908 - val_accuracy: 0.5266 - val_loss: 0.6919\n",
      "Epoch 28/100\n",
      "858/858 - 1s - 598us/step - accuracy: 0.5343 - loss: 0.6908 - val_accuracy: 0.5266 - val_loss: 0.6919\n",
      "Epoch 29/100\n",
      "858/858 - 1s - 598us/step - accuracy: 0.5343 - loss: 0.6908 - val_accuracy: 0.5266 - val_loss: 0.6919\n",
      "Epoch 30/100\n",
      "858/858 - 1s - 598us/step - accuracy: 0.5343 - loss: 0.6908 - val_accuracy: 0.5266 - val_loss: 0.6919\n",
      "Epoch 31/100\n",
      "858/858 - 1s - 600us/step - accuracy: 0.5343 - loss: 0.6908 - val_accuracy: 0.5266 - val_loss: 0.6918\n",
      "Epoch 32/100\n",
      "858/858 - 1s - 599us/step - accuracy: 0.5343 - loss: 0.6908 - val_accuracy: 0.5266 - val_loss: 0.6918\n",
      "Epoch 33/100\n",
      "858/858 - 1s - 600us/step - accuracy: 0.5343 - loss: 0.6908 - val_accuracy: 0.5266 - val_loss: 0.6921\n",
      "Epoch 34/100\n",
      "858/858 - 1s - 599us/step - accuracy: 0.5343 - loss: 0.6908 - val_accuracy: 0.5266 - val_loss: 0.6919\n",
      "Epoch 35/100\n",
      "858/858 - 1s - 608us/step - accuracy: 0.5343 - loss: 0.6908 - val_accuracy: 0.5266 - val_loss: 0.6918\n",
      "Epoch 36/100\n",
      "858/858 - 1s - 600us/step - accuracy: 0.5343 - loss: 0.6908 - val_accuracy: 0.5266 - val_loss: 0.6918\n",
      "Epoch 37/100\n",
      "858/858 - 1s - 603us/step - accuracy: 0.5343 - loss: 0.6908 - val_accuracy: 0.5266 - val_loss: 0.6918\n",
      "Epoch 38/100\n",
      "858/858 - 1s - 601us/step - accuracy: 0.5343 - loss: 0.6908 - val_accuracy: 0.5266 - val_loss: 0.6918\n",
      "Epoch 39/100\n",
      "858/858 - 1s - 600us/step - accuracy: 0.5343 - loss: 0.6908 - val_accuracy: 0.5266 - val_loss: 0.6919\n",
      "Epoch 40/100\n",
      "858/858 - 1s - 596us/step - accuracy: 0.5343 - loss: 0.6908 - val_accuracy: 0.5266 - val_loss: 0.6917\n",
      "Epoch 41/100\n",
      "858/858 - 1s - 598us/step - accuracy: 0.5343 - loss: 0.6908 - val_accuracy: 0.5266 - val_loss: 0.6919\n",
      "Epoch 42/100\n",
      "858/858 - 1s - 603us/step - accuracy: 0.5343 - loss: 0.6908 - val_accuracy: 0.5266 - val_loss: 0.6918\n",
      "Epoch 43/100\n",
      "858/858 - 1s - 600us/step - accuracy: 0.5343 - loss: 0.6908 - val_accuracy: 0.5266 - val_loss: 0.6918\n",
      "Epoch 44/100\n",
      "858/858 - 1s - 599us/step - accuracy: 0.5343 - loss: 0.6908 - val_accuracy: 0.5266 - val_loss: 0.6918\n",
      "Epoch 45/100\n",
      "858/858 - 1s - 599us/step - accuracy: 0.5343 - loss: 0.6908 - val_accuracy: 0.5266 - val_loss: 0.6919\n",
      "Epoch 46/100\n",
      "858/858 - 1s - 601us/step - accuracy: 0.5343 - loss: 0.6908 - val_accuracy: 0.5266 - val_loss: 0.6918\n",
      "Epoch 47/100\n",
      "858/858 - 1s - 599us/step - accuracy: 0.5343 - loss: 0.6908 - val_accuracy: 0.5266 - val_loss: 0.6918\n",
      "Epoch 48/100\n",
      "858/858 - 1s - 599us/step - accuracy: 0.5343 - loss: 0.6908 - val_accuracy: 0.5266 - val_loss: 0.6919\n",
      "Epoch 49/100\n",
      "858/858 - 1s - 600us/step - accuracy: 0.5343 - loss: 0.6908 - val_accuracy: 0.5266 - val_loss: 0.6918\n",
      "Epoch 50/100\n",
      "858/858 - 1s - 604us/step - accuracy: 0.5343 - loss: 0.6908 - val_accuracy: 0.5266 - val_loss: 0.6919\n",
      "Epoch 51/100\n",
      "858/858 - 1s - 601us/step - accuracy: 0.5343 - loss: 0.6908 - val_accuracy: 0.5266 - val_loss: 0.6918\n",
      "Epoch 52/100\n",
      "858/858 - 1s - 601us/step - accuracy: 0.5343 - loss: 0.6908 - val_accuracy: 0.5266 - val_loss: 0.6919\n",
      "Epoch 53/100\n",
      "858/858 - 1s - 600us/step - accuracy: 0.5343 - loss: 0.6908 - val_accuracy: 0.5266 - val_loss: 0.6918\n",
      "Epoch 54/100\n",
      "858/858 - 1s - 598us/step - accuracy: 0.5343 - loss: 0.6908 - val_accuracy: 0.5266 - val_loss: 0.6918\n",
      "Epoch 55/100\n",
      "858/858 - 1s - 601us/step - accuracy: 0.5343 - loss: 0.6908 - val_accuracy: 0.5266 - val_loss: 0.6919\n",
      "Epoch 56/100\n",
      "858/858 - 1s - 600us/step - accuracy: 0.5343 - loss: 0.6908 - val_accuracy: 0.5266 - val_loss: 0.6919\n",
      "Epoch 57/100\n",
      "858/858 - 1s - 609us/step - accuracy: 0.5343 - loss: 0.6908 - val_accuracy: 0.5266 - val_loss: 0.6918\n",
      "Epoch 58/100\n",
      "858/858 - 1s - 598us/step - accuracy: 0.5343 - loss: 0.6908 - val_accuracy: 0.5266 - val_loss: 0.6918\n",
      "Epoch 59/100\n",
      "858/858 - 1s - 596us/step - accuracy: 0.5343 - loss: 0.6908 - val_accuracy: 0.5266 - val_loss: 0.6918\n",
      "Epoch 60/100\n",
      "858/858 - 1s - 590us/step - accuracy: 0.5343 - loss: 0.6908 - val_accuracy: 0.5266 - val_loss: 0.6917\n",
      "Epoch 61/100\n",
      "858/858 - 1s - 602us/step - accuracy: 0.5343 - loss: 0.6908 - val_accuracy: 0.5266 - val_loss: 0.6918\n",
      "Epoch 62/100\n",
      "858/858 - 1s - 598us/step - accuracy: 0.5343 - loss: 0.6908 - val_accuracy: 0.5266 - val_loss: 0.6918\n",
      "Epoch 63/100\n",
      "858/858 - 1s - 613us/step - accuracy: 0.5343 - loss: 0.6908 - val_accuracy: 0.5266 - val_loss: 0.6919\n",
      "Epoch 64/100\n",
      "858/858 - 1s - 613us/step - accuracy: 0.5343 - loss: 0.6908 - val_accuracy: 0.5266 - val_loss: 0.6919\n",
      "Epoch 65/100\n",
      "858/858 - 1s - 613us/step - accuracy: 0.5343 - loss: 0.6908 - val_accuracy: 0.5266 - val_loss: 0.6918\n",
      "Epoch 66/100\n",
      "858/858 - 1s - 613us/step - accuracy: 0.5343 - loss: 0.6908 - val_accuracy: 0.5266 - val_loss: 0.6918\n",
      "Epoch 67/100\n",
      "858/858 - 1s - 609us/step - accuracy: 0.5343 - loss: 0.6908 - val_accuracy: 0.5266 - val_loss: 0.6919\n",
      "Epoch 68/100\n",
      "858/858 - 1s - 613us/step - accuracy: 0.5343 - loss: 0.6908 - val_accuracy: 0.5266 - val_loss: 0.6918\n",
      "Epoch 69/100\n",
      "858/858 - 1s - 673us/step - accuracy: 0.5343 - loss: 0.6908 - val_accuracy: 0.5266 - val_loss: 0.6919\n",
      "Epoch 70/100\n",
      "858/858 - 1s - 616us/step - accuracy: 0.5343 - loss: 0.6908 - val_accuracy: 0.5266 - val_loss: 0.6918\n",
      "Epoch 71/100\n",
      "858/858 - 1s - 613us/step - accuracy: 0.5343 - loss: 0.6908 - val_accuracy: 0.5266 - val_loss: 0.6919\n",
      "Epoch 72/100\n",
      "858/858 - 1s - 614us/step - accuracy: 0.5343 - loss: 0.6908 - val_accuracy: 0.5266 - val_loss: 0.6918\n",
      "Epoch 73/100\n",
      "858/858 - 1s - 611us/step - accuracy: 0.5343 - loss: 0.6908 - val_accuracy: 0.5266 - val_loss: 0.6918\n",
      "Epoch 74/100\n",
      "858/858 - 1s - 600us/step - accuracy: 0.5343 - loss: 0.6908 - val_accuracy: 0.5266 - val_loss: 0.6918\n",
      "Epoch 75/100\n",
      "858/858 - 1s - 607us/step - accuracy: 0.5343 - loss: 0.6908 - val_accuracy: 0.5266 - val_loss: 0.6918\n",
      "Epoch 76/100\n",
      "858/858 - 1s - 603us/step - accuracy: 0.5343 - loss: 0.6908 - val_accuracy: 0.5266 - val_loss: 0.6919\n",
      "Epoch 77/100\n",
      "858/858 - 1s - 706us/step - accuracy: 0.5343 - loss: 0.6908 - val_accuracy: 0.5266 - val_loss: 0.6918\n",
      "Epoch 78/100\n",
      "858/858 - 1s - 606us/step - accuracy: 0.5343 - loss: 0.6908 - val_accuracy: 0.5266 - val_loss: 0.6919\n",
      "Epoch 79/100\n",
      "858/858 - 1s - 639us/step - accuracy: 0.5343 - loss: 0.6908 - val_accuracy: 0.5266 - val_loss: 0.6918\n",
      "Epoch 80/100\n",
      "858/858 - 1s - 602us/step - accuracy: 0.5343 - loss: 0.6908 - val_accuracy: 0.5266 - val_loss: 0.6918\n",
      "Epoch 81/100\n",
      "858/858 - 1s - 603us/step - accuracy: 0.5343 - loss: 0.6908 - val_accuracy: 0.5266 - val_loss: 0.6918\n",
      "Epoch 82/100\n",
      "858/858 - 1s - 605us/step - accuracy: 0.5343 - loss: 0.6908 - val_accuracy: 0.5266 - val_loss: 0.6919\n",
      "Epoch 83/100\n",
      "858/858 - 1s - 605us/step - accuracy: 0.5343 - loss: 0.6908 - val_accuracy: 0.5266 - val_loss: 0.6918\n",
      "Epoch 84/100\n",
      "858/858 - 1s - 600us/step - accuracy: 0.5343 - loss: 0.6908 - val_accuracy: 0.5266 - val_loss: 0.6918\n",
      "Epoch 85/100\n",
      "858/858 - 1s - 606us/step - accuracy: 0.5343 - loss: 0.6908 - val_accuracy: 0.5266 - val_loss: 0.6919\n",
      "Epoch 86/100\n",
      "858/858 - 1s - 602us/step - accuracy: 0.5343 - loss: 0.6908 - val_accuracy: 0.5266 - val_loss: 0.6918\n",
      "Epoch 87/100\n",
      "858/858 - 1s - 602us/step - accuracy: 0.5343 - loss: 0.6908 - val_accuracy: 0.5266 - val_loss: 0.6919\n",
      "Epoch 88/100\n",
      "858/858 - 1s - 603us/step - accuracy: 0.5343 - loss: 0.6908 - val_accuracy: 0.5266 - val_loss: 0.6919\n",
      "Epoch 89/100\n",
      "858/858 - 1s - 600us/step - accuracy: 0.5343 - loss: 0.6908 - val_accuracy: 0.5266 - val_loss: 0.6919\n",
      "Epoch 90/100\n",
      "858/858 - 1s - 601us/step - accuracy: 0.5343 - loss: 0.6908 - val_accuracy: 0.5266 - val_loss: 0.6918\n",
      "Epoch 91/100\n",
      "858/858 - 1s - 602us/step - accuracy: 0.5343 - loss: 0.6908 - val_accuracy: 0.5266 - val_loss: 0.6919\n",
      "Epoch 92/100\n",
      "858/858 - 1s - 601us/step - accuracy: 0.5343 - loss: 0.6908 - val_accuracy: 0.5266 - val_loss: 0.6918\n",
      "Epoch 93/100\n",
      "858/858 - 1s - 603us/step - accuracy: 0.5343 - loss: 0.6908 - val_accuracy: 0.5266 - val_loss: 0.6918\n",
      "Epoch 94/100\n",
      "858/858 - 1s - 600us/step - accuracy: 0.5343 - loss: 0.6908 - val_accuracy: 0.5266 - val_loss: 0.6919\n",
      "Epoch 95/100\n",
      "858/858 - 1s - 603us/step - accuracy: 0.5343 - loss: 0.6908 - val_accuracy: 0.5266 - val_loss: 0.6919\n",
      "Epoch 96/100\n",
      "858/858 - 1s - 600us/step - accuracy: 0.5343 - loss: 0.6908 - val_accuracy: 0.5266 - val_loss: 0.6920\n",
      "Epoch 97/100\n",
      "858/858 - 1s - 601us/step - accuracy: 0.5343 - loss: 0.6908 - val_accuracy: 0.5266 - val_loss: 0.6918\n",
      "Epoch 98/100\n",
      "858/858 - 1s - 602us/step - accuracy: 0.5343 - loss: 0.6908 - val_accuracy: 0.5266 - val_loss: 0.6918\n",
      "Epoch 99/100\n",
      "858/858 - 1s - 604us/step - accuracy: 0.5343 - loss: 0.6908 - val_accuracy: 0.5266 - val_loss: 0.6919\n",
      "Epoch 100/100\n",
      "858/858 - 1s - 602us/step - accuracy: 0.5343 - loss: 0.6908 - val_accuracy: 0.5266 - val_loss: 0.6920\n"
     ]
    }
   ],
   "source": [
    "# Train the model\n",
    "history = nn2.fit(X_train, y_train, \n",
    "                 epochs=100,\n",
    "                 batch_size=30,\n",
    "                 validation_data=(X_test, y_test),\n",
    "                 verbose=2)"
   ]
  },
  {
   "cell_type": "code",
   "execution_count": 66,
   "metadata": {},
   "outputs": [
    {
     "name": "stdout",
     "output_type": "stream",
     "text": [
      "268/268 - 0s - 589us/step - accuracy: 0.6268 - loss: 0.6523\n",
      "Loss: 0.652256429195404, Accuracy: 0.6268221735954285\n"
     ]
    }
   ],
   "source": [
    "# Evaluate the model using the test data\n",
    "model_loss, model_accuracy = nn2.evaluate(X_test_scaled,y_test,verbose=2)\n",
    "print(f\"Loss: {model_loss}, Accuracy: {model_accuracy}\")"
   ]
  },
  {
   "cell_type": "code",
   "execution_count": 67,
   "metadata": {},
   "outputs": [
    {
     "name": "stderr",
     "output_type": "stream",
     "text": [
      "/opt/anaconda3/envs/dev/lib/python3.10/site-packages/keras/src/layers/core/dense.py:87: UserWarning: Do not pass an `input_shape`/`input_dim` argument to a layer. When using Sequential models, prefer using an `Input(shape)` object as the first layer in the model instead.\n",
      "  super().__init__(activity_regularizer=activity_regularizer, **kwargs)\n"
     ]
    },
    {
     "data": {
      "text/html": [
       "<pre style=\"white-space:pre;overflow-x:auto;line-height:normal;font-family:Menlo,'DejaVu Sans Mono',consolas,'Courier New',monospace\"><span style=\"font-weight: bold\">Model: \"sequential_11\"</span>\n",
       "</pre>\n"
      ],
      "text/plain": [
       "\u001b[1mModel: \"sequential_11\"\u001b[0m\n"
      ]
     },
     "metadata": {},
     "output_type": "display_data"
    },
    {
     "data": {
      "text/html": [
       "<pre style=\"white-space:pre;overflow-x:auto;line-height:normal;font-family:Menlo,'DejaVu Sans Mono',consolas,'Courier New',monospace\">┏━━━━━━━━━━━━━━━━━━━━━━━━━━━━━━━━━┳━━━━━━━━━━━━━━━━━━━━━━━━┳━━━━━━━━━━━━━━━┓\n",
       "┃<span style=\"font-weight: bold\"> Layer (type)                    </span>┃<span style=\"font-weight: bold\"> Output Shape           </span>┃<span style=\"font-weight: bold\">       Param # </span>┃\n",
       "┡━━━━━━━━━━━━━━━━━━━━━━━━━━━━━━━━━╇━━━━━━━━━━━━━━━━━━━━━━━━╇━━━━━━━━━━━━━━━┩\n",
       "│ dense_41 (<span style=\"color: #0087ff; text-decoration-color: #0087ff\">Dense</span>)                │ (<span style=\"color: #00d7ff; text-decoration-color: #00d7ff\">None</span>, <span style=\"color: #00af00; text-decoration-color: #00af00\">90</span>)             │         <span style=\"color: #00af00; text-decoration-color: #00af00\">4,590</span> │\n",
       "├─────────────────────────────────┼────────────────────────┼───────────────┤\n",
       "│ dense_42 (<span style=\"color: #0087ff; text-decoration-color: #0087ff\">Dense</span>)                │ (<span style=\"color: #00d7ff; text-decoration-color: #00d7ff\">None</span>, <span style=\"color: #00af00; text-decoration-color: #00af00\">20</span>)             │         <span style=\"color: #00af00; text-decoration-color: #00af00\">1,820</span> │\n",
       "├─────────────────────────────────┼────────────────────────┼───────────────┤\n",
       "│ dense_43 (<span style=\"color: #0087ff; text-decoration-color: #0087ff\">Dense</span>)                │ (<span style=\"color: #00d7ff; text-decoration-color: #00d7ff\">None</span>, <span style=\"color: #00af00; text-decoration-color: #00af00\">5</span>)              │           <span style=\"color: #00af00; text-decoration-color: #00af00\">105</span> │\n",
       "├─────────────────────────────────┼────────────────────────┼───────────────┤\n",
       "│ dense_44 (<span style=\"color: #0087ff; text-decoration-color: #0087ff\">Dense</span>)                │ (<span style=\"color: #00d7ff; text-decoration-color: #00d7ff\">None</span>, <span style=\"color: #00af00; text-decoration-color: #00af00\">1</span>)              │             <span style=\"color: #00af00; text-decoration-color: #00af00\">6</span> │\n",
       "└─────────────────────────────────┴────────────────────────┴───────────────┘\n",
       "</pre>\n"
      ],
      "text/plain": [
       "┏━━━━━━━━━━━━━━━━━━━━━━━━━━━━━━━━━┳━━━━━━━━━━━━━━━━━━━━━━━━┳━━━━━━━━━━━━━━━┓\n",
       "┃\u001b[1m \u001b[0m\u001b[1mLayer (type)                   \u001b[0m\u001b[1m \u001b[0m┃\u001b[1m \u001b[0m\u001b[1mOutput Shape          \u001b[0m\u001b[1m \u001b[0m┃\u001b[1m \u001b[0m\u001b[1m      Param #\u001b[0m\u001b[1m \u001b[0m┃\n",
       "┡━━━━━━━━━━━━━━━━━━━━━━━━━━━━━━━━━╇━━━━━━━━━━━━━━━━━━━━━━━━╇━━━━━━━━━━━━━━━┩\n",
       "│ dense_41 (\u001b[38;5;33mDense\u001b[0m)                │ (\u001b[38;5;45mNone\u001b[0m, \u001b[38;5;34m90\u001b[0m)             │         \u001b[38;5;34m4,590\u001b[0m │\n",
       "├─────────────────────────────────┼────────────────────────┼───────────────┤\n",
       "│ dense_42 (\u001b[38;5;33mDense\u001b[0m)                │ (\u001b[38;5;45mNone\u001b[0m, \u001b[38;5;34m20\u001b[0m)             │         \u001b[38;5;34m1,820\u001b[0m │\n",
       "├─────────────────────────────────┼────────────────────────┼───────────────┤\n",
       "│ dense_43 (\u001b[38;5;33mDense\u001b[0m)                │ (\u001b[38;5;45mNone\u001b[0m, \u001b[38;5;34m5\u001b[0m)              │           \u001b[38;5;34m105\u001b[0m │\n",
       "├─────────────────────────────────┼────────────────────────┼───────────────┤\n",
       "│ dense_44 (\u001b[38;5;33mDense\u001b[0m)                │ (\u001b[38;5;45mNone\u001b[0m, \u001b[38;5;34m1\u001b[0m)              │             \u001b[38;5;34m6\u001b[0m │\n",
       "└─────────────────────────────────┴────────────────────────┴───────────────┘\n"
      ]
     },
     "metadata": {},
     "output_type": "display_data"
    },
    {
     "data": {
      "text/html": [
       "<pre style=\"white-space:pre;overflow-x:auto;line-height:normal;font-family:Menlo,'DejaVu Sans Mono',consolas,'Courier New',monospace\"><span style=\"font-weight: bold\"> Total params: </span><span style=\"color: #00af00; text-decoration-color: #00af00\">6,521</span> (25.47 KB)\n",
       "</pre>\n"
      ],
      "text/plain": [
       "\u001b[1m Total params: \u001b[0m\u001b[38;5;34m6,521\u001b[0m (25.47 KB)\n"
      ]
     },
     "metadata": {},
     "output_type": "display_data"
    },
    {
     "data": {
      "text/html": [
       "<pre style=\"white-space:pre;overflow-x:auto;line-height:normal;font-family:Menlo,'DejaVu Sans Mono',consolas,'Courier New',monospace\"><span style=\"font-weight: bold\"> Trainable params: </span><span style=\"color: #00af00; text-decoration-color: #00af00\">6,521</span> (25.47 KB)\n",
       "</pre>\n"
      ],
      "text/plain": [
       "\u001b[1m Trainable params: \u001b[0m\u001b[38;5;34m6,521\u001b[0m (25.47 KB)\n"
      ]
     },
     "metadata": {},
     "output_type": "display_data"
    },
    {
     "data": {
      "text/html": [
       "<pre style=\"white-space:pre;overflow-x:auto;line-height:normal;font-family:Menlo,'DejaVu Sans Mono',consolas,'Courier New',monospace\"><span style=\"font-weight: bold\"> Non-trainable params: </span><span style=\"color: #00af00; text-decoration-color: #00af00\">0</span> (0.00 B)\n",
       "</pre>\n"
      ],
      "text/plain": [
       "\u001b[1m Non-trainable params: \u001b[0m\u001b[38;5;34m0\u001b[0m (0.00 B)\n"
      ]
     },
     "metadata": {},
     "output_type": "display_data"
    }
   ],
   "source": [
    "nn3 = tf.keras.models.Sequential()\n",
    "\n",
    "# First hidden layer\n",
    "\n",
    "nn3.add(Dense(90, input_dim=X_train.shape[1], activation='relu'))\n",
    "\n",
    "# Second hidden layer\n",
    "\n",
    "nn3.add(Dense(20, activation = 'relu'))\n",
    "\n",
    "# Third hidden layer \n",
    "\n",
    "nn3.add(Dense(5, activation = 'tanh'))\n",
    "\n",
    "# Output layer\n",
    "\n",
    "nn3.add(Dense(1, activation='sigmoid'))\n",
    "\n",
    "\n",
    "# Check the structure of the model\n",
    "nn3.summary()"
   ]
  },
  {
   "cell_type": "code",
   "execution_count": 68,
   "metadata": {},
   "outputs": [
    {
     "data": {
      "text/html": [
       "<pre style=\"white-space:pre;overflow-x:auto;line-height:normal;font-family:Menlo,'DejaVu Sans Mono',consolas,'Courier New',monospace\"><span style=\"font-weight: bold\">Model: \"sequential_11\"</span>\n",
       "</pre>\n"
      ],
      "text/plain": [
       "\u001b[1mModel: \"sequential_11\"\u001b[0m\n"
      ]
     },
     "metadata": {},
     "output_type": "display_data"
    },
    {
     "data": {
      "text/html": [
       "<pre style=\"white-space:pre;overflow-x:auto;line-height:normal;font-family:Menlo,'DejaVu Sans Mono',consolas,'Courier New',monospace\">┏━━━━━━━━━━━━━━━━━━━━━━━━━━━━━━━━━┳━━━━━━━━━━━━━━━━━━━━━━━━┳━━━━━━━━━━━━━━━┓\n",
       "┃<span style=\"font-weight: bold\"> Layer (type)                    </span>┃<span style=\"font-weight: bold\"> Output Shape           </span>┃<span style=\"font-weight: bold\">       Param # </span>┃\n",
       "┡━━━━━━━━━━━━━━━━━━━━━━━━━━━━━━━━━╇━━━━━━━━━━━━━━━━━━━━━━━━╇━━━━━━━━━━━━━━━┩\n",
       "│ dense_41 (<span style=\"color: #0087ff; text-decoration-color: #0087ff\">Dense</span>)                │ (<span style=\"color: #00d7ff; text-decoration-color: #00d7ff\">None</span>, <span style=\"color: #00af00; text-decoration-color: #00af00\">90</span>)             │         <span style=\"color: #00af00; text-decoration-color: #00af00\">4,590</span> │\n",
       "├─────────────────────────────────┼────────────────────────┼───────────────┤\n",
       "│ dense_42 (<span style=\"color: #0087ff; text-decoration-color: #0087ff\">Dense</span>)                │ (<span style=\"color: #00d7ff; text-decoration-color: #00d7ff\">None</span>, <span style=\"color: #00af00; text-decoration-color: #00af00\">20</span>)             │         <span style=\"color: #00af00; text-decoration-color: #00af00\">1,820</span> │\n",
       "├─────────────────────────────────┼────────────────────────┼───────────────┤\n",
       "│ dense_43 (<span style=\"color: #0087ff; text-decoration-color: #0087ff\">Dense</span>)                │ (<span style=\"color: #00d7ff; text-decoration-color: #00d7ff\">None</span>, <span style=\"color: #00af00; text-decoration-color: #00af00\">5</span>)              │           <span style=\"color: #00af00; text-decoration-color: #00af00\">105</span> │\n",
       "├─────────────────────────────────┼────────────────────────┼───────────────┤\n",
       "│ dense_44 (<span style=\"color: #0087ff; text-decoration-color: #0087ff\">Dense</span>)                │ (<span style=\"color: #00d7ff; text-decoration-color: #00d7ff\">None</span>, <span style=\"color: #00af00; text-decoration-color: #00af00\">1</span>)              │             <span style=\"color: #00af00; text-decoration-color: #00af00\">6</span> │\n",
       "└─────────────────────────────────┴────────────────────────┴───────────────┘\n",
       "</pre>\n"
      ],
      "text/plain": [
       "┏━━━━━━━━━━━━━━━━━━━━━━━━━━━━━━━━━┳━━━━━━━━━━━━━━━━━━━━━━━━┳━━━━━━━━━━━━━━━┓\n",
       "┃\u001b[1m \u001b[0m\u001b[1mLayer (type)                   \u001b[0m\u001b[1m \u001b[0m┃\u001b[1m \u001b[0m\u001b[1mOutput Shape          \u001b[0m\u001b[1m \u001b[0m┃\u001b[1m \u001b[0m\u001b[1m      Param #\u001b[0m\u001b[1m \u001b[0m┃\n",
       "┡━━━━━━━━━━━━━━━━━━━━━━━━━━━━━━━━━╇━━━━━━━━━━━━━━━━━━━━━━━━╇━━━━━━━━━━━━━━━┩\n",
       "│ dense_41 (\u001b[38;5;33mDense\u001b[0m)                │ (\u001b[38;5;45mNone\u001b[0m, \u001b[38;5;34m90\u001b[0m)             │         \u001b[38;5;34m4,590\u001b[0m │\n",
       "├─────────────────────────────────┼────────────────────────┼───────────────┤\n",
       "│ dense_42 (\u001b[38;5;33mDense\u001b[0m)                │ (\u001b[38;5;45mNone\u001b[0m, \u001b[38;5;34m20\u001b[0m)             │         \u001b[38;5;34m1,820\u001b[0m │\n",
       "├─────────────────────────────────┼────────────────────────┼───────────────┤\n",
       "│ dense_43 (\u001b[38;5;33mDense\u001b[0m)                │ (\u001b[38;5;45mNone\u001b[0m, \u001b[38;5;34m5\u001b[0m)              │           \u001b[38;5;34m105\u001b[0m │\n",
       "├─────────────────────────────────┼────────────────────────┼───────────────┤\n",
       "│ dense_44 (\u001b[38;5;33mDense\u001b[0m)                │ (\u001b[38;5;45mNone\u001b[0m, \u001b[38;5;34m1\u001b[0m)              │             \u001b[38;5;34m6\u001b[0m │\n",
       "└─────────────────────────────────┴────────────────────────┴───────────────┘\n"
      ]
     },
     "metadata": {},
     "output_type": "display_data"
    },
    {
     "data": {
      "text/html": [
       "<pre style=\"white-space:pre;overflow-x:auto;line-height:normal;font-family:Menlo,'DejaVu Sans Mono',consolas,'Courier New',monospace\"><span style=\"font-weight: bold\"> Total params: </span><span style=\"color: #00af00; text-decoration-color: #00af00\">6,521</span> (25.47 KB)\n",
       "</pre>\n"
      ],
      "text/plain": [
       "\u001b[1m Total params: \u001b[0m\u001b[38;5;34m6,521\u001b[0m (25.47 KB)\n"
      ]
     },
     "metadata": {},
     "output_type": "display_data"
    },
    {
     "data": {
      "text/html": [
       "<pre style=\"white-space:pre;overflow-x:auto;line-height:normal;font-family:Menlo,'DejaVu Sans Mono',consolas,'Courier New',monospace\"><span style=\"font-weight: bold\"> Trainable params: </span><span style=\"color: #00af00; text-decoration-color: #00af00\">6,521</span> (25.47 KB)\n",
       "</pre>\n"
      ],
      "text/plain": [
       "\u001b[1m Trainable params: \u001b[0m\u001b[38;5;34m6,521\u001b[0m (25.47 KB)\n"
      ]
     },
     "metadata": {},
     "output_type": "display_data"
    },
    {
     "data": {
      "text/html": [
       "<pre style=\"white-space:pre;overflow-x:auto;line-height:normal;font-family:Menlo,'DejaVu Sans Mono',consolas,'Courier New',monospace\"><span style=\"font-weight: bold\"> Non-trainable params: </span><span style=\"color: #00af00; text-decoration-color: #00af00\">0</span> (0.00 B)\n",
       "</pre>\n"
      ],
      "text/plain": [
       "\u001b[1m Non-trainable params: \u001b[0m\u001b[38;5;34m0\u001b[0m (0.00 B)\n"
      ]
     },
     "metadata": {},
     "output_type": "display_data"
    }
   ],
   "source": [
    "nn3.compile(loss='binary_crossentropy', optimizer = 'adam', metrics=['accuracy'])\n",
    "nn3.summary()"
   ]
  },
  {
   "cell_type": "code",
   "execution_count": 69,
   "metadata": {},
   "outputs": [
    {
     "name": "stdout",
     "output_type": "stream",
     "text": [
      "Epoch 1/50\n",
      "644/644 - 1s - 1ms/step - accuracy: 0.5343 - loss: 0.6915 - val_accuracy: 0.5266 - val_loss: 0.6918\n",
      "Epoch 2/50\n",
      "644/644 - 0s - 627us/step - accuracy: 0.5343 - loss: 0.6910 - val_accuracy: 0.5266 - val_loss: 0.6917\n",
      "Epoch 3/50\n",
      "644/644 - 0s - 644us/step - accuracy: 0.5343 - loss: 0.6909 - val_accuracy: 0.5266 - val_loss: 0.6918\n",
      "Epoch 4/50\n",
      "644/644 - 0s - 627us/step - accuracy: 0.5343 - loss: 0.6909 - val_accuracy: 0.5266 - val_loss: 0.6921\n",
      "Epoch 5/50\n",
      "644/644 - 0s - 626us/step - accuracy: 0.5343 - loss: 0.6909 - val_accuracy: 0.5266 - val_loss: 0.6928\n",
      "Epoch 6/50\n",
      "644/644 - 0s - 627us/step - accuracy: 0.5343 - loss: 0.6910 - val_accuracy: 0.5266 - val_loss: 0.6918\n",
      "Epoch 7/50\n",
      "644/644 - 0s - 636us/step - accuracy: 0.5343 - loss: 0.6909 - val_accuracy: 0.5266 - val_loss: 0.6919\n",
      "Epoch 8/50\n",
      "644/644 - 0s - 630us/step - accuracy: 0.5343 - loss: 0.6910 - val_accuracy: 0.5266 - val_loss: 0.6919\n",
      "Epoch 9/50\n",
      "644/644 - 0s - 630us/step - accuracy: 0.5343 - loss: 0.6909 - val_accuracy: 0.5266 - val_loss: 0.6923\n",
      "Epoch 10/50\n",
      "644/644 - 0s - 641us/step - accuracy: 0.5343 - loss: 0.6911 - val_accuracy: 0.5266 - val_loss: 0.6922\n",
      "Epoch 11/50\n",
      "644/644 - 0s - 630us/step - accuracy: 0.5343 - loss: 0.6909 - val_accuracy: 0.5266 - val_loss: 0.6921\n",
      "Epoch 12/50\n",
      "644/644 - 0s - 629us/step - accuracy: 0.5343 - loss: 0.6909 - val_accuracy: 0.5266 - val_loss: 0.6925\n",
      "Epoch 13/50\n",
      "644/644 - 0s - 628us/step - accuracy: 0.5343 - loss: 0.6910 - val_accuracy: 0.5266 - val_loss: 0.6919\n",
      "Epoch 14/50\n",
      "644/644 - 0s - 629us/step - accuracy: 0.5343 - loss: 0.6909 - val_accuracy: 0.5266 - val_loss: 0.6918\n",
      "Epoch 15/50\n",
      "644/644 - 0s - 625us/step - accuracy: 0.5343 - loss: 0.6910 - val_accuracy: 0.5266 - val_loss: 0.6917\n",
      "Epoch 16/50\n",
      "644/644 - 0s - 625us/step - accuracy: 0.5343 - loss: 0.6909 - val_accuracy: 0.5266 - val_loss: 0.6918\n",
      "Epoch 17/50\n",
      "644/644 - 0s - 628us/step - accuracy: 0.5343 - loss: 0.6909 - val_accuracy: 0.5266 - val_loss: 0.6919\n",
      "Epoch 18/50\n",
      "644/644 - 0s - 633us/step - accuracy: 0.5343 - loss: 0.6909 - val_accuracy: 0.5266 - val_loss: 0.6919\n",
      "Epoch 19/50\n",
      "644/644 - 0s - 627us/step - accuracy: 0.5343 - loss: 0.6910 - val_accuracy: 0.5266 - val_loss: 0.6918\n",
      "Epoch 20/50\n",
      "644/644 - 0s - 626us/step - accuracy: 0.5343 - loss: 0.6910 - val_accuracy: 0.5266 - val_loss: 0.6919\n",
      "Epoch 21/50\n",
      "644/644 - 0s - 625us/step - accuracy: 0.5343 - loss: 0.6910 - val_accuracy: 0.5266 - val_loss: 0.6918\n",
      "Epoch 22/50\n",
      "644/644 - 0s - 626us/step - accuracy: 0.5343 - loss: 0.6909 - val_accuracy: 0.5266 - val_loss: 0.6917\n",
      "Epoch 23/50\n",
      "644/644 - 0s - 701us/step - accuracy: 0.5343 - loss: 0.6909 - val_accuracy: 0.5266 - val_loss: 0.6918\n",
      "Epoch 24/50\n",
      "644/644 - 0s - 629us/step - accuracy: 0.5343 - loss: 0.6909 - val_accuracy: 0.5266 - val_loss: 0.6922\n",
      "Epoch 25/50\n",
      "644/644 - 0s - 632us/step - accuracy: 0.5343 - loss: 0.6910 - val_accuracy: 0.5266 - val_loss: 0.6922\n",
      "Epoch 26/50\n",
      "644/644 - 0s - 628us/step - accuracy: 0.5343 - loss: 0.6909 - val_accuracy: 0.5266 - val_loss: 0.6921\n",
      "Epoch 27/50\n",
      "644/644 - 0s - 628us/step - accuracy: 0.5343 - loss: 0.6909 - val_accuracy: 0.5266 - val_loss: 0.6918\n",
      "Epoch 28/50\n",
      "644/644 - 0s - 630us/step - accuracy: 0.5343 - loss: 0.6910 - val_accuracy: 0.5266 - val_loss: 0.6920\n",
      "Epoch 29/50\n",
      "644/644 - 0s - 627us/step - accuracy: 0.5343 - loss: 0.6910 - val_accuracy: 0.5266 - val_loss: 0.6917\n",
      "Epoch 30/50\n",
      "644/644 - 0s - 628us/step - accuracy: 0.5343 - loss: 0.6909 - val_accuracy: 0.5266 - val_loss: 0.6919\n",
      "Epoch 31/50\n",
      "644/644 - 0s - 628us/step - accuracy: 0.5343 - loss: 0.6908 - val_accuracy: 0.5266 - val_loss: 0.6923\n",
      "Epoch 32/50\n",
      "644/644 - 0s - 637us/step - accuracy: 0.5343 - loss: 0.6909 - val_accuracy: 0.5266 - val_loss: 0.6918\n",
      "Epoch 33/50\n",
      "644/644 - 0s - 628us/step - accuracy: 0.5343 - loss: 0.6909 - val_accuracy: 0.5266 - val_loss: 0.6917\n",
      "Epoch 34/50\n",
      "644/644 - 0s - 630us/step - accuracy: 0.5343 - loss: 0.6910 - val_accuracy: 0.5266 - val_loss: 0.6919\n",
      "Epoch 35/50\n",
      "644/644 - 0s - 630us/step - accuracy: 0.5343 - loss: 0.6909 - val_accuracy: 0.5266 - val_loss: 0.6919\n",
      "Epoch 36/50\n",
      "644/644 - 0s - 631us/step - accuracy: 0.5343 - loss: 0.6909 - val_accuracy: 0.5266 - val_loss: 0.6918\n",
      "Epoch 37/50\n",
      "644/644 - 0s - 631us/step - accuracy: 0.5343 - loss: 0.6910 - val_accuracy: 0.5266 - val_loss: 0.6921\n",
      "Epoch 38/50\n",
      "644/644 - 0s - 635us/step - accuracy: 0.5343 - loss: 0.6907 - val_accuracy: 0.5266 - val_loss: 0.6917\n",
      "Epoch 39/50\n",
      "644/644 - 0s - 627us/step - accuracy: 0.5343 - loss: 0.6910 - val_accuracy: 0.5266 - val_loss: 0.6917\n",
      "Epoch 40/50\n",
      "644/644 - 0s - 776us/step - accuracy: 0.5343 - loss: 0.6910 - val_accuracy: 0.5266 - val_loss: 0.6918\n",
      "Epoch 41/50\n",
      "644/644 - 0s - 629us/step - accuracy: 0.5343 - loss: 0.6909 - val_accuracy: 0.5266 - val_loss: 0.6919\n",
      "Epoch 42/50\n",
      "644/644 - 0s - 629us/step - accuracy: 0.5343 - loss: 0.6909 - val_accuracy: 0.5266 - val_loss: 0.6917\n",
      "Epoch 43/50\n",
      "644/644 - 0s - 627us/step - accuracy: 0.5343 - loss: 0.6909 - val_accuracy: 0.5266 - val_loss: 0.6920\n",
      "Epoch 44/50\n",
      "644/644 - 0s - 629us/step - accuracy: 0.5343 - loss: 0.6909 - val_accuracy: 0.5266 - val_loss: 0.6921\n",
      "Epoch 45/50\n",
      "644/644 - 0s - 628us/step - accuracy: 0.5343 - loss: 0.6910 - val_accuracy: 0.5266 - val_loss: 0.6918\n",
      "Epoch 46/50\n",
      "644/644 - 0s - 631us/step - accuracy: 0.5343 - loss: 0.6910 - val_accuracy: 0.5266 - val_loss: 0.6923\n",
      "Epoch 47/50\n",
      "644/644 - 0s - 696us/step - accuracy: 0.5343 - loss: 0.6909 - val_accuracy: 0.5266 - val_loss: 0.6918\n",
      "Epoch 48/50\n",
      "644/644 - 0s - 629us/step - accuracy: 0.5343 - loss: 0.6909 - val_accuracy: 0.5266 - val_loss: 0.6920\n",
      "Epoch 49/50\n",
      "644/644 - 0s - 628us/step - accuracy: 0.5343 - loss: 0.6910 - val_accuracy: 0.5266 - val_loss: 0.6919\n",
      "Epoch 50/50\n",
      "644/644 - 0s - 635us/step - accuracy: 0.5343 - loss: 0.6909 - val_accuracy: 0.5266 - val_loss: 0.6917\n"
     ]
    }
   ],
   "source": [
    "history = nn3.fit(X_train, y_train, \n",
    "                 epochs=50,\n",
    "                 batch_size=40,\n",
    "                 validation_data=(X_test, y_test),\n",
    "                 verbose=2)"
   ]
  },
  {
   "cell_type": "code",
   "execution_count": 70,
   "metadata": {},
   "outputs": [
    {
     "name": "stdout",
     "output_type": "stream",
     "text": [
      "268/268 - 0s - 582us/step - accuracy: 0.4367 - loss: 0.7634\n",
      "Loss: 0.7634110450744629, Accuracy: 0.43673470616340637\n"
     ]
    }
   ],
   "source": [
    "# Evaluate the model using the test data\n",
    "model_loss, model_accuracy = nn3.evaluate(X_test_scaled,y_test,verbose=2)\n",
    "print(f\"Loss: {model_loss}, Accuracy: {model_accuracy}\")"
   ]
  },
  {
   "cell_type": "code",
   "execution_count": 71,
   "metadata": {},
   "outputs": [
    {
     "name": "stderr",
     "output_type": "stream",
     "text": [
      "/opt/anaconda3/envs/dev/lib/python3.10/site-packages/keras/src/layers/core/dense.py:87: UserWarning: Do not pass an `input_shape`/`input_dim` argument to a layer. When using Sequential models, prefer using an `Input(shape)` object as the first layer in the model instead.\n",
      "  super().__init__(activity_regularizer=activity_regularizer, **kwargs)\n"
     ]
    }
   ],
   "source": [
    "nn4 = tf.keras.models.Sequential()\n",
    "\n",
    "\n",
    "nn4.add(Dense(128, input_dim=X_train_scaled.shape[1], activation='relu'))\n",
    "\n",
    "nn4.add(Dense(32, activation='relu'))\n",
    "\n",
    "nn4.add(Dense(10, activation='relu'))\n",
    "\n",
    "nn4.add(Dense(1, activation='sigmoid'))\n",
    "\n",
    "\n",
    "nn4.compile(loss='binary_crossentropy', optimizer='adam', metrics=['accuracy'])"
   ]
  },
  {
   "cell_type": "code",
   "execution_count": 72,
   "metadata": {},
   "outputs": [
    {
     "data": {
      "text/html": [
       "<pre style=\"white-space:pre;overflow-x:auto;line-height:normal;font-family:Menlo,'DejaVu Sans Mono',consolas,'Courier New',monospace\"><span style=\"font-weight: bold\">Model: \"sequential_12\"</span>\n",
       "</pre>\n"
      ],
      "text/plain": [
       "\u001b[1mModel: \"sequential_12\"\u001b[0m\n"
      ]
     },
     "metadata": {},
     "output_type": "display_data"
    },
    {
     "data": {
      "text/html": [
       "<pre style=\"white-space:pre;overflow-x:auto;line-height:normal;font-family:Menlo,'DejaVu Sans Mono',consolas,'Courier New',monospace\">┏━━━━━━━━━━━━━━━━━━━━━━━━━━━━━━━━━┳━━━━━━━━━━━━━━━━━━━━━━━━┳━━━━━━━━━━━━━━━┓\n",
       "┃<span style=\"font-weight: bold\"> Layer (type)                    </span>┃<span style=\"font-weight: bold\"> Output Shape           </span>┃<span style=\"font-weight: bold\">       Param # </span>┃\n",
       "┡━━━━━━━━━━━━━━━━━━━━━━━━━━━━━━━━━╇━━━━━━━━━━━━━━━━━━━━━━━━╇━━━━━━━━━━━━━━━┩\n",
       "│ dense_45 (<span style=\"color: #0087ff; text-decoration-color: #0087ff\">Dense</span>)                │ (<span style=\"color: #00d7ff; text-decoration-color: #00d7ff\">None</span>, <span style=\"color: #00af00; text-decoration-color: #00af00\">128</span>)            │         <span style=\"color: #00af00; text-decoration-color: #00af00\">6,528</span> │\n",
       "├─────────────────────────────────┼────────────────────────┼───────────────┤\n",
       "│ dense_46 (<span style=\"color: #0087ff; text-decoration-color: #0087ff\">Dense</span>)                │ (<span style=\"color: #00d7ff; text-decoration-color: #00d7ff\">None</span>, <span style=\"color: #00af00; text-decoration-color: #00af00\">32</span>)             │         <span style=\"color: #00af00; text-decoration-color: #00af00\">4,128</span> │\n",
       "├─────────────────────────────────┼────────────────────────┼───────────────┤\n",
       "│ dense_47 (<span style=\"color: #0087ff; text-decoration-color: #0087ff\">Dense</span>)                │ (<span style=\"color: #00d7ff; text-decoration-color: #00d7ff\">None</span>, <span style=\"color: #00af00; text-decoration-color: #00af00\">10</span>)             │           <span style=\"color: #00af00; text-decoration-color: #00af00\">330</span> │\n",
       "├─────────────────────────────────┼────────────────────────┼───────────────┤\n",
       "│ dense_48 (<span style=\"color: #0087ff; text-decoration-color: #0087ff\">Dense</span>)                │ (<span style=\"color: #00d7ff; text-decoration-color: #00d7ff\">None</span>, <span style=\"color: #00af00; text-decoration-color: #00af00\">1</span>)              │            <span style=\"color: #00af00; text-decoration-color: #00af00\">11</span> │\n",
       "└─────────────────────────────────┴────────────────────────┴───────────────┘\n",
       "</pre>\n"
      ],
      "text/plain": [
       "┏━━━━━━━━━━━━━━━━━━━━━━━━━━━━━━━━━┳━━━━━━━━━━━━━━━━━━━━━━━━┳━━━━━━━━━━━━━━━┓\n",
       "┃\u001b[1m \u001b[0m\u001b[1mLayer (type)                   \u001b[0m\u001b[1m \u001b[0m┃\u001b[1m \u001b[0m\u001b[1mOutput Shape          \u001b[0m\u001b[1m \u001b[0m┃\u001b[1m \u001b[0m\u001b[1m      Param #\u001b[0m\u001b[1m \u001b[0m┃\n",
       "┡━━━━━━━━━━━━━━━━━━━━━━━━━━━━━━━━━╇━━━━━━━━━━━━━━━━━━━━━━━━╇━━━━━━━━━━━━━━━┩\n",
       "│ dense_45 (\u001b[38;5;33mDense\u001b[0m)                │ (\u001b[38;5;45mNone\u001b[0m, \u001b[38;5;34m128\u001b[0m)            │         \u001b[38;5;34m6,528\u001b[0m │\n",
       "├─────────────────────────────────┼────────────────────────┼───────────────┤\n",
       "│ dense_46 (\u001b[38;5;33mDense\u001b[0m)                │ (\u001b[38;5;45mNone\u001b[0m, \u001b[38;5;34m32\u001b[0m)             │         \u001b[38;5;34m4,128\u001b[0m │\n",
       "├─────────────────────────────────┼────────────────────────┼───────────────┤\n",
       "│ dense_47 (\u001b[38;5;33mDense\u001b[0m)                │ (\u001b[38;5;45mNone\u001b[0m, \u001b[38;5;34m10\u001b[0m)             │           \u001b[38;5;34m330\u001b[0m │\n",
       "├─────────────────────────────────┼────────────────────────┼───────────────┤\n",
       "│ dense_48 (\u001b[38;5;33mDense\u001b[0m)                │ (\u001b[38;5;45mNone\u001b[0m, \u001b[38;5;34m1\u001b[0m)              │            \u001b[38;5;34m11\u001b[0m │\n",
       "└─────────────────────────────────┴────────────────────────┴───────────────┘\n"
      ]
     },
     "metadata": {},
     "output_type": "display_data"
    },
    {
     "data": {
      "text/html": [
       "<pre style=\"white-space:pre;overflow-x:auto;line-height:normal;font-family:Menlo,'DejaVu Sans Mono',consolas,'Courier New',monospace\"><span style=\"font-weight: bold\"> Total params: </span><span style=\"color: #00af00; text-decoration-color: #00af00\">10,997</span> (42.96 KB)\n",
       "</pre>\n"
      ],
      "text/plain": [
       "\u001b[1m Total params: \u001b[0m\u001b[38;5;34m10,997\u001b[0m (42.96 KB)\n"
      ]
     },
     "metadata": {},
     "output_type": "display_data"
    },
    {
     "data": {
      "text/html": [
       "<pre style=\"white-space:pre;overflow-x:auto;line-height:normal;font-family:Menlo,'DejaVu Sans Mono',consolas,'Courier New',monospace\"><span style=\"font-weight: bold\"> Trainable params: </span><span style=\"color: #00af00; text-decoration-color: #00af00\">10,997</span> (42.96 KB)\n",
       "</pre>\n"
      ],
      "text/plain": [
       "\u001b[1m Trainable params: \u001b[0m\u001b[38;5;34m10,997\u001b[0m (42.96 KB)\n"
      ]
     },
     "metadata": {},
     "output_type": "display_data"
    },
    {
     "data": {
      "text/html": [
       "<pre style=\"white-space:pre;overflow-x:auto;line-height:normal;font-family:Menlo,'DejaVu Sans Mono',consolas,'Courier New',monospace\"><span style=\"font-weight: bold\"> Non-trainable params: </span><span style=\"color: #00af00; text-decoration-color: #00af00\">0</span> (0.00 B)\n",
       "</pre>\n"
      ],
      "text/plain": [
       "\u001b[1m Non-trainable params: \u001b[0m\u001b[38;5;34m0\u001b[0m (0.00 B)\n"
      ]
     },
     "metadata": {},
     "output_type": "display_data"
    }
   ],
   "source": [
    "nn4.compile(loss='binary_crossentropy', optimizer = 'adam', metrics=['accuracy'])\n",
    "nn4.summary()"
   ]
  },
  {
   "cell_type": "code",
   "execution_count": 73,
   "metadata": {},
   "outputs": [
    {
     "name": "stdout",
     "output_type": "stream",
     "text": [
      "Epoch 1/50\n",
      "402/402 - 1s - 2ms/step - accuracy: 0.4903 - loss: 20001.6797 - val_accuracy: 0.4734 - val_loss: 3312.5208\n",
      "Epoch 2/50\n",
      "402/402 - 0s - 700us/step - accuracy: 0.4879 - loss: 17672.7422 - val_accuracy: 0.4734 - val_loss: 15748.1719\n",
      "Epoch 3/50\n",
      "402/402 - 0s - 703us/step - accuracy: 0.4934 - loss: 13312.7949 - val_accuracy: 0.4734 - val_loss: 7153.1587\n",
      "Epoch 4/50\n",
      "402/402 - 0s - 695us/step - accuracy: 0.4952 - loss: 5116.6221 - val_accuracy: 0.5266 - val_loss: 3928.3662\n",
      "Epoch 5/50\n",
      "402/402 - 0s - 701us/step - accuracy: 0.5009 - loss: 5618.6509 - val_accuracy: 0.4734 - val_loss: 2784.6389\n",
      "Epoch 6/50\n",
      "402/402 - 0s - 697us/step - accuracy: 0.4817 - loss: 5143.7358 - val_accuracy: 0.5127 - val_loss: 43.9895\n",
      "Epoch 7/50\n",
      "402/402 - 0s - 698us/step - accuracy: 0.4944 - loss: 763.6456 - val_accuracy: 0.4734 - val_loss: 2182.3215\n",
      "Epoch 8/50\n",
      "402/402 - 0s - 697us/step - accuracy: 0.4881 - loss: 736.5477 - val_accuracy: 0.4734 - val_loss: 2715.9014\n",
      "Epoch 9/50\n",
      "402/402 - 0s - 698us/step - accuracy: 0.5030 - loss: 412.3552 - val_accuracy: 0.4977 - val_loss: 432.9818\n",
      "Epoch 10/50\n",
      "402/402 - 0s - 697us/step - accuracy: 0.4958 - loss: 538.5692 - val_accuracy: 0.4974 - val_loss: 517.2999\n",
      "Epoch 11/50\n",
      "402/402 - 0s - 699us/step - accuracy: 0.5244 - loss: 35.2235 - val_accuracy: 0.5127 - val_loss: 46.7443\n",
      "Epoch 12/50\n",
      "402/402 - 0s - 697us/step - accuracy: 0.5347 - loss: 11.1439 - val_accuracy: 0.5324 - val_loss: 1.3711\n",
      "Epoch 13/50\n",
      "402/402 - 0s - 698us/step - accuracy: 0.5350 - loss: 3.7793 - val_accuracy: 0.5266 - val_loss: 1.3325\n",
      "Epoch 14/50\n",
      "402/402 - 0s - 697us/step - accuracy: 0.5357 - loss: 1.8805 - val_accuracy: 0.5277 - val_loss: 0.7506\n",
      "Epoch 15/50\n",
      "402/402 - 0s - 704us/step - accuracy: 0.5348 - loss: 0.6986 - val_accuracy: 0.5266 - val_loss: 0.6926\n",
      "Epoch 16/50\n",
      "402/402 - 0s - 700us/step - accuracy: 0.5343 - loss: 0.6910 - val_accuracy: 0.5266 - val_loss: 0.6920\n",
      "Epoch 17/50\n",
      "402/402 - 0s - 699us/step - accuracy: 0.5343 - loss: 0.6908 - val_accuracy: 0.5266 - val_loss: 0.6919\n",
      "Epoch 18/50\n",
      "402/402 - 0s - 698us/step - accuracy: 0.5343 - loss: 0.6908 - val_accuracy: 0.5266 - val_loss: 0.6919\n",
      "Epoch 19/50\n",
      "402/402 - 0s - 699us/step - accuracy: 0.5343 - loss: 0.6908 - val_accuracy: 0.5266 - val_loss: 0.6918\n",
      "Epoch 20/50\n",
      "402/402 - 0s - 700us/step - accuracy: 0.5343 - loss: 0.6908 - val_accuracy: 0.5266 - val_loss: 0.6918\n",
      "Epoch 21/50\n",
      "402/402 - 0s - 704us/step - accuracy: 0.5343 - loss: 0.6908 - val_accuracy: 0.5266 - val_loss: 0.6918\n",
      "Epoch 22/50\n",
      "402/402 - 0s - 699us/step - accuracy: 0.5343 - loss: 0.6908 - val_accuracy: 0.5266 - val_loss: 0.6918\n",
      "Epoch 23/50\n",
      "402/402 - 0s - 697us/step - accuracy: 0.5343 - loss: 0.6908 - val_accuracy: 0.5266 - val_loss: 0.6919\n",
      "Epoch 24/50\n",
      "402/402 - 0s - 803us/step - accuracy: 0.5343 - loss: 0.6908 - val_accuracy: 0.5266 - val_loss: 0.6919\n",
      "Epoch 25/50\n",
      "402/402 - 0s - 697us/step - accuracy: 0.5343 - loss: 0.6908 - val_accuracy: 0.5266 - val_loss: 0.6919\n",
      "Epoch 26/50\n",
      "402/402 - 0s - 692us/step - accuracy: 0.5343 - loss: 0.6908 - val_accuracy: 0.5266 - val_loss: 0.6918\n",
      "Epoch 27/50\n",
      "402/402 - 0s - 698us/step - accuracy: 0.5343 - loss: 0.6908 - val_accuracy: 0.5266 - val_loss: 0.6918\n",
      "Epoch 28/50\n",
      "402/402 - 0s - 696us/step - accuracy: 0.5343 - loss: 0.6908 - val_accuracy: 0.5266 - val_loss: 0.6920\n",
      "Epoch 29/50\n",
      "402/402 - 0s - 698us/step - accuracy: 0.5343 - loss: 0.6908 - val_accuracy: 0.5266 - val_loss: 0.6919\n",
      "Epoch 30/50\n",
      "402/402 - 0s - 697us/step - accuracy: 0.5343 - loss: 0.6908 - val_accuracy: 0.5266 - val_loss: 0.6918\n",
      "Epoch 31/50\n",
      "402/402 - 0s - 703us/step - accuracy: 0.5343 - loss: 0.6908 - val_accuracy: 0.5266 - val_loss: 0.6918\n",
      "Epoch 32/50\n",
      "402/402 - 0s - 696us/step - accuracy: 0.5343 - loss: 0.6908 - val_accuracy: 0.5266 - val_loss: 0.6918\n",
      "Epoch 33/50\n",
      "402/402 - 0s - 695us/step - accuracy: 0.5343 - loss: 0.6908 - val_accuracy: 0.5266 - val_loss: 0.6920\n",
      "Epoch 34/50\n",
      "402/402 - 0s - 698us/step - accuracy: 0.5343 - loss: 0.6908 - val_accuracy: 0.5266 - val_loss: 0.6918\n",
      "Epoch 35/50\n",
      "402/402 - 0s - 697us/step - accuracy: 0.5343 - loss: 0.6908 - val_accuracy: 0.5266 - val_loss: 0.6918\n",
      "Epoch 36/50\n",
      "402/402 - 0s - 706us/step - accuracy: 0.5343 - loss: 0.6908 - val_accuracy: 0.5266 - val_loss: 0.6919\n",
      "Epoch 37/50\n",
      "402/402 - 0s - 698us/step - accuracy: 0.5343 - loss: 0.6908 - val_accuracy: 0.5266 - val_loss: 0.6919\n",
      "Epoch 38/50\n",
      "402/402 - 0s - 699us/step - accuracy: 0.5343 - loss: 0.6908 - val_accuracy: 0.5266 - val_loss: 0.6918\n",
      "Epoch 39/50\n",
      "402/402 - 0s - 697us/step - accuracy: 0.5343 - loss: 0.6908 - val_accuracy: 0.5266 - val_loss: 0.6919\n",
      "Epoch 40/50\n",
      "402/402 - 0s - 697us/step - accuracy: 0.5343 - loss: 0.6908 - val_accuracy: 0.5266 - val_loss: 0.6919\n",
      "Epoch 41/50\n",
      "402/402 - 0s - 701us/step - accuracy: 0.5343 - loss: 0.6908 - val_accuracy: 0.5266 - val_loss: 0.6918\n",
      "Epoch 42/50\n",
      "402/402 - 0s - 697us/step - accuracy: 0.5343 - loss: 0.6908 - val_accuracy: 0.5266 - val_loss: 0.6918\n",
      "Epoch 43/50\n",
      "402/402 - 0s - 700us/step - accuracy: 0.5343 - loss: 0.6908 - val_accuracy: 0.5266 - val_loss: 0.6918\n",
      "Epoch 44/50\n",
      "402/402 - 0s - 696us/step - accuracy: 0.5343 - loss: 0.6908 - val_accuracy: 0.5266 - val_loss: 0.6920\n",
      "Epoch 45/50\n",
      "402/402 - 0s - 699us/step - accuracy: 0.5343 - loss: 0.6908 - val_accuracy: 0.5266 - val_loss: 0.6918\n",
      "Epoch 46/50\n",
      "402/402 - 0s - 761us/step - accuracy: 0.5343 - loss: 0.6908 - val_accuracy: 0.5266 - val_loss: 0.6918\n",
      "Epoch 47/50\n",
      "402/402 - 0s - 695us/step - accuracy: 0.5343 - loss: 0.6908 - val_accuracy: 0.5266 - val_loss: 0.6919\n",
      "Epoch 48/50\n",
      "402/402 - 0s - 704us/step - accuracy: 0.5343 - loss: 0.6908 - val_accuracy: 0.5266 - val_loss: 0.6918\n",
      "Epoch 49/50\n",
      "402/402 - 0s - 698us/step - accuracy: 0.5343 - loss: 0.6908 - val_accuracy: 0.5266 - val_loss: 0.6918\n",
      "Epoch 50/50\n",
      "402/402 - 0s - 697us/step - accuracy: 0.5343 - loss: 0.6908 - val_accuracy: 0.5266 - val_loss: 0.6918\n"
     ]
    }
   ],
   "source": [
    "# Train the model\n",
    "history = nn4.fit(X_train, y_train, \n",
    "                 epochs=50,\n",
    "                 batch_size=64,\n",
    "                 validation_data=(X_test, y_test),\n",
    "                 verbose=2)"
   ]
  },
  {
   "cell_type": "code",
   "execution_count": 74,
   "metadata": {},
   "outputs": [
    {
     "name": "stdout",
     "output_type": "stream",
     "text": [
      "268/268 - 0s - 588us/step - accuracy: 0.5530 - loss: 0.6637\n",
      "Loss: 0.6637322902679443, Accuracy: 0.5530028939247131\n"
     ]
    }
   ],
   "source": [
    "# Evaluate the model using the test data\n",
    "model_loss, model_accuracy = nn4.evaluate(X_test_scaled,y_test,verbose=2)\n",
    "print(f\"Loss: {model_loss}, Accuracy: {model_accuracy}\")"
   ]
  },
  {
   "cell_type": "code",
   "execution_count": 75,
   "metadata": {},
   "outputs": [
    {
     "name": "stderr",
     "output_type": "stream",
     "text": [
      "WARNING:absl:You are saving your model as an HDF5 file via `model.save()` or `keras.saving.save_model(model)`. This file format is considered legacy. We recommend using instead the native Keras format, e.g. `model.save('my_model.keras')` or `keras.saving.save_model(model, 'my_model.keras')`. \n"
     ]
    }
   ],
   "source": [
    "# Export our model to HDF5 file\n",
    "nn4.save('AlphabetSoupCharity_Optimization.h5')\n"
   ]
  },
  {
   "cell_type": "code",
   "execution_count": 76,
   "metadata": {},
   "outputs": [
    {
     "name": "stderr",
     "output_type": "stream",
     "text": [
      "WARNING:absl:Compiled the loaded model, but the compiled metrics have yet to be built. `model.compile_metrics` will be empty until you train or evaluate the model.\n"
     ]
    },
    {
     "data": {
      "text/html": [
       "<pre style=\"white-space:pre;overflow-x:auto;line-height:normal;font-family:Menlo,'DejaVu Sans Mono',consolas,'Courier New',monospace\"><span style=\"font-weight: bold\">Model: \"sequential_12\"</span>\n",
       "</pre>\n"
      ],
      "text/plain": [
       "\u001b[1mModel: \"sequential_12\"\u001b[0m\n"
      ]
     },
     "metadata": {},
     "output_type": "display_data"
    },
    {
     "data": {
      "text/html": [
       "<pre style=\"white-space:pre;overflow-x:auto;line-height:normal;font-family:Menlo,'DejaVu Sans Mono',consolas,'Courier New',monospace\">┏━━━━━━━━━━━━━━━━━━━━━━━━━━━━━━━━━┳━━━━━━━━━━━━━━━━━━━━━━━━┳━━━━━━━━━━━━━━━┓\n",
       "┃<span style=\"font-weight: bold\"> Layer (type)                    </span>┃<span style=\"font-weight: bold\"> Output Shape           </span>┃<span style=\"font-weight: bold\">       Param # </span>┃\n",
       "┡━━━━━━━━━━━━━━━━━━━━━━━━━━━━━━━━━╇━━━━━━━━━━━━━━━━━━━━━━━━╇━━━━━━━━━━━━━━━┩\n",
       "│ dense_45 (<span style=\"color: #0087ff; text-decoration-color: #0087ff\">Dense</span>)                │ (<span style=\"color: #00d7ff; text-decoration-color: #00d7ff\">None</span>, <span style=\"color: #00af00; text-decoration-color: #00af00\">128</span>)            │         <span style=\"color: #00af00; text-decoration-color: #00af00\">6,528</span> │\n",
       "├─────────────────────────────────┼────────────────────────┼───────────────┤\n",
       "│ dense_46 (<span style=\"color: #0087ff; text-decoration-color: #0087ff\">Dense</span>)                │ (<span style=\"color: #00d7ff; text-decoration-color: #00d7ff\">None</span>, <span style=\"color: #00af00; text-decoration-color: #00af00\">32</span>)             │         <span style=\"color: #00af00; text-decoration-color: #00af00\">4,128</span> │\n",
       "├─────────────────────────────────┼────────────────────────┼───────────────┤\n",
       "│ dense_47 (<span style=\"color: #0087ff; text-decoration-color: #0087ff\">Dense</span>)                │ (<span style=\"color: #00d7ff; text-decoration-color: #00d7ff\">None</span>, <span style=\"color: #00af00; text-decoration-color: #00af00\">10</span>)             │           <span style=\"color: #00af00; text-decoration-color: #00af00\">330</span> │\n",
       "├─────────────────────────────────┼────────────────────────┼───────────────┤\n",
       "│ dense_48 (<span style=\"color: #0087ff; text-decoration-color: #0087ff\">Dense</span>)                │ (<span style=\"color: #00d7ff; text-decoration-color: #00d7ff\">None</span>, <span style=\"color: #00af00; text-decoration-color: #00af00\">1</span>)              │            <span style=\"color: #00af00; text-decoration-color: #00af00\">11</span> │\n",
       "└─────────────────────────────────┴────────────────────────┴───────────────┘\n",
       "</pre>\n"
      ],
      "text/plain": [
       "┏━━━━━━━━━━━━━━━━━━━━━━━━━━━━━━━━━┳━━━━━━━━━━━━━━━━━━━━━━━━┳━━━━━━━━━━━━━━━┓\n",
       "┃\u001b[1m \u001b[0m\u001b[1mLayer (type)                   \u001b[0m\u001b[1m \u001b[0m┃\u001b[1m \u001b[0m\u001b[1mOutput Shape          \u001b[0m\u001b[1m \u001b[0m┃\u001b[1m \u001b[0m\u001b[1m      Param #\u001b[0m\u001b[1m \u001b[0m┃\n",
       "┡━━━━━━━━━━━━━━━━━━━━━━━━━━━━━━━━━╇━━━━━━━━━━━━━━━━━━━━━━━━╇━━━━━━━━━━━━━━━┩\n",
       "│ dense_45 (\u001b[38;5;33mDense\u001b[0m)                │ (\u001b[38;5;45mNone\u001b[0m, \u001b[38;5;34m128\u001b[0m)            │         \u001b[38;5;34m6,528\u001b[0m │\n",
       "├─────────────────────────────────┼────────────────────────┼───────────────┤\n",
       "│ dense_46 (\u001b[38;5;33mDense\u001b[0m)                │ (\u001b[38;5;45mNone\u001b[0m, \u001b[38;5;34m32\u001b[0m)             │         \u001b[38;5;34m4,128\u001b[0m │\n",
       "├─────────────────────────────────┼────────────────────────┼───────────────┤\n",
       "│ dense_47 (\u001b[38;5;33mDense\u001b[0m)                │ (\u001b[38;5;45mNone\u001b[0m, \u001b[38;5;34m10\u001b[0m)             │           \u001b[38;5;34m330\u001b[0m │\n",
       "├─────────────────────────────────┼────────────────────────┼───────────────┤\n",
       "│ dense_48 (\u001b[38;5;33mDense\u001b[0m)                │ (\u001b[38;5;45mNone\u001b[0m, \u001b[38;5;34m1\u001b[0m)              │            \u001b[38;5;34m11\u001b[0m │\n",
       "└─────────────────────────────────┴────────────────────────┴───────────────┘\n"
      ]
     },
     "metadata": {},
     "output_type": "display_data"
    },
    {
     "data": {
      "text/html": [
       "<pre style=\"white-space:pre;overflow-x:auto;line-height:normal;font-family:Menlo,'DejaVu Sans Mono',consolas,'Courier New',monospace\"><span style=\"font-weight: bold\"> Total params: </span><span style=\"color: #00af00; text-decoration-color: #00af00\">10,999</span> (42.97 KB)\n",
       "</pre>\n"
      ],
      "text/plain": [
       "\u001b[1m Total params: \u001b[0m\u001b[38;5;34m10,999\u001b[0m (42.97 KB)\n"
      ]
     },
     "metadata": {},
     "output_type": "display_data"
    },
    {
     "data": {
      "text/html": [
       "<pre style=\"white-space:pre;overflow-x:auto;line-height:normal;font-family:Menlo,'DejaVu Sans Mono',consolas,'Courier New',monospace\"><span style=\"font-weight: bold\"> Trainable params: </span><span style=\"color: #00af00; text-decoration-color: #00af00\">10,997</span> (42.96 KB)\n",
       "</pre>\n"
      ],
      "text/plain": [
       "\u001b[1m Trainable params: \u001b[0m\u001b[38;5;34m10,997\u001b[0m (42.96 KB)\n"
      ]
     },
     "metadata": {},
     "output_type": "display_data"
    },
    {
     "data": {
      "text/html": [
       "<pre style=\"white-space:pre;overflow-x:auto;line-height:normal;font-family:Menlo,'DejaVu Sans Mono',consolas,'Courier New',monospace\"><span style=\"font-weight: bold\"> Non-trainable params: </span><span style=\"color: #00af00; text-decoration-color: #00af00\">0</span> (0.00 B)\n",
       "</pre>\n"
      ],
      "text/plain": [
       "\u001b[1m Non-trainable params: \u001b[0m\u001b[38;5;34m0\u001b[0m (0.00 B)\n"
      ]
     },
     "metadata": {},
     "output_type": "display_data"
    },
    {
     "data": {
      "text/html": [
       "<pre style=\"white-space:pre;overflow-x:auto;line-height:normal;font-family:Menlo,'DejaVu Sans Mono',consolas,'Courier New',monospace\"><span style=\"font-weight: bold\"> Optimizer params: </span><span style=\"color: #00af00; text-decoration-color: #00af00\">2</span> (12.00 B)\n",
       "</pre>\n"
      ],
      "text/plain": [
       "\u001b[1m Optimizer params: \u001b[0m\u001b[38;5;34m2\u001b[0m (12.00 B)\n"
      ]
     },
     "metadata": {},
     "output_type": "display_data"
    }
   ],
   "source": [
    "from tensorflow.keras.models import load_model\n",
    "loaded_model = load_model('AlphabetSoupCharity_Optimization.h5')\n",
    "\n",
    "loaded_model.summary()"
   ]
  },
  {
   "cell_type": "code",
   "execution_count": null,
   "metadata": {},
   "outputs": [],
   "source": []
  },
  {
   "cell_type": "code",
   "execution_count": null,
   "metadata": {},
   "outputs": [],
   "source": []
  },
  {
   "cell_type": "code",
   "execution_count": null,
   "metadata": {},
   "outputs": [],
   "source": []
  },
  {
   "cell_type": "code",
   "execution_count": null,
   "metadata": {},
   "outputs": [],
   "source": []
  },
  {
   "cell_type": "code",
   "execution_count": null,
   "metadata": {},
   "outputs": [],
   "source": []
  }
 ],
 "metadata": {
  "kernelspec": {
   "display_name": "Python 3 (ipykernel)",
   "language": "python",
   "name": "python3"
  },
  "language_info": {
   "codemirror_mode": {
    "name": "ipython",
    "version": 3
   },
   "file_extension": ".py",
   "mimetype": "text/x-python",
   "name": "python",
   "nbconvert_exporter": "python",
   "pygments_lexer": "ipython3",
   "version": "3.10.13"
  },
  "vscode": {
   "interpreter": {
    "hash": "31f2aee4e71d21fbe5cf8b01ff0e069b9275f58929596ceb00d14d90e3e16cd6"
   }
  }
 },
 "nbformat": 4,
 "nbformat_minor": 4
}
